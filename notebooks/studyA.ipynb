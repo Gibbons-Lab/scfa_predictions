{
 "cells": [
  {
   "cell_type": "markdown",
   "id": "0e716b4d-5cf9-40c2-a5ee-2c68b6e04117",
   "metadata": {},
   "source": [
    "# Study A\n",
    "This notebook shows the full workflow for building models, simulating growth and obtaining SCFA predictions from data collected by the _ex vivo_ study conducted by the Gibbons Lab in 2019"
   ]
  },
  {
   "cell_type": "code",
   "execution_count": null,
   "id": "06e89a69-9f4d-41c8-aa94-46ef98f84fd9",
   "metadata": {},
   "outputs": [],
   "source": [
    "import pandas as pd\n",
    "import micom\n",
    "import micom.measures\n",
    "from plotnine import * \n",
    "import scipy\n",
    "\n",
    "%matplotlib inline"
   ]
  },
  {
   "cell_type": "markdown",
   "id": "0e528a39-c500-4bf1-90cd-812fd5f910b1",
   "metadata": {},
   "source": [
    "## Flux Calculation\n",
    "Here we will calculate production rate from the experimental SCFA measurements for each sample and convert them to dicts for later use when merging with results. "
   ]
  },
  {
   "cell_type": "code",
   "execution_count": null,
   "id": "818af287-90b6-479a-be01-e2af07ca03ea",
   "metadata": {},
   "outputs": [],
   "source": [
    "scfa=pd.read_csv('../data/raw_data/studyA_original_scfas.csv')\n",
    "scfa=scfa[['Unique Sample ID','Treatment','Time \\nPoint','Subject or Animal ID','Analyte','Result']]\n",
    "scfa=scfa.rename(columns={'Unique Sample ID':'sample_id', # rename columns for readability\n",
    "                          'Time \\nPoint':'timepoint',\n",
    "                          'Treatment':'treatment',\n",
    "                          'Subject or Animal ID':'subject_id',\n",
    "                          'Analyte':'analyte','Result':'result'}).set_index('sample_id')\n",
    "scfa['id'] = scfa['subject_id'].str[-1]+'_'+scfa['treatment']+'_'+scfa.index.str[1] # create unique ID for each sample\n",
    "scfa['flux'] = scfa.groupby(['id','analyte'])['result'].diff() # calculate difference between timepoints to calculate production\n",
    "metadata = scfa['id'].to_dict() \n",
    "scfa = scfa.dropna()\n",
    "scfa = pd.pivot_table(scfa,\n",
    "                      index = 'id',\n",
    "                      columns = 'analyte',\n",
    "                      values = 'flux') # pivot data\n",
    "scfa = scfa/6 # divide production by culturing time to calculate flux\n",
    "acetateMeasured = (scfa['Acetic acid']/59.04).to_dict() # divide by molecular weight to get units in mM\n",
    "butyrateMeasured = (scfa['Butyric acid']/88.11).to_dict()\n",
    "propionateMeasured = (scfa['Propionic acid']/74.08).to_dict()\n",
    "scfa.to_csv('../data/studyA_SCFAs.csv')"
   ]
  },
  {
   "cell_type": "markdown",
   "id": "f2370e78-b1d9-4604-821f-5ab6bf0f2a5c",
   "metadata": {},
   "source": [
    "## Taxonomy Table\n",
    "Next, we will read in abundance data for all samples. We will convert this into a taxnomy table to use in MICOM"
   ]
  },
  {
   "cell_type": "code",
   "execution_count": null,
   "id": "d48cb26b-d6bc-4dcd-8e80-8b4d52574b7a",
   "metadata": {},
   "outputs": [],
   "source": [
    "abundance = pd.read_csv('../data/raw_data/studyA_original_abundance.csv')\n",
    "abundance['sample_id'] = abundance['sample'].map(metadata)\n",
    "abundance = abundance.rename(columns = \n",
    "                           {'d':'domain',\n",
    "                            'p':'phylum', \n",
    "                            'c':'class',\n",
    "                            'o':'order',\n",
    "                            'f':'family',\n",
    "                            'g':'genus',\n",
    "                            's':'species',\n",
    "                            'reads':'abundance'}).drop(\n",
    "    columns = 'sample')\n",
    "abundance['id'] = abundance['species'].str.replace(' ', '_')\n",
    "abundance = abundance.groupby(['sample_id','species','id']).sum().reset_index()\n",
    "table = pd.pivot_table(abundance, \n",
    "               index = 'sample_id',\n",
    "               columns = 'species',\n",
    "               values = 'abundance').fillna(0.0) # build abundance matrix\n",
    "table.to_csv('/users/nbohmann/exvivo/studyA.csv')"
   ]
  },
  {
   "cell_type": "markdown",
   "id": "0f186ed9-1ba7-4130-8d08-1486d94a7fa0",
   "metadata": {},
   "source": [
    "## Build Models\n",
    "Now, we'll build our models, with cutoff of 0.001"
   ]
  },
  {
   "cell_type": "code",
   "execution_count": null,
   "id": "8ebdc672-93e7-40da-b571-442a2f8651dd",
   "metadata": {},
   "outputs": [],
   "source": [
    "manifest = micom.workflows.build(taxonomy,\n",
    "                               out_folder = '../models/studyA/',\n",
    "                               model_db = '../agora103_refseq216_species_1.qza',\n",
    "                               cutoff = 0.001, \n",
    "                               threads = 20)"
   ]
  },
  {
   "cell_type": "markdown",
   "id": "9e3b369a-6cc4-4a5e-9c98-0bf7bb148bb1",
   "metadata": {},
   "source": [
    "## Load Medium\n",
    "Load in the carbon-stripped European Diet, and construct the intervention diets by augmenting with inulin and pectin"
   ]
  },
  {
   "cell_type": "code",
   "execution_count": null,
   "id": "4ef111f2-5eca-4f9a-abba-50df91436b4c",
   "metadata": {},
   "outputs": [],
   "source": [
    "medium = pd.read_csv('../media/studyAmedium.csv', index_col = 0)\n",
    "\n",
    "controlMedium = medium\n",
    "\n",
    "inulinMedium = pd.concat([medium,\n",
    "                           pd.DataFrame({'reaction':['EX_inulin_m'],\n",
    "                                         'metabolite':['inulin_m'],\n",
    "                                         'global_id':['EX_inulin(e)'],\n",
    "                                         'flux':[14]\n",
    "                                        },index = ['EX_inulin_m'])])\n",
    "medium"
   ]
  },
  {
   "cell_type": "markdown",
   "id": "338a8e4c-97d1-42b3-88d6-a6e4ba8d9861",
   "metadata": {},
   "source": [
    "# Grow Models\n",
    "Now we'll grow the samples using the respective media we constructed"
   ]
  },
  {
   "cell_type": "code",
   "execution_count": null,
   "id": "fcda5e0e-6660-4466-abab-57922ce5c670",
   "metadata": {},
   "outputs": [],
   "source": [
    "manifest = pd.read_csv('../models/studyA/manifest.csv')\n",
    "controlManifest = manifest[manifest['sample_id'].str.contains('PBS')]\n",
    "inulinManifest = manifest[manifest['sample_id'].str.contains('inulin')]\n",
    "\n",
    "controlGrowth = micom.workflows.grow(controlManifest,\n",
    "                              '../models/studyA/',\n",
    "                              controlMedium, \n",
    "                              tradeoff = 0.7,\n",
    "                              strategy = 'none',\n",
    "                              threads = 20)\n",
    "inulinGrowth = micom.workflows.grow(inulinManifest,\n",
    "                              '../models/studyA/',\n",
    "                              inulinMedium, \n",
    "                              tradeoff = 0.7,\n",
    "                              strategy = 'none',\n",
    "                              threads = 20)"
   ]
  },
  {
   "cell_type": "markdown",
   "id": "496da4e0-26e2-4e39-9077-ca7ae7df76a5",
   "metadata": {},
   "source": [
    "## Compare SCFA Fluxes\n",
    "We can now extract the production fluxes of SCFAs from each growth simulation, and construct a dataframe with both measured and predicted production rates."
   ]
  },
  {
   "cell_type": "code",
   "execution_count": null,
   "id": "289f6f45-0dd8-459a-8ef8-63c4d7a560e0",
   "metadata": {},
   "outputs": [],
   "source": [
    "inulinProduction = micom.measures.production_rates(inulinGrowth)\n",
    "controlProduction = micom.measures.production_rates(controlGrowth) # calculate predicted production rates\n",
    "production = pd.concat([inulinProduction, controlProduction])\n",
    "res = production[(production['name']==('butyrate'))|\n",
    "                 (production['name']==('acetate'))|\n",
    "                 (production['name']==('propionate'))] #isolate scfas\n",
    "res = pd.pivot(res, index = 'sample_id',\n",
    "                    columns = 'name',\n",
    "                    values = 'flux') # pivot data \n",
    "res.rename(columns = {'acetate':'acetatePredicted',\n",
    "                      'butyrate':'butyratePredicted',\n",
    "                      'propionate':'propionatePredicted' #rename columns to identify predictions\n",
    "                      }, inplace = True\n",
    "          )\n",
    "res['acetateMeasured'] = res.index.map(acetateMeasured)\n",
    "res['butyrateMeasured'] = res.index.map(butyrateMeasured)\n",
    "res['propionateMeasured'] = res.index.map(propionateMeasured) # map the corresponding measured data \n",
    "res['donor'] = res.index.str.split('_').str[0]\n",
    "res['treatment'] = res.index.str.split('_').str[1]\n",
    "\n",
    "res.dropna(inplace = True)\n",
    "res = res.groupby(['treatment','donor']).mean().reset_index() # calculate mean of replicates\n",
    "res['sample_id'] = res['treatment']+'_'+res['donor']\n",
    "res.set_index('sample_id', inplace = True)\n",
    "res['treatment'] = res['treatment'].str.replace(\n",
    "    'PBS','Control').str.replace(\n",
    "    'inulin','Inulin')\n",
    "res[res.columns[2:]] = res[res.columns[2:]].astype('float')"
   ]
  },
  {
   "cell_type": "markdown",
   "id": "7daae763-7285-4a77-b81f-3b96b98260b8",
   "metadata": {},
   "source": [
    "## Plot Results\n",
    "Finally, we'll plot predicted vs measured fluxes against each other"
   ]
  },
  {
   "cell_type": "code",
   "execution_count": null,
   "id": "6afaa8b4-f6ba-4fa1-86cd-b7d79ab79fbb",
   "metadata": {},
   "outputs": [],
   "source": [
    "fig1 = (ggplot(\n",
    "    res, aes(x = 'acetateMeasured', y = 'acetatePredicted'))\n",
    "    +geom_smooth(method = 'lm', linetype = '--')\n",
    "    +geom_point(aes(color = 'treatment'), size = 8)\n",
    "    +geom_smooth(aes(groups = 'treatment', color = 'treatment', fill = 'treatment'),\n",
    "                 method = 'lm', linetype = '--')\n",
    "    +scale_color_manual(limits = ['Control','Inulin'], values = ['cornflowerblue', 'coral'])\n",
    "    +labs(title='Acetate',\n",
    "          x='Measured Acetate (mmol/L/h)',\n",
    "          y = 'Predicted Acetate (mmol/gDW/h)',\n",
    "          color = 'Treatment')\n",
    "    +theme(text = element_text(size=35, color = 'black'),panel_background=element_rect(fill = \"white\",\n",
    "                                    colour = \"white\",size = 0.5, linetype = \"solid\"),panel_grid= element_blank(),\n",
    "                                    axis_line = element_line(size = 2, linetype = \"solid\",colour = \"black\"),\n",
    "                                    legend_position='right',axis_text_x=element_text(rotation = 20, hjust = 1))\n",
    ")\n",
    "fig1"
   ]
  },
  {
   "cell_type": "code",
   "execution_count": null,
   "id": "30f160cf-ce7c-46b2-9208-564c0df6edab",
   "metadata": {},
   "outputs": [],
   "source": [
    "scipy.stats.linregress(res['acetatePredicted'], res['acetateMeasured'])"
   ]
  },
  {
   "cell_type": "code",
   "execution_count": null,
   "id": "988c9863-0fb2-4a13-810f-8524450d8764",
   "metadata": {},
   "outputs": [],
   "source": [
    "fig2 = (ggplot(\n",
    "    res, aes(x = 'butyrateMeasured', y = 'butyratePredicted'))\n",
    "    +geom_smooth(method = 'lm', linetype = '--')\n",
    "    +geom_point(aes(color = 'treatment'), size = 8)\n",
    "    +geom_smooth(aes(groups = 'treatment', color = 'treatment', fill = 'treatment'),\n",
    "                 method = 'lm', linetype = '--')\n",
    "    +scale_color_manual(limits = ['Control','Pectin'], values = ['cornflowerblue', 'coral'])\n",
    "    +labs(title='Butyrate',\n",
    "          x='Measured Butyrate (mmol/L/h)',\n",
    "          y = 'Predicted Butyrate (mmol/gDW/h)',\n",
    "          color = 'Treatment')\n",
    "    +theme(text = element_text(size=35, color = 'black'),panel_background=element_rect(fill = \"white\",\n",
    "                                    colour = \"white\",size = 0.5, linetype = \"solid\"),panel_grid= element_blank(),\n",
    "                                    axis_line = element_line(size = 2, linetype = \"solid\",colour = \"black\"),\n",
    "                                    legend_position='right',axis_text_x=element_text(rotation = 20, hjust = 1))\n",
    ")\n",
    "fig2"
   ]
  },
  {
   "cell_type": "code",
   "execution_count": null,
   "id": "a703c4e0-92be-4340-9e56-8e7e02ddec5e",
   "metadata": {},
   "outputs": [],
   "source": [
    "scipy.stats.linregress(res['butyratePredicted'], res['butyrateMeasured'])"
   ]
  },
  {
   "cell_type": "code",
   "execution_count": null,
   "id": "1431cd14-402b-4a4c-8751-99637527ca81",
   "metadata": {},
   "outputs": [],
   "source": [
    "fig3 = (ggplot(\n",
    "    res, aes(x = 'propionateMeasured', y = 'propionatePredicted'))\n",
    "    +geom_smooth(method = 'lm', linetype = '--')\n",
    "    +geom_point(aes(color = 'treatment'), size = 8)\n",
    "    +geom_smooth(aes(groups = 'treatment', color = 'treatment', fill = 'treatment'),\n",
    "                 method = 'lm', linetype = '--', alpha = .5)\n",
    "    +scale_color_manual(limits = ['Control','Pectin'], values = ['cornflowerblue', 'coral'])\n",
    "    +labs(title='Propionate',\n",
    "          x='Measured Propionate (mmol/L/h)',\n",
    "          y = 'Predicted Propionate (mmol/gDW/h)',\n",
    "          color = 'Treatment')\n",
    "    +theme(text = element_text(size=35, color = 'black'),panel_background=element_rect(fill = \"white\",\n",
    "                                    colour = \"white\",size = 0.5, linetype = \"solid\"),panel_grid= element_blank(),\n",
    "                                    axis_line = element_line(size = 2, linetype = \"solid\",colour = \"black\"),\n",
    "                                    legend_position='right',axis_text_x=element_text(rotation = 20, hjust = 1))\n",
    ")\n",
    "fig3"
   ]
  },
  {
   "cell_type": "code",
   "execution_count": null,
   "id": "8d90a5f6-3202-4e8c-8a4b-b6e6341b1011",
   "metadata": {},
   "outputs": [],
   "source": [
    "scipy.stats.linregress(res['propionatePredicted'], res['propionateMeasured'])"
   ]
  },
  {
   "cell_type": "code",
   "execution_count": null,
   "id": "cb8c7a36-c672-4897-b97e-30a1e8ae8042",
   "metadata": {},
   "outputs": [],
   "source": [
    "res.to_csv('../results/studyA.csv')"
   ]
  }
 ],
 "metadata": {
  "kernelspec": {
   "display_name": "Python 3 (ipykernel)",
   "language": "python",
   "name": "python3"
  },
  "language_info": {
   "codemirror_mode": {
    "name": "ipython",
    "version": 3
   },
   "file_extension": ".py",
   "mimetype": "text/x-python",
   "name": "python",
   "nbconvert_exporter": "python",
   "pygments_lexer": "ipython3",
   "version": "3.8.13"
  }
 },
 "nbformat": 4,
 "nbformat_minor": 5
}
