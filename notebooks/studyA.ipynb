{
 "cells": [
  {
   "cell_type": "markdown",
   "id": "0e716b4d-5cf9-40c2-a5ee-2c68b6e04117",
   "metadata": {},
   "source": [
    "# Study A\n",
    "This notebook shows the full workflow for building models, simulating growth and obtaining SCFA predictions from data collected by the _ex vivo_ study conducted by the Gibbons Lab in 2019"
   ]
  },
  {
   "cell_type": "code",
   "execution_count": 2,
   "id": "06e89a69-9f4d-41c8-aa94-46ef98f84fd9",
   "metadata": {},
   "outputs": [],
   "source": [
    "import pandas as pd\n",
    "import micom\n",
    "import micom.measures\n",
    "from plotnine import * \n",
    "from tqdm import tqdm\n",
    "import scipy\n",
    "\n",
    "%matplotlib inline"
   ]
  },
  {
   "cell_type": "markdown",
   "id": "0e528a39-c500-4bf1-90cd-812fd5f910b1",
   "metadata": {},
   "source": [
    "## Flux Calculation\n",
    "Here we will calculate production rate from the experimental SCFA measurements and convert them to dicts for later use"
   ]
  },
  {
   "cell_type": "code",
   "execution_count": 3,
   "id": "818af287-90b6-479a-be01-e2af07ca03ea",
   "metadata": {},
   "outputs": [
    {
     "data": {
      "text/html": [
       "<div>\n",
       "<style scoped>\n",
       "    .dataframe tbody tr th:only-of-type {\n",
       "        vertical-align: middle;\n",
       "    }\n",
       "\n",
       "    .dataframe tbody tr th {\n",
       "        vertical-align: top;\n",
       "    }\n",
       "\n",
       "    .dataframe thead th {\n",
       "        text-align: right;\n",
       "    }\n",
       "</style>\n",
       "<table border=\"1\" class=\"dataframe\">\n",
       "  <thead>\n",
       "    <tr style=\"text-align: right;\">\n",
       "      <th>analyte</th>\n",
       "      <th>2-Methylbutyric acid</th>\n",
       "      <th>Acetic acid</th>\n",
       "      <th>Butyric acid</th>\n",
       "      <th>Hexanoic acid</th>\n",
       "      <th>Isobutyric acid</th>\n",
       "      <th>Isovaleric acid</th>\n",
       "      <th>Propionic acid</th>\n",
       "      <th>Valeric acid</th>\n",
       "    </tr>\n",
       "    <tr>\n",
       "      <th>id</th>\n",
       "      <th></th>\n",
       "      <th></th>\n",
       "      <th></th>\n",
       "      <th></th>\n",
       "      <th></th>\n",
       "      <th></th>\n",
       "      <th></th>\n",
       "      <th></th>\n",
       "    </tr>\n",
       "  </thead>\n",
       "  <tbody>\n",
       "    <tr>\n",
       "      <th>A_PBS_1</th>\n",
       "      <td>2.916667</td>\n",
       "      <td>99.666667</td>\n",
       "      <td>15.966667</td>\n",
       "      <td>6.216667</td>\n",
       "      <td>2.883333</td>\n",
       "      <td>3.483333</td>\n",
       "      <td>11.383333</td>\n",
       "      <td>5.033333</td>\n",
       "    </tr>\n",
       "    <tr>\n",
       "      <th>A_PBS_2</th>\n",
       "      <td>2.733333</td>\n",
       "      <td>75.166667</td>\n",
       "      <td>15.966667</td>\n",
       "      <td>6.850000</td>\n",
       "      <td>3.283333</td>\n",
       "      <td>2.566667</td>\n",
       "      <td>9.633333</td>\n",
       "      <td>5.316667</td>\n",
       "    </tr>\n",
       "    <tr>\n",
       "      <th>A_PBS_3</th>\n",
       "      <td>3.000000</td>\n",
       "      <td>79.166667</td>\n",
       "      <td>16.500000</td>\n",
       "      <td>5.766667</td>\n",
       "      <td>2.816667</td>\n",
       "      <td>3.400000</td>\n",
       "      <td>13.183333</td>\n",
       "      <td>4.733333</td>\n",
       "    </tr>\n",
       "    <tr>\n",
       "      <th>A_inulin_1</th>\n",
       "      <td>0.433333</td>\n",
       "      <td>365.833333</td>\n",
       "      <td>268.666667</td>\n",
       "      <td>30.050000</td>\n",
       "      <td>1.500000</td>\n",
       "      <td>-0.100000</td>\n",
       "      <td>98.016667</td>\n",
       "      <td>11.533333</td>\n",
       "    </tr>\n",
       "    <tr>\n",
       "      <th>A_inulin_2</th>\n",
       "      <td>-0.083333</td>\n",
       "      <td>365.833333</td>\n",
       "      <td>250.333333</td>\n",
       "      <td>31.716667</td>\n",
       "      <td>1.650000</td>\n",
       "      <td>0.233333</td>\n",
       "      <td>94.000000</td>\n",
       "      <td>11.633333</td>\n",
       "    </tr>\n",
       "    <tr>\n",
       "      <th>A_inulin_3</th>\n",
       "      <td>0.016667</td>\n",
       "      <td>364.500000</td>\n",
       "      <td>264.000000</td>\n",
       "      <td>31.483333</td>\n",
       "      <td>1.783333</td>\n",
       "      <td>0.300000</td>\n",
       "      <td>96.166667</td>\n",
       "      <td>12.316667</td>\n",
       "    </tr>\n",
       "    <tr>\n",
       "      <th>A_tryptophan_1</th>\n",
       "      <td>2.783333</td>\n",
       "      <td>78.000000</td>\n",
       "      <td>18.516667</td>\n",
       "      <td>4.883333</td>\n",
       "      <td>2.483333</td>\n",
       "      <td>3.383333</td>\n",
       "      <td>12.450000</td>\n",
       "      <td>4.466667</td>\n",
       "    </tr>\n",
       "    <tr>\n",
       "      <th>A_tryptophan_2</th>\n",
       "      <td>2.533333</td>\n",
       "      <td>76.333333</td>\n",
       "      <td>18.066667</td>\n",
       "      <td>5.166667</td>\n",
       "      <td>2.350000</td>\n",
       "      <td>2.483333</td>\n",
       "      <td>11.000000</td>\n",
       "      <td>4.500000</td>\n",
       "    </tr>\n",
       "    <tr>\n",
       "      <th>A_tryptophan_3</th>\n",
       "      <td>2.900000</td>\n",
       "      <td>73.500000</td>\n",
       "      <td>20.116667</td>\n",
       "      <td>4.816667</td>\n",
       "      <td>2.533333</td>\n",
       "      <td>3.266667</td>\n",
       "      <td>11.950000</td>\n",
       "      <td>5.483333</td>\n",
       "    </tr>\n",
       "    <tr>\n",
       "      <th>B_PBS_1</th>\n",
       "      <td>2.966667</td>\n",
       "      <td>103.166667</td>\n",
       "      <td>44.500000</td>\n",
       "      <td>10.600000</td>\n",
       "      <td>4.566667</td>\n",
       "      <td>3.850000</td>\n",
       "      <td>25.166667</td>\n",
       "      <td>7.866667</td>\n",
       "    </tr>\n",
       "    <tr>\n",
       "      <th>B_PBS_2</th>\n",
       "      <td>3.125000</td>\n",
       "      <td>104.500000</td>\n",
       "      <td>50.833333</td>\n",
       "      <td>10.466667</td>\n",
       "      <td>4.200000</td>\n",
       "      <td>4.083333</td>\n",
       "      <td>25.500000</td>\n",
       "      <td>8.500000</td>\n",
       "    </tr>\n",
       "    <tr>\n",
       "      <th>B_PBS_3</th>\n",
       "      <td>2.910000</td>\n",
       "      <td>117.166667</td>\n",
       "      <td>45.833333</td>\n",
       "      <td>12.266667</td>\n",
       "      <td>4.666667</td>\n",
       "      <td>3.933333</td>\n",
       "      <td>25.000000</td>\n",
       "      <td>9.000000</td>\n",
       "    </tr>\n",
       "    <tr>\n",
       "      <th>B_inulin_1</th>\n",
       "      <td>0.271667</td>\n",
       "      <td>369.666667</td>\n",
       "      <td>295.833333</td>\n",
       "      <td>20.650000</td>\n",
       "      <td>0.350000</td>\n",
       "      <td>0.183333</td>\n",
       "      <td>141.166667</td>\n",
       "      <td>6.216667</td>\n",
       "    </tr>\n",
       "    <tr>\n",
       "      <th>B_inulin_2</th>\n",
       "      <td>0.380000</td>\n",
       "      <td>379.333333</td>\n",
       "      <td>310.000000</td>\n",
       "      <td>18.600000</td>\n",
       "      <td>1.133333</td>\n",
       "      <td>0.250000</td>\n",
       "      <td>140.666667</td>\n",
       "      <td>6.183333</td>\n",
       "    </tr>\n",
       "    <tr>\n",
       "      <th>B_inulin_3</th>\n",
       "      <td>0.740000</td>\n",
       "      <td>370.000000</td>\n",
       "      <td>312.166667</td>\n",
       "      <td>20.450000</td>\n",
       "      <td>0.350000</td>\n",
       "      <td>-0.016667</td>\n",
       "      <td>149.166667</td>\n",
       "      <td>6.216667</td>\n",
       "    </tr>\n",
       "    <tr>\n",
       "      <th>B_tryptophan_1</th>\n",
       "      <td>2.816667</td>\n",
       "      <td>98.000000</td>\n",
       "      <td>50.000000</td>\n",
       "      <td>7.700000</td>\n",
       "      <td>4.266667</td>\n",
       "      <td>4.166667</td>\n",
       "      <td>24.833333</td>\n",
       "      <td>7.483333</td>\n",
       "    </tr>\n",
       "    <tr>\n",
       "      <th>B_tryptophan_2</th>\n",
       "      <td>3.183333</td>\n",
       "      <td>101.000000</td>\n",
       "      <td>51.500000</td>\n",
       "      <td>8.233333</td>\n",
       "      <td>4.400000</td>\n",
       "      <td>3.850000</td>\n",
       "      <td>26.000000</td>\n",
       "      <td>7.283333</td>\n",
       "    </tr>\n",
       "    <tr>\n",
       "      <th>B_tryptophan_3</th>\n",
       "      <td>3.250000</td>\n",
       "      <td>98.166667</td>\n",
       "      <td>52.166667</td>\n",
       "      <td>8.500000</td>\n",
       "      <td>4.483333</td>\n",
       "      <td>4.250000</td>\n",
       "      <td>25.000000</td>\n",
       "      <td>8.383333</td>\n",
       "    </tr>\n",
       "  </tbody>\n",
       "</table>\n",
       "</div>"
      ],
      "text/plain": [
       "analyte         2-Methylbutyric acid  Acetic acid  Butyric acid  \\\n",
       "id                                                                \n",
       "A_PBS_1                     2.916667    99.666667     15.966667   \n",
       "A_PBS_2                     2.733333    75.166667     15.966667   \n",
       "A_PBS_3                     3.000000    79.166667     16.500000   \n",
       "A_inulin_1                  0.433333   365.833333    268.666667   \n",
       "A_inulin_2                 -0.083333   365.833333    250.333333   \n",
       "A_inulin_3                  0.016667   364.500000    264.000000   \n",
       "A_tryptophan_1              2.783333    78.000000     18.516667   \n",
       "A_tryptophan_2              2.533333    76.333333     18.066667   \n",
       "A_tryptophan_3              2.900000    73.500000     20.116667   \n",
       "B_PBS_1                     2.966667   103.166667     44.500000   \n",
       "B_PBS_2                     3.125000   104.500000     50.833333   \n",
       "B_PBS_3                     2.910000   117.166667     45.833333   \n",
       "B_inulin_1                  0.271667   369.666667    295.833333   \n",
       "B_inulin_2                  0.380000   379.333333    310.000000   \n",
       "B_inulin_3                  0.740000   370.000000    312.166667   \n",
       "B_tryptophan_1              2.816667    98.000000     50.000000   \n",
       "B_tryptophan_2              3.183333   101.000000     51.500000   \n",
       "B_tryptophan_3              3.250000    98.166667     52.166667   \n",
       "\n",
       "analyte         Hexanoic acid  Isobutyric acid  Isovaleric acid  \\\n",
       "id                                                                \n",
       "A_PBS_1              6.216667         2.883333         3.483333   \n",
       "A_PBS_2              6.850000         3.283333         2.566667   \n",
       "A_PBS_3              5.766667         2.816667         3.400000   \n",
       "A_inulin_1          30.050000         1.500000        -0.100000   \n",
       "A_inulin_2          31.716667         1.650000         0.233333   \n",
       "A_inulin_3          31.483333         1.783333         0.300000   \n",
       "A_tryptophan_1       4.883333         2.483333         3.383333   \n",
       "A_tryptophan_2       5.166667         2.350000         2.483333   \n",
       "A_tryptophan_3       4.816667         2.533333         3.266667   \n",
       "B_PBS_1             10.600000         4.566667         3.850000   \n",
       "B_PBS_2             10.466667         4.200000         4.083333   \n",
       "B_PBS_3             12.266667         4.666667         3.933333   \n",
       "B_inulin_1          20.650000         0.350000         0.183333   \n",
       "B_inulin_2          18.600000         1.133333         0.250000   \n",
       "B_inulin_3          20.450000         0.350000        -0.016667   \n",
       "B_tryptophan_1       7.700000         4.266667         4.166667   \n",
       "B_tryptophan_2       8.233333         4.400000         3.850000   \n",
       "B_tryptophan_3       8.500000         4.483333         4.250000   \n",
       "\n",
       "analyte         Propionic acid  Valeric acid  \n",
       "id                                            \n",
       "A_PBS_1              11.383333      5.033333  \n",
       "A_PBS_2               9.633333      5.316667  \n",
       "A_PBS_3              13.183333      4.733333  \n",
       "A_inulin_1           98.016667     11.533333  \n",
       "A_inulin_2           94.000000     11.633333  \n",
       "A_inulin_3           96.166667     12.316667  \n",
       "A_tryptophan_1       12.450000      4.466667  \n",
       "A_tryptophan_2       11.000000      4.500000  \n",
       "A_tryptophan_3       11.950000      5.483333  \n",
       "B_PBS_1              25.166667      7.866667  \n",
       "B_PBS_2              25.500000      8.500000  \n",
       "B_PBS_3              25.000000      9.000000  \n",
       "B_inulin_1          141.166667      6.216667  \n",
       "B_inulin_2          140.666667      6.183333  \n",
       "B_inulin_3          149.166667      6.216667  \n",
       "B_tryptophan_1       24.833333      7.483333  \n",
       "B_tryptophan_2       26.000000      7.283333  \n",
       "B_tryptophan_3       25.000000      8.383333  "
      ]
     },
     "execution_count": 3,
     "metadata": {},
     "output_type": "execute_result"
    }
   ],
   "source": [
    "scfa=pd.read_excel('/proj/gibbons/ex_vivos_2019/data/ISBI-0202-19TASA_Results.xlsx')\n",
    "scfa=scfa[['Unique Sample ID','Treatment','Time \\nPoint','Subject or Animal ID','Analyte','Result']]\n",
    "scfa=scfa.rename(columns={'Unique Sample ID':'sample_id',\n",
    "                          'Time \\nPoint':'timepoint',\n",
    "                          'Treatment':'treatment',\n",
    "                          'Subject or Animal ID':'subject_id',\n",
    "                          'Analyte':'analyte','Result':'result'}).set_index('sample_id')\n",
    "scfa['id'] = scfa['subject_id'].str[-1]+'_'+scfa['treatment']+'_'+scfa.index.str[1]\n",
    "scfa['flux'] = scfa.groupby(['id','analyte'])['result'].diff()\n",
    "metadata = scfa['id'].to_dict()\n",
    "scfa = scfa.dropna()\n",
    "scfa = pd.pivot_table(scfa,\n",
    "                      index = 'id',\n",
    "                      columns = 'analyte',\n",
    "                      values = 'flux')\n",
    "scfa = scfa/6\n",
    "acetateMeasured = (scfa['Acetic acid']/59.04).to_dict()\n",
    "butyrateMeasured = (scfa['Butyric acid']/88.11).to_dict()\n",
    "propionateMeasured = (scfa['Propionic acid']/74.08).to_dict()\n",
    "scfa"
   ]
  },
  {
   "cell_type": "markdown",
   "id": "f2370e78-b1d9-4604-821f-5ab6bf0f2a5c",
   "metadata": {},
   "source": [
    "## Taxonomy Table\n",
    "Next, we will read in abundance data for all samples. We will convert this into a taxnomy table to use in MICOM"
   ]
  },
  {
   "cell_type": "code",
   "execution_count": 4,
   "id": "d48cb26b-d6bc-4dcd-8e80-8b4d52574b7a",
   "metadata": {},
   "outputs": [
    {
     "name": "stderr",
     "output_type": "stream",
     "text": [
      "/tmp/ipykernel_3271556/1423114991.py:15: FutureWarning: The default value of numeric_only in DataFrameGroupBy.sum is deprecated. In a future version, numeric_only will default to False. Either specify numeric_only or select only columns which should be valid for the function.\n"
     ]
    },
    {
     "data": {
      "text/html": [
       "<div>\n",
       "<style scoped>\n",
       "    .dataframe tbody tr th:only-of-type {\n",
       "        vertical-align: middle;\n",
       "    }\n",
       "\n",
       "    .dataframe tbody tr th {\n",
       "        vertical-align: top;\n",
       "    }\n",
       "\n",
       "    .dataframe thead th {\n",
       "        text-align: right;\n",
       "    }\n",
       "</style>\n",
       "<table border=\"1\" class=\"dataframe\">\n",
       "  <thead>\n",
       "    <tr style=\"text-align: right;\">\n",
       "      <th></th>\n",
       "      <th>sample_id</th>\n",
       "      <th>species</th>\n",
       "      <th>id</th>\n",
       "      <th>abundance</th>\n",
       "    </tr>\n",
       "  </thead>\n",
       "  <tbody>\n",
       "    <tr>\n",
       "      <th>0</th>\n",
       "      <td>A_PBS_1</td>\n",
       "      <td>'caverna'</td>\n",
       "      <td>'caverna'</td>\n",
       "      <td>67</td>\n",
       "    </tr>\n",
       "    <tr>\n",
       "      <th>1</th>\n",
       "      <td>A_PBS_1</td>\n",
       "      <td>002</td>\n",
       "      <td>002</td>\n",
       "      <td>24</td>\n",
       "    </tr>\n",
       "    <tr>\n",
       "      <th>2</th>\n",
       "      <td>A_PBS_1</td>\n",
       "      <td>01-6242</td>\n",
       "      <td>01-6242</td>\n",
       "      <td>53</td>\n",
       "    </tr>\n",
       "    <tr>\n",
       "      <th>3</th>\n",
       "      <td>A_PBS_1</td>\n",
       "      <td>014</td>\n",
       "      <td>014</td>\n",
       "      <td>14</td>\n",
       "    </tr>\n",
       "    <tr>\n",
       "      <th>4</th>\n",
       "      <td>A_PBS_1</td>\n",
       "      <td>01438</td>\n",
       "      <td>01438</td>\n",
       "      <td>44</td>\n",
       "    </tr>\n",
       "    <tr>\n",
       "      <th>...</th>\n",
       "      <td>...</td>\n",
       "      <td>...</td>\n",
       "      <td>...</td>\n",
       "      <td>...</td>\n",
       "    </tr>\n",
       "    <tr>\n",
       "      <th>56762</th>\n",
       "      <td>B_tryptophan_3</td>\n",
       "      <td>zoogleoformans</td>\n",
       "      <td>zoogleoformans</td>\n",
       "      <td>519</td>\n",
       "    </tr>\n",
       "    <tr>\n",
       "      <th>56763</th>\n",
       "      <td>B_tryptophan_3</td>\n",
       "      <td>zopfii</td>\n",
       "      <td>zopfii</td>\n",
       "      <td>81</td>\n",
       "    </tr>\n",
       "    <tr>\n",
       "      <th>56764</th>\n",
       "      <td>B_tryptophan_3</td>\n",
       "      <td>zucineum</td>\n",
       "      <td>zucineum</td>\n",
       "      <td>42</td>\n",
       "    </tr>\n",
       "    <tr>\n",
       "      <th>56765</th>\n",
       "      <td>B_tryptophan_3</td>\n",
       "      <td>zundukense</td>\n",
       "      <td>zundukense</td>\n",
       "      <td>42</td>\n",
       "    </tr>\n",
       "    <tr>\n",
       "      <th>56766</th>\n",
       "      <td>B_tryptophan_3</td>\n",
       "      <td>zymae</td>\n",
       "      <td>zymae</td>\n",
       "      <td>37</td>\n",
       "    </tr>\n",
       "  </tbody>\n",
       "</table>\n",
       "<p>56767 rows × 4 columns</p>\n",
       "</div>"
      ],
      "text/plain": [
       "            sample_id         species              id  abundance\n",
       "0             A_PBS_1       'caverna'       'caverna'         67\n",
       "1             A_PBS_1             002             002         24\n",
       "2             A_PBS_1         01-6242         01-6242         53\n",
       "3             A_PBS_1             014             014         14\n",
       "4             A_PBS_1           01438           01438         44\n",
       "...               ...             ...             ...        ...\n",
       "56762  B_tryptophan_3  zoogleoformans  zoogleoformans        519\n",
       "56763  B_tryptophan_3          zopfii          zopfii         81\n",
       "56764  B_tryptophan_3        zucineum        zucineum         42\n",
       "56765  B_tryptophan_3      zundukense      zundukense         42\n",
       "56766  B_tryptophan_3           zymae           zymae         37\n",
       "\n",
       "[56767 rows x 4 columns]"
      ]
     },
     "execution_count": 4,
     "metadata": {},
     "output_type": "execute_result"
    }
   ],
   "source": [
    "taxonomy = pd.read_csv('/proj/gibbons/ex_vivos_2019/data/S_counts.csv')\n",
    "taxonomy['sample_id'] = taxonomy['sample'].map(metadata)\n",
    "taxonomy = taxonomy.rename(columns = \n",
    "                           {'d':'domain',\n",
    "                            'p':'phylum', \n",
    "                            'c':'class',\n",
    "                            'o':'order',\n",
    "                            'f':'family',\n",
    "                            'g':'genus',\n",
    "                            's':'species',\n",
    "                            'reads':'abundance'}).drop(\n",
    "    columns = 'sample')\n",
    "taxonomy['species'] = taxonomy['species'].str.split(' ').str[-1]\n",
    "taxonomy['id'] = taxonomy['species'] \n",
    "taxonomy = taxonomy.groupby(['sample_id','species','id']).sum().reset_index()\n",
    "taxonomy"
   ]
  },
  {
   "cell_type": "markdown",
   "id": "0f186ed9-1ba7-4130-8d08-1486d94a7fa0",
   "metadata": {},
   "source": [
    "## Build Models\n",
    "Now, we'll build our models, with cutoff of 0.001"
   ]
  },
  {
   "cell_type": "code",
   "execution_count": 23,
   "id": "8ebdc672-93e7-40da-b571-442a2f8651dd",
   "metadata": {},
   "outputs": [
    {
     "data": {
      "application/vnd.jupyter.widget-view+json": {
       "model_id": "9247e4196aad468281ce797d943ede15",
       "version_major": 2,
       "version_minor": 0
      },
      "text/plain": [
       "Output()"
      ]
     },
     "metadata": {},
     "output_type": "display_data"
    },
    {
     "data": {
      "text/html": [
       "<pre style=\"white-space:pre;overflow-x:auto;line-height:normal;font-family:Menlo,'DejaVu Sans Mono',consolas,'Courier New',monospace\"></pre>\n"
      ],
      "text/plain": []
     },
     "metadata": {},
     "output_type": "display_data"
    },
    {
     "data": {
      "text/html": [
       "<pre style=\"white-space:pre;overflow-x:auto;line-height:normal;font-family:Menlo,'DejaVu Sans Mono',consolas,'Courier New',monospace\">\n",
       "</pre>\n"
      ],
      "text/plain": [
       "\n"
      ]
     },
     "metadata": {},
     "output_type": "display_data"
    }
   ],
   "source": [
    "manifest = micom.workflows.build(taxonomy,\n",
    "                               out_folder = '/proj/gibbons/nbohmann/exvivo/gibbons_2019/micom/models_sp',\n",
    "                               model_db = '/proj/gibbons/nbohmann/exvivo/databases/agora103_species.qza',\n",
    "                               cutoff = 0.001, \n",
    "                               threads = 20)"
   ]
  },
  {
   "cell_type": "markdown",
   "id": "9e3b369a-6cc4-4a5e-9c98-0bf7bb148bb1",
   "metadata": {},
   "source": [
    "## Load Medium\n",
    "Load in the carbon-stripped European Diet, and construct the intervention diets by augmenting with inulin and pectin"
   ]
  },
  {
   "cell_type": "code",
   "execution_count": 11,
   "id": "40d793bf-3673-44db-b949-3f667a052515",
   "metadata": {},
   "outputs": [],
   "source": [
    "medium = pd.read_csv('/proj/gibbons/nbohmann/exvivo/diets/western_diet_depleted.csv')\n",
    "medium['index'] = medium['reaction']\n",
    "medium.set_index('index',inplace = True)\n",
    "medium.at['EX_h2o_m','flux']=100000\n",
    "medium['flux'] = medium['flux']/10\n",
    "\n",
    "medium = pd.concat([medium, \n",
    "                    pd.DataFrame({'metabolite':['strch1_m', 'strch2_m','starch1200_m', \n",
    "                                                'dextrin_m','cellul_m'],\n",
    "                                  'flux':[13, 13, .13,\n",
    "                                          13, 0.00067],\n",
    "                                  'reaction':['EX_strch1_m', 'EX_strch2_m', 'EX_starch1200_m', \n",
    "                                              'EX_dextrin_m', 'EX_cellul_m']},\n",
    "                                 index = ['EX_strch1_m','EX_strch2_m', 'EX_starch1200_m',\n",
    "                                         'EX_dextrin_m', 'EX_cellul_m'])])\n",
    "\n",
    "controlMedium = medium\n",
    "\n",
    "inulinMedium = pd.concat([medium,\n",
    "                           pd.DataFrame({'reaction':['EX_inulin_m'],\n",
    "                                         'metabolite':['inulin_m'],\n",
    "                                         'global_id':['EX_inulin(e)'],\n",
    "                                         'flux':[14]\n",
    "                                        },index = ['EX_inulin_m'])])\n",
    "medium.to_csv('/users/nbohmann/exvivo/studyAmedium.csv')"
   ]
  },
  {
   "cell_type": "markdown",
   "id": "338a8e4c-97d1-42b3-88d6-a6e4ba8d9861",
   "metadata": {},
   "source": [
    "# Grow Models\n",
    "Now we'll grow the samples using the respective media we constructed"
   ]
  },
  {
   "cell_type": "code",
   "execution_count": 7,
   "id": "fcda5e0e-6660-4466-abab-57922ce5c670",
   "metadata": {},
   "outputs": [
    {
     "data": {
      "application/vnd.jupyter.widget-view+json": {
       "model_id": "4d554c4e3e024c5cb596a14bf7c178f0",
       "version_major": 2,
       "version_minor": 0
      },
      "text/plain": [
       "Output()"
      ]
     },
     "metadata": {},
     "output_type": "display_data"
    },
    {
     "data": {
      "text/html": [
       "<pre style=\"white-space:pre;overflow-x:auto;line-height:normal;font-family:Menlo,'DejaVu Sans Mono',consolas,'Courier New',monospace\"></pre>\n"
      ],
      "text/plain": []
     },
     "metadata": {},
     "output_type": "display_data"
    },
    {
     "data": {
      "text/html": [
       "<pre style=\"white-space:pre;overflow-x:auto;line-height:normal;font-family:Menlo,'DejaVu Sans Mono',consolas,'Courier New',monospace\">\n",
       "</pre>\n"
      ],
      "text/plain": [
       "\n"
      ]
     },
     "metadata": {},
     "output_type": "display_data"
    },
    {
     "data": {
      "application/vnd.jupyter.widget-view+json": {
       "model_id": "b93f77ba419943e1ad8f1b1c43620b6d",
       "version_major": 2,
       "version_minor": 0
      },
      "text/plain": [
       "Output()"
      ]
     },
     "metadata": {},
     "output_type": "display_data"
    },
    {
     "data": {
      "text/html": [
       "<pre style=\"white-space:pre;overflow-x:auto;line-height:normal;font-family:Menlo,'DejaVu Sans Mono',consolas,'Courier New',monospace\"></pre>\n"
      ],
      "text/plain": []
     },
     "metadata": {},
     "output_type": "display_data"
    },
    {
     "data": {
      "text/html": [
       "<pre style=\"white-space:pre;overflow-x:auto;line-height:normal;font-family:Menlo,'DejaVu Sans Mono',consolas,'Courier New',monospace\">\n",
       "</pre>\n"
      ],
      "text/plain": [
       "\n"
      ]
     },
     "metadata": {},
     "output_type": "display_data"
    }
   ],
   "source": [
    "manifest = pd.read_csv('/proj/gibbons/nbohmann/exvivo/gibbons_2019/micom/models/manifest.csv')\n",
    "controlManifest = manifest[manifest['sample_id'].str.contains('PBS')]\n",
    "inulinManifest = manifest[manifest['sample_id'].str.contains('inulin')]\n",
    "\n",
    "controlGrowth = micom.workflows.grow(controlManifest,\n",
    "                              '/proj/gibbons/nbohmann/exvivo/gibbons_2019/micom/models/',\n",
    "                              controlMedium, \n",
    "                              tradeoff = 0.7,\n",
    "                              strategy = 'none',\n",
    "                              threads = 20)\n",
    "inulinGrowth = micom.workflows.grow(inulinManifest,\n",
    "                              '/proj/gibbons/nbohmann/exvivo/gibbons_2019/micom/models/',\n",
    "                              inulinMedium, \n",
    "                              tradeoff = 0.7,\n",
    "                              strategy = 'none',\n",
    "                              threads = 20)"
   ]
  },
  {
   "cell_type": "markdown",
   "id": "496da4e0-26e2-4e39-9077-ca7ae7df76a5",
   "metadata": {},
   "source": [
    "## Compare SCFA Fluxes\n",
    "We can now extract the production fluxes of SCFAs from each growth simulation, and construct a dataframe with both measured and predicted production rates."
   ]
  },
  {
   "cell_type": "code",
   "execution_count": 8,
   "id": "289f6f45-0dd8-459a-8ef8-63c4d7a560e0",
   "metadata": {},
   "outputs": [],
   "source": [
    "inulinProduction = micom.measures.production_rates(inulinGrowth)\n",
    "controlProduction = micom.measures.production_rates(controlGrowth)\n",
    "production = pd.concat([inulinProduction, controlProduction])\n",
    "res = production[(production['name']==('butyrate'))|\n",
    "                 (production['name']==('acetate'))|\n",
    "                 (production['name']==('propionate'))]\n",
    "res = pd.pivot(res, index = 'sample_id',\n",
    "                    columns = 'name',\n",
    "                    values = 'flux')\n",
    "res.rename(columns = {'acetate':'acetatePredicted',\n",
    "                      'butyrate':'butyratePredicted',\n",
    "                      'propionate':'propionatePredicted'\n",
    "                      }, inplace = True\n",
    "          )\n",
    "res['acetateMeasured'] = res.index.map(acetateMeasured)\n",
    "res['butyrateMeasured'] = res.index.map(butyrateMeasured)\n",
    "res['propionateMeasured'] = res.index.map(propionateMeasured)\n",
    "shannon = pd.read_csv('/proj/gibbons/nbohmann/exvivo/gibbons_2019/micom/shannon/alpha-diversity.tsv',\n",
    "                      sep = '\\t', index_col = 0)\n",
    "shannon['sample_id'] = shannon.index.map(metadata)\n",
    "shannon = shannon.set_index('sample_id')['shannon_entropy'].to_dict()\n",
    "res['shannon'] = res.index.map(shannon)\n",
    "res['donor'] = res.index.str.split('_').str[0]\n",
    "res['treatment'] = res.index.str.split('_').str[1]\n",
    "\n",
    "res.dropna(inplace = True)\n",
    "sem = res.groupby(['treatment','donor']).sem().reset_index()\n",
    "sem['sample_id'] = sem['treatment']+'_'+sem['donor']\n",
    "sem.set_index('sample_id', inplace = True)\n",
    "sem = sem.rename(columns = {'acetatePredicted':'acetatePredictedSEM',\n",
    "                      'butyratePredicted':'butyratePredictedSEM',\n",
    "                      'propionatePredicted':'propionatePredictedSEM',\n",
    "                      'acetateMeasured':'acetateMeasuredSEM',\n",
    "                      'butyrateMeasured':'butyrateMeasuredSEM',             \n",
    "                      'propionateMeasured':'propionateMeasuredSEM',\n",
    "                      'shannon':'shannonSEM'})\n",
    "res = res.groupby(['treatment','donor']).mean().reset_index()\n",
    "res['sample_id'] = res['treatment']+'_'+res['donor']\n",
    "res.set_index('sample_id', inplace = True)\n",
    "res = pd.concat([res, sem], axis = 1).T.drop_duplicates().T\n",
    "res['treatment'] = res['treatment'].str.replace(\n",
    "    'PBS','Control').str.replace(\n",
    "    'inulin','Inulin')\n",
    "res[res.columns[2:]] = res[res.columns[2:]].astype('float')"
   ]
  },
  {
   "cell_type": "markdown",
   "id": "7daae763-7285-4a77-b81f-3b96b98260b8",
   "metadata": {},
   "source": [
    "## Plot Results\n",
    "Finally, we'll plot predicted vs measured fluxes against each other"
   ]
  },
  {
   "cell_type": "code",
   "execution_count": 60,
   "id": "6afaa8b4-f6ba-4fa1-86cd-b7d79ab79fbb",
   "metadata": {},
   "outputs": [
    {
     "name": "stderr",
     "output_type": "stream",
     "text": [
      "/users/nbohmann/miniconda3/envs/micom2022/lib/python3.8/site-packages/statsmodels/regression/linear_model.py:1671: RuntimeWarning: divide by zero encountered in double_scalars\n",
      "/users/nbohmann/miniconda3/envs/micom2022/lib/python3.8/site-packages/statsmodels/regression/linear_model.py:1671: RuntimeWarning: divide by zero encountered in double_scalars\n"
     ]
    },
    {
     "data": {
      "image/png": "[encoded data removed]",
      "text/plain": [
       "<Figure size 640x480 with 1 Axes>"
      ]
     },
     "metadata": {},
     "output_type": "display_data"
    },
    {
     "data": {
      "text/plain": [
       "<ggplot: (8763246121135)>"
      ]
     },
     "execution_count": 60,
     "metadata": {},
     "output_type": "execute_result"
    }
   ],
   "source": [
    "fig1 = (ggplot(\n",
    "    res, aes(x = 'acetateMeasured', y = 'acetatePredicted'))\n",
    "    +geom_smooth(method = 'lm', linetype = '--')\n",
    "    +geom_point(aes(color = 'treatment'), size = 8)\n",
    "    +geom_smooth(aes(groups = 'treatment', color = 'treatment', fill = 'treatment'),\n",
    "                 method = 'lm', linetype = '--')\n",
    "    +geom_errorbar(aes(x = 'acetateMeasured', \n",
    "                       ymin = 'acetatePredicted - acetatePredictedSEM',\n",
    "                       ymax = 'acetatePredicted + acetatePredictedSEM'))\n",
    "    +geom_errorbarh(aes(y = 'acetatePredicted', \n",
    "                       xmin = 'acetateMeasured - acetateMeasuredSEM',\n",
    "                       xmax = 'acetateMeasured + acetateMeasuredSEM'), height = 10)\n",
    "    +geom_rug(aes(color = 'treatment'),sides = 'tr', size = 2)\n",
    "    +scale_color_manual(limits = ['Control','Inulin'], values = ['cornflowerblue', 'coral'])\n",
    "    +scale_fill_manual(limits = ['Control','Inulin'], values = ['cornflowerblue', 'coral'])\n",
    "    +labs(title='',\n",
    "          x='',\n",
    "          y = '',\n",
    "          color = 'Treatment',fill = 'Treatment')\n",
    "    +theme(text = element_text(size=35, color = 'black'),panel_background=element_rect(fill = \"white\",\n",
    "                                    colour = \"white\",size = 0.5, linetype = \"solid\"),panel_grid= element_blank(),\n",
    "                                    axis_line = element_line(size = 2, linetype = \"solid\",colour = \"black\"),\n",
    "                                    legend_position='right',axis_text_x=element_text(rotation = 20, hjust = 1))\n",
    ")\n",
    "fig1"
   ]
  },
  {
   "cell_type": "code",
   "execution_count": 61,
   "id": "988c9863-0fb2-4a13-810f-8524450d8764",
   "metadata": {},
   "outputs": [
    {
     "name": "stderr",
     "output_type": "stream",
     "text": [
      "/users/nbohmann/miniconda3/envs/micom2022/lib/python3.8/site-packages/statsmodels/regression/linear_model.py:1671: RuntimeWarning: divide by zero encountered in double_scalars\n",
      "/users/nbohmann/miniconda3/envs/micom2022/lib/python3.8/site-packages/statsmodels/regression/linear_model.py:1671: RuntimeWarning: divide by zero encountered in double_scalars\n"
     ]
    },
    {
     "data": {
      "image/png": "[encoded data removed]",
      "text/plain": [
       "<Figure size 640x480 with 1 Axes>"
      ]
     },
     "metadata": {},
     "output_type": "display_data"
    },
    {
     "data": {
      "text/plain": [
       "<ggplot: (8763376429376)>"
      ]
     },
     "execution_count": 61,
     "metadata": {},
     "output_type": "execute_result"
    }
   ],
   "source": [
    "fig2 = (ggplot(\n",
    "    res, aes(x = 'butyrateMeasured', y = 'butyratePredicted'))\n",
    "    +geom_smooth(method = 'lm', linetype = '--')\n",
    "    +geom_point(aes(color = 'treatment'), size = 8)\n",
    "    +geom_smooth(aes(groups = 'treatment', color = 'treatment', fill = 'treatment'),\n",
    "                 method = 'lm', linetype = '--')\n",
    "    +geom_errorbar(aes(x = 'butyrateMeasured', \n",
    "                       ymin = 'butyratePredicted - butyratePredictedSEM',\n",
    "                       ymax = 'butyratePredicted + butyratePredictedSEM'), width = .1)\n",
    "    +geom_errorbarh(aes(y = 'butyratePredicted', \n",
    "                       xmin = 'butyrateMeasured - butyrateMeasuredSEM',\n",
    "                       xmax = 'butyrateMeasured + butyrateMeasuredSEM'), height = 1)\n",
    "    +geom_rug(aes(color = 'treatment'),sides = 'tr', size = 2)\n",
    "    +scale_color_manual(limits = ['Control','Pectin'], values = ['cornflowerblue', 'coral'])\n",
    "    +scale_fill_manual(limits = ['Control','Pectin'], values = ['cornflowerblue', 'coral'])\n",
    "    +labs(title='',\n",
    "          x='',\n",
    "          y = '',\n",
    "          color = 'Treatment',fill = 'Treatment')\n",
    "    +theme(text = element_text(size=35, color = 'black'),panel_background=element_rect(fill = \"white\",\n",
    "                                    colour = \"white\",size = 0.5, linetype = \"solid\"),panel_grid= element_blank(),\n",
    "                                    axis_line = element_line(size = 2, linetype = \"solid\",colour = \"black\"),\n",
    "                                    legend_position='right',axis_text_x=element_text(rotation = 20, hjust = 1))\n",
    ")\n",
    "fig2"
   ]
  },
  {
   "cell_type": "code",
   "execution_count": 62,
   "id": "1431cd14-402b-4a4c-8751-99637527ca81",
   "metadata": {},
   "outputs": [
    {
     "name": "stderr",
     "output_type": "stream",
     "text": [
      "/users/nbohmann/miniconda3/envs/micom2022/lib/python3.8/site-packages/statsmodels/regression/linear_model.py:1671: RuntimeWarning: divide by zero encountered in double_scalars\n",
      "/users/nbohmann/miniconda3/envs/micom2022/lib/python3.8/site-packages/statsmodels/regression/linear_model.py:1671: RuntimeWarning: divide by zero encountered in double_scalars\n"
     ]
    },
    {
     "data": {
      "image/png": "[encoded data removed]",
      "text/plain": [
       "<Figure size 640x480 with 1 Axes>"
      ]
     },
     "metadata": {},
     "output_type": "display_data"
    },
    {
     "data": {
      "text/plain": [
       "<ggplot: (8763379496093)>"
      ]
     },
     "execution_count": 62,
     "metadata": {},
     "output_type": "execute_result"
    }
   ],
   "source": [
    "fig3 = (ggplot(\n",
    "    res, aes(x = 'propionateMeasured', y = 'propionatePredicted'))\n",
    "    +geom_smooth(method = 'lm', linetype = '--')\n",
    "    +geom_point(aes(color = 'treatment'), size = 8)\n",
    "    +geom_smooth(aes(groups = 'treatment', color = 'treatment', fill = 'treatment'),\n",
    "                 method = 'lm', linetype = '--', alpha = .5)\n",
    "    +geom_errorbar(aes(x = 'propionateMeasured', \n",
    "                       ymin = 'propionatePredicted - propionatePredictedSEM',\n",
    "                       ymax = 'propionatePredicted + propionatePredictedSEM'), width = .07)\n",
    "    +geom_errorbarh(aes(y = 'propionatePredicted', \n",
    "                       xmin = 'propionateMeasured - propionateMeasuredSEM',\n",
    "                       xmax = 'propionateMeasured + propionateMeasuredSEM'), height = 5)\n",
    "    +geom_rug(aes(color = 'treatment'),sides = 'tr', size = 2)\n",
    "    +scale_color_manual(limits = ['Control','Pectin'], values = ['cornflowerblue', 'coral'])\n",
    "    +scale_fill_manual(limits = ['Control','Pectin'], values = ['cornflowerblue', 'coral'])\n",
    "    +labs(title='',\n",
    "          x='',\n",
    "          y = '',\n",
    "          color = 'Treatment',fill = 'Treatment')\n",
    "    +theme(text = element_text(size=35, color = 'black'),panel_background=element_rect(fill = \"white\",\n",
    "                                    colour = \"white\",size = 0.5, linetype = \"solid\"),panel_grid= element_blank(),\n",
    "                                    axis_line = element_line(size = 2, linetype = \"solid\",colour = \"black\"),\n",
    "                                    legend_position='right',axis_text_x=element_text(rotation = 20, hjust = 1))\n",
    ")\n",
    "fig3"
   ]
  },
  {
   "cell_type": "markdown",
   "id": "1fd2ef43-7d77-4bd4-8aa9-3df0978a31cf",
   "metadata": {},
   "source": [
    "## Calculate Linear Regressions"
   ]
  },
  {
   "cell_type": "code",
   "execution_count": 63,
   "id": "a5b91ffb-8ee0-4eb5-a3c6-770a4c7baac2",
   "metadata": {},
   "outputs": [
    {
     "data": {
      "text/plain": [
       "LinregressResult(slope=0.007944747640067322, intercept=-0.0852779810656158, rvalue=0.51980679141338, pvalue=0.48019320858662007, stderr=0.009232628409853047, intercept_stderr=1.2613814499212044)"
      ]
     },
     "execution_count": 63,
     "metadata": {},
     "output_type": "execute_result"
    }
   ],
   "source": [
    "scipy.stats.linregress(res['propionatePredicted'], res['propionateMeasured'])"
   ]
  },
  {
   "cell_type": "markdown",
   "id": "e4b612ad-ceaf-47d2-8f2f-7c3dbe300b25",
   "metadata": {},
   "source": [
    "## Save Results"
   ]
  },
  {
   "cell_type": "code",
   "execution_count": 44,
   "id": "a7fbe1e1-9c67-4e6f-94a6-fd1e975e15ef",
   "metadata": {},
   "outputs": [
    {
     "name": "stderr",
     "output_type": "stream",
     "text": [
      "/users/nbohmann/miniconda3/envs/micom2022/lib/python3.8/site-packages/plotnine/ggplot.py:718: PlotnineWarning: Saving 6.4 x 4.8 in image.\n",
      "/users/nbohmann/miniconda3/envs/micom2022/lib/python3.8/site-packages/plotnine/ggplot.py:719: PlotnineWarning: Filename: /users/nbohmann/studyAac.png\n",
      "/users/nbohmann/miniconda3/envs/micom2022/lib/python3.8/site-packages/statsmodels/regression/linear_model.py:1671: RuntimeWarning: divide by zero encountered in double_scalars\n",
      "/users/nbohmann/miniconda3/envs/micom2022/lib/python3.8/site-packages/statsmodels/regression/linear_model.py:1671: RuntimeWarning: divide by zero encountered in double_scalars\n",
      "/users/nbohmann/miniconda3/envs/micom2022/lib/python3.8/site-packages/plotnine/ggplot.py:718: PlotnineWarning: Saving 6.4 x 4.8 in image.\n",
      "/users/nbohmann/miniconda3/envs/micom2022/lib/python3.8/site-packages/plotnine/ggplot.py:719: PlotnineWarning: Filename: /users/nbohmann/studyAbut.png\n",
      "/users/nbohmann/miniconda3/envs/micom2022/lib/python3.8/site-packages/statsmodels/regression/linear_model.py:1671: RuntimeWarning: divide by zero encountered in double_scalars\n",
      "/users/nbohmann/miniconda3/envs/micom2022/lib/python3.8/site-packages/statsmodels/regression/linear_model.py:1671: RuntimeWarning: divide by zero encountered in double_scalars\n",
      "/users/nbohmann/miniconda3/envs/micom2022/lib/python3.8/site-packages/plotnine/ggplot.py:718: PlotnineWarning: Saving 6.4 x 4.8 in image.\n",
      "/users/nbohmann/miniconda3/envs/micom2022/lib/python3.8/site-packages/plotnine/ggplot.py:719: PlotnineWarning: Filename: /users/nbohmann/studyAppa.png\n",
      "/users/nbohmann/miniconda3/envs/micom2022/lib/python3.8/site-packages/statsmodels/regression/linear_model.py:1671: RuntimeWarning: divide by zero encountered in double_scalars\n",
      "/users/nbohmann/miniconda3/envs/micom2022/lib/python3.8/site-packages/statsmodels/regression/linear_model.py:1671: RuntimeWarning: divide by zero encountered in double_scalars\n"
     ]
    }
   ],
   "source": [
    "ggsave(fig1,'/users/nbohmann/studyAac.png', dpi = 300)\n",
    "ggsave(fig2,'/users/nbohmann/studyAbut.png', dpi = 300)\n",
    "ggsave(fig3,'/users/nbohmann/studyAppa.png', dpi = 300)"
   ]
  },
  {
   "cell_type": "code",
   "execution_count": null,
   "id": "fad789e8-8a17-4275-9221-cfcfde27884c",
   "metadata": {},
   "outputs": [],
   "source": [
    "fig4 = (ggplot(\n",
    "    res, aes(x = 'shannon', y = 'acetatePredicted'))\n",
    "    +geom_smooth(method = 'lm', linetype = '--')\n",
    "    +geom_point(aes(color = 'treatment'), size = 8)\n",
    "    # +geom_line(aes(groups = 'donor'))\n",
    "    +geom_smooth(aes(groups = 'treatment', color = 'treatment', fill = 'treatment'),\n",
    "                 method = 'lm', linetype = '--')\n",
    "    +geom_errorbar(aes(x = 'shannon', \n",
    "                       ymin = 'acetatePredicted - acetatePredictedSEM',\n",
    "                       ymax = 'acetatePredicted + acetatePredictedSEM'), width = .1)\n",
    "    +geom_errorbarh(aes(y = 'acetatePredicted', \n",
    "                       xmin = 'shannon - shannonSEM',\n",
    "                       xmax = 'shannon + shannonSEM'), height = 10)\n",
    "    +geom_rug(aes(color = 'treatment'),sides = 'tr', size = 2)\n",
    "    +scale_color_manual(limits = ['Control','Inulin'], \n",
    "                        values = ['cornflowerblue', 'coral'])\n",
    "    +scale_fill_manual(limits = ['Control','Inulin'], \n",
    "                       values = ['cornflowerblue', 'coral'])\n",
    "    +labs(title='',\n",
    "          x='',\n",
    "          y = '',\n",
    "          color = 'Treatment',fill = 'Treatment')\n",
    "    +theme(text = element_text(size=35, color = 'black'),panel_background=element_rect(fill = \"white\",\n",
    "                                    colour = \"white\",size = 0.5, linetype = \"solid\"),panel_grid= element_blank(),\n",
    "                                    axis_line = element_line(size = 2, linetype = \"solid\",colour = \"black\"),\n",
    "                                    legend_position='right',axis_text_x=element_text(rotation = 20, hjust = 1))\n",
    ")\n",
    "fig4"
   ]
  },
  {
   "cell_type": "code",
   "execution_count": null,
   "id": "f9fd0df7-d34c-4718-945b-f13bbdbcdbb8",
   "metadata": {},
   "outputs": [],
   "source": [
    "fig5 = (ggplot(\n",
    "    res, aes(x = 'shannon', y = 'butyratePredicted'))\n",
    "    +geom_smooth(method = 'lm', linetype = '--')\n",
    "    +geom_point(aes(color = 'treatment'), size = 8)\n",
    "    # +geom_line(aes(groups = 'donor'))\n",
    "    +geom_smooth(aes(groups = 'treatment', color = 'treatment', fill = 'treatment'),\n",
    "                 method = 'lm', linetype = '--')\n",
    "    +geom_errorbar(aes(x = 'shannon', \n",
    "                       ymin = 'butyratePredicted - butyratePredictedSEM',\n",
    "                       ymax = 'butyratePredicted + butyratePredictedSEM'), width = 0.1)\n",
    "    +geom_errorbarh(aes(y = 'butyratePredicted', \n",
    "                       xmin = 'shannon - shannonSEM',\n",
    "                       xmax = 'shannon + shannonSEM'), height = 10)\n",
    "    +geom_rug(aes(color = 'treatment'),sides = 'tr', size = 2)\n",
    "    +scale_color_manual(limits = ['Control','Inulin'], \n",
    "                        values = ['cornflowerblue', 'coral'])\n",
    "    +scale_fill_manual(limits = ['Control','Inulin'], \n",
    "                       values = ['cornflowerblue', 'coral'])\n",
    "    +labs(title='',\n",
    "          x='',\n",
    "          y = '',\n",
    "          color = 'Treatment',fill = 'Treatment')\n",
    "    +theme(text = element_text(size=35, color = 'black'),panel_background=element_rect(fill = \"white\",\n",
    "                                    colour = \"white\",size = 0.5, linetype = \"solid\"),panel_grid= element_blank(),\n",
    "                                    axis_line = element_line(size = 2, linetype = \"solid\",colour = \"black\"),\n",
    "                                    legend_position='right',axis_text_x=element_text(rotation = 20, hjust = 1))\n",
    ")\n",
    "fig5"
   ]
  },
  {
   "cell_type": "code",
   "execution_count": null,
   "id": "e692ad74-de10-4262-a60f-4d5118eb5f8b",
   "metadata": {},
   "outputs": [],
   "source": [
    "fig6 = (ggplot(\n",
    "    res, aes(x = 'shannon', y = 'propionatePredicted'))\n",
    "    +geom_smooth(method = 'lm', linetype = '--')\n",
    "    +geom_point(aes(color = 'treatment'), size = 8)\n",
    "    # +geom_line(aes(groups = 'donor'))\n",
    "    +geom_smooth(aes(groups = 'treatment', color = 'treatment', fill = 'treatment'),\n",
    "                 method = 'lm', linetype = '--')\n",
    "    +geom_errorbar(aes(x = 'shannon', \n",
    "                       ymin = 'propionatePredicted - propionatePredictedSEM',\n",
    "                       ymax = 'propionatePredicted + propionatePredictedSEM'), width = 0.1)\n",
    "    +geom_errorbarh(aes(y = 'propionatePredicted', \n",
    "                       xmin = 'shannon - shannonSEM',\n",
    "                       xmax = 'shannon + shannonSEM'), height = 10)\n",
    "    +geom_rug(aes(color = 'treatment'),sides = 'tr', size = 2)\n",
    "    +scale_color_manual(limits = ['Control','Inulin'], \n",
    "                        values = ['cornflowerblue', 'coral'])\n",
    "    +scale_fill_manual(limits = ['Control','Inulin'], \n",
    "                       values = ['cornflowerblue', 'coral'])\n",
    "    +labs(title='',\n",
    "          x='',\n",
    "          y = '',\n",
    "          color = 'Treatment',fill = 'Treatment')\n",
    "    +theme(text = element_text(size=35, color = 'black'),panel_background=element_rect(fill = \"white\",\n",
    "                                    colour = \"white\",size = 0.5, linetype = \"solid\"),panel_grid= element_blank(),\n",
    "                                    axis_line = element_line(size = 2, linetype = \"solid\",colour = \"black\"),\n",
    "                                    legend_position='right',axis_text_x=element_text(rotation = 20, hjust = 1))\n",
    ")\n",
    "fig6"
   ]
  },
  {
   "cell_type": "code",
   "execution_count": null,
   "id": "5f0fd1da-16b7-49b6-80ad-34f2395bdafc",
   "metadata": {},
   "outputs": [],
   "source": [
    "ggsave(fig4,'/users/nbohmann/studyAacDiv.png', dpi = 300)\n",
    "ggsave(fig5,'/users/nbohmann/studyAbutDiv.png', dpi = 300)\n",
    "ggsave(fig6,'/users/nbohmann/studyAppaDiv.png', dpi = 300)"
   ]
  },
  {
   "cell_type": "code",
   "execution_count": 9,
   "id": "cb8c7a36-c672-4897-b97e-30a1e8ae8042",
   "metadata": {},
   "outputs": [],
   "source": [
    "res.to_csv('/proj/gibbons/nbohmann/exvivo/gibbons_2019/studyA_genus.csv')"
   ]
  },
  {
   "cell_type": "code",
   "execution_count": null,
   "id": "d7ab4da1-1bdb-4c3c-9ec2-686b3263960b",
   "metadata": {},
   "outputs": [],
   "source": []
  }
 ],
 "metadata": {
  "kernelspec": {
   "display_name": "Python 3 (ipykernel)",
   "language": "python",
   "name": "python3"
  },
  "language_info": {
   "codemirror_mode": {
    "name": "ipython",
    "version": 3
   },
   "file_extension": ".py",
   "mimetype": "text/x-python",
   "name": "python",
   "nbconvert_exporter": "python",
   "pygments_lexer": "ipython3",
   "version": "3.8.13"
  }
 },
 "nbformat": 4,
 "nbformat_minor": 5
}
