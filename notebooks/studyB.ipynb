{
 "cells": [
  {
   "cell_type": "markdown",
   "id": "48b49c0e-427b-4359-ac33-284107a4361e",
   "metadata": {},
   "source": [
    "# Study B\n",
    "This notebook shows the full workflow for building models, simulating growth and obtaining SCFA predictions from data collected by the _ex vivo_ study conducted by the Hamaker Lab in 2021 (Study B)"
   ]
  },
  {
   "cell_type": "code",
   "execution_count": null,
   "id": "b920f8f2-2ade-455a-b738-23b97820d635",
   "metadata": {},
   "outputs": [],
   "source": [
    "import pandas as pd\n",
    "import micom\n",
    "import micom.measures\n",
    "from plotnine import *\n",
    "import scipy\n",
    "\n",
    "%matplotlib inline"
   ]
  },
  {
   "cell_type": "markdown",
   "id": "e30be5be-a803-4eba-8b4b-be0c39600a6c",
   "metadata": {},
   "source": [
    "## SCFA Flux\n",
    "Here we will gather the net SCFA production across the culturing period. The \"Measured\" columns contain the measured flux over the course of the experiment (mM/h, [T1]-[T0]/h)."
   ]
  },
  {
   "cell_type": "code",
   "execution_count": null,
   "id": "3b3d0120-6299-431b-826b-da79e874cdee",
   "metadata": {},
   "outputs": [],
   "source": [
    "scfa=pd.read_csv('../data/raw_data/studyB_original_scfas.csv', index_col = 0)\n",
    "\n",
    "scfa['donor'] = scfa.index.str.split('_').str[0]\n",
    "scfa['treatment'] = scfa.index.str.split('_').str[1].str.capitalize()\n",
    "scfa['treatment'] = scfa['treatment'].str.replace('Fos','FOS')\n",
    "\n",
    "scfa = scfa.groupby(['donor','treatment']).mean().reset_index()\n",
    "\n",
    "scfa['sample_id'] = scfa['donor']+'_'+scfa['treatment']\n",
    "scfa.set_index('sample_id', inplace = True)\n",
    "\n",
    "scfa"
   ]
  },
  {
   "cell_type": "markdown",
   "id": "c085fa2c-96a3-4bf8-ba21-e45b11161b71",
   "metadata": {},
   "source": [
    "## Taxonomy Table\n",
    "Next, we will read in abundance data for all samples. We will convert this into a taxnomy table to use in MICOM"
   ]
  },
  {
   "cell_type": "code",
   "execution_count": null,
   "id": "7cd457fa-8014-42de-b173-598c00e9c830",
   "metadata": {},
   "outputs": [],
   "source": [
    "abundance = pd.read_csv('../data/raw_data/studyB_original_abundance.csv', index_col = 0) # Load the abundance\n",
    "abundance['donor'] = abundance['donor'].astype('str')\n",
    "abundance['sample_id'] = abundance[['treatment_II_B','donor']].agg(\n",
    "    '_'.join, axis=1) # Join the treatment and donor into sample ID\n",
    "abundance = abundance.drop(columns = ['treatment_II_B','donor'])\n",
    "abundance.set_index('sample_id',inplace = True)\n",
    "abundance = abundance.sort_index() #sort the index in order\n",
    "abundance = abundance[~abundance.index.str.contains('II_')] # Remove the treatment without SCFA measurements\n",
    "abundance.reset_index(inplace = True)\n",
    "vals = abundance.groupby(abundance['sample_id']).cumcount().values# add replicate number\n",
    "abundance['sample_id'] = (abundance['sample_id']+'_'+ (vals+1).astype(str))\n",
    "abundance = pd.melt(abundance,\n",
    "                    id_vars = 'sample_id', \n",
    "                    value_vars = abundance.columns[1:], \n",
    "                    var_name = 'id', \n",
    "                    value_name = 'abundance') #melt into taxonomy table \n",
    "abundance['id'] = (abundance['id'].\n",
    "                   str.replace('k__','').\n",
    "                   str.replace('p__','').\n",
    "                   str.replace('c__','').\n",
    "                   str.replace('o__','').\n",
    "                   str.replace('f__','').\n",
    "                   str.replace('g__','').\n",
    "                   str.replace('s__','')) # replace leading taxonomic identifiers\n",
    "abundance['genus'] = abundance['id'].str.split(';').str[-2]\n",
    "abundance = abundance[(abundance['sample_id'].str.contains('Blank'))|\n",
    "                      (abundance['sample_id'].str.contains('Pectin'))|\n",
    "                      (abundance['sample_id'].str.contains('FOS'))] # isolate treatment samples\n",
    "abundance['id'] = abundance['genus']\n",
    "abundance = abundance.groupby(['sample_id','id','genus']).sum().reset_index().dropna() # sum duplicates\n",
    "table = pd.pivot_table(abundance, \n",
    "               index = 'sample_id',\n",
    "               columns = 'genus',\n",
    "               values = 'abundance').fillna(0.0) # build abundance matrix\n",
    "abundance"
   ]
  },
  {
   "cell_type": "markdown",
   "id": "a001380f-a582-4eb8-be06-0771876a7090",
   "metadata": {},
   "source": [
    "## Build Models\n",
    "Now, we'll build our models, with cutoff of 0.001"
   ]
  },
  {
   "cell_type": "code",
   "execution_count": null,
   "id": "1bf546b6-6b34-4ffa-86ff-dcdb0e309c2f",
   "metadata": {},
   "outputs": [],
   "source": [
    "manifest = micom.workflows.build(abundance,\n",
    "                                 out_folder = '../models/studyB',\n",
    "                                 model_db = '../agora103_genus.qza',\n",
    "                                 cutoff = 0.001, \n",
    "                                 threads = 10)"
   ]
  },
  {
   "cell_type": "markdown",
   "id": "0e69409c-43a9-433d-8f9b-86a925661285",
   "metadata": {},
   "source": [
    "## Load Medium\n",
    "Load in the study-specific carbon-stripped European Diet with dilution-adjusted residual fiber, and construct the intervention diets by augmenting with FOS and pectin"
   ]
  },
  {
   "cell_type": "code",
   "execution_count": null,
   "id": "0aca55a9-eb66-4b8e-9241-060118d83cb5",
   "metadata": {},
   "outputs": [],
   "source": [
    "medium = pd.read_csv('../media/studyBmedium.csv')\n",
    "\n",
    "controlMedium = medium\n",
    "\n",
    "pectMedium = pd.concat([medium,\n",
    "                           pd.DataFrame({'reaction':['EX_pect_m'],\n",
    "                                         'flux':[1]\n",
    "                                        })]) \n",
    "fosMedium = pd.concat([medium,\n",
    "                           pd.DataFrame({'reaction':['EX_kestopt_m', 'EX_kestottr_m', 'EX_kesto_m'],\n",
    "                                         'flux':[100,100,100]\n",
    "                                        })])"
   ]
  },
  {
   "cell_type": "markdown",
   "id": "54f08959-4fa1-457c-9d6e-f75d374053f0",
   "metadata": {},
   "source": [
    "## Grow Models\n",
    "Now we'll grow the samples using the respective media we constructed"
   ]
  },
  {
   "cell_type": "code",
   "execution_count": null,
   "id": "e0e1038c-ab03-48bd-aca4-3635037bb1c2",
   "metadata": {},
   "outputs": [],
   "source": [
    "manifest = pd.read_csv('../models/studyB/manifest.csv')\n",
    "controlManifest = manifest[manifest.sample_id.str.startswith('Blank')]\n",
    "pectManifest = manifest[manifest.sample_id.str.startswith('Pect')]\n",
    "fosManifest = manifest[manifest.sample_id.str.startswith('FOS')]\n",
    "controlGrowth = micom.workflows.grow(controlManifest,\n",
    "                                     '../models/studyB/',\n",
    "                                     medium=controlMedium,\n",
    "                                     tradeoff= 0.7, \n",
    "                                     strategy='none',\n",
    "                                     threads = 10)\n",
    "\n",
    "pectGrowth = micom.workflows.grow(pectManifest,\n",
    "                                  '../models/studyB/',\n",
    "                                  medium = pectMedium, \n",
    "                                  tradeoff = 0.7,\n",
    "                                  strategy = 'none',\n",
    "                                  threads = 10)\n",
    "\n",
    "fosGrowth = micom.workflows.grow(fosManifest,\n",
    "                                     '../models/studyB/',\n",
    "                                     medium=fosMedium,\n",
    "                                     tradeoff=0.7, \n",
    "                                     strategy='none',\n",
    "                                     threads = 10)"
   ]
  },
  {
   "cell_type": "markdown",
   "id": "178398fb-ed95-4b92-8d5b-f222f5e1f3a3",
   "metadata": {},
   "source": [
    "## Compare SCFA Fluxes\n",
    "We can now extract the production fluxes of SCFAs from each growth simulation, and construct a dataframe with both measured and predicted production rates."
   ]
  },
  {
   "cell_type": "code",
   "execution_count": null,
   "id": "87267651-8a35-4d31-ab2d-a36c3d31bd10",
   "metadata": {},
   "outputs": [],
   "source": [
    "controlProduction = micom.measures.production_rates(controlGrowth) # Calculate production rates\n",
    "pectinProduction = micom.measures.production_rates(pectGrowth)\n",
    "fosProduction = micom.measures.production_rates(fosGrowth)\n",
    "\n",
    "\n",
    "production = pd.concat([controlProduction,\n",
    "                        pectinProduction, \n",
    "                        fosProduction]) # concatenate results \n",
    "res = production[(production['name']==('butyrate'))|\n",
    "                 (production['name']==('acetate'))|\n",
    "                 (production['name']==('propionate'))] # filter to SCFA production \n",
    "res = pd.pivot(res, index = 'sample_id',\n",
    "                    columns = 'name',\n",
    "                    values = 'flux') # pivot data\n",
    "res.rename(columns = {'acetate':'acetatePredicted',\n",
    "                      'butyrate':'butyratePredicted',\n",
    "                      'propionate':'propionatePredicted'\n",
    "                      }, inplace = True # rename columns for clarity \n",
    "          )\n",
    "\n",
    "res['donor'] = res.index.str.split('_').str[1]\n",
    "res['treatment'] = res.index.str.split('_').str[0]\n",
    "res = res.groupby(['donor','treatment']).mean().reset_index()\n",
    "res['sample_id'] = res['donor']+'_'+res['treatment']\n",
    "res.set_index('sample_id', inplace = True)\n",
    "res = pd.concat([res, scfa], axis = 1)\n",
    "res = res.loc[:,~res.columns.duplicated()].copy()\n",
    "res['treatment'] = res['treatment'].str.replace('Blank','Control')\n",
    "res"
   ]
  },
  {
   "cell_type": "markdown",
   "id": "62633226-1950-48ae-8e1e-49161af2bbf4",
   "metadata": {},
   "source": [
    "## Plot Results\n",
    "Finally, we'll plot predicted vs measured fluxes against each other"
   ]
  },
  {
   "cell_type": "code",
   "execution_count": null,
   "id": "68afa49f-080b-4232-932d-9fd7e961ee42",
   "metadata": {},
   "outputs": [],
   "source": [
    "fig1 = (ggplot(\n",
    "    res, aes(x = 'butyrateMeasured', y = 'butyratePredicted'))\n",
    "    +geom_smooth(method = 'lm', linetype = '--')\n",
    "    +geom_point(aes(color = 'treatment'), size = 8)\n",
    "    +scale_color_manual(limits = ['Control','Pectin', 'FOS'], \n",
    "                        values = ['cornflowerblue', 'mediumseagreen', 'purple'])\n",
    "    +labs(title='Butyrate',\n",
    "          x='Measured Butyrate (mmol/L/h)',\n",
    "          y = 'Predicted Butyrate (mmol/gDW/h)',\n",
    "          color = 'Treatment')\n",
    "    +theme(text = element_text(size=35, color = 'black'),panel_background=element_rect(fill = \"white\",\n",
    "                                    colour = \"white\",size = 0.5, linetype = \"solid\"),panel_grid= element_blank(),\n",
    "                                    axis_line = element_line(size = 2, linetype = \"solid\",colour = \"black\"),\n",
    "                                    legend_position='right',axis_text_x=element_text(rotation = 20, hjust = 1))\n",
    ")\n",
    "fig1"
   ]
  },
  {
   "cell_type": "code",
   "execution_count": null,
   "id": "633e2cf4-9b7d-430c-a1a8-2284ae4ccb9e",
   "metadata": {},
   "outputs": [],
   "source": [
    "scipy.stats.linregress(res['butyratePredicted'],\n",
    "                       res['butyrateMeasured'])"
   ]
  },
  {
   "cell_type": "code",
   "execution_count": null,
   "id": "ec74b217-f966-4cfe-9233-cff77ae8b7a5",
   "metadata": {},
   "outputs": [],
   "source": [
    "fig2 = (ggplot(\n",
    "    res, aes(x = 'propionateMeasured', y = 'propionatePredicted'))\n",
    "    +geom_smooth(method = 'lm', linetype = '--')\n",
    "    +geom_point(aes(color = 'treatment'), size = 8)\n",
    "    +scale_color_manual(limits = ['Control','Pectin', 'FOS'], \n",
    "                        values = ['cornflowerblue', 'mediumseagreen', 'purple'])\n",
    "    +labs(title='Propionate',\n",
    "          x='Measured Propionate (mmol/L/h)',\n",
    "          y = 'Predicted Propionate (mmol/gDW/h)',\n",
    "          color = 'Treatment')\n",
    "    +theme(text = element_text(size=35, color = 'black'),panel_background=element_rect(fill = \"white\",\n",
    "                                    colour = \"white\",size = 0.5, linetype = \"solid\"),panel_grid= element_blank(),\n",
    "                                    axis_line = element_line(size = 2, linetype = \"solid\",colour = \"black\"),\n",
    "                                    legend_position='right',axis_text_x=element_text(rotation = 20, hjust = 1))\n",
    ")\n",
    "fig2"
   ]
  },
  {
   "cell_type": "code",
   "execution_count": null,
   "id": "13a60e33-5048-4bef-a972-cb2fe5fd9b42",
   "metadata": {},
   "outputs": [],
   "source": [
    "scipy.stats.linregress(res['propionatePredicted'],\n",
    "                       res['propionateMeasured'])"
   ]
  },
  {
   "cell_type": "markdown",
   "id": "f3677eea-9434-4394-a5c5-0387747e9fdf",
   "metadata": {},
   "source": [
    "## Save all results"
   ]
  },
  {
   "cell_type": "code",
   "execution_count": null,
   "id": "b5b9e0e7-ad99-46fe-8c83-5a76d11e022f",
   "metadata": {},
   "outputs": [],
   "source": [
    "res.to_csv('../results/studyB.csv')"
   ]
  },
  {
   "cell_type": "code",
   "execution_count": null,
   "id": "4616836e-e7e3-489f-81bd-e88f55acbd09",
   "metadata": {},
   "outputs": [],
   "source": []
  }
 ],
 "metadata": {
  "kernelspec": {
   "display_name": "Python 3 (ipykernel)",
   "language": "python",
   "name": "python3"
  },
  "language_info": {
   "codemirror_mode": {
    "name": "ipython",
    "version": 3
   },
   "file_extension": ".py",
   "mimetype": "text/x-python",
   "name": "python",
   "nbconvert_exporter": "python",
   "pygments_lexer": "ipython3",
   "version": "3.8.13"
  }
 },
 "nbformat": 4,
 "nbformat_minor": 5
}
