{
 "cells": [
  {
   "cell_type": "markdown",
   "id": "fabe14a7-9e55-4441-ade9-08b8fa111527",
   "metadata": {},
   "source": [
    "## Here we'll build all the figures for the manuscriptusing the saved results from each notebook"
   ]
  },
  {
   "cell_type": "code",
   "execution_count": 2,
   "id": "ce49b4aa-8d5c-4e0c-8bea-5d914353bb9d",
   "metadata": {},
   "outputs": [],
   "source": [
    "import os \n",
    "import pandas as pd\n",
    "import scipy.stats\n",
    "import numpy as np\n",
    "import statsmodels\n",
    "import seaborn as sns\n",
    "from plotnine import *\n",
    "import plotly.express as px\n",
    "\n",
    "%matplotlib inline"
   ]
  },
  {
   "cell_type": "markdown",
   "id": "f00b7bbf-dce1-4487-89b5-62069d6b8594",
   "metadata": {
    "tags": []
   },
   "source": [
    "## Synthetic Coms"
   ]
  },
  {
   "cell_type": "code",
   "execution_count": null,
   "id": "38dd2272-da8a-4d92-8a48-d6814150d3a2",
   "metadata": {},
   "outputs": [],
   "source": [
    "small_coms = pd.read_csv('../results/\n",
    "\n",
    "but_small = coms_small[coms_small.metabolite.str.contains('but')]\n",
    "ac_small = coms_small[coms_small.metabolite.str.contains('ac')]\n",
    "but_big = coms_big[coms_big.metabolite.str.contains('but')]\n",
    "ac_big = coms_big[coms_big.metabolite.str.contains('ac')]"
   ]
  },
  {
   "cell_type": "code",
   "execution_count": null,
   "id": "eeaa930d-54b7-4caa-bd65-cf1f22e8ba10",
   "metadata": {},
   "outputs": [],
   "source": [
    "fig_1 = px.scatter(but_small, \n",
    "                x = 'measured',\n",
    "                y = 'predicted', \n",
    "                trendline = 'ols',\n",
    "                color_discrete_sequence = ['cadetblue'],\n",
    "                trendline_color_override = \"black\",\n",
    "                template = 'plotly_white',\n",
    "                labels={\n",
    "                     \"predicted\": \"\",\n",
    "                     \"measured\": \"\"\n",
    "                },\n",
    "                title = \"Butyrate\",\n",
    "                width=700, height=600)\n",
    "fig_1.update_layout(font = dict(size = 24))\n",
    "fig_1.update_xaxes(showgrid=False, zeroline=False)\n",
    "fig_1.update_yaxes(showgrid=False, zeroline=False)"
   ]
  },
  {
   "cell_type": "code",
   "execution_count": null,
   "id": "28f8080c-e1ab-47ab-a94c-0e932776cd99",
   "metadata": {},
   "outputs": [],
   "source": [
    "fig_2 = px.scatter(but_big, \n",
    "                x = 'measured',\n",
    "                y = 'predicted', \n",
    "                trendline = 'ols',\n",
    "                color_discrete_sequence = ['cadetblue'],\n",
    "                trendline_color_override = \"black\",\n",
    "                template = 'plotly_white',\n",
    "                labels={\n",
    "                     \"predicted\": \"\",\n",
    "                     \"measured\": \"\"\n",
    "                },\n",
    "                title = \"Butyrate\",\n",
    "                width=700, height=600)\n",
    "fig_2.update_layout(font = dict(size = 24))\n",
    "fig_2.update_xaxes(showgrid=False, zeroline=False)\n",
    "fig_2.update_yaxes(showgrid=False, zeroline=False)"
   ]
  },
  {
   "cell_type": "code",
   "execution_count": null,
   "id": "2a36cab4-d414-47d3-97fd-5c297343eba1",
   "metadata": {},
   "outputs": [],
   "source": [
    "fig_1.write_image('/users/nbohmann/gibbons_ppa.png', scale = 2)\n",
    "fig_2.write_image('/users/nbohmann/gibbons_but.png', scale = 2)"
   ]
  },
  {
   "cell_type": "markdown",
   "id": "70aaf8eb-52aa-4812-b30c-dfc7b578cb43",
   "metadata": {
    "jp-MarkdownHeadingCollapsed": true,
    "tags": []
   },
   "source": [
    "## Ex Vivos"
   ]
  },
  {
   "cell_type": "markdown",
   "id": "a51c9145-bc5e-415c-86f8-81b95e0bc749",
   "metadata": {},
   "source": [
    "### First we'll define the colors we want to use for each treatment"
   ]
  },
  {
   "cell_type": "code",
   "execution_count": 9,
   "id": "dc8fa217-9733-4aea-9fb4-d4dfcb84c79e",
   "metadata": {},
   "outputs": [],
   "source": [
    "color_discrete_map={\"Control\": \"cornflowerblue\",\n",
    "                    \"Inulin\": \"coral\",\n",
    "                    \"Pectin\": \"mediumseagreen\"}"
   ]
  },
  {
   "cell_type": "markdown",
   "id": "320eda8d-982f-426b-981a-9b7662022ef4",
   "metadata": {
    "tags": []
   },
   "source": [
    "### Study A"
   ]
  },
  {
   "cell_type": "code",
   "execution_count": 11,
   "id": "289bd7c9-5c17-4ffe-b457-54212e32700b",
   "metadata": {},
   "outputs": [],
   "source": [
    "study_a = pd.read_csv('../results/studyA.csv', index_col = 0)\n",
    "study_a['treatment'] = study_a['treatment'].str.replace('PBS','Control').str.replace('inulin','Inulin')"
   ]
  },
  {
   "cell_type": "code",
   "execution_count": 12,
   "id": "0ecb75b2-8df8-4693-8a6f-dec166281056",
   "metadata": {},
   "outputs": [
    {
     "data": {
      "application/vnd.plotly.v1+json": {
       "config": {
        "plotlyServerURL": "https://plot.ly"
       },
       "data": [
        {
         "error_x": {
          "array": [
           0.0239613753303983,
           0.0034366568386696
          ]
         },
         "error_y": {
          "array": [
           0.0986385173631236,
           0.1167959231054235
          ],
          "width": 15
         },
         "hovertemplate": "Treatment=Control<br>=%{y}<extra></extra>",
         "legendgroup": "Control",
         "marker": {
          "color": "cornflowerblue",
          "size": 8,
          "symbol": "circle"
         },
         "mode": "markers",
         "name": "Control",
         "orientation": "v",
         "showlegend": true,
         "type": "scatter",
         "x": [
          0.1538876889848812,
          0.3404727621790257
         ],
         "xaxis": "x",
         "y": [
          1.4081155896548534,
          3.193666282321734
         ],
         "yaxis": "y"
        },
        {
         "alignmentgroup": "True",
         "boxpoints": "all",
         "fillcolor": "rgba(255,255,255,0)",
         "hoveron": "points",
         "hovertemplate": "Treatment=Control<br>=%{x}<extra></extra>",
         "jitter": 0,
         "legendgroup": "Control",
         "line": {
          "color": "rgba(255,255,255,0)"
         },
         "marker": {
          "color": "cornflowerblue",
          "line": {
           "width": 3
          },
          "size": 27,
          "symbol": "line-ns-open"
         },
         "name": "Control",
         "offsetgroup": "Control",
         "showlegend": false,
         "type": "box",
         "x": [
          0.1538876889848812,
          0.3404727621790257
         ],
         "xaxis": "x3",
         "yaxis": "y3"
        },
        {
         "alignmentgroup": "True",
         "boxpoints": "all",
         "fillcolor": "rgba(255,255,255,0)",
         "hoveron": "points",
         "hovertemplate": "Treatment=Control<br>=%{y}<extra></extra>",
         "jitter": 0,
         "legendgroup": "Control",
         "line": {
          "color": "rgba(255,255,255,0)"
         },
         "marker": {
          "color": "cornflowerblue",
          "line": {
           "width": 3
          },
          "size": 15,
          "symbol": "line-ew-open"
         },
         "name": "Control",
         "offsetgroup": "Control",
         "showlegend": false,
         "type": "box",
         "xaxis": "x2",
         "y": [
          1.4081155896548534,
          3.193666282321734
         ],
         "yaxis": "y2"
        },
        {
         "error_x": {
          "array": [
           0.0271384004952652,
           0.0643857452360249
          ]
         },
         "error_y": {
          "array": [
           2.5171447086595906,
           0.9376654895968304
          ],
          "width": 15
         },
         "hovertemplate": "Treatment=Inulin<br>=%{y}<extra></extra>",
         "legendgroup": "Inulin",
         "marker": {
          "color": "coral",
          "size": 8,
          "symbol": "circle"
         },
         "mode": "markers",
         "name": "Inulin",
         "orientation": "v",
         "showlegend": true,
         "type": "scatter",
         "x": [
          1.2967212622990163,
          1.939344852411807
         ],
         "xaxis": "x",
         "y": [
          79.76248638332198,
          99.13767227327058
         ],
         "yaxis": "y"
        },
        {
         "alignmentgroup": "True",
         "boxpoints": "all",
         "fillcolor": "rgba(255,255,255,0)",
         "hoveron": "points",
         "hovertemplate": "Treatment=Inulin<br>=%{x}<extra></extra>",
         "jitter": 0,
         "legendgroup": "Inulin",
         "line": {
          "color": "rgba(255,255,255,0)"
         },
         "marker": {
          "color": "coral",
          "line": {
           "width": 3
          },
          "size": 15,
          "symbol": "line-ns-open"
         },
         "name": "Inulin",
         "offsetgroup": "Inulin",
         "showlegend": false,
         "type": "box",
         "x": [
          1.2967212622990163,
          1.939344852411807
         ],
         "xaxis": "x3",
         "y": [
          40,
          40,
          40,
          40,
          40,
          40,
          40,
          40,
          40,
          40
         ],
         "yaxis": "y3"
        },
        {
         "alignmentgroup": "True",
         "boxpoints": "all",
         "fillcolor": "rgba(255,255,255,0)",
         "hoveron": "points",
         "hovertemplate": "Treatment=Inulin<br>=%{y}<extra></extra>",
         "jitter": 0,
         "legendgroup": "Inulin",
         "line": {
          "color": "rgba(255,255,255,0)"
         },
         "marker": {
          "color": "coral",
          "line": {
           "width": 3
          },
          "size": 15,
          "symbol": "line-ew-open"
         },
         "name": "Inulin",
         "offsetgroup": "Inulin",
         "showlegend": false,
         "type": "box",
         "x": [
          2,
          2,
          2,
          2,
          2,
          2,
          2,
          2,
          2,
          2
         ],
         "xaxis": "x2",
         "y": [
          79.76248638332198,
          99.13767227327058
         ],
         "yaxis": "y2"
        },
        {
         "hovertemplate": "<b>OLS trendline</b><br>flux-predicted_propionate = 59.8446 * flux_propionate + -9.93597<br>R<sup>2</sup>=0.967603<br><br>=%{y} <b>(trend)</b><extra></extra>",
         "legendgroup": "Overall Trendline",
         "line": {
          "color": "black"
         },
         "mode": "lines",
         "name": "Overall Trendline",
         "showlegend": false,
         "type": "scatter",
         "x": [
          0.1538876889848812,
          0.3404727621790257,
          1.2967212622990163,
          1.939344852411807
         ],
         "xaxis": "x",
         "y": [
          -0.7266282496515011,
          10.439478223819354,
          67.6657739003575,
          106.12331665404386
         ],
         "yaxis": "y"
        },
        {
         "hovertemplate": "<b>OLS trendline</b><br>flux-predicted_propionate = 59.8446 * flux_propionate + -9.93597<br>R<sup>2</sup>=0.967603<br><br>=%{y} <b>(trend)</b><extra></extra>",
         "legendgroup": "Overall Trendline",
         "line": {
          "color": "black",
          "width": 0
         },
         "mode": "lines",
         "name": "Overall Trendline",
         "showlegend": false,
         "type": "scatter",
         "x": [
          0.1538876889848812,
          0.3404727621790257,
          1.2967212622990163,
          1.939344852411807
         ],
         "xaxis": "x2",
         "y": [
          -0.7266282496515011,
          10.439478223819354,
          67.6657739003575,
          106.12331665404386
         ],
         "yaxis": "y2"
        },
        {
         "hovertemplate": "<b>OLS trendline</b><br>flux-predicted_propionate = 59.8446 * flux_propionate + -9.93597<br>R<sup>2</sup>=0.967603<br><br>=%{y} <b>(trend)</b><extra></extra>",
         "legendgroup": "Overall Trendline",
         "line": {
          "color": "black",
          "width": 0
         },
         "mode": "lines",
         "name": "Overall Trendline",
         "showlegend": true,
         "type": "scatter",
         "x": [
          0.1538876889848812,
          0.3404727621790257,
          1.2967212622990163,
          1.939344852411807
         ],
         "xaxis": "x3",
         "y": [
          -0.7266282496515011,
          10.439478223819354,
          67.6657739003575,
          106.12331665404386
         ],
         "yaxis": "y3"
        }
       ],
       "layout": {
        "font": {
         "size": 24
        },
        "height": 600,
        "legend": {
         "title": {
          "text": "Treatment"
         },
         "tracegroupgap": 0
        },
        "template": {
         "data": {
          "bar": [
           {
            "error_x": {
             "color": "#2a3f5f"
            },
            "error_y": {
             "color": "#2a3f5f"
            },
            "marker": {
             "line": {
              "color": "white",
              "width": 0.5
             },
             "pattern": {
              "fillmode": "overlay",
              "size": 10,
              "solidity": 0.2
             }
            },
            "type": "bar"
           }
          ],
          "barpolar": [
           {
            "marker": {
             "line": {
              "color": "white",
              "width": 0.5
             },
             "pattern": {
              "fillmode": "overlay",
              "size": 10,
              "solidity": 0.2
             }
            },
            "type": "barpolar"
           }
          ],
          "carpet": [
           {
            "aaxis": {
             "endlinecolor": "#2a3f5f",
             "gridcolor": "#C8D4E3",
             "linecolor": "#C8D4E3",
             "minorgridcolor": "#C8D4E3",
             "startlinecolor": "#2a3f5f"
            },
            "baxis": {
             "endlinecolor": "#2a3f5f",
             "gridcolor": "#C8D4E3",
             "linecolor": "#C8D4E3",
             "minorgridcolor": "#C8D4E3",
             "startlinecolor": "#2a3f5f"
            },
            "type": "carpet"
           }
          ],
          "choropleth": [
           {
            "colorbar": {
             "outlinewidth": 0,
             "ticks": ""
            },
            "type": "choropleth"
           }
          ],
          "contour": [
           {
            "colorbar": {
             "outlinewidth": 0,
             "ticks": ""
            },
            "colorscale": [
             [
              0,
              "#0d0887"
             ],
             [
              0.1111111111111111,
              "#46039f"
             ],
             [
              0.2222222222222222,
              "#7201a8"
             ],
             [
              0.3333333333333333,
              "#9c179e"
             ],
             [
              0.4444444444444444,
              "#bd3786"
             ],
             [
              0.5555555555555556,
              "#d8576b"
             ],
             [
              0.6666666666666666,
              "#ed7953"
             ],
             [
              0.7777777777777778,
              "#fb9f3a"
             ],
             [
              0.8888888888888888,
              "#fdca26"
             ],
             [
              1,
              "#f0f921"
             ]
            ],
            "type": "contour"
           }
          ],
          "contourcarpet": [
           {
            "colorbar": {
             "outlinewidth": 0,
             "ticks": ""
            },
            "type": "contourcarpet"
           }
          ],
          "heatmap": [
           {
            "colorbar": {
             "outlinewidth": 0,
             "ticks": ""
            },
            "colorscale": [
             [
              0,
              "#0d0887"
             ],
             [
              0.1111111111111111,
              "#46039f"
             ],
             [
              0.2222222222222222,
              "#7201a8"
             ],
             [
              0.3333333333333333,
              "#9c179e"
             ],
             [
              0.4444444444444444,
              "#bd3786"
             ],
             [
              0.5555555555555556,
              "#d8576b"
             ],
             [
              0.6666666666666666,
              "#ed7953"
             ],
             [
              0.7777777777777778,
              "#fb9f3a"
             ],
             [
              0.8888888888888888,
              "#fdca26"
             ],
             [
              1,
              "#f0f921"
             ]
            ],
            "type": "heatmap"
           }
          ],
          "heatmapgl": [
           {
            "colorbar": {
             "outlinewidth": 0,
             "ticks": ""
            },
            "colorscale": [
             [
              0,
              "#0d0887"
             ],
             [
              0.1111111111111111,
              "#46039f"
             ],
             [
              0.2222222222222222,
              "#7201a8"
             ],
             [
              0.3333333333333333,
              "#9c179e"
             ],
             [
              0.4444444444444444,
              "#bd3786"
             ],
             [
              0.5555555555555556,
              "#d8576b"
             ],
             [
              0.6666666666666666,
              "#ed7953"
             ],
             [
              0.7777777777777778,
              "#fb9f3a"
             ],
             [
              0.8888888888888888,
              "#fdca26"
             ],
             [
              1,
              "#f0f921"
             ]
            ],
            "type": "heatmapgl"
           }
          ],
          "histogram": [
           {
            "marker": {
             "pattern": {
              "fillmode": "overlay",
              "size": 10,
              "solidity": 0.2
             }
            },
            "type": "histogram"
           }
          ],
          "histogram2d": [
           {
            "colorbar": {
             "outlinewidth": 0,
             "ticks": ""
            },
            "colorscale": [
             [
              0,
              "#0d0887"
             ],
             [
              0.1111111111111111,
              "#46039f"
             ],
             [
              0.2222222222222222,
              "#7201a8"
             ],
             [
              0.3333333333333333,
              "#9c179e"
             ],
             [
              0.4444444444444444,
              "#bd3786"
             ],
             [
              0.5555555555555556,
              "#d8576b"
             ],
             [
              0.6666666666666666,
              "#ed7953"
             ],
             [
              0.7777777777777778,
              "#fb9f3a"
             ],
             [
              0.8888888888888888,
              "#fdca26"
             ],
             [
              1,
              "#f0f921"
             ]
            ],
            "type": "histogram2d"
           }
          ],
          "histogram2dcontour": [
           {
            "colorbar": {
             "outlinewidth": 0,
             "ticks": ""
            },
            "colorscale": [
             [
              0,
              "#0d0887"
             ],
             [
              0.1111111111111111,
              "#46039f"
             ],
             [
              0.2222222222222222,
              "#7201a8"
             ],
             [
              0.3333333333333333,
              "#9c179e"
             ],
             [
              0.4444444444444444,
              "#bd3786"
             ],
             [
              0.5555555555555556,
              "#d8576b"
             ],
             [
              0.6666666666666666,
              "#ed7953"
             ],
             [
              0.7777777777777778,
              "#fb9f3a"
             ],
             [
              0.8888888888888888,
              "#fdca26"
             ],
             [
              1,
              "#f0f921"
             ]
            ],
            "type": "histogram2dcontour"
           }
          ],
          "mesh3d": [
           {
            "colorbar": {
             "outlinewidth": 0,
             "ticks": ""
            },
            "type": "mesh3d"
           }
          ],
          "parcoords": [
           {
            "line": {
             "colorbar": {
              "outlinewidth": 0,
              "ticks": ""
             }
            },
            "type": "parcoords"
           }
          ],
          "pie": [
           {
            "automargin": true,
            "type": "pie"
           }
          ],
          "scatter": [
           {
            "fillpattern": {
             "fillmode": "overlay",
             "size": 10,
             "solidity": 0.2
            },
            "type": "scatter"
           }
          ],
          "scatter3d": [
           {
            "line": {
             "colorbar": {
              "outlinewidth": 0,
              "ticks": ""
             }
            },
            "marker": {
             "colorbar": {
              "outlinewidth": 0,
              "ticks": ""
             }
            },
            "type": "scatter3d"
           }
          ],
          "scattercarpet": [
           {
            "marker": {
             "colorbar": {
              "outlinewidth": 0,
              "ticks": ""
             }
            },
            "type": "scattercarpet"
           }
          ],
          "scattergeo": [
           {
            "marker": {
             "colorbar": {
              "outlinewidth": 0,
              "ticks": ""
             }
            },
            "type": "scattergeo"
           }
          ],
          "scattergl": [
           {
            "marker": {
             "colorbar": {
              "outlinewidth": 0,
              "ticks": ""
             }
            },
            "type": "scattergl"
           }
          ],
          "scattermapbox": [
           {
            "marker": {
             "colorbar": {
              "outlinewidth": 0,
              "ticks": ""
             }
            },
            "type": "scattermapbox"
           }
          ],
          "scatterpolar": [
           {
            "marker": {
             "colorbar": {
              "outlinewidth": 0,
              "ticks": ""
             }
            },
            "type": "scatterpolar"
           }
          ],
          "scatterpolargl": [
           {
            "marker": {
             "colorbar": {
              "outlinewidth": 0,
              "ticks": ""
             }
            },
            "type": "scatterpolargl"
           }
          ],
          "scatterternary": [
           {
            "marker": {
             "colorbar": {
              "outlinewidth": 0,
              "ticks": ""
             }
            },
            "type": "scatterternary"
           }
          ],
          "surface": [
           {
            "colorbar": {
             "outlinewidth": 0,
             "ticks": ""
            },
            "colorscale": [
             [
              0,
              "#0d0887"
             ],
             [
              0.1111111111111111,
              "#46039f"
             ],
             [
              0.2222222222222222,
              "#7201a8"
             ],
             [
              0.3333333333333333,
              "#9c179e"
             ],
             [
              0.4444444444444444,
              "#bd3786"
             ],
             [
              0.5555555555555556,
              "#d8576b"
             ],
             [
              0.6666666666666666,
              "#ed7953"
             ],
             [
              0.7777777777777778,
              "#fb9f3a"
             ],
             [
              0.8888888888888888,
              "#fdca26"
             ],
             [
              1,
              "#f0f921"
             ]
            ],
            "type": "surface"
           }
          ],
          "table": [
           {
            "cells": {
             "fill": {
              "color": "#EBF0F8"
             },
             "line": {
              "color": "white"
             }
            },
            "header": {
             "fill": {
              "color": "#C8D4E3"
             },
             "line": {
              "color": "white"
             }
            },
            "type": "table"
           }
          ]
         },
         "layout": {
          "annotationdefaults": {
           "arrowcolor": "#2a3f5f",
           "arrowhead": 0,
           "arrowwidth": 1
          },
          "autotypenumbers": "strict",
          "coloraxis": {
           "colorbar": {
            "outlinewidth": 0,
            "ticks": ""
           }
          },
          "colorscale": {
           "diverging": [
            [
             0,
             "#8e0152"
            ],
            [
             0.1,
             "#c51b7d"
            ],
            [
             0.2,
             "#de77ae"
            ],
            [
             0.3,
             "#f1b6da"
            ],
            [
             0.4,
             "#fde0ef"
            ],
            [
             0.5,
             "#f7f7f7"
            ],
            [
             0.6,
             "#e6f5d0"
            ],
            [
             0.7,
             "#b8e186"
            ],
            [
             0.8,
             "#7fbc41"
            ],
            [
             0.9,
             "#4d9221"
            ],
            [
             1,
             "#276419"
            ]
           ],
           "sequential": [
            [
             0,
             "#0d0887"
            ],
            [
             0.1111111111111111,
             "#46039f"
            ],
            [
             0.2222222222222222,
             "#7201a8"
            ],
            [
             0.3333333333333333,
             "#9c179e"
            ],
            [
             0.4444444444444444,
             "#bd3786"
            ],
            [
             0.5555555555555556,
             "#d8576b"
            ],
            [
             0.6666666666666666,
             "#ed7953"
            ],
            [
             0.7777777777777778,
             "#fb9f3a"
            ],
            [
             0.8888888888888888,
             "#fdca26"
            ],
            [
             1,
             "#f0f921"
            ]
           ],
           "sequentialminus": [
            [
             0,
             "#0d0887"
            ],
            [
             0.1111111111111111,
             "#46039f"
            ],
            [
             0.2222222222222222,
             "#7201a8"
            ],
            [
             0.3333333333333333,
             "#9c179e"
            ],
            [
             0.4444444444444444,
             "#bd3786"
            ],
            [
             0.5555555555555556,
             "#d8576b"
            ],
            [
             0.6666666666666666,
             "#ed7953"
            ],
            [
             0.7777777777777778,
             "#fb9f3a"
            ],
            [
             0.8888888888888888,
             "#fdca26"
            ],
            [
             1,
             "#f0f921"
            ]
           ]
          },
          "colorway": [
           "#636efa",
           "#EF553B",
           "#00cc96",
           "#ab63fa",
           "#FFA15A",
           "#19d3f3",
           "#FF6692",
           "#B6E880",
           "#FF97FF",
           "#FECB52"
          ],
          "font": {
           "color": "#2a3f5f"
          },
          "geo": {
           "bgcolor": "white",
           "lakecolor": "white",
           "landcolor": "white",
           "showlakes": true,
           "showland": true,
           "subunitcolor": "#C8D4E3"
          },
          "hoverlabel": {
           "align": "left"
          },
          "hovermode": "closest",
          "mapbox": {
           "style": "light"
          },
          "paper_bgcolor": "white",
          "plot_bgcolor": "white",
          "polar": {
           "angularaxis": {
            "gridcolor": "#EBF0F8",
            "linecolor": "#EBF0F8",
            "ticks": ""
           },
           "bgcolor": "white",
           "radialaxis": {
            "gridcolor": "#EBF0F8",
            "linecolor": "#EBF0F8",
            "ticks": ""
           }
          },
          "scene": {
           "xaxis": {
            "backgroundcolor": "white",
            "gridcolor": "#DFE8F3",
            "gridwidth": 2,
            "linecolor": "#EBF0F8",
            "showbackground": true,
            "ticks": "",
            "zerolinecolor": "#EBF0F8"
           },
           "yaxis": {
            "backgroundcolor": "white",
            "gridcolor": "#DFE8F3",
            "gridwidth": 2,
            "linecolor": "#EBF0F8",
            "showbackground": true,
            "ticks": "",
            "zerolinecolor": "#EBF0F8"
           },
           "zaxis": {
            "backgroundcolor": "white",
            "gridcolor": "#DFE8F3",
            "gridwidth": 2,
            "linecolor": "#EBF0F8",
            "showbackground": true,
            "ticks": "",
            "zerolinecolor": "#EBF0F8"
           }
          },
          "shapedefaults": {
           "line": {
            "color": "#2a3f5f"
           }
          },
          "ternary": {
           "aaxis": {
            "gridcolor": "#DFE8F3",
            "linecolor": "#A2B1C6",
            "ticks": ""
           },
           "baxis": {
            "gridcolor": "#DFE8F3",
            "linecolor": "#A2B1C6",
            "ticks": ""
           },
           "bgcolor": "white",
           "caxis": {
            "gridcolor": "#DFE8F3",
            "linecolor": "#A2B1C6",
            "ticks": ""
           }
          },
          "title": {
           "x": 0.05
          },
          "xaxis": {
           "automargin": true,
           "gridcolor": "#EBF0F8",
           "linecolor": "#EBF0F8",
           "ticks": "",
           "title": {
            "standoff": 15
           },
           "zerolinecolor": "#EBF0F8",
           "zerolinewidth": 2
          },
          "yaxis": {
           "automargin": true,
           "gridcolor": "#EBF0F8",
           "linecolor": "#EBF0F8",
           "ticks": "",
           "title": {
            "standoff": 15
           },
           "zerolinecolor": "#EBF0F8",
           "zerolinewidth": 2
          }
         }
        },
        "title": {
         "text": "Propionate"
        },
        "width": 700,
        "xaxis": {
         "anchor": "y",
         "domain": [
          0,
          0.7363
         ],
         "range": [
          0.01,
          2.3
         ],
         "showgrid": false,
         "title": {
          "text": ""
         },
         "type": "linear",
         "zeroline": false
        },
        "xaxis2": {
         "anchor": "y2",
         "domain": [
          0.7413,
          1
         ],
         "matches": "x2",
         "range": [
          0.01,
          2.3
         ],
         "showgrid": false,
         "showline": false,
         "showticklabels": false,
         "ticks": "",
         "type": "linear",
         "zeroline": false
        },
        "xaxis3": {
         "anchor": "y3",
         "domain": [
          0,
          0.7363
         ],
         "matches": "x",
         "range": [
          0.01,
          2.3
         ],
         "showgrid": false,
         "showticklabels": false,
         "type": "linear",
         "zeroline": false
        },
        "xaxis4": {
         "anchor": "y4",
         "domain": [
          0.7413,
          1
         ],
         "matches": "x2",
         "range": [
          0.01,
          2.3
         ],
         "showgrid": false,
         "showline": false,
         "showticklabels": false,
         "ticks": "",
         "zeroline": false
        },
        "yaxis": {
         "anchor": "x",
         "domain": [
          0,
          0.7326
         ],
         "range": [
          -5,
          110
         ],
         "showgrid": false,
         "title": {
          "text": ""
         },
         "type": "linear",
         "zeroline": false
        },
        "yaxis2": {
         "anchor": "x2",
         "domain": [
          0,
          0.7326
         ],
         "matches": "y",
         "range": [
          -5,
          110
         ],
         "showgrid": false,
         "showticklabels": false,
         "type": "linear",
         "zeroline": false
        },
        "yaxis3": {
         "anchor": "x3",
         "domain": [
          0.7426,
          1
         ],
         "matches": "y3",
         "range": [
          -5,
          110
         ],
         "showgrid": false,
         "showline": false,
         "showticklabels": false,
         "ticks": "",
         "type": "linear",
         "zeroline": false
        },
        "yaxis4": {
         "anchor": "x4",
         "domain": [
          0.7426,
          1
         ],
         "matches": "y3",
         "range": [
          -5,
          110
         ],
         "showgrid": false,
         "showline": false,
         "showticklabels": false,
         "ticks": "",
         "zeroline": false
        }
       }
      },
      "image/png": "[encoded data removed]",
      "text/html": [
       "<div>                            <div id=\"e5e5be5e-4d5f-4b9f-a820-2eed7bcbaca6\" class=\"plotly-graph-div\" style=\"height:600px; width:700px;\"></div>            <script type=\"text/javascript\">                require([\"plotly\"], function(Plotly) {                    window.PLOTLYENV=window.PLOTLYENV || {};                                    if (document.getElementById(\"e5e5be5e-4d5f-4b9f-a820-2eed7bcbaca6\")) {                    Plotly.newPlot(                        \"e5e5be5e-4d5f-4b9f-a820-2eed7bcbaca6\",                        [{\"error_x\":{\"array\":[0.0239613753303983,0.0034366568386696]},\"error_y\":{\"array\":[0.0986385173631236,0.1167959231054235],\"width\":15},\"hovertemplate\":\"Treatment=Control<br>=%{y}<extra></extra>\",\"legendgroup\":\"Control\",\"marker\":{\"color\":\"cornflowerblue\",\"symbol\":\"circle\",\"size\":8},\"mode\":\"markers\",\"name\":\"Control\",\"orientation\":\"v\",\"showlegend\":true,\"x\":[0.1538876889848812,0.3404727621790257],\"xaxis\":\"x\",\"y\":[1.4081155896548534,3.193666282321734],\"yaxis\":\"y\",\"type\":\"scatter\"},{\"alignmentgroup\":\"True\",\"boxpoints\":\"all\",\"fillcolor\":\"rgba(255,255,255,0)\",\"hoveron\":\"points\",\"hovertemplate\":\"Treatment=Control<br>=%{x}<extra></extra>\",\"jitter\":0,\"legendgroup\":\"Control\",\"line\":{\"color\":\"rgba(255,255,255,0)\"},\"marker\":{\"color\":\"cornflowerblue\",\"symbol\":\"line-ns-open\",\"size\":27,\"line\":{\"width\":3}},\"name\":\"Control\",\"offsetgroup\":\"Control\",\"showlegend\":false,\"x\":[0.1538876889848812,0.3404727621790257],\"xaxis\":\"x3\",\"yaxis\":\"y3\",\"type\":\"box\"},{\"alignmentgroup\":\"True\",\"boxpoints\":\"all\",\"fillcolor\":\"rgba(255,255,255,0)\",\"hoveron\":\"points\",\"hovertemplate\":\"Treatment=Control<br>=%{y}<extra></extra>\",\"jitter\":0,\"legendgroup\":\"Control\",\"line\":{\"color\":\"rgba(255,255,255,0)\"},\"marker\":{\"color\":\"cornflowerblue\",\"symbol\":\"line-ew-open\",\"size\":15,\"line\":{\"width\":3}},\"name\":\"Control\",\"offsetgroup\":\"Control\",\"showlegend\":false,\"xaxis\":\"x2\",\"y\":[1.4081155896548534,3.193666282321734],\"yaxis\":\"y2\",\"type\":\"box\"},{\"error_x\":{\"array\":[0.0271384004952652,0.0643857452360249]},\"error_y\":{\"array\":[2.5171447086595906,0.9376654895968304],\"width\":15},\"hovertemplate\":\"Treatment=Inulin<br>=%{y}<extra></extra>\",\"legendgroup\":\"Inulin\",\"marker\":{\"color\":\"coral\",\"symbol\":\"circle\",\"size\":8},\"mode\":\"markers\",\"name\":\"Inulin\",\"orientation\":\"v\",\"showlegend\":true,\"x\":[1.2967212622990163,1.939344852411807],\"xaxis\":\"x\",\"y\":[79.76248638332198,99.13767227327058],\"yaxis\":\"y\",\"type\":\"scatter\"},{\"alignmentgroup\":\"True\",\"boxpoints\":\"all\",\"fillcolor\":\"rgba(255,255,255,0)\",\"hoveron\":\"points\",\"hovertemplate\":\"Treatment=Inulin<br>=%{x}<extra></extra>\",\"jitter\":0,\"legendgroup\":\"Inulin\",\"line\":{\"color\":\"rgba(255,255,255,0)\"},\"marker\":{\"color\":\"coral\",\"symbol\":\"line-ns-open\",\"size\":15,\"line\":{\"width\":3}},\"name\":\"Inulin\",\"offsetgroup\":\"Inulin\",\"showlegend\":false,\"x\":[1.2967212622990163,1.939344852411807],\"xaxis\":\"x3\",\"yaxis\":\"y3\",\"type\":\"box\",\"y\":[40,40,40,40,40,40,40,40,40,40]},{\"alignmentgroup\":\"True\",\"boxpoints\":\"all\",\"fillcolor\":\"rgba(255,255,255,0)\",\"hoveron\":\"points\",\"hovertemplate\":\"Treatment=Inulin<br>=%{y}<extra></extra>\",\"jitter\":0,\"legendgroup\":\"Inulin\",\"line\":{\"color\":\"rgba(255,255,255,0)\"},\"marker\":{\"color\":\"coral\",\"symbol\":\"line-ew-open\",\"size\":15,\"line\":{\"width\":3}},\"name\":\"Inulin\",\"offsetgroup\":\"Inulin\",\"showlegend\":false,\"xaxis\":\"x2\",\"y\":[79.76248638332198,99.13767227327058],\"yaxis\":\"y2\",\"type\":\"box\",\"x\":[2,2,2,2,2,2,2,2,2,2]},{\"hovertemplate\":\"<b>OLS trendline</b><br>flux-predicted_propionate = 59.8446 * flux_propionate + -9.93597<br>R<sup>2</sup>=0.967603<br><br>=%{y} <b>(trend)</b><extra></extra>\",\"legendgroup\":\"Overall Trendline\",\"line\":{\"color\":\"black\"},\"mode\":\"lines\",\"name\":\"Overall Trendline\",\"showlegend\":false,\"x\":[0.1538876889848812,0.3404727621790257,1.2967212622990163,1.939344852411807],\"y\":[-0.7266282496515011,10.439478223819354,67.6657739003575,106.12331665404386],\"type\":\"scatter\",\"xaxis\":\"x\",\"yaxis\":\"y\"},{\"hovertemplate\":\"<b>OLS trendline</b><br>flux-predicted_propionate = 59.8446 * flux_propionate + -9.93597<br>R<sup>2</sup>=0.967603<br><br>=%{y} <b>(trend)</b><extra></extra>\",\"legendgroup\":\"Overall Trendline\",\"line\":{\"color\":\"black\",\"width\":0},\"mode\":\"lines\",\"name\":\"Overall Trendline\",\"showlegend\":false,\"x\":[0.1538876889848812,0.3404727621790257,1.2967212622990163,1.939344852411807],\"y\":[-0.7266282496515011,10.439478223819354,67.6657739003575,106.12331665404386],\"type\":\"scatter\",\"xaxis\":\"x2\",\"yaxis\":\"y2\"},{\"hovertemplate\":\"<b>OLS trendline</b><br>flux-predicted_propionate = 59.8446 * flux_propionate + -9.93597<br>R<sup>2</sup>=0.967603<br><br>=%{y} <b>(trend)</b><extra></extra>\",\"legendgroup\":\"Overall Trendline\",\"line\":{\"color\":\"black\",\"width\":0},\"mode\":\"lines\",\"name\":\"Overall Trendline\",\"showlegend\":true,\"x\":[0.1538876889848812,0.3404727621790257,1.2967212622990163,1.939344852411807],\"y\":[-0.7266282496515011,10.439478223819354,67.6657739003575,106.12331665404386],\"type\":\"scatter\",\"xaxis\":\"x3\",\"yaxis\":\"y3\"}],                        {\"template\":{\"data\":{\"barpolar\":[{\"marker\":{\"line\":{\"color\":\"white\",\"width\":0.5},\"pattern\":{\"fillmode\":\"overlay\",\"size\":10,\"solidity\":0.2}},\"type\":\"barpolar\"}],\"bar\":[{\"error_x\":{\"color\":\"#2a3f5f\"},\"error_y\":{\"color\":\"#2a3f5f\"},\"marker\":{\"line\":{\"color\":\"white\",\"width\":0.5},\"pattern\":{\"fillmode\":\"overlay\",\"size\":10,\"solidity\":0.2}},\"type\":\"bar\"}],\"carpet\":[{\"aaxis\":{\"endlinecolor\":\"#2a3f5f\",\"gridcolor\":\"#C8D4E3\",\"linecolor\":\"#C8D4E3\",\"minorgridcolor\":\"#C8D4E3\",\"startlinecolor\":\"#2a3f5f\"},\"baxis\":{\"endlinecolor\":\"#2a3f5f\",\"gridcolor\":\"#C8D4E3\",\"linecolor\":\"#C8D4E3\",\"minorgridcolor\":\"#C8D4E3\",\"startlinecolor\":\"#2a3f5f\"},\"type\":\"carpet\"}],\"choropleth\":[{\"colorbar\":{\"outlinewidth\":0,\"ticks\":\"\"},\"type\":\"choropleth\"}],\"contourcarpet\":[{\"colorbar\":{\"outlinewidth\":0,\"ticks\":\"\"},\"type\":\"contourcarpet\"}],\"contour\":[{\"colorbar\":{\"outlinewidth\":0,\"ticks\":\"\"},\"colorscale\":[[0.0,\"#0d0887\"],[0.1111111111111111,\"#46039f\"],[0.2222222222222222,\"#7201a8\"],[0.3333333333333333,\"#9c179e\"],[0.4444444444444444,\"#bd3786\"],[0.5555555555555556,\"#d8576b\"],[0.6666666666666666,\"#ed7953\"],[0.7777777777777778,\"#fb9f3a\"],[0.8888888888888888,\"#fdca26\"],[1.0,\"#f0f921\"]],\"type\":\"contour\"}],\"heatmapgl\":[{\"colorbar\":{\"outlinewidth\":0,\"ticks\":\"\"},\"colorscale\":[[0.0,\"#0d0887\"],[0.1111111111111111,\"#46039f\"],[0.2222222222222222,\"#7201a8\"],[0.3333333333333333,\"#9c179e\"],[0.4444444444444444,\"#bd3786\"],[0.5555555555555556,\"#d8576b\"],[0.6666666666666666,\"#ed7953\"],[0.7777777777777778,\"#fb9f3a\"],[0.8888888888888888,\"#fdca26\"],[1.0,\"#f0f921\"]],\"type\":\"heatmapgl\"}],\"heatmap\":[{\"colorbar\":{\"outlinewidth\":0,\"ticks\":\"\"},\"colorscale\":[[0.0,\"#0d0887\"],[0.1111111111111111,\"#46039f\"],[0.2222222222222222,\"#7201a8\"],[0.3333333333333333,\"#9c179e\"],[0.4444444444444444,\"#bd3786\"],[0.5555555555555556,\"#d8576b\"],[0.6666666666666666,\"#ed7953\"],[0.7777777777777778,\"#fb9f3a\"],[0.8888888888888888,\"#fdca26\"],[1.0,\"#f0f921\"]],\"type\":\"heatmap\"}],\"histogram2dcontour\":[{\"colorbar\":{\"outlinewidth\":0,\"ticks\":\"\"},\"colorscale\":[[0.0,\"#0d0887\"],[0.1111111111111111,\"#46039f\"],[0.2222222222222222,\"#7201a8\"],[0.3333333333333333,\"#9c179e\"],[0.4444444444444444,\"#bd3786\"],[0.5555555555555556,\"#d8576b\"],[0.6666666666666666,\"#ed7953\"],[0.7777777777777778,\"#fb9f3a\"],[0.8888888888888888,\"#fdca26\"],[1.0,\"#f0f921\"]],\"type\":\"histogram2dcontour\"}],\"histogram2d\":[{\"colorbar\":{\"outlinewidth\":0,\"ticks\":\"\"},\"colorscale\":[[0.0,\"#0d0887\"],[0.1111111111111111,\"#46039f\"],[0.2222222222222222,\"#7201a8\"],[0.3333333333333333,\"#9c179e\"],[0.4444444444444444,\"#bd3786\"],[0.5555555555555556,\"#d8576b\"],[0.6666666666666666,\"#ed7953\"],[0.7777777777777778,\"#fb9f3a\"],[0.8888888888888888,\"#fdca26\"],[1.0,\"#f0f921\"]],\"type\":\"histogram2d\"}],\"histogram\":[{\"marker\":{\"pattern\":{\"fillmode\":\"overlay\",\"size\":10,\"solidity\":0.2}},\"type\":\"histogram\"}],\"mesh3d\":[{\"colorbar\":{\"outlinewidth\":0,\"ticks\":\"\"},\"type\":\"mesh3d\"}],\"parcoords\":[{\"line\":{\"colorbar\":{\"outlinewidth\":0,\"ticks\":\"\"}},\"type\":\"parcoords\"}],\"pie\":[{\"automargin\":true,\"type\":\"pie\"}],\"scatter3d\":[{\"line\":{\"colorbar\":{\"outlinewidth\":0,\"ticks\":\"\"}},\"marker\":{\"colorbar\":{\"outlinewidth\":0,\"ticks\":\"\"}},\"type\":\"scatter3d\"}],\"scattercarpet\":[{\"marker\":{\"colorbar\":{\"outlinewidth\":0,\"ticks\":\"\"}},\"type\":\"scattercarpet\"}],\"scattergeo\":[{\"marker\":{\"colorbar\":{\"outlinewidth\":0,\"ticks\":\"\"}},\"type\":\"scattergeo\"}],\"scattergl\":[{\"marker\":{\"colorbar\":{\"outlinewidth\":0,\"ticks\":\"\"}},\"type\":\"scattergl\"}],\"scattermapbox\":[{\"marker\":{\"colorbar\":{\"outlinewidth\":0,\"ticks\":\"\"}},\"type\":\"scattermapbox\"}],\"scatterpolargl\":[{\"marker\":{\"colorbar\":{\"outlinewidth\":0,\"ticks\":\"\"}},\"type\":\"scatterpolargl\"}],\"scatterpolar\":[{\"marker\":{\"colorbar\":{\"outlinewidth\":0,\"ticks\":\"\"}},\"type\":\"scatterpolar\"}],\"scatter\":[{\"fillpattern\":{\"fillmode\":\"overlay\",\"size\":10,\"solidity\":0.2},\"type\":\"scatter\"}],\"scatterternary\":[{\"marker\":{\"colorbar\":{\"outlinewidth\":0,\"ticks\":\"\"}},\"type\":\"scatterternary\"}],\"surface\":[{\"colorbar\":{\"outlinewidth\":0,\"ticks\":\"\"},\"colorscale\":[[0.0,\"#0d0887\"],[0.1111111111111111,\"#46039f\"],[0.2222222222222222,\"#7201a8\"],[0.3333333333333333,\"#9c179e\"],[0.4444444444444444,\"#bd3786\"],[0.5555555555555556,\"#d8576b\"],[0.6666666666666666,\"#ed7953\"],[0.7777777777777778,\"#fb9f3a\"],[0.8888888888888888,\"#fdca26\"],[1.0,\"#f0f921\"]],\"type\":\"surface\"}],\"table\":[{\"cells\":{\"fill\":{\"color\":\"#EBF0F8\"},\"line\":{\"color\":\"white\"}},\"header\":{\"fill\":{\"color\":\"#C8D4E3\"},\"line\":{\"color\":\"white\"}},\"type\":\"table\"}]},\"layout\":{\"annotationdefaults\":{\"arrowcolor\":\"#2a3f5f\",\"arrowhead\":0,\"arrowwidth\":1},\"autotypenumbers\":\"strict\",\"coloraxis\":{\"colorbar\":{\"outlinewidth\":0,\"ticks\":\"\"}},\"colorscale\":{\"diverging\":[[0,\"#8e0152\"],[0.1,\"#c51b7d\"],[0.2,\"#de77ae\"],[0.3,\"#f1b6da\"],[0.4,\"#fde0ef\"],[0.5,\"#f7f7f7\"],[0.6,\"#e6f5d0\"],[0.7,\"#b8e186\"],[0.8,\"#7fbc41\"],[0.9,\"#4d9221\"],[1,\"#276419\"]],\"sequential\":[[0.0,\"#0d0887\"],[0.1111111111111111,\"#46039f\"],[0.2222222222222222,\"#7201a8\"],[0.3333333333333333,\"#9c179e\"],[0.4444444444444444,\"#bd3786\"],[0.5555555555555556,\"#d8576b\"],[0.6666666666666666,\"#ed7953\"],[0.7777777777777778,\"#fb9f3a\"],[0.8888888888888888,\"#fdca26\"],[1.0,\"#f0f921\"]],\"sequentialminus\":[[0.0,\"#0d0887\"],[0.1111111111111111,\"#46039f\"],[0.2222222222222222,\"#7201a8\"],[0.3333333333333333,\"#9c179e\"],[0.4444444444444444,\"#bd3786\"],[0.5555555555555556,\"#d8576b\"],[0.6666666666666666,\"#ed7953\"],[0.7777777777777778,\"#fb9f3a\"],[0.8888888888888888,\"#fdca26\"],[1.0,\"#f0f921\"]]},\"colorway\":[\"#636efa\",\"#EF553B\",\"#00cc96\",\"#ab63fa\",\"#FFA15A\",\"#19d3f3\",\"#FF6692\",\"#B6E880\",\"#FF97FF\",\"#FECB52\"],\"font\":{\"color\":\"#2a3f5f\"},\"geo\":{\"bgcolor\":\"white\",\"lakecolor\":\"white\",\"landcolor\":\"white\",\"showlakes\":true,\"showland\":true,\"subunitcolor\":\"#C8D4E3\"},\"hoverlabel\":{\"align\":\"left\"},\"hovermode\":\"closest\",\"mapbox\":{\"style\":\"light\"},\"paper_bgcolor\":\"white\",\"plot_bgcolor\":\"white\",\"polar\":{\"angularaxis\":{\"gridcolor\":\"#EBF0F8\",\"linecolor\":\"#EBF0F8\",\"ticks\":\"\"},\"bgcolor\":\"white\",\"radialaxis\":{\"gridcolor\":\"#EBF0F8\",\"linecolor\":\"#EBF0F8\",\"ticks\":\"\"}},\"scene\":{\"xaxis\":{\"backgroundcolor\":\"white\",\"gridcolor\":\"#DFE8F3\",\"gridwidth\":2,\"linecolor\":\"#EBF0F8\",\"showbackground\":true,\"ticks\":\"\",\"zerolinecolor\":\"#EBF0F8\"},\"yaxis\":{\"backgroundcolor\":\"white\",\"gridcolor\":\"#DFE8F3\",\"gridwidth\":2,\"linecolor\":\"#EBF0F8\",\"showbackground\":true,\"ticks\":\"\",\"zerolinecolor\":\"#EBF0F8\"},\"zaxis\":{\"backgroundcolor\":\"white\",\"gridcolor\":\"#DFE8F3\",\"gridwidth\":2,\"linecolor\":\"#EBF0F8\",\"showbackground\":true,\"ticks\":\"\",\"zerolinecolor\":\"#EBF0F8\"}},\"shapedefaults\":{\"line\":{\"color\":\"#2a3f5f\"}},\"ternary\":{\"aaxis\":{\"gridcolor\":\"#DFE8F3\",\"linecolor\":\"#A2B1C6\",\"ticks\":\"\"},\"baxis\":{\"gridcolor\":\"#DFE8F3\",\"linecolor\":\"#A2B1C6\",\"ticks\":\"\"},\"bgcolor\":\"white\",\"caxis\":{\"gridcolor\":\"#DFE8F3\",\"linecolor\":\"#A2B1C6\",\"ticks\":\"\"}},\"title\":{\"x\":0.05},\"xaxis\":{\"automargin\":true,\"gridcolor\":\"#EBF0F8\",\"linecolor\":\"#EBF0F8\",\"ticks\":\"\",\"title\":{\"standoff\":15},\"zerolinecolor\":\"#EBF0F8\",\"zerolinewidth\":2},\"yaxis\":{\"automargin\":true,\"gridcolor\":\"#EBF0F8\",\"linecolor\":\"#EBF0F8\",\"ticks\":\"\",\"title\":{\"standoff\":15},\"zerolinecolor\":\"#EBF0F8\",\"zerolinewidth\":2}}},\"xaxis\":{\"anchor\":\"y\",\"domain\":[0.0,0.7363],\"title\":{\"text\":\"\"},\"range\":[0.01,2.3],\"showgrid\":false,\"zeroline\":false},\"yaxis\":{\"anchor\":\"x\",\"domain\":[0.0,0.7326],\"title\":{\"text\":\"\"},\"range\":[-5,110],\"showgrid\":false,\"zeroline\":false},\"xaxis2\":{\"anchor\":\"y2\",\"domain\":[0.7413,1.0],\"matches\":\"x2\",\"showticklabels\":false,\"showline\":false,\"ticks\":\"\",\"showgrid\":false,\"range\":[0.01,2.3],\"zeroline\":false},\"yaxis2\":{\"anchor\":\"x2\",\"domain\":[0.0,0.7326],\"matches\":\"y\",\"showticklabels\":false,\"showgrid\":false,\"range\":[-5,110],\"zeroline\":false},\"xaxis3\":{\"anchor\":\"y3\",\"domain\":[0.0,0.7363],\"matches\":\"x\",\"showticklabels\":false,\"showgrid\":false,\"range\":[0.01,2.3],\"zeroline\":false},\"yaxis3\":{\"anchor\":\"x3\",\"domain\":[0.7426,1.0],\"matches\":\"y3\",\"showticklabels\":false,\"showline\":false,\"ticks\":\"\",\"showgrid\":false,\"range\":[-5,110],\"zeroline\":false},\"xaxis4\":{\"anchor\":\"y4\",\"domain\":[0.7413,1.0],\"matches\":\"x2\",\"showticklabels\":false,\"showgrid\":false,\"showline\":false,\"ticks\":\"\",\"range\":[0.01,2.3],\"zeroline\":false},\"yaxis4\":{\"anchor\":\"x4\",\"domain\":[0.7426,1.0],\"matches\":\"y3\",\"showticklabels\":false,\"showline\":false,\"ticks\":\"\",\"showgrid\":false,\"range\":[-5,110],\"zeroline\":false},\"legend\":{\"title\":{\"text\":\"Treatment\"},\"tracegroupgap\":0},\"title\":{\"text\":\"Propionate\"},\"height\":600,\"width\":700,\"font\":{\"size\":24}},                        {\"responsive\": true}                    ).then(function(){\n",
       "                            \n",
       "var gd = document.getElementById('e5e5be5e-4d5f-4b9f-a820-2eed7bcbaca6');\n",
       "var x = new MutationObserver(function (mutations, observer) {{\n",
       "        var display = window.getComputedStyle(gd).display;\n",
       "        if (!display || display === 'none') {{\n",
       "            console.log([gd, 'removed!']);\n",
       "            Plotly.purge(gd);\n",
       "            observer.disconnect();\n",
       "        }}\n",
       "}});\n",
       "\n",
       "// Listen for the removal of the full notebook cells\n",
       "var notebookContainer = gd.closest('#notebook-container');\n",
       "if (notebookContainer) {{\n",
       "    x.observe(notebookContainer, {childList: true});\n",
       "}}\n",
       "\n",
       "// Listen for the clearing of the current output cell\n",
       "var outputEl = gd.closest('.output');\n",
       "if (outputEl) {{\n",
       "    x.observe(outputEl, {childList: true});\n",
       "}}\n",
       "\n",
       "                        })                };                });            </script>        </div>"
      ]
     },
     "metadata": {},
     "output_type": "display_data"
    }
   ],
   "source": [
    "fig_1 = px.scatter(study_a, \n",
    "                x = 'flux_propionate',\n",
    "                y = 'flux-predicted_propionate', \n",
    "                color = 'treatment', \n",
    "                color_discrete_map = color_discrete_map,\n",
    "                error_x = 'std_propionate',\n",
    "                error_y = 'std-predicted_propionate',\n",
    "                trendline = 'ols',\n",
    "                trendline_scope=\"overall\",\n",
    "                trendline_color_override = \"black\",\n",
    "                marginal_x=\"rug\", \n",
    "                marginal_y=\"rug\",\n",
    "                template = 'plotly_white',\n",
    "                labels={\n",
    "                     \"flux_propionate\": \"\",\n",
    "                     \"flux-predicted_propionate\": \"\",\n",
    "                     \"treatment\": \"Treatment\"\n",
    "                 },\n",
    "                title = \"Propionate\",\n",
    "                width=700, height=600)\n",
    "fig_1.update_layout(font = dict(size = 24))\n",
    "fig_1.data[0]['marker']['size'] = 12 \n",
    "fig_1.data[0].error_y.width = 15\n",
    "fig_1.data[3]['marker']['size'] = 12\n",
    "fig_1.data[3].error_y.width = 15\n",
    "fig_1.data[0]['marker']['size'] = 8\n",
    "fig_1.data[3]['marker']['size'] = 8\n",
    "fig_1.data[1]['marker']['size'] = 27 \n",
    "fig_1.data[2]['marker']['size'] = 15 \n",
    "fig_1.data[4]['marker']['size'] = 15 \n",
    "fig_1.data[5]['marker']['size'] = 15 \n",
    "fig_1.data[1]['marker']['line']['width'] = 3\n",
    "fig_1.data[2]['marker']['line']['width'] = 3\n",
    "fig_1.data[4]['marker']['line']['width'] = 3\n",
    "fig_1.data[5]['marker']['line']['width'] = 3\n",
    "fig_1.data[7].update(line_width=0)\n",
    "fig_1.data[8].update(line_width=0)\n",
    "fig_1.update_xaxes(range =[.01,2.3],showgrid=False, zeroline=False)\n",
    "fig_1.update_yaxes(range =[-5,110],showgrid=False, zeroline=False)\n",
    "fig_1.data[4]['y'] = 10*[40]\n",
    "fig_1.data[5]['x'] = 10*[2]\n",
    "fig_1"
   ]
  },
  {
   "cell_type": "code",
   "execution_count": null,
   "id": "f5da1d4e-39d4-42c7-8e32-45bc9ca30cb3",
   "metadata": {},
   "outputs": [],
   "source": [
    "fig_2 = px.scatter(scfas_1, \n",
    "                x = 'Butyrate',\n",
    "                y = 'Butyrate - Predicted', \n",
    "                color = 'treatment', \n",
    "                color_discrete_map = color_discrete_map,\n",
    "                error_x = 'but_dev_meas',\n",
    "                error_y = 'but_dev',\n",
    "                trendline = 'ols',\n",
    "                trendline_scope=\"overall\",\n",
    "                trendline_color_override = \"black\",\n",
    "                marginal_x=\"rug\", \n",
    "                marginal_y=\"rug\",\n",
    "                template = 'plotly_white',\n",
    "                labels={\n",
    "                     \"Butyrate\": \"\",\n",
    "                     \"Butyrate - Predicted\": \"\",\n",
    "                     \"treatment\": \"Treatment\"\n",
    "                 },\n",
    "                title = \"Butyrate\",\n",
    "                size_max = 40,\n",
    "                width=700, height=600)\n",
    "fig_2.update_layout(font = dict(size = 24))\n",
    "fig_2.data[0]['marker']['size'] = 12 #top blue\n",
    "fig_2.data[0].error_y.width = 15\n",
    "fig_2.data[3]['marker']['size'] = 12 #top blue\n",
    "fig_2.data[3].error_y.width = 15\n",
    "fig_2.data[1]['marker']['size'] = 27 #top blue\n",
    "fig_2.data[2]['marker']['size'] = 15 #right blue\n",
    "fig_2.data[4]['marker']['size'] = 15 #top orange\n",
    "fig_2.data[5]['marker']['size'] = 15 #right orange\n",
    "fig_2.data[1]['marker']['line']['width'] = 3\n",
    "fig_2.data[2]['marker']['line']['width'] = 3\n",
    "fig_2.data[4]['marker']['line']['width'] = 3\n",
    "fig_2.data[5]['marker']['line']['width'] = 3\n",
    "fig_2.data[7].update(line_width=0)\n",
    "fig_2.data[8].update(line_width=0)\n",
    "fig_2.update_xaxes(range = [.01, 4],showgrid=False, zeroline=False)\n",
    "fig_2.update_yaxes(range=[0,45],showgrid=False, zeroline=False)\n",
    "fig_2.data[4]['y'] = 10*[14]\n",
    "fig_2.data[5]['x'] = 10*[2]\n",
    "fig_2"
   ]
  },
  {
   "cell_type": "code",
   "execution_count": null,
   "id": "a54a2fb9-1f0d-49df-bac7-43351b5c7f87",
   "metadata": {},
   "outputs": [],
   "source": [
    "fig_3 = px.scatter(scfas_1, \n",
    "                x = 'Acetate',\n",
    "                y = 'Acetate - Predicted', \n",
    "                color = 'treatment', \n",
    "                color_discrete_map = color_discrete_map,\n",
    "                error_x = 'ac_dev_meas',\n",
    "                error_y = 'ac_dev',\n",
    "                trendline = 'ols',\n",
    "                trendline_scope=\"overall\",\n",
    "                trendline_color_override = \"black\",\n",
    "                marginal_x=\"rug\", \n",
    "                marginal_y=\"rug\",\n",
    "                template = 'plotly_white',\n",
    "                labels={\n",
    "                     \"Acetate\":\"\",\n",
    "                     \"Acetate - Predicted\":\"\",\n",
    "                     \"treatment\": \"Treatment\"\n",
    "                 },\n",
    "                title = \"Acetate\",\n",
    "                width=700, height=600)\n",
    "fig_3.update_layout(font = dict(size = 24))\n",
    "fig_3.data[0]['marker']['size'] = 12 #top blue\n",
    "fig_3.data[0].error_y.width = 15\n",
    "fig_3.data[3]['marker']['size'] = 12 #top blue\n",
    "fig_3.data[3].error_y.width = 15\n",
    "fig_3.data[1]['marker']['size'] = 27 #top blue\n",
    "fig_3.data[2]['marker']['size'] = 15 #right blue\n",
    "fig_3.data[4]['marker']['size'] = 15 #top orange\n",
    "fig_3.data[5]['marker']['size'] = 15 #right orange\n",
    "fig_3.data[1]['marker']['line']['width'] = 3\n",
    "fig_3.data[2]['marker']['line']['width'] = 3\n",
    "fig_3.data[4]['marker']['line']['width'] = 3\n",
    "fig_3.data[5]['marker']['line']['width'] = 3\n",
    "fig_3.data[7].update(line_width=0)\n",
    "fig_3.data[8].update(line_width=0)\n",
    "fig_3.update_xaxes(showgrid=False, zeroline=False)\n",
    "fig_3.update_yaxes(range=[0,340],showgrid=False,  zeroline=False)\n",
    "fig_3.data[4]['y'] = 10*[100]\n",
    "fig_3.data[5]['x'] = 10*[8]\n",
    "fig_3"
   ]
  },
  {
   "cell_type": "code",
   "execution_count": null,
   "id": "ca0b00e5-be17-471d-9057-d4bb63bb57bb",
   "metadata": {},
   "outputs": [],
   "source": [
    "fig_1.write_image('/users/nbohmann/gibbons_ppa.png', scale = 2)\n",
    "fig_2.write_image('/users/nbohmann/gibbons_but.png', scale = 2)\n",
    "fig_3.write_image('/users/nbohmann/gibbons_ac.png', scale = 2)"
   ]
  },
  {
   "cell_type": "markdown",
   "id": "28a8c122-6a0f-47e5-98f8-4ffc6f6ce213",
   "metadata": {
    "jp-MarkdownHeadingCollapsed": true,
    "tags": []
   },
   "source": [
    "### Study B"
   ]
  },
  {
   "cell_type": "code",
   "execution_count": null,
   "id": "254045e4-1fcc-47a0-96f4-3fbd44de15d0",
   "metadata": {},
   "outputs": [],
   "source": [
    "os.chdir('/proj/gibbons/nbohmann/exvivo/scfa_paper/')\n",
    "scfas_2 = pd.read_csv('hamaker.csv',index_col = 0)\n",
    "scfas_2[scfas_2.columns[7:]] = scfas_2[scfas_2.columns[7:]]/np.sqrt(10)\n",
    "scfas_2"
   ]
  },
  {
   "cell_type": "code",
   "execution_count": null,
   "id": "833fef06-0511-4487-8c17-b441c4a2dc54",
   "metadata": {},
   "outputs": [],
   "source": [
    "fig_1 = px.scatter(scfas_2, \n",
    "                x = 'Propionate',\n",
    "                y = 'Propionate - Predicted', \n",
    "                color = 'Treatment', \n",
    "                color_discrete_map = color_discrete_map,\n",
    "                error_x = 'ppa-devs_meas',\n",
    "                error_y = 'ppa-devs',\n",
    "                trendline = 'ols',\n",
    "                trendline_scope=\"overall\",\n",
    "                trendline_color_override = \"black\",\n",
    "                marginal_x=\"rug\", \n",
    "                marginal_y=\"rug\",\n",
    "                template = 'plotly_white',\n",
    "                labels={\n",
    "                     \"Propionate\": \"\",\n",
    "                     \"Propionate - Predicted\": \"\",\n",
    "                     \"treatment\": \"Treatment\"\n",
    "                 },\n",
    "                title = \"Propionate\",\n",
    "                size_max = 40,\n",
    "                width=700, height=600)\n",
    "fig_1.update_layout(font = dict(size = 24))\n",
    "fig_1.data[0]['marker']['size'] = 12 #top blue\n",
    "fig_1.data[0].error_y.width = 15\n",
    "fig_1.data[3]['marker']['size'] = 12 #top blue\n",
    "fig_1.data[3].error_y.width = 15\n",
    "fig_1.data[1]['marker']['size'] = 35 #top blue\n",
    "fig_1.data[2]['marker']['size'] = 15 #right blue\n",
    "fig_1.data[4]['marker']['size'] = 15 #top orange\n",
    "fig_1.data[5]['marker']['size'] = 15 #right orange\n",
    "fig_1.data[1]['marker']['line']['width'] = 3\n",
    "fig_1.data[2]['marker']['line']['width'] = 3\n",
    "fig_1.data[4]['marker']['line']['width'] = 3\n",
    "fig_1.data[5]['marker']['line']['width'] = 3\n",
    "fig_1.data[7].update(line_width=0)\n",
    "fig_1.data[8].update(line_width=0)\n",
    "fig_1.update_xaxes(range=[.01,3.2],showgrid=False, zeroline=False)\n",
    "fig_1.update_yaxes(range=[-5,135],showgrid=False, zeroline=False)\n",
    "fig_1.data[4]['y'] = 10*[55]\n",
    "fig_1.data[5]['x'] = 10*[1.6]\n",
    "fig_1"
   ]
  },
  {
   "cell_type": "code",
   "execution_count": null,
   "id": "6d1410e7-8682-49a7-bdd1-2f1e6133693b",
   "metadata": {},
   "outputs": [],
   "source": [
    "stat_micom, p_micom = scipy.stats.ttest_rel(scfas_2[scfas_2.index.str.contains('Blank')]['Butyrate - Predicted'],\n",
    "                      scfas_2[scfas_2.index.str.contains('Pectin')]['Butyrate - Predicted'])\n",
    "stat_exp, p_exp = scipy.stats.ttest_rel(scfas_2[scfas_2.index.str.contains('Blank')]['Butyrate'],\n",
    "                      scfas_2[scfas_2.index.str.contains('Pectin')]['Butyrate'])\n",
    "print('MICOM:'+str(p_micom.round(6)))\n",
    "print('Experimental:'+str(p_exp.round(7)))"
   ]
  },
  {
   "cell_type": "code",
   "execution_count": null,
   "id": "743ed672-8c52-4f45-ae45-3b5839e0aa37",
   "metadata": {},
   "outputs": [],
   "source": [
    "fig_2 = px.scatter(scfas_2, \n",
    "                x = 'Butyrate',\n",
    "                y = 'Butyrate - Predicted', \n",
    "                color = 'Treatment', \n",
    "                color_discrete_map = color_discrete_map,\n",
    "                error_x = 'but-devs_meas',\n",
    "                error_y = 'but-devs',\n",
    "                trendline = 'ols',\n",
    "                trendline_scope=\"overall\",\n",
    "                trendline_color_override = \"black\",\n",
    "                marginal_x=\"rug\", \n",
    "                marginal_y=\"rug\",\n",
    "                template = 'plotly_white',\n",
    "                labels={\n",
    "                     \"Butyrate\": \"\",\n",
    "                     \"Butyrate - Predicted\": \"\",\n",
    "                     \"treatment\": \"Treatment\"\n",
    "                 },\n",
    "                title = \"Butyrate\",\n",
    "                size_max = 40,\n",
    "                width=700, height=600)\n",
    "fig_2.update_layout(font = dict(size = 24))\n",
    "fig_2.data[0]['marker']['size'] = 12 #top blue\n",
    "fig_2.data[0].error_y.width = 15\n",
    "fig_2.data[3]['marker']['size'] = 12 #top blue\n",
    "fig_2.data[3].error_y.width = 15\n",
    "fig_2.data[1]['marker']['size'] = 35 #top blue\n",
    "fig_2.data[2]['marker']['size'] = 15 #right blue\n",
    "fig_2.data[4]['marker']['size'] = 15 #top orange\n",
    "fig_2.data[5]['marker']['size'] = 15 #right orange\n",
    "fig_2.data[1]['marker']['line']['width'] = 3\n",
    "fig_2.data[2]['marker']['line']['width'] = 3\n",
    "fig_2.data[4]['marker']['line']['width'] = 3\n",
    "fig_2.data[5]['marker']['line']['width'] = 3\n",
    "fig_2.data[7].update(line_width=0)\n",
    "fig_2.data[8].update(line_width=0)\n",
    "fig_2.update_xaxes(range = [-.5,3.8],showgrid=False, zeroline=False)\n",
    "fig_2.update_yaxes(range=[.01,36],showgrid=False, zeroline=False)\n",
    "fig_2.data[4]['y'] = 10*[14]\n",
    "fig_2.data[5]['x'] = 10*[2]\n",
    "fig_2"
   ]
  },
  {
   "cell_type": "code",
   "execution_count": null,
   "id": "6a75682e-6f5a-4f03-a797-096f9b8648ca",
   "metadata": {},
   "outputs": [],
   "source": [
    "stat_micom, p_micom = scipy.stats.ttest_rel(scfas_2[scfas_2.index.str.contains('Blank')]['Butyrate - Predicted'],\n",
    "                      scfas_2[scfas_2.index.str.contains('Pectin')]['Butyrate - Predicted'])\n",
    "stat_exp, p_exp = scipy.stats.ttest_rel(scfas_2[scfas_2.index.str.contains('Blank')]['Butyrate'],\n",
    "                      scfas_2[scfas_2.index.str.contains('Pectin')]['Butyrate'])\n",
    "print('MICOM:'+str(p_micom.round(4)))\n",
    "print('Experimental:'+str(p_exp.round(7)))"
   ]
  },
  {
   "cell_type": "code",
   "execution_count": null,
   "id": "4245a332-21ae-4dc6-8264-c3856aac84db",
   "metadata": {},
   "outputs": [],
   "source": [
    "fig_3 = px.scatter(scfas_2, \n",
    "                x = 'Acetate',\n",
    "                y = 'Acetate - Predicted', \n",
    "                color = 'Treatment', \n",
    "                color_discrete_map = color_discrete_map,\n",
    "                error_x = 'ac-devs_meas',\n",
    "                error_y = 'ac-devs',\n",
    "                trendline = 'ols',\n",
    "                trendline_scope=\"overall\",\n",
    "                trendline_color_override = \"black\",\n",
    "                marginal_x=\"rug\", \n",
    "                marginal_y=\"rug\",\n",
    "                template = 'plotly_white',\n",
    "                labels={\n",
    "                     \"Acetate\":\"\",\n",
    "                     \"Acetate - Predicted\":\"\",\n",
    "                     \"treatment\": \"Treatment\"\n",
    "                 },\n",
    "                title = \"Acetate\",\n",
    "                width=700, height=600)\n",
    "fig_3.update_layout(font = dict(size = 24))\n",
    "fig_3.data[0]['marker']['size'] = 12 #top blue\n",
    "fig_3.data[0].error_y.width = 15\n",
    "fig_3.data[0].error_x.width = 15\n",
    "fig_3.data[3]['marker']['size'] = 12 #top blue\n",
    "fig_3.data[3].error_y.width = 15\n",
    "fig_3.data[3].error_x.width = 15\n",
    "fig_3.data[1]['marker']['size'] = 35 #top blue\n",
    "fig_3.data[2]['marker']['size'] = 35 #right blue\n",
    "fig_3.data[4]['marker']['size'] = 15 #top orange\n",
    "fig_3.data[5]['marker']['size'] = 15 #right orange\n",
    "fig_3.data[1]['marker']['line']['width'] = 3\n",
    "fig_3.data[2]['marker']['line']['width'] = 3\n",
    "fig_3.data[4]['marker']['line']['width'] = 3\n",
    "fig_3.data[5]['marker']['line']['width'] = 3\n",
    "fig_3.data[7].update(line_width=0)\n",
    "fig_3.data[8].update(line_width=0)\n",
    "fig_3.update_xaxes(range = [-1,20],showgrid=False, zeroline=False)\n",
    "fig_3.update_yaxes(range=[0.1,310],showgrid=False,  zeroline=False)\n",
    "fig_3.data[4]['y'] = 10*[100]\n",
    "fig_3.data[5]['x'] = 10*[8]\n",
    "fig_3"
   ]
  },
  {
   "cell_type": "code",
   "execution_count": null,
   "id": "2dc2b861-3537-49de-8454-bcdb15309e67",
   "metadata": {},
   "outputs": [],
   "source": [
    "stat_micom, p_micom = scipy.stats.ttest_rel(scfas_3[scfas_3.index.str.contains('PECT')]['Butyrate - Predicted'],\n",
    "                      scfas_3[scfas_3.index.str.contains('CTRL')]['Butyrate - Predicted'])\n",
    "stat_exp, p_exp = scipy.stats.ttest_rel(scfas_3[scfas_3.index.str.contains('PECT')]['Butyrate'],\n",
    "                      scfas_3[scfas_3.index.str.contains('CTRL')]['Butyrate'])\n",
    "print('MICOM:'+str(p_micom.round(10)))\n",
    "print('Experimental:'+str(p_exp.round(10)))"
   ]
  },
  {
   "cell_type": "code",
   "execution_count": null,
   "id": "d9c37d7a-3bdc-4384-bf98-bbda75858ef6",
   "metadata": {},
   "outputs": [],
   "source": [
    "fig_1.write_image('/users/nbohmann/hamaker_ppa.png', scale = 2)\n",
    "fig_2.write_image('/users/nbohmann/hamaker_but.png', scale = 2)\n",
    "fig_3.write_image('/users/nbohmann/hamaker_ac.png', scale = 2)"
   ]
  },
  {
   "cell_type": "code",
   "execution_count": null,
   "id": "dd9f2493-f9f9-4608-83a0-db3f2aa13c50",
   "metadata": {},
   "outputs": [],
   "source": [
    "stat_micom, p_micom = scipy.stats.ttest_rel(scfas_2[scfas_2.index.str.contains('Blank')]['Acetate - Predicted'],\n",
    "                      scfas_2[scfas_2.index.str.contains('Pectin')]['Acetate - Predicted'])\n",
    "stat_exp, p_exp = scipy.stats.ttest_rel(scfas_2[scfas_2.index.str.contains('Blank')]['Acetate'],\n",
    "                      scfas_2[scfas_2.index.str.contains('Pectin')]['Acetate'])\n",
    "print('MICOM:'+str(p_micom.round(10)))\n",
    "print('Experimental:'+str(p_exp.round(10)))"
   ]
  },
  {
   "cell_type": "markdown",
   "id": "dcc78361-7e44-4a3c-95bc-7525d76e4854",
   "metadata": {
    "tags": []
   },
   "source": [
    "### Study C"
   ]
  },
  {
   "cell_type": "code",
   "execution_count": null,
   "id": "cf92cbe5-6096-4609-abd4-6512b85db47b",
   "metadata": {},
   "outputs": [],
   "source": [
    "os.chdir('/proj/gibbons/nbohmann/exvivo/scfa_paper/')\n",
    "scfas_3 = pd.read_csv('gurry1.csv',index_col = 0)\n",
    "scfas_3"
   ]
  },
  {
   "cell_type": "code",
   "execution_count": null,
   "id": "b2982fa7-33cd-40a7-ad8a-60c603174edf",
   "metadata": {},
   "outputs": [],
   "source": [
    "fig_1 = px.scatter(scfas_3, \n",
    "                x = 'Acetate',\n",
    "                y = 'Acetate - Predicted', \n",
    "                color = 'treatment', \n",
    "                color_discrete_map = color_discrete_map,\n",
    "                error_x = 'ace_dev',\n",
    "                trendline = 'ols',\n",
    "                trendline_scope=\"overall\",\n",
    "                trendline_color_override = \"black\",\n",
    "                marginal_x=\"rug\", \n",
    "                marginal_y=\"rug\",\n",
    "                template = 'plotly_white',\n",
    "                labels={\n",
    "                     \"Acetate\": \"\",\n",
    "                     \"Acetate - Predicted\": \"\",\n",
    "                     \"treatment\": \"Treatment\"\n",
    "                 },\n",
    "                title = \"Acetate\",\n",
    "                width=700, height=600)\n",
    "fig_1.update_layout(font = dict(size = 24))\n",
    "fig_1.data[0]['marker']['size'] = 12 #top blue\n",
    "fig_1.data[0].error_x.width = 15\n",
    "fig_1.data[3]['marker']['size'] = 12 #top blue\n",
    "fig_1.data[3].error_x.width = 15\n",
    "fig_1.data[6]['marker']['size'] = 12\n",
    "fig_1.data[6].error_x.width = 15\n",
    "fig_1.data[1]['marker']['size'] = 30\n",
    "fig_1.data[2]['marker']['size'] = 15 \n",
    "fig_1.data[4]['marker']['size'] = 15 \n",
    "fig_1.data[5]['marker']['size'] = 15 \n",
    "fig_1.data[7]['marker']['size'] = 15 \n",
    "fig_1.data[8]['marker']['size'] = 15 \n",
    "fig_1.data[1]['marker']['line']['width'] = 3\n",
    "fig_1.data[2]['marker']['line']['width'] = 3\n",
    "fig_1.data[4]['marker']['line']['width'] = 3\n",
    "fig_1.data[5]['marker']['line']['width'] = 3\n",
    "fig_1.data[7]['marker']['line']['width'] = 3\n",
    "fig_1.data[8]['marker']['line']['width'] = 3\n",
    "fig_1.data[10].update(line_width=0)\n",
    "fig_1.data[11].update(line_width=0)\n",
    "fig_1.update_xaxes(range = [-2,10.5],showgrid=False,zeroline=False)\n",
    "fig_1.update_yaxes(range = [0.1,360],showgrid=False,zeroline=False)\n",
    "fig_1.data[4]['y'] = 10*[200]\n",
    "fig_1.data[5]['x'] = 10*[6]\n",
    "fig_1.data[7]['y'] = 10*[120]\n",
    "fig_1.data[8]['x'] = 10*[3]\n",
    "fig_1"
   ]
  },
  {
   "cell_type": "code",
   "execution_count": null,
   "id": "ce596ade-dfe6-4b70-8ea0-8dc1b7a6768a",
   "metadata": {},
   "outputs": [],
   "source": [
    "fig_2 = px.scatter(scfas_3, \n",
    "                x = 'Propionate',\n",
    "                y = 'Propionate - Predicted', \n",
    "                color = 'treatment', \n",
    "                color_discrete_map = color_discrete_map,\n",
    "                error_x = 'ppa_dev',\n",
    "                trendline = 'ols',\n",
    "                trendline_scope=\"overall\",\n",
    "                trendline_color_override = \"black\",\n",
    "                marginal_x=\"rug\", \n",
    "                marginal_y=\"rug\",\n",
    "                template = 'plotly_white',\n",
    "                labels={\n",
    "                     \"Propionate\": \"\",\n",
    "                     \"Propionate - Predicted\": \"\",\n",
    "                     \"treatment\": \"Treatment\"\n",
    "                 },\n",
    "                title = \"Propionate\",\n",
    "                width=700, height=600)\n",
    "fig_2.update_layout(font = dict(size = 24))\n",
    "fig_2.data[0]['marker']['size'] = 12 #top blue\n",
    "fig_2.data[0].error_x.width = 15\n",
    "fig_2.data[3]['marker']['size'] = 12 #top blue\n",
    "fig_2.data[3].error_x.width = 15\n",
    "fig_2.data[6]['marker']['size'] = 12\n",
    "fig_2.data[6].error_x.width = 15\n",
    "fig_2.data[1]['marker']['size'] = 30\n",
    "fig_2.data[2]['marker']['size'] = 15 \n",
    "fig_2.data[4]['marker']['size'] = 15 \n",
    "fig_2.data[5]['marker']['size'] = 15 \n",
    "fig_2.data[7]['marker']['size'] = 15 \n",
    "fig_2.data[8]['marker']['size'] = 15 \n",
    "fig_2.data[1]['marker']['line']['width'] = 3\n",
    "fig_2.data[2]['marker']['line']['width'] = 3\n",
    "fig_2.data[4]['marker']['line']['width'] = 3\n",
    "fig_2.data[5]['marker']['line']['width'] = 3\n",
    "fig_2.data[7]['marker']['line']['width'] = 3\n",
    "fig_2.data[8]['marker']['line']['width'] = 3\n",
    "fig_2.data[10].update(line_width=0)\n",
    "fig_2.data[11].update(line_width=0)\n",
    "fig_2.update_xaxes(showgrid=False,zeroline=False)\n",
    "fig_2.update_yaxes(range = [-10,190],showgrid=False,zeroline=False)\n",
    "fig_2.data[4]['y'] = 10*[100]\n",
    "fig_2.data[5]['x'] = 10*[5]\n",
    "fig_2.data[7]['y'] = 10*[60]\n",
    "fig_2.data[8]['x'] = 10*[3]\n",
    "fig_2"
   ]
  },
  {
   "cell_type": "code",
   "execution_count": null,
   "id": "63c5ede9-626a-44b0-bef7-8f9e1b75aa7e",
   "metadata": {},
   "outputs": [],
   "source": [
    "fig_3 = px.scatter(scfas_3, \n",
    "                x = 'Butyrate',\n",
    "                y = 'Butyrate - Predicted', \n",
    "                color = 'treatment', \n",
    "                color_discrete_map = color_discrete_map,\n",
    "                error_x = 'but_dev',\n",
    "                trendline = 'ols',\n",
    "                trendline_scope=\"overall\",\n",
    "                trendline_color_override = \"black\",\n",
    "                marginal_x=\"rug\", \n",
    "                marginal_y=\"rug\",\n",
    "                template = 'plotly_white',\n",
    "                labels={\n",
    "                     \"Butyrate\": \"\",\n",
    "                     \"Butyrate - Predicted\": \"\",\n",
    "                     \"treatment\": \"Treatment\"\n",
    "                 },\n",
    "                title = \"Butyrate\",\n",
    "                width=700, height=600)\n",
    "fig_3.update_layout(font = dict(size = 24))\n",
    "fig_3.data[0]['marker']['size'] = 12 #top blue\n",
    "fig_3.data[0].error_x.width = 15\n",
    "fig_3.data[3]['marker']['size'] = 12 #top blue\n",
    "fig_3.data[3].error_x.width = 15\n",
    "fig_3.data[6]['marker']['size'] = 12\n",
    "fig_3.data[6].error_x.width = 15\n",
    "fig_3.data[1]['marker']['size'] = 15\n",
    "fig_3.data[2]['marker']['size'] = 15 \n",
    "fig_3.data[4]['marker']['size'] = 15 \n",
    "fig_3.data[5]['marker']['size'] = 15 \n",
    "fig_3.data[7]['marker']['size'] = 15 \n",
    "fig_3.data[8]['marker']['size'] = 15 \n",
    "fig_3.data[1]['marker']['line']['width'] = 3\n",
    "fig_3.data[2]['marker']['line']['width'] = 3\n",
    "fig_3.data[4]['marker']['line']['width'] = 3\n",
    "fig_3.data[5]['marker']['line']['width'] = 3\n",
    "fig_3.data[7]['marker']['line']['width'] = 3\n",
    "fig_3.data[8]['marker']['line']['width'] = 3\n",
    "fig_3.data[10].update(line_width=0)\n",
    "fig_3.data[11].update(line_width=0)\n",
    "fig_3.update_xaxes(showgrid=False,zeroline=False)\n",
    "fig_3.update_yaxes(showgrid=False,zeroline=False)\n",
    "fig_3.data[4]['y'] = 10*[24]\n",
    "fig_3.data[5]['x'] = 10*[5]\n",
    "fig_3.data[7]['y'] = 10*[12]\n",
    "fig_3.data[8]['x'] = 10*[3]\n",
    "fig_3"
   ]
  },
  {
   "cell_type": "code",
   "execution_count": null,
   "id": "ce6b4c05-a3f6-4d44-b423-6352ac33c037",
   "metadata": {},
   "outputs": [],
   "source": [
    "stat_micom, p_micom = scipy.stats.ttest_rel(scfas_1[scfas_1.treatment.str.contains('Control')]['Acetate - Predicted'],\n",
    "                      scfas_1[scfas_1.treatment.str.contains('Inulin')]['Acetate - Predicted'])\n",
    "stat_exp, p_exp = scipy.stats.ttest_rel(scfas_1[scfas_1.treatment.str.contains('Control')]['Acetate'],\n",
    "                      scfas_1[scfas_1.treatment.str.contains('Inulin')]['Acetate'])\n",
    "print('MICOM:'+str(p_micom.round(10)))\n",
    "print('Experimental:'+str(p_exp.round(10)))"
   ]
  },
  {
   "cell_type": "code",
   "execution_count": null,
   "id": "c2f1599c-9734-48bc-a429-eb518073355b",
   "metadata": {},
   "outputs": [],
   "source": [
    "fig_1.write_image('/users/nbohmann/gurry_ppa.png', scale = 2)\n",
    "fig_2.write_image('/users/nbohmann/gurry_ppa.png', scale = 2)\n",
    "fig_3.write_image('/users/nbohmann/gurry_ac.png', scale = 2)"
   ]
  },
  {
   "cell_type": "markdown",
   "id": "07504218-264e-426d-b8d2-13cce82dee80",
   "metadata": {
    "jp-MarkdownHeadingCollapsed": true,
    "tags": []
   },
   "source": [
    "## Sonnenburg"
   ]
  },
  {
   "cell_type": "code",
   "execution_count": null,
   "id": "17f36e93-d951-47a9-bf3a-a46823875b8c",
   "metadata": {},
   "outputs": [],
   "source": [
    "fiber = pd.read_csv('/proj/gibbons/nbohmann/exvivo/scfa_paper/sonnenburg.csv', index_col = 0)\n",
    "fiber['timepoint'] = fiber['timepoint'].astype('str')\n",
    "fiber = fiber[(~fiber['timepoint'].str.contains('8'))&(~fiber['timepoint'].str.contains('9'))]\n",
    "fiber['timepoint'] = fiber['timepoint'].astype('int')\n",
    "fiber"
   ]
  },
  {
   "cell_type": "code",
   "execution_count": null,
   "id": "94c1ee6e-6f81-4085-9a94-11d6ef9d8490",
   "metadata": {},
   "outputs": [],
   "source": [
    "fiber_sub = fiber[fiber['group'] == 'HighInflammation']\n",
    "\n",
    "stat_high, p_value = scipy.stats.pearsonr(fiber_sub['timepoint'],fiber_sub['total'])\n",
    "\n",
    "r_value_high = (stat_high**2).round(4)\n",
    "r_value_high = \"R\\u00b2: \"+(r_value_high).astype('str')\n",
    "p_value_high = \"p: \"+(p_value.round(4).astype('str'))\n",
    "\n",
    "fiber_sub = fiber[fiber['group'] == 'LowInflammationI']\n",
    "\n",
    "stat_low1, p_value = scipy.stats.pearsonr(fiber_sub['timepoint'],fiber_sub['total'])\n",
    "r_value_low1 = (stat_low1**2).round(4)\n",
    "r_value_low1 = \"R\\u00b2: \"+(r_value_low1).astype('str')\n",
    "p_value_low1 = \"p: \"+(p_value.round(4).astype('str'))\n",
    "\n",
    "fiber_sub = fiber[fiber['group'] == 'LowInflammationII']\n",
    "\n",
    "stat_low2, p_value = scipy.stats.pearsonr(fiber_sub['timepoint'],fiber_sub['total'])\n",
    "\n",
    "r_value_low2 = (stat_low2**2).round(4)\n",
    "r_value_low2 = \"R\\u00b2: \"+(r_value_low2).astype('str')\n",
    "p_value_low2 = \"p: \"+(p_value.round(4).astype('str'))"
   ]
  },
  {
   "cell_type": "code",
   "execution_count": null,
   "id": "1f86b0be-a6c3-4327-a438-74c099872612",
   "metadata": {},
   "outputs": [],
   "source": [
    "plt1 = (ggplot(fiber,\n",
    "    aes(x = 'timepoint', y = 'total'))\n",
    "    +geom_point(color = 'cadetblue')\n",
    "    +geom_smooth(method = 'lm')\n",
    "    +labs(x = 'Timepoint', y = 'Predicted Butyrate \\n and Propionate ($\\dfrac{mmol}{gDW*h}$)')\n",
    "    +scale_color_gradient(low = 'lightblue', high = 'cadetblue')\n",
    "    +facet_wrap(facets = 'group', labeller = 'label_context')\n",
    "    +theme(text = element_text(size=20),panel_background=element_rect(fill = \"white\",\n",
    "                                colour = \"white\",size = 0.5, linetype = \"solid\"),panel_grid= element_blank(),\n",
    "                                axis_line = element_line(size = 2, linetype = \"solid\",colour = \"black\"),\n",
    "                                axis_line_y = element_blank(), axis_text_x=element_text(rotation = 20, hjust = 1)))\n",
    "plt1"
   ]
  },
  {
   "cell_type": "code",
   "execution_count": null,
   "id": "d4c91f3a-8328-46a4-9a01-07dfd12de0a1",
   "metadata": {},
   "outputs": [],
   "source": [
    "plt2 = (ggplot(fiber,\n",
    "    aes(x = 'timepoint', y = 'ac[e]'))\n",
    "    +geom_point(color = 'cadetblue')\n",
    "    +geom_smooth(method = 'lm')\n",
    "    +labs(x = 'Timepoint', y = 'Predicted Acetate ($\\dfrac{mmol}{gDW*h}$)')\n",
    "    +scale_color_gradient(low = 'lightblue', high = 'cadetblue')\n",
    "    +facet_wrap(facets = 'group', labeller = 'label_context')\n",
    "    +theme(text = element_text(size=20),panel_background=element_rect(fill = \"white\",\n",
    "                                colour = \"white\",size = 0.5, linetype = \"solid\"),panel_grid= element_blank(),\n",
    "                                axis_line = element_line(size = 2, linetype = \"solid\",colour = \"black\"),\n",
    "                                axis_line_y = element_blank(), axis_text_x=element_text(rotation = 20, hjust = 1)))\n",
    "plt2"
   ]
  },
  {
   "cell_type": "code",
   "execution_count": null,
   "id": "fbb03eda-68e9-4f65-8a3f-df45b8e00f99",
   "metadata": {},
   "outputs": [],
   "source": [
    "plt3 = (ggplot(\n",
    "    fiber, aes(x = 'group', y = 'total'))\n",
    "        +geom_boxplot(aes(groups = 'group'), fill = 'cadetblue', width = 0.4)\n",
    "        +ylim(200,450)\n",
    "        +labs(x = 'Immune Response Group', y = 'Predicted Butyrate \\n and Propionate ($\\dfrac{mmol}{gDW*h}$)',\n",
    "             title = 'Total Butyrate + Propionate Production \\n Across Intervention')\n",
    "        +scale_x_discrete(limits = ['HighInflammation','LowInflammationI','LowInflammationII'],\n",
    "                          labels = ['High \\n Inf.', 'Low \\n Inf. I', 'Low \\n Inf. II'])\n",
    "         +theme(text = element_text(size=20, color = 'black'),panel_background=element_rect(fill = \"white\",\n",
    "                                colour = \"white\",size = 0.5, linetype = \"solid\"),panel_grid= element_blank(),\n",
    "                                axis_line = element_line(size = 2, linetype = \"solid\",colour = \"black\"),\n",
    "                                legend_position='right',axis_text_x=element_text(rotation = 20, hjust = 1)))\n",
    "plt3"
   ]
  },
  {
   "cell_type": "code",
   "execution_count": null,
   "id": "de0b438e-ee09-4764-82d7-f5fff890f08a",
   "metadata": {},
   "outputs": [],
   "source": [
    "plt4 = (ggplot(\n",
    "    fiber, aes(x = 'group', y = 'ac[e]'))\n",
    "        +geom_boxplot(aes(groups = 'group'), fill = 'cadetblue', width = 0.4)\n",
    "        +ylim(200,450)\n",
    "        +labs(x = 'Immune Response Group', y = 'Predicted Acetate ($\\dfrac{mmol}{gDW*h}$)',\n",
    "             title = 'Total Butyrate + Propionate Production \\n Across Intervention')\n",
    "        +scale_x_discrete(limits = ['HighInflammation','LowInflammationI','LowInflammationII'],\n",
    "                          labels = ['High \\n Inf.', 'Low \\n Inf. I', 'Low \\n Inf. II'])\n",
    "         +theme(text = element_text(size=20, color = 'black'),panel_background=element_rect(fill = \"white\",\n",
    "                                colour = \"white\",size = 0.5, linetype = \"solid\"),panel_grid= element_blank(),\n",
    "                                axis_line = element_line(size = 2, linetype = \"solid\",colour = \"black\"),\n",
    "                                legend_position='right',axis_text_x=element_text(rotation = 20, hjust = 1)))\n",
    "plt4"
   ]
  },
  {
   "cell_type": "code",
   "execution_count": null,
   "id": "0ab73f6e-dac3-4556-8258-e8f6ce52dd57",
   "metadata": {},
   "outputs": [],
   "source": [
    "ggsave(plt1,'/users/nbohmann/butyratepropionate_pertime.png', dpi = 300)\n",
    "ggsave(plt2,'/users/nbohmann/butyratepropionate_total.png', dpi = 300)\n",
    "ggsave(plt3,'/users/nbohmann/acetate_pertime.png', dpi = 300)\n",
    "ggsave(plt4,'/users/nbohmann/acetate_total.png', dpi = 300)"
   ]
  },
  {
   "cell_type": "markdown",
   "id": "9e991f43-4ee6-4a1e-9df7-6228e8f12ea2",
   "metadata": {
    "tags": []
   },
   "source": [
    "## Arivale"
   ]
  },
  {
   "cell_type": "code",
   "execution_count": null,
   "id": "d2f53d80-b2a4-4e71-a99a-c93b6cff8a3e",
   "metadata": {},
   "outputs": [],
   "source": [
    "import seaborn as sns\n",
    "import matplotlib.pyplot as plt \n",
    "%matplotlib inline\n",
    "\n",
    "arivale = pd.read_csv('/proj/gibbons/nbohmann/exvivo/scfa_paper/arivale.csv',index_col = 0)\n",
    "df = pd.read_csv('/proj/gibbons/nbohmann/exvivo/scfa_paper/arivale_hits.csv',index_col = 0)\n",
    "df\n",
    "arivale.sample_id.nunique()"
   ]
  },
  {
   "cell_type": "code",
   "execution_count": null,
   "id": "43ce6989-c239-4d8e-b10f-d67e43498ab3",
   "metadata": {
    "jupyter": {
     "source_hidden": true
    },
    "scrolled": true,
    "tags": []
   },
   "outputs": [],
   "source": [
    "df_pivot = pd.pivot_table(df, columns = 'measure', \n",
    "                          index = 'display', values = 'rho') #pivot for heatmap values\n",
    "df_pivot = df_pivot[['Butyrate','Propionate','Acetate','Total']]\n",
    "pvals = pd.pivot_table(df, columns = 'measure',\n",
    "                       index = 'display', values = 'p_corrected') #pivot for heatmap annotations\n",
    "pvals = pvals[['Butyrate','Propionate','Acetate','Total']]\n",
    "pvals[pvals>0.05] = np.nan\n",
    "pvals[(pvals<=0.05)&(pvals>0.01)] = 100\n",
    "pvals[(pvals<=0.01)&(pvals>0.001)] = 200\n",
    "pvals[pvals<0.001] = 300\n",
    "pvals = pvals.replace(100,'*').replace(200,'**').replace(300,'***').replace(np.nan,'')\n",
    "\n",
    "sns.set(font_scale= 3.1)# set font\n",
    "f, ax = plt.subplots(figsize=(12,24)) #initialize plot\n",
    "cmap = sns.diverging_palette(230, 10, sep=20, as_cmap=True)\n",
    "ax = sns.heatmap(df_pivot, center = 0, cmap = cmap, annot = pvals, #make heatmap with annotations\n",
    "                 fmt='', annot_kws={'fontsize': 18, 'color':'white',\n",
    "                           'verticalalignment': 'center'})\n",
    "ax.get_xticklabels()\n",
    "ax.set(xlabel = None)\n",
    "ax.set(ylabel = None)"
   ]
  },
  {
   "cell_type": "code",
   "execution_count": null,
   "id": "c52555d3-d109-46f0-8e2d-7a63109f679c",
   "metadata": {},
   "outputs": [],
   "source": [
    "slope, intercept, r_value, p_value, std_err = scipy.stats.linregress(arivale['Acetate'], \n",
    "                                                                     arivale['Butyrate'])\n",
    "r_value = (r_value**2).round(4)\n",
    "r_value = \"R\\u00b2: \"+(r_value).astype('str')\n",
    "p_value = \"p: \"+(p_value.round(42).astype('str'))\n",
    "\n",
    "\n",
    "\n",
    "\n",
    "plt1 = (ggplot(\n",
    "    arivale, aes(x = 'Butyrate',y = 'Acetate'))\n",
    "    +geom_point(color = 'cadetblue')\n",
    "    +geom_smooth()\n",
    "    +annotate('text', x = 40, y = 85, label = r_value, size = 15)\n",
    "    +annotate('text', x= 40, y = 79, label = 'p: <0.001', size = 15)\n",
    "    +labs(x= 'Predicted Butyrate \\n ($\\dfrac{mmol}{gDW*h}$)',\n",
    "          y = 'Predicted Acetate \\n ($\\dfrac{mmol}{gDW*h}$)',\n",
    "          title = 'Acetate vs. Butyrate')\n",
    "    +theme(text = element_text(size=20),\n",
    "       panel_background=element_rect(fill = \"white\", colour = \"white\",size = 0.5, linetype = \"solid\"),\n",
    "       panel_grid=element_blank(),\n",
    "       axis_line = element_line(size = 2, linetype = \"solid\", colour = \"black\"),\n",
    "       legend_title=element_blank(), legend_position='right')\n",
    ")\n",
    "plt1"
   ]
  },
  {
   "cell_type": "code",
   "execution_count": null,
   "id": "ea0d676e-fabe-46a2-b7d2-952e03601d1c",
   "metadata": {},
   "outputs": [],
   "source": [
    "slope, intercept, r_value, p_value, std_err = scipy.stats.linregress(arivale['Butyrate'], \n",
    "                                                                     arivale['Propionate'])\n",
    "r_value = (r_value**2).round(4)\n",
    "r_value = \"R\\u00b2: \"+(r_value).astype('str')\n",
    "p_value = \"p: \"+(p_value.astype('str'))\n",
    "\n",
    "\n",
    "\n",
    "plt2 = (ggplot(\n",
    "    arivale, aes(x = 'Propionate',y = 'Butyrate'))\n",
    "    +geom_point(color = 'cadetblue')\n",
    "    +geom_smooth()\n",
    "    +annotate('text', x = 16, y = 48, label = r_value, size = 15)\n",
    "    +annotate('text', x= 16, y = 44, label = 'p: <0.001', size = 15)\n",
    "    +labs(x= 'Predicted Propionate \\n ($\\dfrac{mmol}{gDW*h}$)',\n",
    "          y = 'Predicted Butyrate \\n ($\\dfrac{mmol}{gDW*h}$)',\n",
    "          title = 'Butyrate vs. Propionate')\n",
    "    +theme(text = element_text(size=20),\n",
    "       panel_background=element_rect(fill = \"white\", colour = \"white\",size = 0.5, linetype = \"solid\"),\n",
    "       panel_grid=element_blank(),\n",
    "       axis_line = element_line(size = 2, linetype = \"solid\", colour = \"black\"),\n",
    "       legend_title=element_blank(), legend_position='right')\n",
    ")\n",
    "plt2"
   ]
  },
  {
   "cell_type": "code",
   "execution_count": null,
   "id": "118f1c3a-6787-4933-a101-635d41b49789",
   "metadata": {},
   "outputs": [],
   "source": [
    "slope, intercept, r_value, p_value, std_err = scipy.stats.linregress(arivale['Propionate'], \n",
    "                                                                     arivale['Acetate'])\n",
    "r_value = (r_value**2).round(4)\n",
    "r_value = \"R\\u00b2: \"+(r_value).astype('str')\n",
    "p_value = \"p: \"+(p_value.round(19).astype('str'))\n",
    "\n",
    "\n",
    "\n",
    "plt3 = (ggplot(\n",
    "    arivale, aes(x = 'Propionate',y = 'Acetate'))\n",
    "    +geom_point(color = 'cadetblue')\n",
    "    +geom_smooth()\n",
    "    +annotate('text', x = 18, y = 68, label = r_value, size = 15)\n",
    "    +annotate('text', x= 18, y = 64, label = 'p: <0.001', size = 15)\n",
    "    +labs(x= 'Predicted Propionate \\n ($\\dfrac{mmol}{gDW*h}$)',\n",
    "          y = 'Predicted Acetate \\n ($\\dfrac{mmol}{gDW*h}$)',\n",
    "          title = 'Acetate vs. Propionate')\n",
    "    +theme(text = element_text(size=20),\n",
    "       panel_background=element_rect(fill = \"white\", colour = \"white\",size = 0.5, linetype = \"solid\"),\n",
    "       panel_grid=element_blank(),\n",
    "       axis_line = element_line(size = 2, linetype = \"solid\", colour = \"black\"),\n",
    "       legend_title=element_blank(), legend_position='right')\n",
    ")\n",
    "plt3"
   ]
  },
  {
   "cell_type": "code",
   "execution_count": null,
   "id": "2cd7cea2-2b5f-480b-b746-168c9a74d596",
   "metadata": {},
   "outputs": [],
   "source": [
    "ggsave(plt1, '/users/nbohmann/but_ac.png', dpi = 1000)\n",
    "ggsave(plt2, '/users/nbohmann/ppa_but.png', dpi = 1000)\n",
    "ggsave(plt3, '/users/nbohmann/ac_ppa.png', dpi = 1000)"
   ]
  },
  {
   "cell_type": "markdown",
   "id": "fd5ee8d0-3a33-428f-a407-9bd967f56224",
   "metadata": {
    "jp-MarkdownHeadingCollapsed": true,
    "tags": []
   },
   "source": [
    "## Diet Interventions"
   ]
  },
  {
   "cell_type": "code",
   "execution_count": null,
   "id": "453a1d1e-3883-4a0b-af07-19ca56095aec",
   "metadata": {},
   "outputs": [],
   "source": [
    "def percentage_change(col1,col2):\n",
    "    return ((col2 - col1) / col1) * 100"
   ]
  },
  {
   "cell_type": "code",
   "execution_count": null,
   "id": "b9442835-c243-4db8-9306-bf185e14b89c",
   "metadata": {},
   "outputs": [],
   "source": [
    "os.chdir('/proj/gibbons/nbohmann/exvivo/scfa_paper/')\n",
    "butyrate = pd.read_csv('diet_flip.csv',index_col = 0)\n",
    "butyrate['diet'] = butyrate['diet'].str.replace('high_fiber','High Fiber')\n",
    "butyrate_pvt = pd.pivot_table(butyrate,index = 'sample_id',columns = 'diet', values = 'but')\n",
    "butyrate_pvt['change'] = percentage_change(butyrate_pvt['EU'],butyrate_pvt['High Fiber'])\n",
    "butyrate_pvt.sort_values(by = 'change')\n",
    "nonresponders = butyrate_pvt[(butyrate_pvt['EU']<10)&(butyrate_pvt['change']<20)]\n",
    "regressors = butyrate_pvt[(butyrate_pvt['EU']>19.9)&(butyrate_pvt['change']<0)]\n",
    "box_nonresponders = [nonresponders[['EU','High Fiber']].min().min(), nonresponders[['EU','High Fiber']].max().max()]\n",
    "box_regressors = [regressors[['EU','High Fiber']].min().min(), regressors[['EU','High Fiber']].max().max()]"
   ]
  },
  {
   "cell_type": "code",
   "execution_count": null,
   "id": "ac4bba18-a458-4710-ad0b-1bc8ea56e68b",
   "metadata": {},
   "outputs": [],
   "source": [
    "hist_plt = (ggplot(\n",
    "    butyrate,aes(x = 'but'))\n",
    "    +annotate(geom_rect, xmin=box_nonresponders[0], xmax=box_nonresponders[1], ymin=0, ymax=float('inf'),\n",
    "              fill = 'darkgreen', alpha=0.3)\n",
    "    +annotate(geom_rect, xmin=box_regressors[0], xmax=box_regressors[1], ymin=0, ymax=float('inf'),\n",
    "              fill = 'orange', alpha=0.3)\n",
    "    +geom_density(aes(fill = 'diet'))\n",
    "    +labs(x = 'Butyrate Production ($\\dfrac{mmol}{gDW*h}$)',y = 'Fraction',\n",
    "          color = 'Butyrate Production Quantile, EU Diet')\n",
    "    +scale_fill_discrete(name = 'Diet', labels = ['European','High Fiber'])\n",
    "    +theme(text = element_text(size=20),\n",
    "       panel_background=element_rect(fill = \"white\", colour = \"white\",size = 0.5, linetype = \"solid\"),\n",
    "       panel_grid=element_blank(),\n",
    "       axis_line = element_line(size = 2, linetype = \"solid\", colour = \"black\"),\n",
    "       legend_title=element_blank(), legend_position='right'))\n",
    "hist_plt"
   ]
  },
  {
   "cell_type": "code",
   "execution_count": null,
   "id": "4a8c10d0-a2ce-46e5-b3da-048383b5667b",
   "metadata": {},
   "outputs": [],
   "source": [
    "scipy.stats.ttest_ind(regressors[regressors['Diet']=='Optimal']['Butyrate'],\n",
    "                      regressors[regressors['Diet']=='Euro']['Butyrate'])"
   ]
  },
  {
   "cell_type": "code",
   "execution_count": null,
   "id": "e5c58be1-2c88-414e-b7b7-635a0cfb2695",
   "metadata": {},
   "outputs": [],
   "source": [
    "nonresponders = pd.read_csv('/proj/gibbons/nbohmann/exvivo/scfa_paper/intervention.csv').rename(\n",
    "    columns = {'Unnamed: 0':'sample_id'})\n",
    "nonresponders['Optimal'] = nonresponders.max(axis = 1)\n",
    "nonresponders = pd.melt(nonresponders[['sample_id','Euro','High-Fiber','Optimal']], id_vars = 'sample_id', \n",
    "                      var_name = 'Diet',value_name = 'Butyrate')\n",
    "nonresponders['title'] = 'Non-Responders'"
   ]
  },
  {
   "cell_type": "code",
   "execution_count": null,
   "id": "29d21f04-6a17-480b-8921-8c6c0ab8b32b",
   "metadata": {},
   "outputs": [],
   "source": [
    "facet_plt1 = (ggplot(\n",
    "    nonresponders,aes(x = 'Butyrate'))\n",
    "    +geom_density(aes(fill = 'Diet'), alpha = 0.7)\n",
    "    +labs(x = 'Butyrate Production ($\\dfrac{mmol}{gDW*h}$)',y = 'Fraction',\n",
    "          color = 'Butyrate Production Quantile, Western Diet')\n",
    "    +scale_fill_manual(values = ['#db5e57','#57d2db','navy'])\n",
    "    +facet_wrap('title')\n",
    "    +theme(text = element_text(size=20),\n",
    "       panel_background=element_rect(fill = \"white\", colour = \"white\",size = 0.5, linetype = \"solid\"),\n",
    "       panel_grid=element_blank(),\n",
    "           strip_background_x = element_text(color = 'darkgreen', alpha = 0.3),\n",
    "       axis_line = element_line(size = 2, linetype = \"solid\", colour = \"black\"),\n",
    "       legend_title=element_blank(), legend_position='right'))\n",
    "facet_plt1"
   ]
  },
  {
   "cell_type": "code",
   "execution_count": null,
   "id": "297d2fda-13f8-49c4-bc37-a595a661886c",
   "metadata": {},
   "outputs": [],
   "source": [
    "regressors = pd.read_csv('/proj/gibbons/nbohmann/exvivo/scfa_paper/intervention2.csv').rename(\n",
    "    columns = {'Unnamed: 0':'sample_id'})\n",
    "regressors['Optimal'] = regressors.max(axis = 1)\n",
    "regressors = pd.melt(regressors[['sample_id','Euro','High-Fiber','Optimal']], id_vars = 'sample_id', \n",
    "                      var_name = 'Diet',value_name = 'Butyrate')\n",
    "regressors['title'] = 'Regressors'"
   ]
  },
  {
   "cell_type": "code",
   "execution_count": null,
   "id": "82b0dde6-10ca-41f7-8e51-9200e2d1d40c",
   "metadata": {},
   "outputs": [],
   "source": [
    "facet_plt2 = (ggplot(\n",
    "    regressors,aes(x = 'Butyrate'))\n",
    "    +geom_density(aes(fill = 'Diet'), alpha = 0.7)\n",
    "    +labs(x = 'Butyrate Production ($\\dfrac{mmol}{gDW*h}$)',y = 'Fraction',\n",
    "          color = 'Butyrate Production Quantile, Western Diet')\n",
    "    +scale_fill_manual(values = ['#db5e57','#57d2db','navy'])\n",
    "    +facet_wrap('title')\n",
    "    +theme(text = element_text(size=20),\n",
    "       panel_background=element_rect(fill = \"white\", colour = \"white\",size = 0.5, linetype = \"solid\"),\n",
    "       panel_grid=element_blank(),\n",
    "           strip_background_x = element_text(color = 'orange', alpha = 0.3),\n",
    "       axis_line = element_line(size = 2, linetype = \"solid\", colour = \"black\"),\n",
    "       legend_title=element_blank(), legend_position='right'))\n",
    "facet_plt2"
   ]
  },
  {
   "cell_type": "code",
   "execution_count": null,
   "id": "436bb401-9353-4a53-85f1-1847ff126035",
   "metadata": {},
   "outputs": [],
   "source": [
    "euro = intervention[intervention.Diet.str.contains('Euro')]['Butyrate']\n",
    "hf = intervention[intervention.Diet.str.contains('High-Fiber')]['Butyrate']\n",
    "op = intervention[intervention.Diet.str.contains('Optimal')]['Butyrate']\n",
    "scipy.stats.ttest_ind(hf,op)"
   ]
  },
  {
   "cell_type": "code",
   "execution_count": null,
   "id": "a231b0d7-9f4d-4e7e-87ff-13d13e92cd43",
   "metadata": {},
   "outputs": [],
   "source": [
    "ggsave(facet_plt1, '/users/nbohmann/facet_plot1.png', dpi = 300)\n",
    "ggsave(facet_plt2, '/users/nbohmann/facet_plot2.png', dpi = 300)\n",
    "ggsave(hist_plt, '/users/nbohmann/hist_plot.png', dpi = 300)"
   ]
  },
  {
   "cell_type": "code",
   "execution_count": null,
   "id": "56b757cb-756b-4e97-bed8-25c29ad5813d",
   "metadata": {},
   "outputs": [],
   "source": [
    "intervention = pd.read_csv('/proj/gibbons/nbohmann/exvivo/scfa_paper/intervention.csv').drop(\n",
    "    columns = 'Unnamed: 0')\n",
    "intervention.index = (['Non-Responders'])*len(intervention)\n",
    "intervention2 = pd.read_csv('/proj/gibbons/nbohmann/exvivo/scfa_paper/intervention2.csv').drop(\n",
    "    columns = 'Unnamed: 0')\n",
    "intervention2.index = (['Regressors'])*len(intervention2)\n",
    "intervention = pd.concat([intervention, intervention2])\n",
    "intervention = intervention.sort_values(by = ['Euro','High-Fiber','Euro + Pectin', 'HF + Pectin',\n",
    "                                          'Euro + Inulin', 'HF + Inulin','Euro + Probiotic', 'HF + Probiotic'])\n",
    "intervention = intervention.rename(columns = {'Euro':'European'})\n",
    "# intervention = np.log(intervention)\n",
    "max_list = intervention.rename(columns = {'European':0,'High-Fiber':1,'Euro + Pectin':2, 'HF + Pectin':3,\n",
    "                                          'Euro + Inulin':4, 'HF + Inulin':5,'Euro + Probiotic':6,\n",
    "                                          'HF + Probiotic':7}\n",
    "                              ).idxmax(axis = 'columns')\n",
    "intervention"
   ]
  },
  {
   "cell_type": "code",
   "execution_count": null,
   "id": "4570bcd5-2c80-4d06-9fec-ceb5b2864a64",
   "metadata": {},
   "outputs": [],
   "source": [
    "from matplotlib.patches import Rectangle\n",
    "\n",
    "lut = {'Non-Responders':'#b2d0b1', 'Regressors':'#fee3b2'}\n",
    "row_colors = intervention.index.map(lut)\n",
    "\n",
    "sns.set(font_scale= 1.5)# set font\n",
    "cmap = sns.diverging_palette(230, 200, sep=20, as_cmap=True)\n",
    "ax = sns.clustermap(intervention.T,cmap = 'Reds',figsize = (20,10), #make heatmap with annotations\n",
    "                 fmt='',col_colors = row_colors, col_cluster = False, row_cluster = False,\n",
    "                    annot_kws={'fontsize': 18, 'color':'white','verticalalignment': 'center'})\n",
    "\n",
    "ax.ax_cbar.set_ylabel(\"Butyrate($\\dfrac{mmol}{gDW*h}$)\",size=20)\n",
    "ax.ax_cbar.set_position((.1, .2, .03, .5))\n",
    "for x in range(len(max_list)):\n",
    "    ax.ax_heatmap.add_patch(Rectangle((x,max_list[x]), 1, 1, fill=False, edgecolor='black', lw=3))\n",
    "\n",
    "ax"
   ]
  }
 ],
 "metadata": {
  "kernelspec": {
   "display_name": "Python 3 (ipykernel)",
   "language": "python",
   "name": "python3"
  },
  "language_info": {
   "codemirror_mode": {
    "name": "ipython",
    "version": 3
   },
   "file_extension": ".py",
   "mimetype": "text/x-python",
   "name": "python",
   "nbconvert_exporter": "python",
   "pygments_lexer": "ipython3",
   "version": "3.8.13"
  }
 },
 "nbformat": 4,
 "nbformat_minor": 5
}
