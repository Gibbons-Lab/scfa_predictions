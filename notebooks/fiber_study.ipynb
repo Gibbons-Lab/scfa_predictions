{
 "cells": [
  {
   "cell_type": "markdown",
   "id": "da667d01-72f3-4924-b8a1-798bc6439594",
   "metadata": {},
   "source": [
    "# Wastyk et al. (2021) from the Sonnenburg Lab showed in a feeding study the inter-individual differences in inflammatory immune response after intervention with a high-fiber diet. Here, we use microbial sequencing data from this study to compare the results of MICOM metabolic modeling with the results obtained by the authors. Specifically, we are curious whether the SCFA production profiles from our metabolic models agree with the inflammatory immune response group used by the authors to categorize study participants"
   ]
  },
  {
   "cell_type": "raw",
   "id": "584a0678-7b0a-4292-801d-f717f47fb623",
   "metadata": {},
   "source": [
    "import os\n",
    "import pandas as pd\n",
    "from plotnine import *\n",
    "from tqdm import tqdm\n",
    "import numpy as np\n",
    "import scipy\n",
    "import micom\n",
    "import micom.measures\n",
    "\n",
    "%matplotlib inline"
   ]
  },
  {
   "cell_type": "markdown",
   "id": "2adf2e59-707f-4fd1-a08e-111c6b49b74c",
   "metadata": {},
   "source": [
    "## Load up the taxonomic abundances and build a taxonomy table for use in MICOM. We have a separate file with taxon names for each ASV that we will load as a dict and map onto the taxonomy table"
   ]
  },
  {
   "cell_type": "code",
   "execution_count": null,
   "id": "bc167af0-9ab2-4fef-8414-2b963f38ab5d",
   "metadata": {},
   "outputs": [],
   "source": [
    "# Load abundance data\n",
    "taxonomy = pd.read_csv('../data/fiberstudy_abundances.csv')\n",
    "# Load ASV file as a dict\n",
    "asv = pd.read_csv('../data/fiberstudy_ASVs.csv', index_col = 0)['0'].to_dict()\n",
    "# Rename abundance data columns with ASV names\n",
    "taxonomy = taxonomy.rename(columns = asv)\n",
    "# Create a unique sample ID for each participant at each timepoint\n",
    "taxonomy['sample_id'] = taxonomy['participant'].astype('str')+'_'+taxonomy['timepoint'].astype('str')\n",
    "# Table include samples that underwent a different intervention - filter to only fiber intervention\n",
    "taxonomy = taxonomy[taxonomy['group']=='Fiber']\n",
    "# Timepoints 8 and 9 are in the 'participant choice' part of the intervention - we'll exclude these\n",
    "taxonomy = taxonomy[~(taxonomy['timepoint']==8)&~(taxonomy['timepoint']==9)]\n",
    "# Group duplicated columns\n",
    "taxonomy = taxonomy.groupby(axis=1, level=0).sum()\n",
    "# Save the metadata for future use\n",
    "metadata = taxonomy.set_index('sample_id')[['participant','timepoint','immune_group']]\n",
    "# Melt into a longform dataframe\n",
    "taxonomy = pd.melt(taxonomy,\n",
    "                   id_vars = ['sample_id','participant','group','timepoint','immune_group'],\n",
    "                   value_vars = taxonomy.columns[4:-1], \n",
    "                   var_name = 'id',\n",
    "                   value_name = 'abundance')\n",
    "# Add a genus column, as required by MItCOM for the taxonomy table\n",
    "taxonomy['genus'] = taxonomy['id'].str.split(';').str[5].str.split('.').str[0]\n",
    "# Drop columns where genus is undefined\n",
    "taxonomy['genus'].replace('',np.nan, inplace = True)\n",
    "taxonomy.dropna(how = 'any', inplace = True)\n",
    "taxonomy"
   ]
  },
  {
   "cell_type": "markdown",
   "id": "eb5fe044-19bd-4ef1-9e48-27efdc88b4e7",
   "metadata": {},
   "source": [
    "## Before building our models we need to define our model database"
   ]
  },
  {
   "cell_type": "code",
   "execution_count": null,
   "id": "22f73bb4-9e85-4284-af67-956ae951f223",
   "metadata": {},
   "outputs": [],
   "source": [
    "agora = ('../agora/data')"
   ]
  },
  {
   "cell_type": "markdown",
   "id": "e94e8c0f-6b40-4c5b-8447-0c12dd488055",
   "metadata": {},
   "source": [
    "## Now we'll build the models using our abundance table. "
   ]
  },
  {
   "cell_type": "code",
   "execution_count": null,
   "id": "183f2adc-78db-4e25-8baf-63363e7ad3ae",
   "metadata": {},
   "outputs": [],
   "source": [
    "models = micom.workflows.build(taxonomy,out_folder = '../models/fiber_study',\n",
    "                 model_db = agora, cutoff = 0.001, threads = 10)"
   ]
  },
  {
   "cell_type": "markdown",
   "id": "06342b09-8472-4fea-966e-11495b7f86c4",
   "metadata": {},
   "source": [
    "## Load up the high-fiber medium we'll use to grow the models, which has been completed via the medium_construction.ipynb notebook"
   ]
  },
  {
   "cell_type": "code",
   "execution_count": null,
   "id": "e6e6d909-edbc-4760-ab54-ee1692b7f1be",
   "metadata": {},
   "outputs": [],
   "source": [
    "medium = pd.read_csv('../media/highfiber.csv')"
   ]
  },
  {
   "cell_type": "markdown",
   "id": "21c8b265-976a-4672-926f-ad00da425c69",
   "metadata": {},
   "source": [
    "## Next, grow the samples with the high fiber medium and a tradeoff value of 0.7"
   ]
  },
  {
   "cell_type": "code",
   "execution_count": null,
   "id": "47a040f7-955d-4ac6-8193-14cc2f84d055",
   "metadata": {},
   "outputs": [],
   "source": [
    "# Read the model manifest\n",
    "manifest = pd.read_csv('../models/fiber_study/manifest.csv')\n",
    "# Grow the models with a tradeoff value of 0.7\n",
    "growth = micom.workflows.grow(manifest,'../models/fiber_study',medium=medium,tradeoff=.7,strategy='none',threads = 20)\n",
    "# # Collect the absolute production rates\n",
    "production = micom.measures.production_rates(growth)"
   ]
  },
  {
   "cell_type": "code",
   "execution_count": null,
   "id": "9bc3aecb-8b9f-4b16-a550-70719d3d76c0",
   "metadata": {},
   "outputs": [],
   "source": [
    "# Isolate SCFA production\n",
    "scfa = production[(production['metabolite']=='but[e]')|(production['metabolite']=='ppa[e]')|(production['metabolite']=='ac[e]')]\n",
    "# Pivot the results for plotting\n",
    "scfa = pd.pivot(scfa,\n",
    "                index = 'sample_id',\n",
    "                columns = 'metabolite',\n",
    "                values = 'flux')\n",
    "# Map the immune group and timepoint from the metadata\n",
    "scfa['immune_group'] = scfa.index.map(metadata['immune_group'].to_dict())\n",
    "scfa['timepoint'] = scfa.index.map(metadata['timepoint'].to_dict())\n",
    "# Add butyrate and propionate together |\n",
    "scfa['but_ppa'] = scfa['ppa[e]']+scfa['but[e]']"
   ]
  },
  {
   "cell_type": "markdown",
   "id": "6e1e9026-edb7-44ae-aa4c-bd4f6404ae56",
   "metadata": {},
   "source": [
    "## Now, plot the predicted production among each inflammation group, at each timepoint across the intervention and average. We'll do acetate first, then propionate plus butyrate (both anti inflammatory)"
   ]
  },
  {
   "cell_type": "code",
   "execution_count": null,
   "id": "e4464de4-0075-480f-8484-780715ed0f1c",
   "metadata": {},
   "outputs": [],
   "source": [
    "plt1 = (ggplot(scfa,\n",
    "    aes(x = 'timepoint', y = 'ac[e]'))\n",
    "    +geom_point(color = 'cadetblue')\n",
    "    +geom_smooth(method = 'lm')\n",
    "    +labs(x = 'Timepoint', y = 'Predicted Acetate \\n ($\\dfrac{mmol}{gDW*h}$)')\n",
    "    +facet_wrap(facets = 'immune_group')\n",
    "    +theme(text = element_text(size=20),panel_background=element_rect(fill = \"white\",\n",
    "                                colour = \"white\",size = 0.5, linetype = \"solid\"),panel_grid= element_blank(),\n",
    "                                axis_line = element_line(size = 2, linetype = \"solid\",colour = \"black\"),\n",
    "                                axis_line_y = element_blank(), axis_text_x=element_text(rotation = 20, hjust = 1)))\n",
    "plt1"
   ]
  },
  {
   "cell_type": "code",
   "execution_count": null,
   "id": "0d5bb5b0-3ea4-48e6-b76b-c115f427e2a9",
   "metadata": {},
   "outputs": [],
   "source": [
    "plt2 = (ggplot(scfa,\n",
    "    aes(x = 'timepoint', y = 'but_ppa'))\n",
    "    +geom_point(color = 'cadetblue')\n",
    "    +geom_smooth(method = 'lm')\n",
    "    +labs(x = 'Timepoint', y = 'Predicted Butyrate+Propionate \\n ($\\dfrac{mmol}{gDW*h}$)')\n",
    "    +facet_wrap(facets = 'immune_group')\n",
    "    +theme(text = element_text(size=20),panel_background=element_rect(fill = \"white\",\n",
    "                                colour = \"white\",size = 0.5, linetype = \"solid\"),panel_grid= element_blank(),\n",
    "                                axis_line = element_line(size = 2, linetype = \"solid\",colour = \"black\"),\n",
    "                                axis_line_y = element_blank(), axis_text_x=element_text(rotation = 20, hjust = 1)))\n",
    "plt2"
   ]
  },
  {
   "cell_type": "markdown",
   "id": "4d63a00e-0fb7-40b5-aaa3-7a6d427e2d80",
   "metadata": {},
   "source": [
    "## Let's also look at average production across the entire intervention per immune group. Again, we'll start with acetate, then do propionate plus butyrate"
   ]
  },
  {
   "cell_type": "code",
   "execution_count": null,
   "id": "a6d2ed4c-e662-447e-bc46-183b1c833b1c",
   "metadata": {},
   "outputs": [],
   "source": [
    "plt3 = (ggplot(scfa, \n",
    "        aes(x = 'immune_group', y = 'ac[e]'))\n",
    "        +geom_boxplot(fill = 'cadetblue',size = 1, width = 0.4)\n",
    "        +labs(x = 'Immune Response Group', y = 'Predicted Acetate ($\\dfrac{mmol}{L*h}$)')\n",
    "        +scale_x_discrete(limits = ['HighInflammation','LowInflammationI','LowInflammationII'],\n",
    "                          labels = ['High \\n Inf.', 'Low \\n Inf. I', 'Low \\n Inf. II'])\n",
    "        +theme(text = element_text(size=20, color = 'black'),panel_background=element_rect(fill = \"white\",\n",
    "                                colour = \"white\",size = 0.5, linetype = \"solid\"),panel_grid= element_blank(),\n",
    "                                axis_line = element_line(size = 2, linetype = \"solid\",colour = \"black\"),\n",
    "                                legend_position='right',axis_text_x=element_text(rotation = 20, hjust = 1)))\n",
    "plt3"
   ]
  },
  {
   "cell_type": "code",
   "execution_count": null,
   "id": "c44a19d5-d549-40f0-b417-8ce1466066bb",
   "metadata": {},
   "outputs": [],
   "source": [
    "plt4 = (ggplot(scfa,\n",
    "        aes(x = 'immune_group', y = 'but_ppa'))\n",
    "        +geom_boxplot(fill = 'cadetblue',size = 1, width = 0.4)\n",
    "        +labs(x = 'Immune Response Group', y = 'Predicted Butyrate + Propionate($\\dfrac{mmol}{L*h}$)')\n",
    "        +scale_x_discrete(limits = ['HighInflammation','LowInflammationI','LowInflammationII'],\n",
    "                          labels = ['High \\n Inf.', 'Low \\n Inf. I', 'Low \\n Inf. II'])\n",
    "        +theme(text = element_text(size=20, color = 'black'),panel_background=element_rect(fill = \"white\",\n",
    "                                colour = \"white\",size = 0.5, linetype = \"solid\"),panel_grid= element_blank(),\n",
    "                                axis_line = element_line(size = 2, linetype = \"solid\",colour = \"black\"),\n",
    "                                legend_position='right',axis_text_x=element_text(rotation = 20, hjust = 1)))\n",
    "plt4"
   ]
  }
 ],
 "metadata": {
  "kernelspec": {
   "display_name": "Python 3 (ipykernel)",
   "language": "python",
   "name": "python3"
  },
  "language_info": {
   "codemirror_mode": {
    "name": "ipython",
    "version": 3
   },
   "file_extension": ".py",
   "mimetype": "text/x-python",
   "name": "python",
   "nbconvert_exporter": "python",
   "pygments_lexer": "ipython3",
   "version": "3.8.13"
  }
 },
 "nbformat": 4,
 "nbformat_minor": 5
}
