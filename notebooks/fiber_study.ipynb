{
 "cells": [
  {
   "cell_type": "markdown",
   "id": "da667d01-72f3-4924-b8a1-798bc6439594",
   "metadata": {},
   "source": [
    "# Fiber Study\n",
    "Wastyk et al. (2021) from the Sonnenburg Lab showed in a feeding study the inter-individual differences in inflammatory immune response after intervention with a high-fiber diet. Here, we use microbial sequencing data from this study to compare the results of MICOM metabolic modeling with the results obtained by the authors. Specifically, we are curious whether the SCFA production profiles from our metabolic models agree with the inflammatory immune response group used by the authors to categorize study participants"
   ]
  },
  {
   "cell_type": "code",
   "execution_count": null,
   "id": "9ef34693-86cd-4e22-b25d-72a487a3a25b",
   "metadata": {},
   "outputs": [],
   "source": [
    "import pandas as pd\n",
    "import micom\n",
    "import micom.measures\n",
    "from plotnine import *\n",
    "import scipy\n",
    "\n",
    "%matplotlib inline"
   ]
  },
  {
   "cell_type": "markdown",
   "id": "2adf2e59-707f-4fd1-a08e-111c6b49b74c",
   "metadata": {},
   "source": [
    "## Taxonomy Table\n",
    "Load up the taxonomic abundances and build a taxonomy table for use in MICOM"
   ]
  },
  {
   "cell_type": "code",
   "execution_count": null,
   "id": "bc167af0-9ab2-4fef-8414-2b963f38ab5d",
   "metadata": {},
   "outputs": [],
   "source": [
    "taxonomy = pd.read_csv('../data/fiberstudy.csv') # Load abundance data\n",
    "taxonomy = pd.melt(taxonomy,# Melt into a longform dataframe\n",
    "                   id_vars = 'sample_id',\n",
    "                   value_vars = taxonomy.columns[1:-1], \n",
    "                   var_name = 'id',\n",
    "                   value_name = 'abundance')\n",
    "taxonomy['genus'] = taxonomy['id']\n",
    "taxonomy.id.unique()"
   ]
  },
  {
   "cell_type": "markdown",
   "id": "70687f00-d029-4944-ae00-22f084dbb686",
   "metadata": {},
   "source": [
    "## Import Metadata"
   ]
  },
  {
   "cell_type": "code",
   "execution_count": null,
   "id": "780d37b5-fe11-466e-833a-111b283bb68b",
   "metadata": {},
   "outputs": [],
   "source": [
    "metadata = pd.read_csv('../data/raw_data/fiber_immune_groups.csv', index_col = 1)\n",
    "metadata['Immune_group'] = metadata['Immune_group'].str.replace(\n",
    "              'group1','HighInflammation').str.replace(\n",
    "              'group2','LowInflammationI').str.replace(\n",
    "              'group3','LowInflammationII').astype('str')\n",
    "metadata"
   ]
  },
  {
   "cell_type": "markdown",
   "id": "e94e8c0f-6b40-4c5b-8447-0c12dd488055",
   "metadata": {},
   "source": [
    "## Build Models\n",
    "Now, we'll build our models, with cutoff of 0.001"
   ]
  },
  {
   "cell_type": "code",
   "execution_count": null,
   "id": "183f2adc-78db-4e25-8baf-63363e7ad3ae",
   "metadata": {},
   "outputs": [],
   "source": [
    "models = micom.workflows.build(taxonomy,\n",
    "                               out_folder = '../models/fiber_study',\n",
    "                               model_db = '../agora103_genus.qza',\n",
    "                               cutoff = 0.001, \n",
    "                               threads = 10)"
   ]
  },
  {
   "cell_type": "markdown",
   "id": "06342b09-8472-4fea-966e-11495b7f86c4",
   "metadata": {},
   "source": [
    "## Load Medium\n",
    "Load the high fiber medium we'll use for growth"
   ]
  },
  {
   "cell_type": "code",
   "execution_count": null,
   "id": "e6e6d909-edbc-4760-ab54-ee1692b7f1be",
   "metadata": {},
   "outputs": [],
   "source": [
    "medium = pd.read_csv('../media/highfiber.csv')"
   ]
  },
  {
   "cell_type": "markdown",
   "id": "21c8b265-976a-4672-926f-ad00da425c69",
   "metadata": {},
   "source": [
    "## Grow Models\n",
    "Next, grow the samples with the high fiber medium and a tradeoff value of 0.7"
   ]
  },
  {
   "cell_type": "code",
   "execution_count": null,
   "id": "47a040f7-955d-4ac6-8193-14cc2f84d055",
   "metadata": {},
   "outputs": [],
   "source": [
    "manifest = pd.read_csv('../models/fiber_study/manifest.csv') # Read the model manifest\n",
    "growth = micom.workflows.grow(manifest,\n",
    "                              '../models/fiber_study',\n",
    "                              medium=medium,\n",
    "                              tradeoff=.7,\n",
    "                              strategy='none',\n",
    "                              threads = 20)"
   ]
  },
  {
   "cell_type": "markdown",
   "id": "1e20eaac-c287-4a82-8378-022aaeb2e87d",
   "metadata": {},
   "source": [
    "## Calculate predicted SCFA production\n",
    "Specifically, we'll look at butyrate and propioante production"
   ]
  },
  {
   "cell_type": "code",
   "execution_count": null,
   "id": "9bc3aecb-8b9f-4b16-a550-70719d3d76c0",
   "metadata": {},
   "outputs": [],
   "source": [
    "production = micom.measures.production_rates(growth) # Calculate production\n",
    "scfa = production[(production['metabolite']=='but[e]')|(production['metabolite']=='ppa[e]')] # Isolate butyrate and propoionate\n",
    "scfa = pd.pivot(scfa,\n",
    "                index = 'sample_id',\n",
    "                columns = 'metabolite',\n",
    "                values = 'flux') # Pivot data\n",
    "scfa['timepoint'] = scfa.index.str.split('_').str[1].astype('int')\n",
    "scfa.index = scfa.index.str.split('_').str[0].astype('int')\n",
    "scfa['immune_group'] = scfa.index.map(metadata['Immune_group'].to_dict()) # Add immune group metadata\n",
    "scfa.dropna(inplace = True)\n",
    "scfa"
   ]
  },
  {
   "cell_type": "markdown",
   "id": "6e1e9026-edb7-44ae-aa4c-bd4f6404ae56",
   "metadata": {},
   "source": [
    "## Plot Results\n",
    "Now, plot the predicted production among each inflammation group, at each timepoint across the intervention and average"
   ]
  },
  {
   "cell_type": "code",
   "execution_count": null,
   "id": "e4464de4-0075-480f-8484-780715ed0f1c",
   "metadata": {},
   "outputs": [],
   "source": [
    "plt1 = (ggplot(scfa,\n",
    "    aes(x = 'timepoint', y = 'but[e]'))\n",
    "    +geom_point(color = 'cadetblue')\n",
    "    +geom_smooth(method = 'lm', linetype = '--')\n",
    "    +labs(x = 'Timepoint', y = 'Predicted Butyrate \\n ($\\dfrac{mmol}{gDW*h}$)')\n",
    "    +facet_wrap(facets = 'immune_group')\n",
    "    +theme(text = element_text(size=20),panel_background=element_rect(fill = \"white\",\n",
    "                                colour = \"white\",size = 0.5, linetype = \"solid\"),panel_grid= element_blank(),\n",
    "                                axis_line = element_line(size = 2, linetype = \"solid\",colour = \"black\"),\n",
    "                                axis_line_y = element_blank(), axis_text_x=element_text(rotation = 20, hjust = 1)))\n",
    "plt1"
   ]
  },
  {
   "cell_type": "code",
   "execution_count": null,
   "id": "6970c1c8-1f11-45d9-a028-9bacf4afa759",
   "metadata": {},
   "outputs": [],
   "source": [
    "ggsave(plt1, '../results/fiber_but_timepoint.svg',dpi = 300, format = 'svg')"
   ]
  },
  {
   "cell_type": "code",
   "execution_count": null,
   "id": "0d5bb5b0-3ea4-48e6-b76b-c115f427e2a9",
   "metadata": {},
   "outputs": [],
   "source": [
    "plt2 = (ggplot(scfa,\n",
    "    aes(x = 'timepoint', y = 'ppa[e]'))\n",
    "    +geom_point(color = 'cadetblue')\n",
    "    +geom_smooth(method = 'lm', linetype = '--')\n",
    "    +labs(x = 'Timepoint', y = 'Predicted Propionate \\n ($\\dfrac{mmol}{gDW*h}$)')\n",
    "    +facet_wrap(facets = 'immune_group')\n",
    "    +theme(text = element_text(size=20),panel_background=element_rect(fill = \"white\",\n",
    "                                colour = \"white\",size = 0.5, linetype = \"solid\"),panel_grid= element_blank(),\n",
    "                                axis_line = element_line(size = 2, linetype = \"solid\",colour = \"black\"),\n",
    "                                axis_line_y = element_blank(), axis_text_x=element_text(rotation = 20, hjust = 1)))\n",
    "plt2"
   ]
  },
  {
   "cell_type": "code",
   "execution_count": null,
   "id": "c31d1fbd-426e-4497-9a56-11955baf7539",
   "metadata": {},
   "outputs": [],
   "source": [
    "ggsave(plt2, '../results/fiber_ppa_timepoint.svg',dpi = 300, format = 'svg')"
   ]
  },
  {
   "cell_type": "markdown",
   "id": "4d63a00e-0fb7-40b5-aaa3-7a6d427e2d80",
   "metadata": {},
   "source": [
    "Let's also look at average production across the entire intervention per immune group."
   ]
  },
  {
   "cell_type": "code",
   "execution_count": null,
   "id": "a6d2ed4c-e662-447e-bc46-183b1c833b1c",
   "metadata": {},
   "outputs": [],
   "source": [
    "plt3 = (ggplot(scfa, \n",
    "        aes(x = 'immune_group', y = 'but[e]'))\n",
    "        +geom_boxplot(fill = 'cadetblue',size = 1, width = 0.4)\n",
    "        +labs(x = 'Immune Response Group', y = 'Predicted Butyrate ($\\dfrac{mmol}{L*h}$)')\n",
    "        +scale_x_discrete(limits = ['HighInflammation','LowInflammationI','LowInflammationII'],\n",
    "                          labels = ['High \\n Inf.', 'Low \\n Inf. I', 'Low \\n Inf. II'])\n",
    "        +theme(text = element_text(size=20, color = 'black'),panel_background=element_rect(fill = \"white\",\n",
    "                                colour = \"white\",size = 0.5, linetype = \"solid\"),panel_grid= element_blank(),\n",
    "                                axis_line = element_line(size = 2, linetype = \"solid\",colour = \"black\"),\n",
    "                                legend_position='right',axis_text_x=element_text(rotation = 20, hjust = 1)))\n",
    "plt3"
   ]
  },
  {
   "cell_type": "code",
   "execution_count": null,
   "id": "436712a1-77a9-4cbd-85c8-d7e6944f1441",
   "metadata": {},
   "outputs": [],
   "source": [
    "ggsave(plt3, '../results/fiber_but_total.svg',dpi = 300, format = 'svg')"
   ]
  },
  {
   "cell_type": "code",
   "execution_count": null,
   "id": "c44a19d5-d549-40f0-b417-8ce1466066bb",
   "metadata": {},
   "outputs": [],
   "source": [
    "plt4 = (ggplot(scfa,\n",
    "        aes(x = 'immune_group', y = 'ppa[e]'))\n",
    "        +geom_boxplot(fill = 'cadetblue',size = 1, width = 0.4)\n",
    "        +labs(x = 'Immune Response Group', y = 'Predicted Propionate($\\dfrac{mmol}{L*h}$)')\n",
    "        +scale_x_discrete(limits = ['HighInflammation','LowInflammationI','LowInflammationII'],\n",
    "                          labels = ['High \\n Inf.', 'Low \\n Inf. I', 'Low \\n Inf. II'])\n",
    "        +theme(text = element_text(size=20, color = 'black'),panel_background=element_rect(fill = \"white\",\n",
    "                                colour = \"white\",size = 0.5, linetype = \"solid\"),panel_grid= element_blank(),\n",
    "                                axis_line = element_line(size = 2, linetype = \"solid\",colour = \"black\"),\n",
    "                                legend_position='right',axis_text_x=element_text(rotation = 20, hjust = 1)))\n",
    "plt4"
   ]
  },
  {
   "cell_type": "code",
   "execution_count": null,
   "id": "12121ddc-7560-4a44-8317-37ffb5908158",
   "metadata": {},
   "outputs": [],
   "source": [
    "ggsave(plt4, '../results/fiber_ppa_total.svg',dpi = 300, format = 'svg')"
   ]
  },
  {
   "cell_type": "code",
   "execution_count": null,
   "id": "a8481086-bf9a-4e55-a43b-1dc654ffa585",
   "metadata": {},
   "outputs": [],
   "source": [
    "scipy.stats.mannwhitneyu(scfa[scfa['immune_group'] == 'HighInflammation']['but[e]'], scfa[scfa['immune_group'] == 'LowInflammationI']['but[e]'])"
   ]
  },
  {
   "cell_type": "markdown",
   "id": "25a71bd6-eccc-475d-9143-a0a9a19fece3",
   "metadata": {},
   "source": [
    "## Save Results"
   ]
  },
  {
   "cell_type": "code",
   "execution_count": null,
   "id": "3fee1b25-afba-48c3-a313-1ee2cc7fc2af",
   "metadata": {},
   "outputs": [],
   "source": [
    "scfa.to_csv('../scfa_SourceData_Fig4.csv')"
   ]
  }
 ],
 "metadata": {
  "kernelspec": {
   "display_name": "Python 3 (ipykernel)",
   "language": "python",
   "name": "python3"
  },
  "language_info": {
   "codemirror_mode": {
    "name": "ipython",
    "version": 3
   },
   "file_extension": ".py",
   "mimetype": "text/x-python",
   "name": "python",
   "nbconvert_exporter": "python",
   "pygments_lexer": "ipython3",
   "version": "3.8.13"
  }
 },
 "nbformat": 4,
 "nbformat_minor": 5
}
