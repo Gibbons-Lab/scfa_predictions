{
 "cells": [
  {
   "cell_type": "markdown",
   "id": "a586201d-912a-4293-ad64-fb46960dfb3b",
   "metadata": {},
   "source": [
    "# Study C\n",
    "This notebook shows the full workflow for building models, simulating growth and obtaining SCFA predictions from data collected by the _ex vivo_ study conducted by the Gurry Lab in 2021 (Study C)"
   ]
  },
  {
   "cell_type": "code",
   "execution_count": null,
   "id": "f160f9ad-82b0-425a-affe-af74a1e0ba20",
   "metadata": {},
   "outputs": [],
   "source": [
    "import pandas as pd\n",
    "import numpy as np \n",
    "import micom\n",
    "import micom.measures\n",
    "import scipy\n",
    "from plotnine import *\n",
    "\n",
    "%matplotlib inline"
   ]
  },
  {
   "cell_type": "markdown",
   "id": "27c867f1-2644-460c-9ec7-4a5f4b03c674",
   "metadata": {},
   "source": [
    "## Flux Calculation\n",
    "This function will calculate production rate from the experimental SCFA measurements, as well as standard deviations, and concatenate them into a dataframe"
   ]
  },
  {
   "cell_type": "markdown",
   "id": "87af6d7e-3956-4ca8-b073-51b689a8ab8c",
   "metadata": {},
   "source": [
    "Here we'll iterate the above function across GC-MS data for each sample."
   ]
  },
  {
   "cell_type": "code",
   "execution_count": null,
   "id": "0a8c97d4-73ae-4a3a-9d28-6bb39a8fa83f",
   "metadata": {},
   "outputs": [],
   "source": [
    "scfa = pd.read_csv('../data/raw_data/studyC_original_scfas.csv')\n",
    "scfa = scfa[scfa['treatment'] != 'INUL+PECT']\n",
    "scfa = scfa.groupby(['index','sample','treatment']).mean().reset_index()\n",
    "scfa"
   ]
  },
  {
   "cell_type": "markdown",
   "id": "c77bafda-e8a2-41ff-9c45-2e584c63f22d",
   "metadata": {},
   "source": [
    "## Taxonomy Table\n",
    "Next, we will read in abundance data for all samples. We will convert this into a taxnomy table to use in MICOM"
   ]
  },
  {
   "cell_type": "code",
   "execution_count": null,
   "id": "8a747bc2-5364-4b0d-88f0-c9adcdd41902",
   "metadata": {},
   "outputs": [],
   "source": [
    "abundance = pd.read_csv('../data/raw_data/studyC_original_abundances.csv') # Read in abundances\n",
    "abundance['id'] = abundance['s']\n",
    "abundance = abundance[['sample','id','reads','s']] # Filter table to relevant columns\n",
    "abundance.rename(columns = {'sample':'sample_id','reads':'abundance','s':'species'}, inplace = True) # Rename for clarity\n",
    "abundance = abundance.groupby(by = ['sample_id','id','species']).sum().reset_index() #Sum duplicates\n",
    "abundance['species'] = abundance.species.str.replace('_',' ')\n",
    "table = pd.pivot_table(abundance,  # Pivot to create abundance matrix\n",
    "               index = 'sample_id',\n",
    "               columns = 'species',\n",
    "               values = 'abundance').fillna(0.0)\n",
    "table.to_csv('../data/studyC.csv')\n",
    "abundance"
   ]
  },
  {
   "cell_type": "markdown",
   "id": "4a5a51aa-d021-4782-8d25-89832b0743e5",
   "metadata": {},
   "source": [
    "## Build Models\n",
    "Now, we'll build our models, with cutoff of 0.001"
   ]
  },
  {
   "cell_type": "code",
   "execution_count": null,
   "id": "66969305-9140-43dd-91f0-30ed05a66516",
   "metadata": {},
   "outputs": [],
   "source": [
    "manifest = micom.workflows.build(abundance, \n",
    "                                 out_folder = '../models/studyC'\n",
    "                                 model_db = '../agora103_refseq216_species_1.qza',\n",
    "                                 cutoff = 0.001,\n",
    "                                 threads = 10)"
   ]
  },
  {
   "cell_type": "markdown",
   "id": "359421f5-0215-413c-b4d9-77f5267dfdcd",
   "metadata": {},
   "source": [
    "## Load Medium\n",
    "Load in the carbon-stripped European Diet, and construct the intervention diets by augmenting with inulin and pectin"
   ]
  },
  {
   "cell_type": "code",
   "execution_count": null,
   "id": "97172f5e-e989-47e0-8e14-8d4d7db38303",
   "metadata": {},
   "outputs": [],
   "source": [
    "medium = pd.read_csv('../media/studyCmedium.csv')\n",
    "\n",
    "controlMedium = medium\n",
    "\n",
    "\n",
    "pectinMedium = pd.concat([medium,\n",
    "                           pd.DataFrame({'reaction':['EX_pect_m'],\n",
    "                                         'metabolite':['pect_m'],\n",
    "                                         'global_id':['EX_pect(e)'],\n",
    "                                         'flux':[1]\n",
    "                                        },index = ['pect_m'])])\n",
    "\n",
    "\n",
    "inulinMedium = pd.concat([medium,\n",
    "                           pd.DataFrame({'reaction':['EX_inulin_m'],\n",
    "                                         'metabolite':['inulin_m'],\n",
    "                                         'global_id':['EX_inulin(e)'],\n",
    "                                         'flux':[14]\n",
    "                                        },index = ['inulin_m'])])"
   ]
  },
  {
   "cell_type": "markdown",
   "id": "aeb4688c-c308-4170-acc7-a678f1a1ed58",
   "metadata": {},
   "source": [
    "# Grow Models\n",
    "Now we'll grow the samples using the respective media we constructed"
   ]
  },
  {
   "cell_type": "code",
   "execution_count": null,
   "id": "b4bab3aa-4db2-43e4-a5ba-155009f794a2",
   "metadata": {},
   "outputs": [],
   "source": [
    "manifest = pd.read_csv('../models/studyC/manifest.csv')\n",
    "controlGrowth = micom.workflows.grow(manifest,\n",
    "                                  model_folder='../models/studyC',\n",
    "                                  medium = controlMedium, \n",
    "                                  tradeoff = 0.7,\n",
    "                                  strategy ='none', \n",
    "                                  threads = 20)\n",
    "pectinGrowth = micom.workflows.grow(manifest,\n",
    "                                  model_folder='../models/studyC',\n",
    "                                  medium = pectinMedium, \n",
    "                                  tradeoff = 0.7, \n",
    "                                  strategy = 'none', \n",
    "                                  threads = 20)\n",
    "inulinGrowth = micom.workflows.grow(manifest, \n",
    "                                  model_folder='../models/studyC',\n",
    "                                  medium = inulinMedium, \n",
    "                                  tradeoff = 0.7, \n",
    "                                  strategy = 'none',\n",
    "                                  threads = 20)"
   ]
  },
  {
   "cell_type": "markdown",
   "id": "7124f106-c29a-4dd3-ae0e-d3b9d4e95e30",
   "metadata": {
    "tags": []
   },
   "source": [
    "## Compare SCFA Fluxes\n",
    "We can now extract the production fluxes of SCFAs from each growth simulation, and construct a dataframe with both measured and predicted production rates."
   ]
  },
  {
   "cell_type": "code",
   "execution_count": null,
   "id": "f1a47428-1dfc-4d39-9011-36a968a30f50",
   "metadata": {},
   "outputs": [],
   "source": [
    "controlProduction = micom.measures.production_rates(controlGrowth)\n",
    "controlProduction['treatment'] = 'CTRL'\n",
    "pectProduction = micom.measures.production_rates(pectGrowth)\n",
    "pectProduction['treatment'] = 'PECT'\n",
    "inulinProduction = micom.measures.production_rates(inulinGrowth)\n",
    "inulinProduction['treatment'] = 'INUL'\n",
    "production = pd.concat([controlProduction, pectProduction, inulinProduction])\n",
    "production['sample_id'] = production['sample_id']+'_'+production['treatment']\n",
    "scfas = production[(production['name']==('butyrate'))|\n",
    "                   (production['name']==('acetate'))|\n",
    "                   (production['name']==('propionate'))]\n",
    "\n",
    "res = pd.pivot(scfas, index = 'sample_id', \n",
    "                         columns = 'name',\n",
    "                         values = 'flux')\n",
    "res.rename(columns = {'acetate':'acetatePredicted',\n",
    "                      'butyrate':'butyratePredicted',\n",
    "                      'propionate':'propionatePredicted'\n",
    "                      }, inplace = True\n",
    "          )\n",
    "res['acetateMeasured'] = res.index.map(acetateMeasured)\n",
    "res['butyrateMeasured'] = res.index.map(butyrateMeasured)\n",
    "res['propionateMeasured'] = res.index.map(propionateMeasured)\n",
    "res['treatment'] = res.index.str.split('_').str[1].str.replace(\n",
    "    'CTRL','Control').str.replace(\n",
    "    'INUL','Inulin').str.replace(\n",
    "    'PECT','Pectin')\n",
    "res"
   ]
  },
  {
   "cell_type": "markdown",
   "id": "1e1ee99f-8245-402c-9c91-c25b1fbc69b7",
   "metadata": {
    "tags": []
   },
   "source": [
    "## Plot Results\n",
    "Finally, we'll plot predicted vs measured fluxes against each other"
   ]
  },
  {
   "cell_type": "code",
   "execution_count": null,
   "id": "7aa4ba84-45ba-438f-9f99-6189c787191a",
   "metadata": {},
   "outputs": [],
   "source": [
    "fig1 = (ggplot(\n",
    "    res, aes(x = 'acetateMeasured', y = 'acetatePredicted'))\n",
    "    +geom_smooth(method = 'lm', linetype = '--')\n",
    "    +geom_point(aes(color = 'treatment'), size = 8)\n",
    "    +scale_color_manual(limits = ['Control','Inulin','Pectin'], \n",
    "                        values = ['cornflowerblue', 'coral', 'mediumseagreen'])\n",
    "    +labs(title='Acetate',\n",
    "          x='Measured ($\\dfrac{mmol}{L*h}$)',\n",
    "          y = 'Predicted ($\\dfrac{mmol}{gDCW*h}$)',\n",
    "          color = 'Treatment')\n",
    "    +theme(text = element_text(size=35, color = 'black'),panel_background=element_rect(fill = \"white\",\n",
    "                                    colour = \"white\",size = 0.5, linetype = \"solid\"),panel_grid= element_blank(),\n",
    "                                    axis_line = element_line(size = 2, linetype = \"solid\",colour = \"black\"),\n",
    "                                    legend_position='right',axis_text_x=element_text(rotation = 20, hjust = 1))\n",
    ")\n",
    "fig1"
   ]
  },
  {
   "cell_type": "code",
   "execution_count": null,
   "id": "27bca56b-5b7d-4671-8fde-04f7486647cf",
   "metadata": {},
   "outputs": [],
   "source": [
    "scipy.stats.linregress(res['acetatePredicted'], res['acetateMeasured'])"
   ]
  },
  {
   "cell_type": "code",
   "execution_count": null,
   "id": "7dd873b2-316d-4a8f-ba33-cc80416e37f1",
   "metadata": {},
   "outputs": [],
   "source": [
    "fig2 = (ggplot(\n",
    "    res, aes(x = 'butyrateMeasured', y = 'butyratePredicted'))\n",
    "    +geom_smooth(method = 'lm', linetype = '--')\n",
    "    +geom_point(aes(color = 'treatment'), size = 8)\n",
    "    +scale_color_manual(limits = ['Control','Inulin','Pectin'], \n",
    "                        values = ['cornflowerblue', 'coral', 'mediumseagreen'])\n",
    "    +labs(title='Butyrate',\n",
    "          x='Measured ($\\dfrac{mmol}{L*h}$)',\n",
    "          y = 'Predicted ($\\dfrac{mmol}{gDCW*h}$)',\n",
    "          color = 'Treatment')\n",
    "    +theme(\n",
    "            text = element_text(size=35, color = 'black'),panel_background=element_rect(fill = \"white\",\n",
    "                                    colour = \"white\",size = 0.5, linetype = \"solid\"),panel_grid= element_blank(),\n",
    "                                    axis_line = element_line(size = 2, linetype = \"solid\",colour = \"black\"),\n",
    "                                    legend_position='right',axis_text_x=element_text(rotation = 20, hjust = 1))\n",
    ")\n",
    "fig2"
   ]
  },
  {
   "cell_type": "code",
   "execution_count": null,
   "id": "35214d64-9f93-4a62-9af1-6e893144dce0",
   "metadata": {},
   "outputs": [],
   "source": [
    "scipy.stats.linregress(res['butyratePredicted'], res['butyrateMeasured'])"
   ]
  },
  {
   "cell_type": "code",
   "execution_count": null,
   "id": "adf576be-b2f4-4d7e-9fb4-36981eb381e7",
   "metadata": {},
   "outputs": [],
   "source": [
    "fig3 = (ggplot(\n",
    "    res, aes(x = 'propionateMeasured', y = 'propionatePredicted'))\n",
    "    +geom_smooth(method = 'lm', linetype = '--')\n",
    "    +geom_point(aes(color = 'treatment'), size = 8)\n",
    "    +scale_color_manual(limits = ['Control','Inulin','Pectin'], \n",
    "                        values = ['cornflowerblue', 'coral', 'mediumseagreen'])\n",
    "    +labs(title='Propionate',\n",
    "          x='Measured ($\\dfrac{mmol}{L*h}$)',\n",
    "          y = 'Predicted ($\\dfrac{mmol}{gDCW*h}$)', \n",
    "         color = 'Treatment')\n",
    "    +theme(text = element_text(size=35, color = 'black'),panel_background=element_rect(fill = \"white\",\n",
    "                                    colour = \"white\",size = 0.5, linetype = \"solid\"),panel_grid= element_blank(),\n",
    "                                    axis_line = element_line(size = 2, linetype = \"solid\",colour = \"black\"),\n",
    "                                    legend_position='right',axis_text_x=element_text(rotation = 20, hjust = 1))\n",
    ")\n",
    "fig3"
   ]
  },
  {
   "cell_type": "code",
   "execution_count": null,
   "id": "29c0d7ea-3988-4608-9c85-eaa0c587af56",
   "metadata": {},
   "outputs": [],
   "source": [
    "scipy.stats.linregress(res['propionatePredicted'], res['propionateMeasured'])"
   ]
  },
  {
   "cell_type": "markdown",
   "id": "5fee580a-9b43-486f-a4f1-6a3a38252a99",
   "metadata": {
    "tags": []
   },
   "source": [
    "## Save all results"
   ]
  },
  {
   "cell_type": "code",
   "execution_count": null,
   "id": "9f753aae-02d4-4ecb-855c-def1964a00fd",
   "metadata": {},
   "outputs": [],
   "source": [
    "res.to_csv('../results/studyC.csv')"
   ]
  }
 ],
 "metadata": {
  "kernelspec": {
   "display_name": "Python 3 (ipykernel)",
   "language": "python",
   "name": "python3"
  },
  "language_info": {
   "codemirror_mode": {
    "name": "ipython",
    "version": 3
   },
   "file_extension": ".py",
   "mimetype": "text/x-python",
   "name": "python",
   "nbconvert_exporter": "python",
   "pygments_lexer": "ipython3",
   "version": "3.8.13"
  }
 },
 "nbformat": 4,
 "nbformat_minor": 5
}
