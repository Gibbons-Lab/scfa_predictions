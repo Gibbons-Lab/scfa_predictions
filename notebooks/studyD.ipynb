{
 "cells": [
  {
   "cell_type": "markdown",
   "id": "c01dcdf5-cb5b-4fc8-9fbd-f3f011e919a0",
   "metadata": {},
   "source": [
    "# Study D\n",
    "This notebook shows the full workflow for building models, simulating growth and obtaining SCFA predictions from data collected by the Gut Puzzle project in the Gibbons Lab, 2023"
   ]
  },
  {
   "cell_type": "code",
   "execution_count": 1,
   "id": "1d8f589e-95e7-4ebc-880b-533197ba6415",
   "metadata": {},
   "outputs": [],
   "source": [
    "import pandas as pd\n",
    "import numpy as np \n",
    "import scipy\n",
    "import micom\n",
    "import micom.measures\n",
    "from plotnine import *\n",
    "\n",
    "import os\n",
    "%matplotlib inline"
   ]
  },
  {
   "cell_type": "markdown",
   "id": "c45bdda9-bd21-4bcf-94df-0ddd2e9a0529",
   "metadata": {},
   "source": [
    "## Flux Calculation\n",
    "Here we will calculate production rate from the experimental SCFA measurements and convert them to dicts for later use"
   ]
  },
  {
   "cell_type": "code",
   "execution_count": 2,
   "id": "e9fd3574-5c49-4539-b7aa-498c6ba2404c",
   "metadata": {},
   "outputs": [],
   "source": [
    "scfas = pd.read_csv('../data/raw_data/studyD_original_scfas.csv', index_col = 0) # read original data \n",
    "scfas = scfas[scfas['Sample Description'].isin(['baseline','PBS', 'inulin', 'pectin'])] # isolate the fiber treatments we're interested in\n",
    "scfas = scfas[scfas['Analyte'].isin(['Acetic acid', 'Butyric acid', 'Propionic acid'])] # isolate SCFA analytes\n",
    "scfas['Analyte'] = scfas['Analyte'].str.replace('ic acid', 'ate') # rename analytes for consistency\n",
    "scfas['Sample Description'] = scfas['Sample Description'].str.replace('PBS','control')\n",
    "scfas = scfas.rename(columns = {'Client Sample ID':'sample_id', # rename columns for efficiency\n",
    "                                'Sample Description':'treatment',\n",
    "                                'Analyte':'analyte',\n",
    "                                'Result':'flux'})\n",
    "scfas = scfas[['donor_id','treatment','analyte','flux']] # isolate columns of interest\n",
    "analyteBaseline =  scfas.groupby(['donor_id', 'analyte']).apply(lambda group: group[group['treatment'] == 'baseline']['flux'].mean()).reset_index() # calculate baseline\n",
    "scfas = pd.merge(scfas, analyteBaseline, on=['donor_id', 'analyte']) # merge baselines onto SCFA dataframe\n",
    "scfas.rename(columns = {0:'flux_baseline'}, inplace = True)\n",
    "scfas['flux'] = scfas['flux'] - scfas['flux_baseline'] #calculate production from baseline\n",
    "scfas = scfas[scfas['treatment'] != 'baseline'] #remove baselines\n",
    "scfas = scfas.drop(columns=['flux_baseline']) #drop baseline column\n",
    "scfas['sample_id'] = scfas['donor_id'].astype('str')+'_'+scfas['treatment'] # create unique identifier\n",
    "\n",
    "scfas = scfas.groupby(['sample_id','donor_id','treatment','analyte']).mean().reset_index() # calculate means across replicates\n",
    "scfas = pd.pivot(scfas, \n",
    "                       index = 'sample_id', \n",
    "                       columns = 'analyte',\n",
    "                       values = 'flux') # pivot data for easy use\n",
    "scfas.rename(columns = {'Acetate':'acetateMeasured',\n",
    "                        'Butyrate':'butyrateMeasured',\n",
    "                        'Propionate':'propionateMeasured'}, # rename columns for clarity\n",
    "             inplace = True)\n",
    "donors = scfas.index.str.split('_').str[0].unique() # get donor names\n",
    "scfas[['acetateMeasured']] = scfas[['acetateMeasured']]/60.052 # divide production rate by molecular weight to get mmol/h \n",
    "scfas[['butyrateMeasured']] = scfas[['butyrateMeasured']]/88.1051\n",
    "scfas[['propionateMeasured']] = scfas[['propionateMeasured']]/74.0785\n",
    "\n",
    "scfas.to_csv('../data/studyD_scfas.csv')"
   ]
  },
  {
   "cell_type": "markdown",
   "id": "9819c0a3-cdde-4060-a6da-bbc2c8f89076",
   "metadata": {},
   "source": [
    "## Taxonomy Table\n",
    "We will read in abundance data for all samples. We will convert this into a taxnomy table to use in MICOM"
   ]
  },
  {
   "cell_type": "code",
   "execution_count": 3,
   "id": "b756f491-1ed6-4d2c-9f28-415f4e6e7373",
   "metadata": {},
   "outputs": [
    {
     "data": {
      "text/html": [
       "<div>\n",
       "<style scoped>\n",
       "    .dataframe tbody tr th:only-of-type {\n",
       "        vertical-align: middle;\n",
       "    }\n",
       "\n",
       "    .dataframe tbody tr th {\n",
       "        vertical-align: top;\n",
       "    }\n",
       "\n",
       "    .dataframe thead th {\n",
       "        text-align: right;\n",
       "    }\n",
       "</style>\n",
       "<table border=\"1\" class=\"dataframe\">\n",
       "  <thead>\n",
       "    <tr style=\"text-align: right;\">\n",
       "      <th></th>\n",
       "      <th>sample_id</th>\n",
       "      <th>species</th>\n",
       "      <th>id</th>\n",
       "      <th>abundance</th>\n",
       "    </tr>\n",
       "  </thead>\n",
       "  <tbody>\n",
       "    <tr>\n",
       "      <th>0</th>\n",
       "      <td>7101</td>\n",
       "      <td>Abiotrophia defectiva</td>\n",
       "      <td>Abiotrophia_defectiva</td>\n",
       "      <td>118</td>\n",
       "    </tr>\n",
       "    <tr>\n",
       "      <th>1</th>\n",
       "      <td>7101</td>\n",
       "      <td>Acidaminococcus intestini</td>\n",
       "      <td>Acidaminococcus_intestini</td>\n",
       "      <td>45</td>\n",
       "    </tr>\n",
       "    <tr>\n",
       "      <th>2</th>\n",
       "      <td>7101</td>\n",
       "      <td>Actinomyces naeslundii</td>\n",
       "      <td>Actinomyces_naeslundii</td>\n",
       "      <td>210</td>\n",
       "    </tr>\n",
       "    <tr>\n",
       "      <th>3</th>\n",
       "      <td>7101</td>\n",
       "      <td>Actinomyces oris</td>\n",
       "      <td>Actinomyces_oris</td>\n",
       "      <td>214</td>\n",
       "    </tr>\n",
       "    <tr>\n",
       "      <th>4</th>\n",
       "      <td>7101</td>\n",
       "      <td>Actinomyces pacaensis</td>\n",
       "      <td>Actinomyces_pacaensis</td>\n",
       "      <td>92</td>\n",
       "    </tr>\n",
       "    <tr>\n",
       "      <th>...</th>\n",
       "      <td>...</td>\n",
       "      <td>...</td>\n",
       "      <td>...</td>\n",
       "      <td>...</td>\n",
       "    </tr>\n",
       "    <tr>\n",
       "      <th>8963</th>\n",
       "      <td>7128</td>\n",
       "      <td>[Clostridium] innocuum</td>\n",
       "      <td>[Clostridium]_innocuum</td>\n",
       "      <td>53138</td>\n",
       "    </tr>\n",
       "    <tr>\n",
       "      <th>8964</th>\n",
       "      <td>7128</td>\n",
       "      <td>[Clostridium] scindens</td>\n",
       "      <td>[Clostridium]_scindens</td>\n",
       "      <td>41561</td>\n",
       "    </tr>\n",
       "    <tr>\n",
       "      <th>8965</th>\n",
       "      <td>7128</td>\n",
       "      <td>[Ruminococcus] gnavus</td>\n",
       "      <td>[Ruminococcus]_gnavus</td>\n",
       "      <td>828841</td>\n",
       "    </tr>\n",
       "    <tr>\n",
       "      <th>8966</th>\n",
       "      <td>7128</td>\n",
       "      <td>[Ruminococcus] lactaris</td>\n",
       "      <td>[Ruminococcus]_lactaris</td>\n",
       "      <td>17641</td>\n",
       "    </tr>\n",
       "    <tr>\n",
       "      <th>8967</th>\n",
       "      <td>7128</td>\n",
       "      <td>[Ruminococcus] torques</td>\n",
       "      <td>[Ruminococcus]_torques</td>\n",
       "      <td>1225784</td>\n",
       "    </tr>\n",
       "  </tbody>\n",
       "</table>\n",
       "<p>8968 rows × 4 columns</p>\n",
       "</div>"
      ],
      "text/plain": [
       "     sample_id                    species                         id  \\\n",
       "0         7101      Abiotrophia defectiva      Abiotrophia_defectiva   \n",
       "1         7101  Acidaminococcus intestini  Acidaminococcus_intestini   \n",
       "2         7101     Actinomyces naeslundii     Actinomyces_naeslundii   \n",
       "3         7101           Actinomyces oris           Actinomyces_oris   \n",
       "4         7101      Actinomyces pacaensis      Actinomyces_pacaensis   \n",
       "...        ...                        ...                        ...   \n",
       "8963      7128     [Clostridium] innocuum     [Clostridium]_innocuum   \n",
       "8964      7128     [Clostridium] scindens     [Clostridium]_scindens   \n",
       "8965      7128      [Ruminococcus] gnavus      [Ruminococcus]_gnavus   \n",
       "8966      7128    [Ruminococcus] lactaris    [Ruminococcus]_lactaris   \n",
       "8967      7128     [Ruminococcus] torques     [Ruminococcus]_torques   \n",
       "\n",
       "      abundance  \n",
       "0           118  \n",
       "1            45  \n",
       "2           210  \n",
       "3           214  \n",
       "4            92  \n",
       "...         ...  \n",
       "8963      53138  \n",
       "8964      41561  \n",
       "8965     828841  \n",
       "8966      17641  \n",
       "8967    1225784  \n",
       "\n",
       "[8968 rows x 4 columns]"
      ]
     },
     "execution_count": 3,
     "metadata": {},
     "output_type": "execute_result"
    }
   ],
   "source": [
    "abundance = pd.read_csv('../data/raw_data/studyD_original_abundance.csv')[['species','reads','sample']] # read in original abundance data\n",
    "abundance.rename(columns = {'reads':'abundance','sample':'sample_id'}, inplace = True) # rename for consistency\n",
    "# abundance['species'] = abundance['species'].str.replace(' ','_')\n",
    "abundance['id'] = abundance['species'] # add id column to taxonomy table\n",
    "abundance['id'] = abundance['id'].str.replace(' ', '_')\n",
    "abundance['sample_id'] = abundance['sample_id'].astype('str') # type check\n",
    "abundance = abundance.groupby(['sample_id','species','id']).sum().reset_index() #sum duplicates\n",
    "table = pd.pivot_table(abundance, \n",
    "                       index = 'species',\n",
    "                       columns = 'sample_id',\n",
    "                       values = 'abundance') # pivot data into abundance matrix\n",
    "table.fillna(0, inplace = True) #fill NaNs with 0 \n",
    "table.to_csv('../data/studyD.csv')\n",
    "abundance"
   ]
  },
  {
   "cell_type": "markdown",
   "id": "6cf55686-ebe1-42bf-9a8e-25991c14ac01",
   "metadata": {},
   "source": [
    "## Build Models\n",
    "Now, we'll build our models, with cutoff of 0.001"
   ]
  },
  {
   "cell_type": "code",
   "execution_count": 21,
   "id": "afce700d-ad53-4186-acc9-855816d8b984",
   "metadata": {},
   "outputs": [
    {
     "data": {
      "application/vnd.jupyter.widget-view+json": {
       "model_id": "ad059b4ca8b9477881d93a791c84cc00",
       "version_major": 2,
       "version_minor": 0
      },
      "text/plain": [
       "Output()"
      ]
     },
     "metadata": {},
     "output_type": "display_data"
    },
    {
     "data": {
      "text/html": [
       "<pre style=\"white-space:pre;overflow-x:auto;line-height:normal;font-family:Menlo,'DejaVu Sans Mono',consolas,'Courier New',monospace\"></pre>\n"
      ],
      "text/plain": []
     },
     "metadata": {},
     "output_type": "display_data"
    },
    {
     "data": {
      "text/html": [
       "<pre style=\"white-space:pre;overflow-x:auto;line-height:normal;font-family:Menlo,'DejaVu Sans Mono',consolas,'Courier New',monospace\">\n",
       "</pre>\n"
      ],
      "text/plain": [
       "\n"
      ]
     },
     "metadata": {},
     "output_type": "display_data"
    }
   ],
   "source": [
    "manifest = micom.workflows.build(abundance,\n",
    "                                out_folder = '../models/studyD',\n",
    "                                model_db = '../agora103_refseq216_species_1.qza',\n",
    "                                cutoff = 0.001,\n",
    "                                threads = 20)"
   ]
  },
  {
   "cell_type": "markdown",
   "id": "ed152370-3104-46bc-bd26-816d67f28404",
   "metadata": {},
   "source": [
    "## Load Medium\n",
    "Load in the carbon-stripped European Diet, and construct the intervention diets by augmenting with inulin and pectin"
   ]
  },
  {
   "cell_type": "code",
   "execution_count": 4,
   "id": "a9f459bc-f18d-4f02-ab8f-98dad205fb38",
   "metadata": {},
   "outputs": [
    {
     "data": {
      "text/html": [
       "<div>\n",
       "<style scoped>\n",
       "    .dataframe tbody tr th:only-of-type {\n",
       "        vertical-align: middle;\n",
       "    }\n",
       "\n",
       "    .dataframe tbody tr th {\n",
       "        vertical-align: top;\n",
       "    }\n",
       "\n",
       "    .dataframe thead th {\n",
       "        text-align: right;\n",
       "    }\n",
       "</style>\n",
       "<table border=\"1\" class=\"dataframe\">\n",
       "  <thead>\n",
       "    <tr style=\"text-align: right;\">\n",
       "      <th></th>\n",
       "      <th>Unnamed: 0.1</th>\n",
       "      <th>Unnamed: 0</th>\n",
       "      <th>reaction</th>\n",
       "      <th>metabolite</th>\n",
       "      <th>global_id</th>\n",
       "      <th>flux</th>\n",
       "      <th>name</th>\n",
       "      <th>molecular_weight</th>\n",
       "      <th>C_number</th>\n",
       "      <th>N_number</th>\n",
       "      <th>hmdb</th>\n",
       "      <th>inchi</th>\n",
       "      <th>kegg.compound</th>\n",
       "      <th>pubchem.compound</th>\n",
       "      <th>chebi</th>\n",
       "      <th>C_flux</th>\n",
       "    </tr>\n",
       "  </thead>\n",
       "  <tbody>\n",
       "    <tr>\n",
       "      <th>0</th>\n",
       "      <td>EX_ac_m</td>\n",
       "      <td>1.0</td>\n",
       "      <td>EX_ac_m</td>\n",
       "      <td>ac_m</td>\n",
       "      <td>EX_ac(e)</td>\n",
       "      <td>0.056450</td>\n",
       "      <td>acetate</td>\n",
       "      <td>59.04402</td>\n",
       "      <td>2.0</td>\n",
       "      <td>0.0</td>\n",
       "      <td>HMDB00042</td>\n",
       "      <td>InChI=1S/C2H4O2/c1-2(3)4/h1H3,(H,3,4)/p-1</td>\n",
       "      <td>C00033</td>\n",
       "      <td>176.0</td>\n",
       "      <td>NaN</td>\n",
       "      <td>1.129008</td>\n",
       "    </tr>\n",
       "    <tr>\n",
       "      <th>1</th>\n",
       "      <td>EX_acgam_m</td>\n",
       "      <td>2.0</td>\n",
       "      <td>EX_acgam_m</td>\n",
       "      <td>acgam_m</td>\n",
       "      <td>EX_acgam(e)</td>\n",
       "      <td>0.010000</td>\n",
       "      <td>N-acetyl-D-glucosamine</td>\n",
       "      <td>221.20780</td>\n",
       "      <td>8.0</td>\n",
       "      <td>1.0</td>\n",
       "      <td>HMDB00215</td>\n",
       "      <td>InChI=1S/C8H15NO6/c1-4(12)9-5(2-10)7(14)8(15)6...</td>\n",
       "      <td>C00140</td>\n",
       "      <td>439174.0</td>\n",
       "      <td>NaN</td>\n",
       "      <td>0.800000</td>\n",
       "    </tr>\n",
       "    <tr>\n",
       "      <th>2</th>\n",
       "      <td>EX_ala_D_m</td>\n",
       "      <td>3.0</td>\n",
       "      <td>EX_ala_D_m</td>\n",
       "      <td>ala_D_m</td>\n",
       "      <td>EX_ala_D(e)</td>\n",
       "      <td>0.010000</td>\n",
       "      <td>D-alanine</td>\n",
       "      <td>89.09318</td>\n",
       "      <td>3.0</td>\n",
       "      <td>1.0</td>\n",
       "      <td>HMDB01310</td>\n",
       "      <td>InChI=1S/C3H7NO2/c1-2(4)3(5)6/h2H,4H2,1H3,(H,5...</td>\n",
       "      <td>C00133</td>\n",
       "      <td>71080.0</td>\n",
       "      <td>NaN</td>\n",
       "      <td>0.300000</td>\n",
       "    </tr>\n",
       "    <tr>\n",
       "      <th>3</th>\n",
       "      <td>EX_ala_L_m</td>\n",
       "      <td>4.0</td>\n",
       "      <td>EX_ala_L_m</td>\n",
       "      <td>ala_L_m</td>\n",
       "      <td>EX_ala_L(e)</td>\n",
       "      <td>0.094786</td>\n",
       "      <td>L-alanine</td>\n",
       "      <td>89.09318</td>\n",
       "      <td>3.0</td>\n",
       "      <td>1.0</td>\n",
       "      <td>HMDB00161</td>\n",
       "      <td>InChI=1S/C3H7NO2/c1-2(4)3(5)6/h2H,4H2,1H3,(H,5...</td>\n",
       "      <td>C00041</td>\n",
       "      <td>5950.0</td>\n",
       "      <td>NaN</td>\n",
       "      <td>2.843580</td>\n",
       "    </tr>\n",
       "    <tr>\n",
       "      <th>4</th>\n",
       "      <td>EX_amet_m</td>\n",
       "      <td>5.0</td>\n",
       "      <td>EX_amet_m</td>\n",
       "      <td>amet_m</td>\n",
       "      <td>EX_amet(e)</td>\n",
       "      <td>0.010000</td>\n",
       "      <td>S-Adenosyl-L-methionine</td>\n",
       "      <td>399.44532</td>\n",
       "      <td>15.0</td>\n",
       "      <td>6.0</td>\n",
       "      <td>HMDB01185</td>\n",
       "      <td>NaN</td>\n",
       "      <td>C00019</td>\n",
       "      <td>34756.0</td>\n",
       "      <td>NaN</td>\n",
       "      <td>1.500000</td>\n",
       "    </tr>\n",
       "    <tr>\n",
       "      <th>...</th>\n",
       "      <td>...</td>\n",
       "      <td>...</td>\n",
       "      <td>...</td>\n",
       "      <td>...</td>\n",
       "      <td>...</td>\n",
       "      <td>...</td>\n",
       "      <td>...</td>\n",
       "      <td>...</td>\n",
       "      <td>...</td>\n",
       "      <td>...</td>\n",
       "      <td>...</td>\n",
       "      <td>...</td>\n",
       "      <td>...</td>\n",
       "      <td>...</td>\n",
       "      <td>...</td>\n",
       "      <td>...</td>\n",
       "    </tr>\n",
       "    <tr>\n",
       "      <th>152</th>\n",
       "      <td>EX_strch1_m</td>\n",
       "      <td>NaN</td>\n",
       "      <td>EX_strch1_m</td>\n",
       "      <td>strch1_m</td>\n",
       "      <td>NaN</td>\n",
       "      <td>20.000000</td>\n",
       "      <td>NaN</td>\n",
       "      <td>NaN</td>\n",
       "      <td>NaN</td>\n",
       "      <td>NaN</td>\n",
       "      <td>NaN</td>\n",
       "      <td>NaN</td>\n",
       "      <td>NaN</td>\n",
       "      <td>NaN</td>\n",
       "      <td>NaN</td>\n",
       "      <td>NaN</td>\n",
       "    </tr>\n",
       "    <tr>\n",
       "      <th>153</th>\n",
       "      <td>EX_strch2_m</td>\n",
       "      <td>NaN</td>\n",
       "      <td>EX_strch2_m</td>\n",
       "      <td>strch2_m</td>\n",
       "      <td>NaN</td>\n",
       "      <td>20.000000</td>\n",
       "      <td>NaN</td>\n",
       "      <td>NaN</td>\n",
       "      <td>NaN</td>\n",
       "      <td>NaN</td>\n",
       "      <td>NaN</td>\n",
       "      <td>NaN</td>\n",
       "      <td>NaN</td>\n",
       "      <td>NaN</td>\n",
       "      <td>NaN</td>\n",
       "      <td>NaN</td>\n",
       "    </tr>\n",
       "    <tr>\n",
       "      <th>154</th>\n",
       "      <td>EX_starch1200_m</td>\n",
       "      <td>NaN</td>\n",
       "      <td>EX_starch1200_m</td>\n",
       "      <td>starch1200_m</td>\n",
       "      <td>NaN</td>\n",
       "      <td>0.200000</td>\n",
       "      <td>NaN</td>\n",
       "      <td>NaN</td>\n",
       "      <td>NaN</td>\n",
       "      <td>NaN</td>\n",
       "      <td>NaN</td>\n",
       "      <td>NaN</td>\n",
       "      <td>NaN</td>\n",
       "      <td>NaN</td>\n",
       "      <td>NaN</td>\n",
       "      <td>NaN</td>\n",
       "    </tr>\n",
       "    <tr>\n",
       "      <th>155</th>\n",
       "      <td>EX_dextrin_m</td>\n",
       "      <td>NaN</td>\n",
       "      <td>EX_dextrin_m</td>\n",
       "      <td>dextrin_m</td>\n",
       "      <td>NaN</td>\n",
       "      <td>20.000000</td>\n",
       "      <td>NaN</td>\n",
       "      <td>NaN</td>\n",
       "      <td>NaN</td>\n",
       "      <td>NaN</td>\n",
       "      <td>NaN</td>\n",
       "      <td>NaN</td>\n",
       "      <td>NaN</td>\n",
       "      <td>NaN</td>\n",
       "      <td>NaN</td>\n",
       "      <td>NaN</td>\n",
       "    </tr>\n",
       "    <tr>\n",
       "      <th>156</th>\n",
       "      <td>EX_cellul_m</td>\n",
       "      <td>NaN</td>\n",
       "      <td>EX_cellul_m</td>\n",
       "      <td>cellul_m</td>\n",
       "      <td>NaN</td>\n",
       "      <td>0.001000</td>\n",
       "      <td>NaN</td>\n",
       "      <td>NaN</td>\n",
       "      <td>NaN</td>\n",
       "      <td>NaN</td>\n",
       "      <td>NaN</td>\n",
       "      <td>NaN</td>\n",
       "      <td>NaN</td>\n",
       "      <td>NaN</td>\n",
       "      <td>NaN</td>\n",
       "      <td>NaN</td>\n",
       "    </tr>\n",
       "  </tbody>\n",
       "</table>\n",
       "<p>157 rows × 16 columns</p>\n",
       "</div>"
      ],
      "text/plain": [
       "        Unnamed: 0.1  Unnamed: 0         reaction    metabolite    global_id  \\\n",
       "0            EX_ac_m         1.0          EX_ac_m          ac_m     EX_ac(e)   \n",
       "1         EX_acgam_m         2.0       EX_acgam_m       acgam_m  EX_acgam(e)   \n",
       "2         EX_ala_D_m         3.0       EX_ala_D_m       ala_D_m  EX_ala_D(e)   \n",
       "3         EX_ala_L_m         4.0       EX_ala_L_m       ala_L_m  EX_ala_L(e)   \n",
       "4          EX_amet_m         5.0        EX_amet_m        amet_m   EX_amet(e)   \n",
       "..               ...         ...              ...           ...          ...   \n",
       "152      EX_strch1_m         NaN      EX_strch1_m      strch1_m          NaN   \n",
       "153      EX_strch2_m         NaN      EX_strch2_m      strch2_m          NaN   \n",
       "154  EX_starch1200_m         NaN  EX_starch1200_m  starch1200_m          NaN   \n",
       "155     EX_dextrin_m         NaN     EX_dextrin_m     dextrin_m          NaN   \n",
       "156      EX_cellul_m         NaN      EX_cellul_m      cellul_m          NaN   \n",
       "\n",
       "          flux                     name  molecular_weight  C_number  N_number  \\\n",
       "0     0.056450                  acetate          59.04402       2.0       0.0   \n",
       "1     0.010000   N-acetyl-D-glucosamine         221.20780       8.0       1.0   \n",
       "2     0.010000                D-alanine          89.09318       3.0       1.0   \n",
       "3     0.094786                L-alanine          89.09318       3.0       1.0   \n",
       "4     0.010000  S-Adenosyl-L-methionine         399.44532      15.0       6.0   \n",
       "..         ...                      ...               ...       ...       ...   \n",
       "152  20.000000                      NaN               NaN       NaN       NaN   \n",
       "153  20.000000                      NaN               NaN       NaN       NaN   \n",
       "154   0.200000                      NaN               NaN       NaN       NaN   \n",
       "155  20.000000                      NaN               NaN       NaN       NaN   \n",
       "156   0.001000                      NaN               NaN       NaN       NaN   \n",
       "\n",
       "          hmdb                                              inchi  \\\n",
       "0    HMDB00042          InChI=1S/C2H4O2/c1-2(3)4/h1H3,(H,3,4)/p-1   \n",
       "1    HMDB00215  InChI=1S/C8H15NO6/c1-4(12)9-5(2-10)7(14)8(15)6...   \n",
       "2    HMDB01310  InChI=1S/C3H7NO2/c1-2(4)3(5)6/h2H,4H2,1H3,(H,5...   \n",
       "3    HMDB00161  InChI=1S/C3H7NO2/c1-2(4)3(5)6/h2H,4H2,1H3,(H,5...   \n",
       "4    HMDB01185                                                NaN   \n",
       "..         ...                                                ...   \n",
       "152        NaN                                                NaN   \n",
       "153        NaN                                                NaN   \n",
       "154        NaN                                                NaN   \n",
       "155        NaN                                                NaN   \n",
       "156        NaN                                                NaN   \n",
       "\n",
       "    kegg.compound  pubchem.compound  chebi    C_flux  \n",
       "0          C00033             176.0    NaN  1.129008  \n",
       "1          C00140          439174.0    NaN  0.800000  \n",
       "2          C00133           71080.0    NaN  0.300000  \n",
       "3          C00041            5950.0    NaN  2.843580  \n",
       "4          C00019           34756.0    NaN  1.500000  \n",
       "..            ...               ...    ...       ...  \n",
       "152           NaN               NaN    NaN       NaN  \n",
       "153           NaN               NaN    NaN       NaN  \n",
       "154           NaN               NaN    NaN       NaN  \n",
       "155           NaN               NaN    NaN       NaN  \n",
       "156           NaN               NaN    NaN       NaN  \n",
       "\n",
       "[157 rows x 16 columns]"
      ]
     },
     "execution_count": 4,
     "metadata": {},
     "output_type": "execute_result"
    }
   ],
   "source": [
    "medium = pd.read_csv('../media/studyDmedium.csv') # read medium \n",
    "\n",
    "controlMedium = medium # define control medium \n",
    "\n",
    "pectinMedium = pd.concat([medium,\n",
    "                           pd.DataFrame({'reaction':['EX_pect_m'],\n",
    "                                         'metabolite':['pect_m'],\n",
    "                                         'global_id':['EX_pect(e)'],\n",
    "                                         'flux':[1]\n",
    "                                        },index = ['EX_pect_m'])]) # add pectin to treatment medium \n",
    "\n",
    "\n",
    "inulinMedium = pd.concat([medium,\n",
    "                           pd.DataFrame({'reaction':['EX_inulin_m'],\n",
    "                                         'metabolite':['inulin_m'],\n",
    "                                         'global_id':['EX_inulin(e)'],\n",
    "                                         'flux':[14]\n",
    "                                        },index = ['EX_inulin_m'])]) # add inulin to treatment medium\n",
    "\n",
    "medium"
   ]
  },
  {
   "cell_type": "markdown",
   "id": "8ebc5d71-df6b-438e-8cd6-cf7e4bdc52ed",
   "metadata": {},
   "source": [
    "## Grow Models\n",
    "Now we'll grow the samples using the respective media we constructed"
   ]
  },
  {
   "cell_type": "code",
   "execution_count": 7,
   "id": "189a1800-c375-430d-bc75-958113988d80",
   "metadata": {},
   "outputs": [
    {
     "data": {
      "application/vnd.jupyter.widget-view+json": {
       "model_id": "ab82d2eaf64949638e5640cd0191d0fb",
       "version_major": 2,
       "version_minor": 0
      },
      "text/plain": [
       "Output()"
      ]
     },
     "metadata": {},
     "output_type": "display_data"
    },
    {
     "data": {
      "text/html": [
       "<pre style=\"white-space:pre;overflow-x:auto;line-height:normal;font-family:Menlo,'DejaVu Sans Mono',consolas,'Courier New',monospace\"></pre>\n"
      ],
      "text/plain": []
     },
     "metadata": {},
     "output_type": "display_data"
    },
    {
     "data": {
      "text/html": [
       "<pre style=\"white-space:pre;overflow-x:auto;line-height:normal;font-family:Menlo,'DejaVu Sans Mono',consolas,'Courier New',monospace\">\n",
       "</pre>\n"
      ],
      "text/plain": [
       "\n"
      ]
     },
     "metadata": {},
     "output_type": "display_data"
    },
    {
     "data": {
      "application/vnd.jupyter.widget-view+json": {
       "model_id": "64d2043d92714e93856183d873a1e00a",
       "version_major": 2,
       "version_minor": 0
      },
      "text/plain": [
       "Output()"
      ]
     },
     "metadata": {},
     "output_type": "display_data"
    },
    {
     "data": {
      "text/html": [
       "<pre style=\"white-space:pre;overflow-x:auto;line-height:normal;font-family:Menlo,'DejaVu Sans Mono',consolas,'Courier New',monospace\"></pre>\n"
      ],
      "text/plain": []
     },
     "metadata": {},
     "output_type": "display_data"
    },
    {
     "data": {
      "text/html": [
       "<pre style=\"white-space:pre;overflow-x:auto;line-height:normal;font-family:Menlo,'DejaVu Sans Mono',consolas,'Courier New',monospace\">\n",
       "</pre>\n"
      ],
      "text/plain": [
       "\n"
      ]
     },
     "metadata": {},
     "output_type": "display_data"
    },
    {
     "data": {
      "application/vnd.jupyter.widget-view+json": {
       "model_id": "fb66be46ef6a4f6594ec8943ca7e9be2",
       "version_major": 2,
       "version_minor": 0
      },
      "text/plain": [
       "Output()"
      ]
     },
     "metadata": {},
     "output_type": "display_data"
    },
    {
     "data": {
      "text/html": [
       "<pre style=\"white-space:pre;overflow-x:auto;line-height:normal;font-family:Menlo,'DejaVu Sans Mono',consolas,'Courier New',monospace\"></pre>\n"
      ],
      "text/plain": []
     },
     "metadata": {},
     "output_type": "display_data"
    },
    {
     "data": {
      "text/html": [
       "<pre style=\"white-space:pre;overflow-x:auto;line-height:normal;font-family:Menlo,'DejaVu Sans Mono',consolas,'Courier New',monospace\">\n",
       "</pre>\n"
      ],
      "text/plain": [
       "\n"
      ]
     },
     "metadata": {},
     "output_type": "display_data"
    }
   ],
   "source": [
    "manifest = pd.read_csv('../models/studyD/manifest.csv') # read manifest \n",
    "manifest = manifest[manifest['sample_id'].astype('str').isin(donors)] # filter to samples in SCFA data\n",
    "\n",
    "controlGrowth = micom.workflows.grow(manifest, # grow samples for all treatments\n",
    "                              '../models/studyD',\n",
    "                              controlMedium,\n",
    "                              tradeoff = 0.7,\n",
    "                              strategy = 'none',\n",
    "                              threads = 10)\n",
    "\n",
    "pectinGrowth = micom.workflows.grow(manifest,\n",
    "                              '../models/studyD',\n",
    "                              pectinMedium,\n",
    "                              tradeoff = 0.7,\n",
    "                              strategy = 'none',\n",
    "                              threads = 10)\n",
    "\n",
    "inulinGrowth = micom.workflows.grow(manifest,\n",
    "                              '../models/studyD',\n",
    "                              inulinMedium,\n",
    "                              tradeoff = 0.7,\n",
    "                              strategy = 'none',\n",
    "                              threads = 10)\n"
   ]
  },
  {
   "cell_type": "markdown",
   "id": "3abaf28a-911b-457a-87c0-10d5c803e0a1",
   "metadata": {},
   "source": [
    "## Compare SCFA Fluxes\n",
    "We can now extract the production fluxes of SCFAs from each growth simulation, and construct a dataframe with both measured and predicted production rates."
   ]
  },
  {
   "cell_type": "code",
   "execution_count": 8,
   "id": "59ce33ec-c3e8-4803-9d53-edaffd5e0f18",
   "metadata": {},
   "outputs": [],
   "source": [
    "inulinProduction = micom.measures.production_rates(inulinGrowth) # calculate production rates \n",
    "inulinProduction['sample_id'] = inulinProduction['sample_id']+'_inulin' # annotate sample ids with treatment \n",
    "pectinProduction = micom.measures.production_rates(pectinGrowth)\n",
    "pectinProduction['sample_id'] = pectinProduction['sample_id']+'_pectin'\n",
    "controlProduction = micom.measures.production_rates(controlGrowth)\n",
    "controlProduction['sample_id'] = controlProduction['sample_id']+'_control'\n",
    "\n",
    "production = pd.concat([inulinProduction,\n",
    "                        pectinProduction, \n",
    "                        controlProduction]) # concatenate results \n",
    "res = production[(production['name']==('butyrate'))|\n",
    "                 (production['name']==('acetate'))|\n",
    "                 (production['name']==('propionate'))] # filter to SCFA production \n",
    "res = pd.pivot(res, index = 'sample_id',\n",
    "                    columns = 'name',\n",
    "                    values = 'flux') # pivot data\n",
    "res.rename(columns = {'acetate':'acetatePredicted',\n",
    "                      'butyrate':'butyratePredicted',\n",
    "                      'propionate':'propionatePredicted'\n",
    "                      }, inplace = True # rename columns for clarity \n",
    "          )\n",
    "\n",
    "res['donor'] = res.index.str.split('_').str[0]\n",
    "res['treatment'] = res.index.str.split('_').str[1]\n",
    "res = pd.concat([res, scfas], axis = 1)\n",
    "res['treatment'] = res['treatment'].str.capitalize()"
   ]
  },
  {
   "cell_type": "markdown",
   "id": "c6a020f0-cb56-4b02-8354-1ecb79d99a19",
   "metadata": {},
   "source": [
    "## Plot Results\n",
    "Finally, we'll plot predicted vs measured fluxes against each other"
   ]
  },
  {
   "cell_type": "code",
   "execution_count": 10,
   "id": "e96a4c04-0b7b-45c1-bcb8-4aba83840272",
   "metadata": {},
   "outputs": [
    {
     "data": {
      "image/png": "[encoded data removed]",
      "text/plain": [
       "<Figure size 640x480 with 1 Axes>"
      ]
     },
     "metadata": {},
     "output_type": "display_data"
    },
    {
     "data": {
      "text/plain": [
       "<ggplot: (8768659556283)>"
      ]
     },
     "execution_count": 10,
     "metadata": {},
     "output_type": "execute_result"
    }
   ],
   "source": [
    "fig1 = (ggplot(\n",
    "    res, aes(x = 'butyrateMeasured', y = 'butyratePredicted'))\n",
    "    +geom_smooth(method = 'lm', linetype = '--')\n",
    "    +geom_point(aes(color = 'treatment'), size = 8)\n",
    "    \n",
    "    +scale_color_manual(limits = ['Control','Pectin','Inulin', 'FOS'], \n",
    "                        values = ['cornflowerblue', 'mediumseagreen', 'coral', 'purple'])\n",
    "    +labs(title='Butyrate',\n",
    "          x='Measured Butyrate (mmol/L/h)',\n",
    "          y = 'Predicted Butyrate (mmol/gDW/h)',\n",
    "          color = 'Treatment',fill = 'Treatment')\n",
    "    +theme(text = element_text(size=20, color = 'black'),panel_background=element_rect(fill = \"white\",\n",
    "                                    colour = \"white\",size = 0.5, linetype = \"solid\"),panel_grid= element_blank(),\n",
    "                                    axis_line = element_line(size = 2, linetype = \"solid\",colour = \"black\"),\n",
    "                                    legend_position='right',axis_text_x=element_text(rotation = 20, hjust = 1))\n",
    ")\n",
    "fig1"
   ]
  },
  {
   "cell_type": "code",
   "execution_count": 14,
   "id": "70367728-7791-48ac-8c63-34210d7b9a05",
   "metadata": {},
   "outputs": [
    {
     "data": {
      "text/plain": [
       "LinregressResult(slope=0.037570942952104565, intercept=3.2755272457444815, rvalue=0.4749192320324774, pvalue=0.012306148697164199, stderr=0.013923855547531599, intercept_stderr=1.2641273628819094)"
      ]
     },
     "execution_count": 14,
     "metadata": {},
     "output_type": "execute_result"
    }
   ],
   "source": [
    "scipy.stats.linregress(res['butyratePredicted'],\n",
    "                       res['butyrateMeasured'])"
   ]
  },
  {
   "cell_type": "code",
   "execution_count": 11,
   "id": "f07d0a85-c51c-41d3-b3c0-5b4803caf45e",
   "metadata": {},
   "outputs": [
    {
     "data": {
      "image/png": "[encoded data removed]",
      "text/plain": [
       "<Figure size 640x480 with 1 Axes>"
      ]
     },
     "metadata": {},
     "output_type": "display_data"
    },
    {
     "data": {
      "text/plain": [
       "<ggplot: (8768659324142)>"
      ]
     },
     "execution_count": 11,
     "metadata": {},
     "output_type": "execute_result"
    }
   ],
   "source": [
    "fig2 = (ggplot(\n",
    "    res, aes(x = 'propionateMeasured', y = 'propionatePredicted'))\n",
    "    +geom_smooth(method = 'lm', linetype = '--')\n",
    "    +geom_point(aes(color = 'treatment'), size = 8)\n",
    "   \n",
    "    +scale_color_manual(limits = ['Control','Pectin', 'Inulin', 'FOS'], \n",
    "                        values = ['cornflowerblue', 'mediumseagreen', 'coral', 'purple'])\n",
    "    +labs(title='Propionate',\n",
    "          x='Measured Propionate (mmol/L/h)',\n",
    "          y = 'Predicted Propionate (mmol/gDW/h)',\n",
    "          color = 'Treatment')\n",
    "    +theme(text = element_text(size=20, color = 'black'),panel_background=element_rect(fill = \"white\",\n",
    "                                    colour = \"white\",size = 0.5, linetype = \"solid\"),panel_grid= element_blank(),\n",
    "                                    axis_line = element_line(size = 2, linetype = \"solid\",colour = \"black\"),\n",
    "                                    legend_position='right',axis_text_x=element_text(rotation = 20, hjust = 1))\n",
    ")\n",
    "fig2"
   ]
  },
  {
   "cell_type": "code",
   "execution_count": 12,
   "id": "54295328-1f65-464c-aee2-64b6c4b92f9e",
   "metadata": {},
   "outputs": [
    {
     "data": {
      "text/plain": [
       "LinregressResult(slope=0.006036117866181473, intercept=2.2848640007436223, rvalue=0.3815724088037568, pvalue=0.049539476687240104, stderr=0.002924435168504747, intercept_stderr=0.4324754834006681)"
      ]
     },
     "execution_count": 12,
     "metadata": {},
     "output_type": "execute_result"
    }
   ],
   "source": [
    "scipy.stats.linregress(res['propionatePredicted'],\n",
    "                       res['propionateMeasured'])"
   ]
  },
  {
   "cell_type": "code",
   "execution_count": 15,
   "id": "7cc570bd-c450-42bf-812c-4437b1bc99c5",
   "metadata": {},
   "outputs": [],
   "source": [
    "res.to_csv('../results/studyD.csv') # save to results directory"
   ]
  }
 ],
 "metadata": {
  "kernelspec": {
   "display_name": "Python 3 (ipykernel)",
   "language": "python",
   "name": "python3"
  },
  "language_info": {
   "codemirror_mode": {
    "name": "ipython",
    "version": 3
   },
   "file_extension": ".py",
   "mimetype": "text/x-python",
   "name": "python",
   "nbconvert_exporter": "python",
   "pygments_lexer": "ipython3",
   "version": "3.8.13"
  }
 },
 "nbformat": 4,
 "nbformat_minor": 5
}
