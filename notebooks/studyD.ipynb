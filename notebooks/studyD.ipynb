{
 "cells": [
  {
   "cell_type": "markdown",
   "id": "c01dcdf5-cb5b-4fc8-9fbd-f3f011e919a0",
   "metadata": {},
   "source": [
    "# Study D\n",
    "This notebook shows the full workflow for building models, simulating growth and obtaining SCFA predictions from data collected by the Gut Puzzle project in the Gibbons Lab, 2023"
   ]
  },
  {
   "cell_type": "code",
   "execution_count": null,
   "id": "1d8f589e-95e7-4ebc-880b-533197ba6415",
   "metadata": {},
   "outputs": [],
   "source": [
    "import pandas as pd\n",
    "import micom\n",
    "import micom.measures\n",
    "from plotnine import *\n",
    "import scipy\n",
    "\n",
    "%matplotlib inline"
   ]
  },
  {
   "cell_type": "markdown",
   "id": "c45bdda9-bd21-4bcf-94df-0ddd2e9a0529",
   "metadata": {},
   "source": [
    "## SCFA Flux\n",
    "Here we will gather the net SCFA production across the culturing period. The \"Measured\" columns contain the measured flux over the course of the experiment (mM/h, [T1]-[T0]/h), while the \"Baseline\" columns contain the T0 concentrations (mM)"
   ]
  },
  {
   "cell_type": "code",
   "execution_count": null,
   "id": "e9fd3574-5c49-4539-b7aa-498c6ba2404c",
   "metadata": {},
   "outputs": [],
   "source": [
    "scfa = pd.read_csv('../data/raw_data/studyD_original_scfas.csv',index_col = 0)\n",
    "\n",
    "scfa['donor'] = scfa.index.str.split('_').str[0]\n",
    "scfa['treatment'] = scfa.index.str.split('_').str[1]\n",
    "\n",
    "scfa = scfa.groupby(['donor','treatment']).mean().reset_index()\n",
    "\n",
    "scfa['sample_id'] = scfa['donor']+'_'+scfa['treatment']\n",
    "scfa.set_index('sample_id', inplace = True)\n",
    "\n",
    "scfa"
   ]
  },
  {
   "cell_type": "markdown",
   "id": "9819c0a3-cdde-4060-a6da-bbc2c8f89076",
   "metadata": {},
   "source": [
    "## Taxonomy Table\n",
    "We will read in abundance data for all samples. We will convert this into a taxnomy table to use in MICOM"
   ]
  },
  {
   "cell_type": "code",
   "execution_count": null,
   "id": "b756f491-1ed6-4d2c-9f28-415f4e6e7373",
   "metadata": {},
   "outputs": [],
   "source": [
    "abundance = pd.read_csv('../data/raw_data/studyD_original_abundance.csv')[['species','reads','sample']] # read in original abundance data\n",
    "abundance.rename(columns = {'reads':'abundance','sample':'sample_id'}, inplace = True) # rename for consistency\n",
    "abundance['sample_id'] = abundance['sample_id'].astype('str') # type check\n",
    "abundance = abundance.groupby(['sample_id','species']).sum().reset_index() #sum duplicates\n",
    "table = pd.pivot_table(abundance, \n",
    "                       index = 'species',\n",
    "                       columns = 'sample_id',\n",
    "                       values = 'abundance') # pivot data into abundance matrix\n",
    "table.fillna(0, inplace = True) #fill NaNs with 0 \n",
    "table.to_csv('../data/studyD.csv')\n",
    "abundance['species'] = abundance['species'].str.split(' ').str[1]\n",
    "abundance['id'] = abundance['species']\n",
    "abundance = abundance[abundance['sample_id'].isin(scfa['donor'])]\n",
    "abundance"
   ]
  },
  {
   "cell_type": "markdown",
   "id": "6cf55686-ebe1-42bf-9a8e-25991c14ac01",
   "metadata": {},
   "source": [
    "## Build Models\n",
    "Now, we'll build our models, with cutoff of 0.001"
   ]
  },
  {
   "cell_type": "code",
   "execution_count": null,
   "id": "afce700d-ad53-4186-acc9-855816d8b984",
   "metadata": {},
   "outputs": [],
   "source": [
    "manifest = micom.workflows.build(abundance,\n",
    "                                out_folder = '../models/studyD',\n",
    "                                model_db = '../agora103_species.qza',\n",
    "                                cutoff = 0.001,\n",
    "                                threads = 20)"
   ]
  },
  {
   "cell_type": "markdown",
   "id": "ed152370-3104-46bc-bd26-816d67f28404",
   "metadata": {},
   "source": [
    "## Load Medium\n",
    "Load in the carbon-stripped European Diet, and construct the intervention diets by augmenting with inulin and pectin"
   ]
  },
  {
   "cell_type": "code",
   "execution_count": null,
   "id": "a9f459bc-f18d-4f02-ab8f-98dad205fb38",
   "metadata": {},
   "outputs": [],
   "source": [
    "medium = pd.read_csv('../media/studyDmedium.csv', index_col = 0) # read medium \n",
    "\n",
    "controlMedium = medium # define control medium \n",
    "\n",
    "pectinMedium = pd.concat([medium,\n",
    "                           pd.DataFrame({'reaction':['EX_pect_m'],\n",
    "                                         'metabolite':['pect_m'],\n",
    "                                         'global_id':['EX_pect(e)'],\n",
    "                                         'flux':[1]\n",
    "                                        },index = ['EX_pect_m'])]) # add pectin to treatment medium \n",
    "\n",
    "\n",
    "inulinMedium = pd.concat([medium,\n",
    "                           pd.DataFrame({'reaction':['EX_inulin_m'],\n",
    "                                         'metabolite':['inulin_m'],\n",
    "                                         'global_id':['EX_inulin(e)'],\n",
    "                                         'flux':[14]\n",
    "                                        },index = ['EX_inulin_m'])]) # add inulin to treatment medium\n",
    "\n",
    "inulinMedium"
   ]
  },
  {
   "cell_type": "markdown",
   "id": "8ebc5d71-df6b-438e-8cd6-cf7e4bdc52ed",
   "metadata": {},
   "source": [
    "## Grow Models\n",
    "Now we'll grow the samples using the respective media we constructed"
   ]
  },
  {
   "cell_type": "code",
   "execution_count": null,
   "id": "189a1800-c375-430d-bc75-958113988d80",
   "metadata": {},
   "outputs": [],
   "source": [
    "manifest = pd.read_csv('../models/studyD/manifest.csv') # read manifest \n",
    "manifest = manifest[manifest['sample_id'].astype('str').isin(scfa['donor'])] # filter to samples in SCFA data\n",
    "\n",
    "controlGrowth = micom.workflows.grow(manifest, # grow samples for all treatments\n",
    "                              '../models/studyD',\n",
    "                              controlMedium,\n",
    "                              tradeoff = 0.7,\n",
    "                              strategy = 'none',\n",
    "                              threads = 10)\n",
    "\n",
    "pectinGrowth = micom.workflows.grow(manifest,\n",
    "                              '../models/studyD',\n",
    "                              pectinMedium,\n",
    "                              tradeoff = 0.7,\n",
    "                              strategy = 'none',\n",
    "                              threads = 10)\n",
    "\n",
    "inulinGrowth = micom.workflows.grow(manifest,\n",
    "                              '../models/studyD',\n",
    "                              inulinMedium,\n",
    "                              tradeoff = 0.7,\n",
    "                              strategy = 'none',\n",
    "                              threads = 10)\n"
   ]
  },
  {
   "cell_type": "markdown",
   "id": "3abaf28a-911b-457a-87c0-10d5c803e0a1",
   "metadata": {},
   "source": [
    "## Compare SCFA Fluxes\n",
    "We can now extract the production fluxes of SCFAs from each growth simulation, and construct a dataframe with both measured and predicted production rates."
   ]
  },
  {
   "cell_type": "code",
   "execution_count": null,
   "id": "59ce33ec-c3e8-4803-9d53-edaffd5e0f18",
   "metadata": {},
   "outputs": [],
   "source": [
    "inulinProduction = micom.measures.production_rates(inulinGrowth) # calculate production rates \n",
    "inulinProduction['sample_id'] = inulinProduction['sample_id']+'_inulin' # annotate sample ids with treatment \n",
    "pectinProduction = micom.measures.production_rates(pectinGrowth)\n",
    "pectinProduction['sample_id'] = pectinProduction['sample_id']+'_pectin'\n",
    "controlProduction = micom.measures.production_rates(controlGrowth)\n",
    "controlProduction['sample_id'] = controlProduction['sample_id']+'_control'\n",
    "\n",
    "production = pd.concat([inulinProduction,\n",
    "                        pectinProduction, \n",
    "                        controlProduction]) # concatenate results \n",
    "res = production[(production['name']==('butyrate'))|\n",
    "                 (production['name']==('acetate'))|\n",
    "                 (production['name']==('propionate'))] # filter to SCFA production \n",
    "res = pd.pivot(res, index = 'sample_id',\n",
    "                    columns = 'name',\n",
    "                    values = 'flux') # pivot data\n",
    "res.rename(columns = {'acetate':'acetatePredicted',\n",
    "                      'butyrate':'butyratePredicted',\n",
    "                      'propionate':'propionatePredicted'\n",
    "                      }, inplace = True # rename columns for clarity \n",
    "          )\n",
    "\n",
    "res['donor'] = res.index.str.split('_').str[0].astype('int')\n",
    "res['treatment'] = res.index.str.split('_').str[1]\n",
    "res = pd.concat([res, scfa], axis = 1)\n",
    "res = res.loc[:,~res.columns.duplicated()].copy()\n",
    "\n",
    "res['treatment'] = res['treatment'].str.capitalize()\n",
    "res"
   ]
  },
  {
   "cell_type": "markdown",
   "id": "e86a57e1-a7cb-4983-b001-048e1f6c922c",
   "metadata": {},
   "source": [
    "## Scale by Biomass\n",
    "To compare results between studies we will scale the predicted SCFAs by biomass. Without accurate qPCR, we will instead use human reads as proxy. "
   ]
  },
  {
   "cell_type": "code",
   "execution_count": null,
   "id": "9bb35763-8da4-4f1c-b401-4d5026f7767d",
   "metadata": {},
   "outputs": [],
   "source": [
    "abundance = pd.read_csv('../data/raw_data/studyD_original_abundance.csv')\n",
    "sampleReads = abundance.groupby('sample')['reads'].sum()\n",
    "humanReads = abundance[abundance['genus']=='Homo'].set_index('sample')['reads']\n",
    "pctHuman = humanReads/sampleReads                                                \n",
    "pctHuman = pctHuman.groupby(level = 0).mean().to_dict()\n",
    "res['pct_human'] = res['donor'].map(pctHuman)\n",
    "res['acetatePredicted'] = res['acetatePredicted']*(1-res['pct_human'])\n",
    "res['butyratePredicted'] = res['butyratePredicted']*(1-res['pct_human'])\n",
    "res['propionatePredicted'] = res['propionatePredicted']*(1-res['pct_human'])"
   ]
  },
  {
   "cell_type": "markdown",
   "id": "c6a020f0-cb56-4b02-8354-1ecb79d99a19",
   "metadata": {},
   "source": [
    "## Plot Results\n",
    "Finally, we'll plot predicted vs measured fluxes against each other"
   ]
  },
  {
   "cell_type": "code",
   "execution_count": null,
   "id": "e96a4c04-0b7b-45c1-bcb8-4aba83840272",
   "metadata": {},
   "outputs": [],
   "source": [
    "fig1 = (ggplot(\n",
    "    res, aes(x = 'butyrateMeasured', y = 'butyratePredicted'))\n",
    "    +geom_smooth(method = 'lm', linetype = '--')\n",
    "    +geom_point(aes(color = 'treatment'), size = 8)\n",
    "    \n",
    "    +scale_color_manual(limits = ['Control','Pectin','Inulin', 'FOS'], \n",
    "                        values = ['cornflowerblue', 'mediumseagreen', 'coral', 'purple'])\n",
    "    +labs(title='Butyrate',\n",
    "          x='Measured Butyrate (mmol/L/h)',\n",
    "          y = 'Predicted Butyrate (mmol/gDW/h)',\n",
    "          color = 'Treatment',fill = 'Treatment')\n",
    "    +theme(text = element_text(size=20, color = 'black'),panel_background=element_rect(fill = \"white\",\n",
    "                                    colour = \"white\",size = 0.5, linetype = \"solid\"),panel_grid= element_blank(),\n",
    "                                    axis_line = element_line(size = 2, linetype = \"solid\",colour = \"black\"),\n",
    "                                    legend_position='right',axis_text_x=element_text(rotation = 20, hjust = 1))\n",
    ")\n",
    "fig1"
   ]
  },
  {
   "cell_type": "code",
   "execution_count": null,
   "id": "70367728-7791-48ac-8c63-34210d7b9a05",
   "metadata": {},
   "outputs": [],
   "source": [
    "scipy.stats.linregress(res['butyratePredicted'],\n",
    "                       res['butyrateMeasured'])"
   ]
  },
  {
   "cell_type": "code",
   "execution_count": null,
   "id": "f07d0a85-c51c-41d3-b3c0-5b4803caf45e",
   "metadata": {},
   "outputs": [],
   "source": [
    "fig2 = (ggplot(\n",
    "    res, aes(x = 'propionateMeasured', y = 'propionatePredicted'))\n",
    "    +geom_smooth(method = 'lm', linetype = '--')\n",
    "    +geom_point(aes(color = 'treatment'), size = 8)\n",
    "   \n",
    "    +scale_color_manual(limits = ['Control','Pectin', 'Inulin', 'FOS'], \n",
    "                        values = ['cornflowerblue', 'mediumseagreen', 'coral', 'purple'])\n",
    "    +labs(title='Propionate',\n",
    "          x='Measured Propionate (mmol/L/h)',\n",
    "          y = 'Predicted Propionate (mmol/gDW/h)',\n",
    "          color = 'Treatment')\n",
    "    +theme(text = element_text(size=20, color = 'black'),panel_background=element_rect(fill = \"white\",\n",
    "                                    colour = \"white\",size = 0.5, linetype = \"solid\"),panel_grid= element_blank(),\n",
    "                                    axis_line = element_line(size = 2, linetype = \"solid\",colour = \"black\"),\n",
    "                                    legend_position='right',axis_text_x=element_text(rotation = 20, hjust = 1))\n",
    ")\n",
    "fig2"
   ]
  },
  {
   "cell_type": "code",
   "execution_count": null,
   "id": "54295328-1f65-464c-aee2-64b6c4b92f9e",
   "metadata": {},
   "outputs": [],
   "source": [
    "scipy.stats.linregress(res['propionatePredicted'],\n",
    "                       res['propionateMeasured'])"
   ]
  },
  {
   "cell_type": "code",
   "execution_count": null,
   "id": "7cc570bd-c450-42bf-812c-4437b1bc99c5",
   "metadata": {},
   "outputs": [],
   "source": [
    "res.to_csv('../results/studyD.csv') # save to results directory"
   ]
  },
  {
   "cell_type": "code",
   "execution_count": null,
   "id": "c47be80c-b2da-4678-8c6a-e7e8341a6442",
   "metadata": {},
   "outputs": [],
   "source": []
  }
 ],
 "metadata": {
  "kernelspec": {
   "display_name": "Python 3 (ipykernel)",
   "language": "python",
   "name": "python3"
  },
  "language_info": {
   "codemirror_mode": {
    "name": "ipython",
    "version": 3
   },
   "file_extension": ".py",
   "mimetype": "text/x-python",
   "name": "python",
   "nbconvert_exporter": "python",
   "pygments_lexer": "ipython3",
   "version": "3.8.13"
  }
 },
 "nbformat": 4,
 "nbformat_minor": 5
}
