{
 "cells": [
  {
   "cell_type": "markdown",
   "id": "a586201d-912a-4293-ad64-fb46960dfb3b",
   "metadata": {},
   "source": [
    "## This notebook shows the full workflow for building models, simulating growth and obtaining SCFA predictions from data collected by the _ex vivo_ study conducted by Gurry et al. 2021 (Study C)"
   ]
  },
  {
   "cell_type": "code",
   "execution_count": 1,
   "id": "f160f9ad-82b0-425a-affe-af74a1e0ba20",
   "metadata": {},
   "outputs": [],
   "source": [
    "import os\n",
    "import pandas as pd\n",
    "from plotnine import *\n",
    "from tqdm import tqdm\n",
    "import numpy as np\n",
    "import scipy\n",
    "import micom\n",
    "import micom.measures\n",
    "\n",
    "%matplotlib inline"
   ]
  },
  {
   "cell_type": "markdown",
   "id": "7140da19-93eb-4bfe-8fa3-3eceb3d39cb6",
   "metadata": {},
   "source": [
    "## We'll start with the measured SCFA values from the _ex vivo_ experiments, and calculated production flux from the concentrations"
   ]
  },
  {
   "cell_type": "code",
   "execution_count": 2,
   "id": "0bcca9ad-66cf-4d53-bd1c-61010031c6be",
   "metadata": {},
   "outputs": [
    {
     "data": {
      "text/html": [
       "<div>\n",
       "<style scoped>\n",
       "    .dataframe tbody tr th:only-of-type {\n",
       "        vertical-align: middle;\n",
       "    }\n",
       "\n",
       "    .dataframe tbody tr th {\n",
       "        vertical-align: top;\n",
       "    }\n",
       "\n",
       "    .dataframe thead tr th {\n",
       "        text-align: left;\n",
       "    }\n",
       "\n",
       "    .dataframe thead tr:last-of-type th {\n",
       "        text-align: right;\n",
       "    }\n",
       "</style>\n",
       "<table border=\"1\" class=\"dataframe\">\n",
       "  <thead>\n",
       "    <tr>\n",
       "      <th></th>\n",
       "      <th></th>\n",
       "      <th colspan=\"3\" halign=\"left\">flux</th>\n",
       "      <th colspan=\"3\" halign=\"left\">sem</th>\n",
       "    </tr>\n",
       "    <tr>\n",
       "      <th></th>\n",
       "      <th>analyte</th>\n",
       "      <th>acetate</th>\n",
       "      <th>butyrate</th>\n",
       "      <th>propionate</th>\n",
       "      <th>acetate</th>\n",
       "      <th>butyrate</th>\n",
       "      <th>propionate</th>\n",
       "    </tr>\n",
       "    <tr>\n",
       "      <th>subject_id</th>\n",
       "      <th>treatment</th>\n",
       "      <th></th>\n",
       "      <th></th>\n",
       "      <th></th>\n",
       "      <th></th>\n",
       "      <th></th>\n",
       "      <th></th>\n",
       "    </tr>\n",
       "  </thead>\n",
       "  <tbody>\n",
       "    <tr>\n",
       "      <th rowspan=\"3\" valign=\"top\">H008</th>\n",
       "      <th>CTRL</th>\n",
       "      <td>0.907748</td>\n",
       "      <td>0.072262</td>\n",
       "      <td>0.017734</td>\n",
       "      <td>0.005227</td>\n",
       "      <td>0.009684</td>\n",
       "      <td>0.016793</td>\n",
       "    </tr>\n",
       "    <tr>\n",
       "      <th>INUL</th>\n",
       "      <td>0.630312</td>\n",
       "      <td>0.368432</td>\n",
       "      <td>0.213300</td>\n",
       "      <td>0.157356</td>\n",
       "      <td>0.023349</td>\n",
       "      <td>0.003687</td>\n",
       "    </tr>\n",
       "    <tr>\n",
       "      <th>PECT</th>\n",
       "      <td>0.344484</td>\n",
       "      <td>0.135646</td>\n",
       "      <td>0.099018</td>\n",
       "      <td>0.256223</td>\n",
       "      <td>0.015573</td>\n",
       "      <td>0.014555</td>\n",
       "    </tr>\n",
       "    <tr>\n",
       "      <th rowspan=\"3\" valign=\"top\">H009</th>\n",
       "      <th>CTRL</th>\n",
       "      <td>0.041150</td>\n",
       "      <td>0.054562</td>\n",
       "      <td>0.023126</td>\n",
       "      <td>0.008680</td>\n",
       "      <td>0.003392</td>\n",
       "      <td>0.001578</td>\n",
       "    </tr>\n",
       "    <tr>\n",
       "      <th>INUL</th>\n",
       "      <td>0.033867</td>\n",
       "      <td>0.126382</td>\n",
       "      <td>0.030664</td>\n",
       "      <td>0.018637</td>\n",
       "      <td>0.001238</td>\n",
       "      <td>0.000215</td>\n",
       "    </tr>\n",
       "    <tr>\n",
       "      <th>PECT</th>\n",
       "      <td>0.002474</td>\n",
       "      <td>0.081923</td>\n",
       "      <td>0.002512</td>\n",
       "      <td>0.005678</td>\n",
       "      <td>0.000961</td>\n",
       "      <td>0.000562</td>\n",
       "    </tr>\n",
       "    <tr>\n",
       "      <th rowspan=\"3\" valign=\"top\">H010</th>\n",
       "      <th>CTRL</th>\n",
       "      <td>0.803625</td>\n",
       "      <td>0.044805</td>\n",
       "      <td>0.079866</td>\n",
       "      <td>0.803514</td>\n",
       "      <td>0.000117</td>\n",
       "      <td>0.001090</td>\n",
       "    </tr>\n",
       "    <tr>\n",
       "      <th>INUL</th>\n",
       "      <td>2.530928</td>\n",
       "      <td>0.117080</td>\n",
       "      <td>0.085078</td>\n",
       "      <td>0.042526</td>\n",
       "      <td>0.005480</td>\n",
       "      <td>0.006000</td>\n",
       "    </tr>\n",
       "    <tr>\n",
       "      <th>PECT</th>\n",
       "      <td>2.544074</td>\n",
       "      <td>0.047970</td>\n",
       "      <td>0.045062</td>\n",
       "      <td>0.039144</td>\n",
       "      <td>0.007849</td>\n",
       "      <td>0.011373</td>\n",
       "    </tr>\n",
       "    <tr>\n",
       "      <th rowspan=\"3\" valign=\"top\">H012</th>\n",
       "      <th>CTRL</th>\n",
       "      <td>-0.036605</td>\n",
       "      <td>0.019954</td>\n",
       "      <td>-0.005870</td>\n",
       "      <td>0.024912</td>\n",
       "      <td>0.013323</td>\n",
       "      <td>0.005237</td>\n",
       "    </tr>\n",
       "    <tr>\n",
       "      <th>INUL</th>\n",
       "      <td>-0.000431</td>\n",
       "      <td>0.140607</td>\n",
       "      <td>0.029837</td>\n",
       "      <td>0.017950</td>\n",
       "      <td>0.089164</td>\n",
       "      <td>0.018871</td>\n",
       "    </tr>\n",
       "    <tr>\n",
       "      <th>PECT</th>\n",
       "      <td>0.022320</td>\n",
       "      <td>0.052147</td>\n",
       "      <td>0.005022</td>\n",
       "      <td>0.032617</td>\n",
       "      <td>0.033730</td>\n",
       "      <td>0.004111</td>\n",
       "    </tr>\n",
       "    <tr>\n",
       "      <th rowspan=\"3\" valign=\"top\">H019</th>\n",
       "      <th>CTRL</th>\n",
       "      <td>0.269958</td>\n",
       "      <td>0.033968</td>\n",
       "      <td>0.005664</td>\n",
       "      <td>0.033320</td>\n",
       "      <td>0.005523</td>\n",
       "      <td>0.003514</td>\n",
       "    </tr>\n",
       "    <tr>\n",
       "      <th>INUL</th>\n",
       "      <td>0.414354</td>\n",
       "      <td>0.521920</td>\n",
       "      <td>0.044275</td>\n",
       "      <td>0.003452</td>\n",
       "      <td>0.008081</td>\n",
       "      <td>0.004425</td>\n",
       "    </tr>\n",
       "    <tr>\n",
       "      <th>PECT</th>\n",
       "      <td>0.387959</td>\n",
       "      <td>0.221448</td>\n",
       "      <td>0.036709</td>\n",
       "      <td>0.084427</td>\n",
       "      <td>0.017988</td>\n",
       "      <td>0.010165</td>\n",
       "    </tr>\n",
       "    <tr>\n",
       "      <th rowspan=\"3\" valign=\"top\">H020</th>\n",
       "      <th>CTRL</th>\n",
       "      <td>1.010100</td>\n",
       "      <td>0.129339</td>\n",
       "      <td>0.050015</td>\n",
       "      <td>0.138052</td>\n",
       "      <td>0.004986</td>\n",
       "      <td>0.000665</td>\n",
       "    </tr>\n",
       "    <tr>\n",
       "      <th>INUL</th>\n",
       "      <td>0.416795</td>\n",
       "      <td>0.212270</td>\n",
       "      <td>0.037061</td>\n",
       "      <td>0.072837</td>\n",
       "      <td>0.014843</td>\n",
       "      <td>0.008636</td>\n",
       "    </tr>\n",
       "    <tr>\n",
       "      <th>PECT</th>\n",
       "      <td>0.505387</td>\n",
       "      <td>0.210041</td>\n",
       "      <td>0.034281</td>\n",
       "      <td>0.003205</td>\n",
       "      <td>0.019756</td>\n",
       "      <td>0.015760</td>\n",
       "    </tr>\n",
       "    <tr>\n",
       "      <th rowspan=\"3\" valign=\"top\">H021</th>\n",
       "      <th>CTRL</th>\n",
       "      <td>0.290202</td>\n",
       "      <td>0.039797</td>\n",
       "      <td>0.005905</td>\n",
       "      <td>0.022226</td>\n",
       "      <td>0.000063</td>\n",
       "      <td>0.001278</td>\n",
       "    </tr>\n",
       "    <tr>\n",
       "      <th>INUL</th>\n",
       "      <td>0.248695</td>\n",
       "      <td>0.440074</td>\n",
       "      <td>0.028125</td>\n",
       "      <td>0.002957</td>\n",
       "      <td>0.035062</td>\n",
       "      <td>0.000668</td>\n",
       "    </tr>\n",
       "    <tr>\n",
       "      <th>PECT</th>\n",
       "      <td>0.336364</td>\n",
       "      <td>0.213509</td>\n",
       "      <td>0.022763</td>\n",
       "      <td>0.036704</td>\n",
       "      <td>0.020580</td>\n",
       "      <td>0.000021</td>\n",
       "    </tr>\n",
       "    <tr>\n",
       "      <th rowspan=\"3\" valign=\"top\">H025</th>\n",
       "      <th>CTRL</th>\n",
       "      <td>0.320694</td>\n",
       "      <td>0.213345</td>\n",
       "      <td>0.045562</td>\n",
       "      <td>0.088369</td>\n",
       "      <td>0.028460</td>\n",
       "      <td>0.013834</td>\n",
       "    </tr>\n",
       "    <tr>\n",
       "      <th>INUL</th>\n",
       "      <td>0.467728</td>\n",
       "      <td>0.585425</td>\n",
       "      <td>0.120354</td>\n",
       "      <td>0.046235</td>\n",
       "      <td>0.013323</td>\n",
       "      <td>0.000451</td>\n",
       "    </tr>\n",
       "    <tr>\n",
       "      <th>PECT</th>\n",
       "      <td>0.173211</td>\n",
       "      <td>0.424253</td>\n",
       "      <td>0.059136</td>\n",
       "      <td>0.096065</td>\n",
       "      <td>0.011054</td>\n",
       "      <td>0.007281</td>\n",
       "    </tr>\n",
       "    <tr>\n",
       "      <th rowspan=\"3\" valign=\"top\">H028</th>\n",
       "      <th>CTRL</th>\n",
       "      <td>0.074091</td>\n",
       "      <td>0.076664</td>\n",
       "      <td>0.054135</td>\n",
       "      <td>0.014500</td>\n",
       "      <td>0.011425</td>\n",
       "      <td>0.008819</td>\n",
       "    </tr>\n",
       "    <tr>\n",
       "      <th>INUL</th>\n",
       "      <td>0.778718</td>\n",
       "      <td>0.346605</td>\n",
       "      <td>0.125184</td>\n",
       "      <td>0.060204</td>\n",
       "      <td>0.001158</td>\n",
       "      <td>0.013712</td>\n",
       "    </tr>\n",
       "    <tr>\n",
       "      <th>PECT</th>\n",
       "      <td>0.591876</td>\n",
       "      <td>0.178355</td>\n",
       "      <td>0.151254</td>\n",
       "      <td>0.088268</td>\n",
       "      <td>0.004083</td>\n",
       "      <td>0.001179</td>\n",
       "    </tr>\n",
       "  </tbody>\n",
       "</table>\n",
       "</div>"
      ],
      "text/plain": [
       "                          flux                            sem            \\\n",
       "analyte                acetate  butyrate propionate   acetate  butyrate   \n",
       "subject_id treatment                                                      \n",
       "H008       CTRL       0.907748  0.072262   0.017734  0.005227  0.009684   \n",
       "           INUL       0.630312  0.368432   0.213300  0.157356  0.023349   \n",
       "           PECT       0.344484  0.135646   0.099018  0.256223  0.015573   \n",
       "H009       CTRL       0.041150  0.054562   0.023126  0.008680  0.003392   \n",
       "           INUL       0.033867  0.126382   0.030664  0.018637  0.001238   \n",
       "           PECT       0.002474  0.081923   0.002512  0.005678  0.000961   \n",
       "H010       CTRL       0.803625  0.044805   0.079866  0.803514  0.000117   \n",
       "           INUL       2.530928  0.117080   0.085078  0.042526  0.005480   \n",
       "           PECT       2.544074  0.047970   0.045062  0.039144  0.007849   \n",
       "H012       CTRL      -0.036605  0.019954  -0.005870  0.024912  0.013323   \n",
       "           INUL      -0.000431  0.140607   0.029837  0.017950  0.089164   \n",
       "           PECT       0.022320  0.052147   0.005022  0.032617  0.033730   \n",
       "H019       CTRL       0.269958  0.033968   0.005664  0.033320  0.005523   \n",
       "           INUL       0.414354  0.521920   0.044275  0.003452  0.008081   \n",
       "           PECT       0.387959  0.221448   0.036709  0.084427  0.017988   \n",
       "H020       CTRL       1.010100  0.129339   0.050015  0.138052  0.004986   \n",
       "           INUL       0.416795  0.212270   0.037061  0.072837  0.014843   \n",
       "           PECT       0.505387  0.210041   0.034281  0.003205  0.019756   \n",
       "H021       CTRL       0.290202  0.039797   0.005905  0.022226  0.000063   \n",
       "           INUL       0.248695  0.440074   0.028125  0.002957  0.035062   \n",
       "           PECT       0.336364  0.213509   0.022763  0.036704  0.020580   \n",
       "H025       CTRL       0.320694  0.213345   0.045562  0.088369  0.028460   \n",
       "           INUL       0.467728  0.585425   0.120354  0.046235  0.013323   \n",
       "           PECT       0.173211  0.424253   0.059136  0.096065  0.011054   \n",
       "H028       CTRL       0.074091  0.076664   0.054135  0.014500  0.011425   \n",
       "           INUL       0.778718  0.346605   0.125184  0.060204  0.001158   \n",
       "           PECT       0.591876  0.178355   0.151254  0.088268  0.004083   \n",
       "\n",
       "                                 \n",
       "analyte              propionate  \n",
       "subject_id treatment             \n",
       "H008       CTRL        0.016793  \n",
       "           INUL        0.003687  \n",
       "           PECT        0.014555  \n",
       "H009       CTRL        0.001578  \n",
       "           INUL        0.000215  \n",
       "           PECT        0.000562  \n",
       "H010       CTRL        0.001090  \n",
       "           INUL        0.006000  \n",
       "           PECT        0.011373  \n",
       "H012       CTRL        0.005237  \n",
       "           INUL        0.018871  \n",
       "           PECT        0.004111  \n",
       "H019       CTRL        0.003514  \n",
       "           INUL        0.004425  \n",
       "           PECT        0.010165  \n",
       "H020       CTRL        0.000665  \n",
       "           INUL        0.008636  \n",
       "           PECT        0.015760  \n",
       "H021       CTRL        0.001278  \n",
       "           INUL        0.000668  \n",
       "           PECT        0.000021  \n",
       "H025       CTRL        0.013834  \n",
       "           INUL        0.000451  \n",
       "           PECT        0.007281  \n",
       "H028       CTRL        0.008819  \n",
       "           INUL        0.013712  \n",
       "           PECT        0.001179  "
      ]
     },
     "execution_count": 2,
     "metadata": {},
     "output_type": "execute_result"
    }
   ],
   "source": [
    "# Read in the SCFA data\n",
    "scfas = pd.read_csv('../data/studyC_SCFAs.csv',index_col = 0) \n",
    "# Melt the data into long form\n",
    "scfas = pd.melt(scfas, \n",
    "                id_vars = ['subject_id','treatment','timepoint','replicate'], \n",
    "                value_vars = ['butyrate','propionate','acetate'],\n",
    "                value_name = 'concentration',\n",
    "                var_name = 'analyte')\n",
    "# Sort values\n",
    "scfas = scfas.sort_values(by = ['subject_id','treatment','analyte','timepoint','replicate'])\n",
    "# Calculate the difference in concentration between timeoints\n",
    "scfas['flux'] = scfas.groupby(['subject_id','treatment','replicate','analyte'])['concentration'].diff()\n",
    "# Divide SCFA difference by culturing time to calculate flux\n",
    "scfas['flux'] = scfas['flux']/4\n",
    "# Drop rows with NAs\n",
    "scfas.dropna(inplace = True)\n",
    "# Find the mean of fluxes between replicates\n",
    "res = scfas.groupby(['subject_id','treatment','analyte']).mean()\n",
    "# Add the standard deviation for each group\n",
    "res['sem']= scfas.groupby(['subject_id','treatment','analyte'])['flux'].sem()\n",
    "# Reset the index of the dataframe keeping only samples that are used \n",
    "res = res.reset_index()[['subject_id','treatment','analyte','flux','sem']]\n",
    "# Pivot the table for ease of plotting\n",
    "measured = pd.pivot_table(res,columns = 'analyte',index = ['subject_id','treatment'],values = ['flux','sem'])\n",
    "measured"
   ]
  },
  {
   "cell_type": "markdown",
   "id": "c9be4665-db9c-4cf5-9bb1-20d9e9eb32cc",
   "metadata": {},
   "source": [
    "## Next, we'll load up abundances and build a taxonomy table for MICOM"
   ]
  },
  {
   "cell_type": "code",
   "execution_count": 3,
   "id": "5ff64953-1518-4471-af49-d1b59783c3d3",
   "metadata": {},
   "outputs": [
    {
     "data": {
      "text/html": [
       "<div>\n",
       "<style scoped>\n",
       "    .dataframe tbody tr th:only-of-type {\n",
       "        vertical-align: middle;\n",
       "    }\n",
       "\n",
       "    .dataframe tbody tr th {\n",
       "        vertical-align: top;\n",
       "    }\n",
       "\n",
       "    .dataframe thead th {\n",
       "        text-align: right;\n",
       "    }\n",
       "</style>\n",
       "<table border=\"1\" class=\"dataframe\">\n",
       "  <thead>\n",
       "    <tr style=\"text-align: right;\">\n",
       "      <th></th>\n",
       "      <th>sample_id</th>\n",
       "      <th>id</th>\n",
       "      <th>abundance</th>\n",
       "      <th>genus</th>\n",
       "    </tr>\n",
       "  </thead>\n",
       "  <tbody>\n",
       "    <tr>\n",
       "      <th>0</th>\n",
       "      <td>H008</td>\n",
       "      <td>Bacteria;Firmicutes;Clostridia;Clostridiales;R...</td>\n",
       "      <td>49.0</td>\n",
       "      <td>Faecalibacterium</td>\n",
       "    </tr>\n",
       "    <tr>\n",
       "      <th>1</th>\n",
       "      <td>H009</td>\n",
       "      <td>Bacteria;Firmicutes;Clostridia;Clostridiales;R...</td>\n",
       "      <td>133.0</td>\n",
       "      <td>Faecalibacterium</td>\n",
       "    </tr>\n",
       "    <tr>\n",
       "      <th>2</th>\n",
       "      <td>H010</td>\n",
       "      <td>Bacteria;Firmicutes;Clostridia;Clostridiales;R...</td>\n",
       "      <td>43.0</td>\n",
       "      <td>Faecalibacterium</td>\n",
       "    </tr>\n",
       "    <tr>\n",
       "      <th>3</th>\n",
       "      <td>H012</td>\n",
       "      <td>Bacteria;Firmicutes;Clostridia;Clostridiales;R...</td>\n",
       "      <td>456.0</td>\n",
       "      <td>Faecalibacterium</td>\n",
       "    </tr>\n",
       "    <tr>\n",
       "      <th>4</th>\n",
       "      <td>H019</td>\n",
       "      <td>Bacteria;Firmicutes;Clostridia;Clostridiales;R...</td>\n",
       "      <td>32.0</td>\n",
       "      <td>Faecalibacterium</td>\n",
       "    </tr>\n",
       "    <tr>\n",
       "      <th>...</th>\n",
       "      <td>...</td>\n",
       "      <td>...</td>\n",
       "      <td>...</td>\n",
       "      <td>...</td>\n",
       "    </tr>\n",
       "    <tr>\n",
       "      <th>14315</th>\n",
       "      <td>H020</td>\n",
       "      <td>Bacteria;Firmicutes;Clostridia;Clostridiales;L...</td>\n",
       "      <td>0.0</td>\n",
       "      <td>[eubacterium]</td>\n",
       "    </tr>\n",
       "    <tr>\n",
       "      <th>14316</th>\n",
       "      <td>H021</td>\n",
       "      <td>Bacteria;Firmicutes;Clostridia;Clostridiales;L...</td>\n",
       "      <td>1.0</td>\n",
       "      <td>[eubacterium]</td>\n",
       "    </tr>\n",
       "    <tr>\n",
       "      <th>14317</th>\n",
       "      <td>H025</td>\n",
       "      <td>Bacteria;Firmicutes;Clostridia;Clostridiales;L...</td>\n",
       "      <td>0.0</td>\n",
       "      <td>[eubacterium]</td>\n",
       "    </tr>\n",
       "    <tr>\n",
       "      <th>14318</th>\n",
       "      <td>H028</td>\n",
       "      <td>Bacteria;Firmicutes;Clostridia;Clostridiales;L...</td>\n",
       "      <td>0.0</td>\n",
       "      <td>[eubacterium]</td>\n",
       "    </tr>\n",
       "    <tr>\n",
       "      <th>14319</th>\n",
       "      <td>H029</td>\n",
       "      <td>Bacteria;Firmicutes;Clostridia;Clostridiales;L...</td>\n",
       "      <td>0.0</td>\n",
       "      <td>[eubacterium]</td>\n",
       "    </tr>\n",
       "  </tbody>\n",
       "</table>\n",
       "<p>14320 rows × 4 columns</p>\n",
       "</div>"
      ],
      "text/plain": [
       "      sample_id                                                 id  abundance  \\\n",
       "0          H008  Bacteria;Firmicutes;Clostridia;Clostridiales;R...       49.0   \n",
       "1          H009  Bacteria;Firmicutes;Clostridia;Clostridiales;R...      133.0   \n",
       "2          H010  Bacteria;Firmicutes;Clostridia;Clostridiales;R...       43.0   \n",
       "3          H012  Bacteria;Firmicutes;Clostridia;Clostridiales;R...      456.0   \n",
       "4          H019  Bacteria;Firmicutes;Clostridia;Clostridiales;R...       32.0   \n",
       "...         ...                                                ...        ...   \n",
       "14315      H020  Bacteria;Firmicutes;Clostridia;Clostridiales;L...        0.0   \n",
       "14316      H021  Bacteria;Firmicutes;Clostridia;Clostridiales;L...        1.0   \n",
       "14317      H025  Bacteria;Firmicutes;Clostridia;Clostridiales;L...        0.0   \n",
       "14318      H028  Bacteria;Firmicutes;Clostridia;Clostridiales;L...        0.0   \n",
       "14319      H029  Bacteria;Firmicutes;Clostridia;Clostridiales;L...        0.0   \n",
       "\n",
       "                  genus  \n",
       "0      Faecalibacterium  \n",
       "1      Faecalibacterium  \n",
       "2      Faecalibacterium  \n",
       "3      Faecalibacterium  \n",
       "4      Faecalibacterium  \n",
       "...                 ...  \n",
       "14315     [eubacterium]  \n",
       "14316     [eubacterium]  \n",
       "14317     [eubacterium]  \n",
       "14318     [eubacterium]  \n",
       "14319     [eubacterium]  \n",
       "\n",
       "[14320 rows x 4 columns]"
      ]
     },
     "execution_count": 3,
     "metadata": {},
     "output_type": "execute_result"
    }
   ],
   "source": [
    "taxonomy = pd.read_csv('../data/studyC_abundances.csv')\n",
    "# Melt the table into long form\n",
    "taxonomy = pd.melt(taxonomy, \n",
    "                   id_vars = 'sample_id', \n",
    "                   value_vars = taxonomy.columns[1:], \n",
    "                   var_name = 'id', \n",
    "                   value_name = 'abundance')\n",
    "# Add a genus column, as required by MICOM for the taxonomy table\n",
    "taxonomy['genus'] = taxonomy['id'].str.split(';').str[5].str.split('.').str[0]\n",
    "taxonomy"
   ]
  },
  {
   "cell_type": "markdown",
   "id": "8bd09f44-0488-4013-a28a-73ceea983b1b",
   "metadata": {},
   "source": [
    "## We need a model database to pull our reconstructions from to build models"
   ]
  },
  {
   "cell_type": "code",
   "execution_count": 4,
   "id": "cdce81ae-c0c7-41d3-900f-bb251e6a901e",
   "metadata": {},
   "outputs": [],
   "source": [
    "agora = ('../agora/data')"
   ]
  },
  {
   "cell_type": "markdown",
   "id": "7f3aca59-13a9-4a49-8304-78e6a2756f8f",
   "metadata": {},
   "source": [
    "## Now, we'll build our models, with cutoff of 0.001"
   ]
  },
  {
   "cell_type": "code",
   "execution_count": 5,
   "id": "e00c841b-17d9-44f7-8140-2bd3dd010cb4",
   "metadata": {},
   "outputs": [
    {
     "data": {
      "text/html": [
       "<pre style=\"white-space:pre;overflow-x:auto;line-height:normal;font-family:Menlo,'DejaVu Sans Mono',consolas,'Courier New',monospace\"><span style=\"color: #7fbfbf; text-decoration-color: #7fbfbf\">[16:26:25] </span><span style=\"color: #800000; text-decoration-color: #800000\">WARNING </span> Found existing models for <span style=\"color: #008080; text-decoration-color: #008080; font-weight: bold\">10</span> samples. Will skip those. Delete the output folder if  <a href=\"file:///users/nbohmann/.local/lib/python3.8/site-packages/micom/workflows/build.py\" target=\"_blank\"><span style=\"color: #7f7f7f; text-decoration-color: #7f7f7f\">build.py</span></a><span style=\"color: #7f7f7f; text-decoration-color: #7f7f7f\">:</span><a href=\"file:///users/nbohmann/.local/lib/python3.8/site-packages/micom/workflows/build.py#95\" target=\"_blank\"><span style=\"color: #7f7f7f; text-decoration-color: #7f7f7f\">95</span></a>\n",
       "<span style=\"color: #7fbfbf; text-decoration-color: #7fbfbf\">           </span>         you would like me to rebuild them.                                                  <span style=\"color: #7f7f7f; text-decoration-color: #7f7f7f\">           </span>\n",
       "</pre>\n"
      ],
      "text/plain": [
       "\u001b[2;36m[16:26:25]\u001b[0m\u001b[2;36m \u001b[0m\u001b[31mWARNING \u001b[0m Found existing models for \u001b[1;36m10\u001b[0m samples. Will skip those. Delete the output folder if  \u001b]8;id=994854;file:///users/nbohmann/.local/lib/python3.8/site-packages/micom/workflows/build.py\u001b\\\u001b[2mbuild.py\u001b[0m\u001b]8;;\u001b\\\u001b[2m:\u001b[0m\u001b]8;id=31299;file:///users/nbohmann/.local/lib/python3.8/site-packages/micom/workflows/build.py#95\u001b\\\u001b[2m95\u001b[0m\u001b]8;;\u001b\\\n",
       "\u001b[2;36m           \u001b[0m         you would like me to rebuild them.                                                  \u001b[2m           \u001b[0m\n"
      ]
     },
     "metadata": {},
     "output_type": "display_data"
    },
    {
     "data": {
      "application/vnd.jupyter.widget-view+json": {
       "model_id": "e29883860856464ab8fae532897055d0",
       "version_major": 2,
       "version_minor": 0
      },
      "text/plain": [
       "Output()"
      ]
     },
     "metadata": {},
     "output_type": "display_data"
    },
    {
     "data": {
      "text/html": [
       "<pre style=\"white-space:pre;overflow-x:auto;line-height:normal;font-family:Menlo,'DejaVu Sans Mono',consolas,'Courier New',monospace\"></pre>\n"
      ],
      "text/plain": []
     },
     "metadata": {},
     "output_type": "display_data"
    },
    {
     "data": {
      "text/html": [
       "<pre style=\"white-space:pre;overflow-x:auto;line-height:normal;font-family:Menlo,'DejaVu Sans Mono',consolas,'Courier New',monospace\">\n",
       "</pre>\n"
      ],
      "text/plain": [
       "\n"
      ]
     },
     "metadata": {},
     "output_type": "display_data"
    }
   ],
   "source": [
    "models = micom.workflows.build(taxonomy,out_folder = '../models/studyC',\n",
    "                      model_db = agora, cutoff = 0.001, threads = 10)"
   ]
  },
  {
   "cell_type": "markdown",
   "id": "94a8d6ab-00b7-49a0-a7a9-3f35a0c2a0b9",
   "metadata": {},
   "source": [
    "## Next, we'll gather our medium. We'll load in the carbon-depleted standard european medium that was constructed and functionally completed in the medium_construction.ipynb notebook."
   ]
  },
  {
   "cell_type": "code",
   "execution_count": 6,
   "id": "db13e8bc-d079-4ba2-9004-08318d67ba65",
   "metadata": {},
   "outputs": [],
   "source": [
    "# Read in the medium\n",
    "medium = pd.read_csv('../media/european_lowcarbon.csv',index_col = 0)[['reaction','metabolite','flux']]\n",
    "# Dilute to 10% of original content\n",
    "medium['flux'] = medium['flux']*.1\n",
    "# We'll also build two treatment media, including an inulin supplement or a pectin supplement\n",
    "pectin = pd.DataFrame({'reaction':['EX_pect_m'],'metabolite':['pect_m'],'flux':[0.75]})\n",
    "inulin = pd.DataFrame({'reaction':['EX_inulin_m'],'metabolite':['inulin_m'],'flux':[10.50]})\n",
    "pectin_medium = pd.concat([medium, pectin])\n",
    "inulin_medium = pd.concat([medium, inulin])"
   ]
  },
  {
   "cell_type": "markdown",
   "id": "13b43709-99ae-4a87-9d26-f594386e2915",
   "metadata": {},
   "source": [
    "## Now, we'll use the diet to grow the models we just built. First, we'll do so without the addition of fiber, to simulate control samples "
   ]
  },
  {
   "cell_type": "code",
   "execution_count": 7,
   "id": "3b826ae8-c7d4-4420-84cb-c4c7788526ea",
   "metadata": {},
   "outputs": [
    {
     "data": {
      "application/vnd.jupyter.widget-view+json": {
       "model_id": "4fd962bb80c24873b0fcb5d91444b8d7",
       "version_major": 2,
       "version_minor": 0
      },
      "text/plain": [
       "Output()"
      ]
     },
     "metadata": {},
     "output_type": "display_data"
    },
    {
     "data": {
      "text/html": [
       "<pre style=\"white-space:pre;overflow-x:auto;line-height:normal;font-family:Menlo,'DejaVu Sans Mono',consolas,'Courier New',monospace\"></pre>\n"
      ],
      "text/plain": []
     },
     "metadata": {},
     "output_type": "display_data"
    },
    {
     "data": {
      "text/html": [
       "<pre style=\"white-space:pre;overflow-x:auto;line-height:normal;font-family:Menlo,'DejaVu Sans Mono',consolas,'Courier New',monospace\">\n",
       "</pre>\n"
      ],
      "text/plain": [
       "\n"
      ]
     },
     "metadata": {},
     "output_type": "display_data"
    },
    {
     "name": "stderr",
     "output_type": "stream",
     "text": [
      "/users/nbohmann/.local/lib/python3.8/site-packages/micom/workflows/grow.py:199: PerformanceWarning: DataFrame is highly fragmented.  This is usually the result of calling `frame.insert` many times, which has poor performance.  Consider joining all columns at once using pd.concat(axis=1) instead. To get a de-fragmented frame, use `newframe = frame.copy()`\n"
     ]
    }
   ],
   "source": [
    "# Read the model manifest\n",
    "manifest = pd.read_csv('../models/studyC/manifest.csv')\n",
    "# Grow the models with a tradeoff value of 0.7\n",
    "growth = micom.workflows.grow(manifest,'../models/studyC',medium=medium,tradeoff=.7,strategy='none',threads = 20)\n",
    "# # Collect the absolute production rates\n",
    "control = micom.measures.production_rates(growth)"
   ]
  },
  {
   "cell_type": "markdown",
   "id": "1d343fd5-06ef-4993-8f52-9a4478c56548",
   "metadata": {},
   "source": [
    "## We'll do the same with the supplementation of pectin, on the treated samples"
   ]
  },
  {
   "cell_type": "code",
   "execution_count": null,
   "id": "a5edb4e4-6459-4b3d-920d-25e99530b018",
   "metadata": {},
   "outputs": [
    {
     "data": {
      "application/vnd.jupyter.widget-view+json": {
       "model_id": "95c0ccc26cec41d381d5821395ee3661",
       "version_major": 2,
       "version_minor": 0
      },
      "text/plain": [
       "Output()"
      ]
     },
     "metadata": {},
     "output_type": "display_data"
    }
   ],
   "source": [
    "# Read the model manifest\n",
    "manifest = pd.read_csv('../models/studyC/manifest.csv')\n",
    "# Grow the models with a tradeoff value of 0.7\n",
    "growth = micom.workflows.grow(manifest,'../models/studyC',medium=pectin_medium,tradeoff=.7,strategy='none',threads = 20)\n",
    "# Collect the absolute production rates\n",
    "pectin = micom.measures.production_rates(growth)"
   ]
  },
  {
   "cell_type": "markdown",
   "id": "97368318-02ea-4aa6-ae8f-dd8955de5031",
   "metadata": {},
   "source": [
    "## And again with inulin"
   ]
  },
  {
   "cell_type": "code",
   "execution_count": null,
   "id": "7a2c907c-ec39-4e8d-bb99-9a17e0b4ace2",
   "metadata": {},
   "outputs": [],
   "source": [
    "# Read the model manifest\n",
    "manifest = pd.read_csv('../models/studyC/manifest.csv')\n",
    "# Grow the models with a tradeoff value of 0.7\n",
    "growth = micom.workflows.grow(manifest,'../models/studyC',medium=inulin_medium,tradeoff=.7,strategy='none',threads = 20)\n",
    "# Collect the absolute production rates\n",
    "inulin = micom.measures.production_rates(growth)"
   ]
  },
  {
   "cell_type": "markdown",
   "id": "7cfca8a4-29a4-493b-9c75-ff81d7f6be3c",
   "metadata": {},
   "source": [
    "## Now that we have the results, we'll isolate the SCFA production and format it for concatenation with the measured results. Here's a function that will do this for both the control and inulin treated samples. \n"
   ]
  },
  {
   "cell_type": "code",
   "execution_count": null,
   "id": "aa3e13d6-f5ef-4b25-9492-e6ef960a7275",
   "metadata": {},
   "outputs": [],
   "source": [
    "def get_fluxes(df, treatment):\n",
    "    # Isolate SCFA fluxes\n",
    "    df = df[(df['metabolite']=='but[e]')|(df['metabolite']=='ppa[e]')|(df['metabolite']=='ac[e]')]\n",
    "    # Map the metadata onto the dataframe to align with the measured samples \n",
    "    df['subject_id'] = df['sample_id']\n",
    "    df['treatment'] = treatment\n",
    "    # Take the average production of the replicates\n",
    "    res = df.groupby(['subject_id','treatment','name']).mean().reset_index()\n",
    "    \n",
    "    # Pivot the table for alignment with the measurement dataframe\n",
    "    predicted = pd.pivot_table(res,\n",
    "                columns = 'name',\n",
    "                index = ['subject_id','treatment'], \n",
    "                values = 'flux')\n",
    "    predicted = predicted.rename(columns = {'acetate':'flux-predicted_acetate',\n",
    "                                'butyrate':'flux-predicted_butyrate',\n",
    "                                'propionate':'flux-predicted_propionate'}).reset_index()\n",
    "    return predicted"
   ]
  },
  {
   "cell_type": "markdown",
   "id": "d5f7a5ab-056e-4101-bc92-8f2b119a865e",
   "metadata": {},
   "source": [
    "## Now we can iterate the function over both the control and treatment results, concatenating them into one dataframe"
   ]
  },
  {
   "cell_type": "code",
   "execution_count": null,
   "id": "4d5d2775-31ea-4008-91ba-2ac925906789",
   "metadata": {},
   "outputs": [],
   "source": [
    "# Control Samples\n",
    "predicted = get_fluxes(control, 'CTRL',)\n",
    "# Pectin samples\n",
    "predicted = pd.concat([predicted, get_fluxes(pectin, 'PECT')], axis = 0)\n",
    "# And inulin samples\n",
    "predicted = pd.concat([predicted, get_fluxes(inulin, 'INUL')], axis = 0)\n",
    "predicted.set_index(['subject_id','treatment'], inplace = True)"
   ]
  },
  {
   "cell_type": "markdown",
   "id": "20570b95-0e47-44bf-a1b5-f2dda00814ed",
   "metadata": {},
   "source": [
    "## Now we'll concatenate the predictions with the measured scfa values, and rename the columns so they don't overlap"
   ]
  },
  {
   "cell_type": "code",
   "execution_count": null,
   "id": "975e0ff3-475f-4a56-b0e8-eb495a6bd14c",
   "metadata": {},
   "outputs": [],
   "source": [
    "measured.columns = ['_'.join(col) for col in measured.columns.values]\n",
    "# Concatenate dataframes\n",
    "scfasTotal = pd.concat([measured,predicted], axis = 1)\n",
    "# Flatten multiindex\n",
    "scfasTotal.columns = scfasTotal.columns.to_flat_index()\n",
    "# Join column names for plotting\n",
    "scfasTotal.reset_index(inplace = True)"
   ]
  },
  {
   "cell_type": "code",
   "execution_count": null,
   "id": "fc52c475-3941-4b28-9626-1b9fc7bf633c",
   "metadata": {},
   "outputs": [],
   "source": [
    "scfasTotal"
   ]
  },
  {
   "cell_type": "markdown",
   "id": "fecb1ee7-dbe5-41bd-9922-ddc7a224b28b",
   "metadata": {},
   "source": [
    "## Finally, plot the results"
   ]
  },
  {
   "cell_type": "code",
   "execution_count": null,
   "id": "8d7815a2-fa1a-4e1b-b373-c2a4fb55c1ca",
   "metadata": {},
   "outputs": [],
   "source": [
    "ac_plot = (ggplot(\n",
    "    scfasTotal, aes(x = ('flux_acetate'), y = ('flux-predicted_acetate')))\n",
    "    +geom_point(aes(color = 'treatment'),size = 5)\n",
    "    +geom_errorbarh(aes(y =\"flux-predicted_acetate\", \n",
    "                        xmin = scfasTotal['flux_acetate'] - scfasTotal['sem_acetate'],\n",
    "                        xmax = scfasTotal['flux_acetate'] + scfasTotal['sem_acetate']))\n",
    "    +geom_smooth(method='lm',linetype='--')\n",
    "    +scale_color_manual(values = ['deepskyblue','darksalmon','lightgreen'])\n",
    "    +labs(x='Measured($\\dfrac{mmol}{L*h}$)',y = 'Predicted($\\dfrac{mmol}{gDCW*h}$)',title='Acetate')\n",
    "    +theme(text = element_text(size=20),panel_background=element_rect(fill = \"white\",\n",
    "                            colour = \"white\",size = 0.5, linetype = \"solid\"),\n",
    "                            panel_grid=element_line(size = .2, linetype = \"solid\",colour = \"gray\"),\n",
    "                            axis_line = element_line(size = 2, linetype = \"solid\",colour = \"black\"),\n",
    "                            legend_title=element_blank(),legend_position='right'))\n",
    "ac_plot"
   ]
  },
  {
   "cell_type": "code",
   "execution_count": null,
   "id": "a31e4fca-e997-497b-a34c-45a022ecbb64",
   "metadata": {},
   "outputs": [],
   "source": [
    "ppa_plot = (ggplot(\n",
    "    scfasTotal, aes(x = ('flux_propionate'), y = ('flux-predicted_propionate')))\n",
    "    +geom_point(aes(color = 'treatment'),size = 5)\n",
    "    +geom_errorbarh(aes(y = 'flux-predicted_propionate', \n",
    "                        xmin = scfasTotal['flux_propionate'] - scfasTotal['sem_propionate'],\n",
    "                        xmax = scfasTotal['flux_propionate'] + scfasTotal['sem_propionate']))\n",
    "    +geom_smooth(method='lm',linetype='--')\n",
    "    +scale_color_manual(values = ['deepskyblue','darksalmon','lightgreen'])\n",
    "    +labs(x='Measured($\\dfrac{mmol}{L*h}$)',y = 'Predicted($\\dfrac{mmol}{gDCW*h}$)',title='Propionate')\n",
    "    +theme(text = element_text(size=20),panel_background=element_rect(fill = \"white\",\n",
    "                            colour = \"white\",size = 0.5, linetype = \"solid\"),\n",
    "                            panel_grid=element_line(size = .2, linetype = \"solid\",colour = \"gray\"),\n",
    "                            axis_line = element_line(size = 2, linetype = \"solid\",colour = \"black\"),\n",
    "                            legend_title=element_blank(),legend_position='right'))\n",
    "ppa_plot"
   ]
  },
  {
   "cell_type": "code",
   "execution_count": null,
   "id": "f85289f5-8652-44d0-adf7-8d2c22d2ba17",
   "metadata": {},
   "outputs": [],
   "source": [
    "but_plot = (ggplot(\n",
    "    scfasTotal, aes(x = ('flux_butyrate'), y = ('flux-predicted_butyrate')))\n",
    "    +geom_point(aes(color = 'treatment'),size = 5)\n",
    "    +geom_errorbarh(aes(y ='flux-predicted_butyrate', \n",
    "                        xmin = scfasTotal['flux_butyrate'] - scfasTotal['sem_butyrate'],\n",
    "                        xmax = scfasTotal['flux_butyrate'] + scfasTotal['sem_butyrate']))\n",
    "    +geom_smooth(method='lm',linetype='--')\n",
    "    +scale_color_manual(values = ['deepskyblue','darksalmon','lightgreen'])\n",
    "    +labs(x='Measured($\\dfrac{mmol}{L*h}$)',y = 'Predicted($\\dfrac{mmol}{gDCW*h}$)',title='Butyrate')\n",
    "    +theme(text = element_text(size=20),panel_background=element_rect(fill = \"white\",\n",
    "                            colour = \"white\",size = 0.5, linetype = \"solid\"),\n",
    "                            panel_grid=element_line(size = .2, linetype = \"solid\",colour = \"gray\"),\n",
    "                                  axis_line = element_line(size = 2, linetype = \"solid\",colour = \"black\"),\n",
    "                            legend_title=element_blank(),legend_position='right'))\n",
    "but_plot"
   ]
  },
  {
   "cell_type": "markdown",
   "id": "37bb801f-3be6-4eb7-a8ed-211731b28c5e",
   "metadata": {},
   "source": [
    "## Save the results for future use"
   ]
  },
  {
   "cell_type": "code",
   "execution_count": null,
   "id": "9f753aae-02d4-4ecb-855c-def1964a00fd",
   "metadata": {},
   "outputs": [],
   "source": [
    "scfasTotal.to_csv('../data/studyC.csv')"
   ]
  }
 ],
 "metadata": {
  "kernelspec": {
   "display_name": "Python 3 (ipykernel)",
   "language": "python",
   "name": "python3"
  },
  "language_info": {
   "codemirror_mode": {
    "name": "ipython",
    "version": 3
   },
   "file_extension": ".py",
   "mimetype": "text/x-python",
   "name": "python",
   "nbconvert_exporter": "python",
   "pygments_lexer": "ipython3",
   "version": "3.8.13"
  }
 },
 "nbformat": 4,
 "nbformat_minor": 5
}
