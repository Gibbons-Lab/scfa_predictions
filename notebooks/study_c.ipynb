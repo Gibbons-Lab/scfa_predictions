{
 "cells": [
  {
   "cell_type": "markdown",
   "id": "a586201d-912a-4293-ad64-fb46960dfb3b",
   "metadata": {},
   "source": [
    "## This notebook shows the full workflow for building models, simulating growth and obtaining SCFA predictions from data collected by the _ex vivo_ study conducted by Gurry et al. 2021 (Study C)"
   ]
  },
  {
   "cell_type": "code",
   "execution_count": null,
   "id": "f160f9ad-82b0-425a-affe-af74a1e0ba20",
   "metadata": {},
   "outputs": [],
   "source": [
    "import os\n",
    "import pandas as pd\n",
    "from plotnine import *\n",
    "from tqdm import tqdm\n",
    "import numpy as np\n",
    "import scipy\n",
    "import micom\n",
    "import micom.measures\n",
    "\n",
    "%matplotlib inline"
   ]
  },
  {
   "cell_type": "markdown",
   "id": "7140da19-93eb-4bfe-8fa3-3eceb3d39cb6",
   "metadata": {},
   "source": [
    "## We'll start with the measured SCFA values from the _ex vivo_ experiments, and calculated production flux from the concentrations"
   ]
  },
  {
   "cell_type": "code",
   "execution_count": null,
   "id": "0bcca9ad-66cf-4d53-bd1c-61010031c6be",
   "metadata": {},
   "outputs": [],
   "source": [
    "# Read in the SCFA data\n",
    "scfas = pd.read_csv('../data/studyC_SCFAs.csv',index_col = 0) \n",
    "# Melt the data into long form\n",
    "scfas = pd.melt(scfas, \n",
    "                id_vars = ['subject_id','treatment','timepoint','replicate'], \n",
    "                value_vars = ['butyrate','propionate','acetate'],\n",
    "                value_name = 'concentration',\n",
    "                var_name = 'analyte')\n",
    "# Sort values\n",
    "scfas = scfas.sort_values(by = ['subject_id','treatment','analyte','timepoint','replicate'])\n",
    "# Calculate the difference in concentration between timeoints\n",
    "scfas['flux'] = scfas.groupby(['subject_id','treatment','replicate','analyte'])['concentration'].diff()\n",
    "# Divide SCFA difference by culturing time to calculate flux\n",
    "scfas['flux'] = scfas['flux']/4\n",
    "# Drop rows with NAs\n",
    "scfas.dropna(inplace = True)\n",
    "# Find the mean of fluxes between replicates\n",
    "res = scfas.groupby(['subject_id','treatment','analyte']).mean()\n",
    "# Add the standard deviation for each group\n",
    "res['sem']= scfas.groupby(['subject_id','treatment','analyte'])['flux'].sem()\n",
    "# Reset the index of the dataframe keeping only samples that are used \n",
    "res = res.reset_index()[['subject_id','treatment','analyte','flux','sem']]\n",
    "# Pivot the table for ease of plotting\n",
    "measured = pd.pivot_table(res,columns = 'analyte',index = ['subject_id','treatment'],values = ['flux','sem'])\n",
    "measured"
   ]
  },
  {
   "cell_type": "markdown",
   "id": "c9be4665-db9c-4cf5-9bb1-20d9e9eb32cc",
   "metadata": {},
   "source": [
    "## Next, we'll load up abundances and build a taxonomy table for MICOM"
   ]
  },
  {
   "cell_type": "code",
   "execution_count": null,
   "id": "5ff64953-1518-4471-af49-d1b59783c3d3",
   "metadata": {},
   "outputs": [],
   "source": [
    "taxonomy = pd.read_csv('../data/studyC_abundances.csv')\n",
    "# Melt the table into long form\n",
    "taxonomy = pd.melt(taxonomy, \n",
    "                   id_vars = 'sample_id', \n",
    "                   value_vars = taxonomy.columns[1:], \n",
    "                   var_name = 'id', \n",
    "                   value_name = 'abundance')\n",
    "# Add a genus column, as required by MICOM for the taxonomy table\n",
    "taxonomy['genus'] = taxonomy['id'].str.split(';').str[5].str.split('.').str[0]"
   ]
  },
  {
   "cell_type": "markdown",
   "id": "8bd09f44-0488-4013-a28a-73ceea983b1b",
   "metadata": {},
   "source": [
    "## We need a model database to pull our reconstructions from to build models"
   ]
  },
  {
   "cell_type": "code",
   "execution_count": null,
   "id": "cdce81ae-c0c7-41d3-900f-bb251e6a901e",
   "metadata": {},
   "outputs": [],
   "source": [
    "agora = ('../agora/data')"
   ]
  },
  {
   "cell_type": "markdown",
   "id": "7f3aca59-13a9-4a49-8304-78e6a2756f8f",
   "metadata": {},
   "source": [
    "## Now, we'll build our models, with cutoff of 0.001"
   ]
  },
  {
   "cell_type": "code",
   "execution_count": null,
   "id": "e00c841b-17d9-44f7-8140-2bd3dd010cb4",
   "metadata": {},
   "outputs": [],
   "source": [
    "models = micom.workflows.build(taxonomy,out_folder = '../models/studyC',\n",
    "                      model_db = agora, cutoff = 0.001, threads = 20)"
   ]
  },
  {
   "cell_type": "markdown",
   "id": "2d529123-e2b4-4394-8ab8-05155a63ee33",
   "metadata": {},
   "source": [
    "## Next, we'll gather our medium. We'll load in the carbon-depleted standard european medium that was constructed and functionally completed in the medium_construction.ipynb notebook."
   ]
  },
  {
   "cell_type": "code",
   "execution_count": null,
   "id": "db13e8bc-d079-4ba2-9004-08318d67ba65",
   "metadata": {},
   "outputs": [],
   "source": [
    "# Read in the medium\n",
    "medium = pd.read_csv('../media/european_lowcarbon.csv',index_col = 0)[['reaction','metabolite','flux']]\n",
    "# Dilute to 10% of original content\n",
    "medium['flux'] = medium['flux']*.1\n",
    "# We'll also build two treatment media, including an inulin supplement or a pectin supplement\n",
    "pectin = pd.DataFrame({'reaction':['EX_pect_m'],'metabolite':['pect_m'],'flux':[0.75]})\n",
    "inulin = pd.DataFrame({'reaction':['EX_inulin_m'],'metabolite':['inulin_m'],'flux':[10.50]})\n",
    "pectin_medium = pd.concat([medium, pectin])\n",
    "inulin_medium = pd.concat([medium, inulin])"
   ]
  },
  {
   "cell_type": "markdown",
   "id": "13b43709-99ae-4a87-9d26-f594386e2915",
   "metadata": {},
   "source": [
    "## Now, we'll use the diet to grow the models we just built. First, we'll do so without the addition of fiber, to simulate control samples "
   ]
  },
  {
   "cell_type": "code",
   "execution_count": null,
   "id": "3b826ae8-c7d4-4420-84cb-c4c7788526ea",
   "metadata": {},
   "outputs": [],
   "source": [
    "# Read the model manifest\n",
    "manifest = pd.read_csv('../models/studyC/manifest.csv')\n",
    "# Grow the models with a tradeoff value of 0.7\n",
    "growth = micom.workflows.grow(manifest,'../models/studyC',medium=medium,tradeoff=.7,strategy='none',threads = 20)\n",
    "# # Collect the absolute production rates\n",
    "control = micom.measures.production_rates(growth)"
   ]
  },
  {
   "cell_type": "markdown",
   "id": "1d343fd5-06ef-4993-8f52-9a4478c56548",
   "metadata": {},
   "source": [
    "## We'll do the same with the supplementation of pectin, on the treated samples"
   ]
  },
  {
   "cell_type": "code",
   "execution_count": null,
   "id": "a5edb4e4-6459-4b3d-920d-25e99530b018",
   "metadata": {},
   "outputs": [],
   "source": [
    "# Read the model manifest\n",
    "manifest = pd.read_csv('../models/studyC/manifest.csv')\n",
    "# Grow the models with a tradeoff value of 0.7\n",
    "growth = micom.workflows.grow(manifest,'../models/studyC',medium=pectin_medium,tradeoff=.7,strategy='none',threads = 20)\n",
    "# Collect the absolute production rates\n",
    "pectin = micom.measures.production_rates(growth)"
   ]
  },
  {
   "cell_type": "markdown",
   "id": "97368318-02ea-4aa6-ae8f-dd8955de5031",
   "metadata": {},
   "source": [
    "## And again with inulin"
   ]
  },
  {
   "cell_type": "code",
   "execution_count": null,
   "id": "7a2c907c-ec39-4e8d-bb99-9a17e0b4ace2",
   "metadata": {},
   "outputs": [],
   "source": [
    "# Read the model manifest\n",
    "manifest = pd.read_csv('../models/studyC/manifest.csv')\n",
    "# Grow the models with a tradeoff value of 0.7\n",
    "growth = micom.workflows.grow(manifest,'../models/studyC',medium=inulin_medium,tradeoff=.7,strategy='none',threads = 20)\n",
    "# Collect the absolute production rates\n",
    "inulin = micom.measures.production_rates(growth)"
   ]
  },
  {
   "cell_type": "markdown",
   "id": "7cfca8a4-29a4-493b-9c75-ff81d7f6be3c",
   "metadata": {},
   "source": [
    "## Now that we have the results, we'll isolate the SCFA production and format it for concatenation with the measured results. Here's a function that will do this for both the control and inulin treated samples. \n"
   ]
  },
  {
   "cell_type": "code",
   "execution_count": null,
   "id": "aa3e13d6-f5ef-4b25-9492-e6ef960a7275",
   "metadata": {},
   "outputs": [],
   "source": [
    "def get_fluxes(df):\n",
    "    # Isolate SCFA fluxes\n",
    "    df = df[(df['metabolite']=='but[e]')|(df['metabolite']=='ppa[e]')|(df['metabolite']=='ac[e]')]\n",
    "    # Map the metadata onto the dataframe to align with the measured samples \n",
    "    df['subject_id'] = df['sample_id'].str.split('_').str[1]\n",
    "    df['treatment'] = df['sample_id'].str.split('_').str[0]\n",
    "    # Take the average production of the replicates\n",
    "    res = df.groupby(['subject_id','treatment','name']).mean()\n",
    "    # Calculate the standard deviation of the replicates\n",
    "    res['sem'] = df.groupby(['subject_id','treatment','name'])['flux'].sem()\n",
    "    # Reset the index\n",
    "    res = res.rename(columns = {'flux':'flux-predicted', 'sem':'sem-predicted'}).reset_index()\n",
    "    # Pivot the table for alignment with the measurement dataframe\n",
    "    predicted = pd.pivot_table(res,\n",
    "                columns = 'name',\n",
    "                index = ['subject_id','treatment'], \n",
    "                values = ['flux-predicted','sem-predicted'])\n",
    "    return predicted"
   ]
  },
  {
   "cell_type": "markdown",
   "id": "d5f7a5ab-056e-4101-bc92-8f2b119a865e",
   "metadata": {},
   "source": [
    "## Now we can iterate the function over both the control and treatment results, concatenating them into one dataframe"
   ]
  },
  {
   "cell_type": "code",
   "execution_count": null,
   "id": "4d5d2775-31ea-4008-91ba-2ac925906789",
   "metadata": {},
   "outputs": [],
   "source": [
    "# Control Samples\n",
    "predicted = get_fluxes(control)\n",
    "# Pectin samples\n",
    "predicted = pd.concat([predicted, get_fluxes(pectin)], axis = 0)\n",
    "# And inulin samples\n",
    "predicted = pd.concat([predicted, get_fluxes(inulin)], axis = 0)"
   ]
  },
  {
   "cell_type": "markdown",
   "id": "20570b95-0e47-44bf-a1b5-f2dda00814ed",
   "metadata": {},
   "source": [
    "## Now we'll concatenate the predictions with the measured scfa values, and rename the columns so they don't overlap"
   ]
  },
  {
   "cell_type": "code",
   "execution_count": null,
   "id": "975e0ff3-475f-4a56-b0e8-eb495a6bd14c",
   "metadata": {},
   "outputs": [],
   "source": [
    "# Concatenate dataframes\n",
    "scfasTotal = pd.concat([measured,predicted], axis = 1)\n",
    "# Flatten multiindex\n",
    "scfasTotal.columns = scfasTotal.columns.to_flat_index()\n",
    "# Join column names for plotting\n",
    "scfasTotal.columns = ['_'.join(col) for col in scfasTotal.columns.values]\n",
    "scfasTotal.reset_index(inplace = True)"
   ]
  },
  {
   "cell_type": "markdown",
   "id": "fecb1ee7-dbe5-41bd-9922-ddc7a224b28b",
   "metadata": {},
   "source": [
    "## Finally, plot the results"
   ]
  },
  {
   "cell_type": "code",
   "execution_count": null,
   "id": "8d7815a2-fa1a-4e1b-b373-c2a4fb55c1ca",
   "metadata": {},
   "outputs": [],
   "source": [
    "ac_plot = (ggplot(\n",
    "    scfasTotal, aes(x = ('flux_acetate'), y = ('flux-predicted_acetate')))\n",
    "    +geom_point(aes(color = 'treatment'),size = 5)\n",
    "    +geom_errorbar(aes(x=\"flux_acetate\", \n",
    "                        ymin = scfasTotal['flux-predicted_acetate'] - scfasTotal['sem-predicted_acetate'],\n",
    "                        ymax = scfasTotal['flux-predicted_acetate'] + scfasTotal['sem-predicted_acetate']))\n",
    "    +geom_errorbarh(aes(y =\"flux-predicted_acetate\", \n",
    "                        xmin = scfasTotal['flux_acetate'] - scfasTotal['sem_acetate'],\n",
    "                        xmax = scfasTotal['flux_acetate'] + scfasTotal['sem_acetate']))\n",
    "    +geom_smooth(method='lm',linetype='--')\n",
    "    +scale_color_manual(values = ['deepskyblue','darksalmon'])\n",
    "    +labs(x='Measured($\\dfrac{mmol}{L*h}$)',y = 'Predicted($\\dfrac{mmol}{gDCW*h}$)',title='Acetate')\n",
    "    +theme(text = element_text(size=20),panel_background=element_rect(fill = \"white\",\n",
    "                            colour = \"white\",size = 0.5, linetype = \"solid\"),\n",
    "                            panel_grid=element_line(size = .2, linetype = \"solid\",colour = \"gray\"),\n",
    "                            axis_line = element_line(size = 2, linetype = \"solid\",colour = \"black\"),\n",
    "                            legend_title=element_blank(),legend_position='right'))\n",
    "ac_plot"
   ]
  },
  {
   "cell_type": "code",
   "execution_count": null,
   "id": "a31e4fca-e997-497b-a34c-45a022ecbb64",
   "metadata": {},
   "outputs": [],
   "source": [
    "ppa_plot = (ggplot(\n",
    "    scfasTotal, aes(x = ('flux_propionate'), y = ('flux-predicted_propionate')))\n",
    "    +geom_point(aes(color = 'treatment'),size = 5)\n",
    "    +geom_errorbar(aes(x='flux_propionate', \n",
    "                        ymin = scfasTotal['flux-predicted_propionate'] - scfasTotal['sem-predicted_propionate'],\n",
    "                        ymax = scfasTotal['flux-predicted_propionate'] + scfasTotal['sem-predicted_propionate']))\n",
    "    +geom_errorbarh(aes(y = 'flux-predicted_propionate', \n",
    "                        xmin = scfasTotal['flux_propionate'] - scfasTotal['sem_propionate'],\n",
    "                        xmax = scfasTotal['flux_propionate'] + scfasTotal['sem_propionate']))\n",
    "    +geom_smooth(method='lm',linetype='--')\n",
    "    +scale_color_manual(values = ['deepskyblue','darksalmon'])\n",
    "    +labs(x='Measured($\\dfrac{mmol}{L*h}$)',y = 'Predicted($\\dfrac{mmol}{gDCW*h}$)',title='Propionate')\n",
    "    +theme(text = element_text(size=20),panel_background=element_rect(fill = \"white\",\n",
    "                            colour = \"white\",size = 0.5, linetype = \"solid\"),\n",
    "                            panel_grid=element_line(size = .2, linetype = \"solid\",colour = \"gray\"),\n",
    "                            axis_line = element_line(size = 2, linetype = \"solid\",colour = \"black\"),\n",
    "                            legend_title=element_blank(),legend_position='right'))\n",
    "ppa_plot"
   ]
  },
  {
   "cell_type": "code",
   "execution_count": null,
   "id": "f85289f5-8652-44d0-adf7-8d2c22d2ba17",
   "metadata": {},
   "outputs": [],
   "source": [
    "but_plot = (ggplot(\n",
    "    scfasTotal, aes(x = ('flux_butyrate'), y = ('flux-predicted_butyrate')))\n",
    "    +geom_point(aes(color = 'treatment'),size = 5)\n",
    "    +geom_errorbar(aes(x = 'flux_butyrate', \n",
    "                        ymin = scfasTotal['flux-predicted_butyrate'] - scfasTotal['sem-predicted_butyrate'],\n",
    "                        ymax = scfasTotal['flux-predicted_butyrate'] + scfasTotal['sem-predicted_butyrate']))\n",
    "    +geom_errorbarh(aes(y ='flux-predicted_butyrate', \n",
    "                        xmin = scfasTotal['flux_butyrate'] - scfasTotal['sem_butyrate'],\n",
    "                        xmax = scfasTotal['flux_butyrate'] + scfasTotal['sem_butyrate']))\n",
    "    +geom_smooth(method='lm',linetype='--')\n",
    "    +scale_color_manual(values = ['deepskyblue','darksalmon'])\n",
    "    +labs(x='Measured($\\dfrac{mmol}{L*h}$)',y = 'Predicted($\\dfrac{mmol}{gDCW*h}$)',title='Butyrate')\n",
    "    +theme(text = element_text(size=20),panel_background=element_rect(fill = \"white\",\n",
    "                            colour = \"white\",size = 0.5, linetype = \"solid\"),\n",
    "                            panel_grid=element_line(size = .2, linetype = \"solid\",colour = \"gray\"),\n",
    "                                  axis_line = element_line(size = 2, linetype = \"solid\",colour = \"black\"),\n",
    "                            legend_title=element_blank(),legend_position='right'))\n",
    "but_plot"
   ]
  },
  {
   "cell_type": "markdown",
   "id": "37bb801f-3be6-4eb7-a8ed-211731b28c5e",
   "metadata": {},
   "source": [
    "## Save the results for future use"
   ]
  },
  {
   "cell_type": "code",
   "execution_count": null,
   "id": "9f753aae-02d4-4ecb-855c-def1964a00fd",
   "metadata": {},
   "outputs": [],
   "source": [
    "flux.to_csv('/proj/gibbons/nbohmann/exvivo/scfa_paper/gurry1.csv')"
   ]
  }
 ],
 "metadata": {
  "kernelspec": {
   "display_name": "Python 3 (ipykernel)",
   "language": "python",
   "name": "python3"
  },
  "language_info": {
   "codemirror_mode": {
    "name": "ipython",
    "version": 3
   },
   "file_extension": ".py",
   "mimetype": "text/x-python",
   "name": "python",
   "nbconvert_exporter": "python",
   "pygments_lexer": "ipython3",
   "version": "3.8.13"
  }
 },
 "nbformat": 4,
 "nbformat_minor": 5
}
