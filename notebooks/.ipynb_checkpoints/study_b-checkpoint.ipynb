{
 "cells": [
  {
   "cell_type": "markdown",
   "id": "6ad8d478-b1a3-4821-bdc0-710705e2e582",
   "metadata": {},
   "source": [
    "## Here, we'll show the full workflow for building models and getting predictions for SCFA production using MICOM metabolic modeling for the _ex vivo_ study conducted by Cantu-Jungles et al. 2021 (Study B)"
   ]
  },
  {
   "cell_type": "code",
   "execution_count": null,
   "id": "b920f8f2-2ade-455a-b738-23b97820d635",
   "metadata": {},
   "outputs": [],
   "source": [
    "import os\n",
    "import pandas as pd\n",
    "from plotnine import *\n",
    "from tqdm import tqdm\n",
    "import numpy as np\n",
    "import scipy\n",
    "import micom\n",
    "import micom.measures\n",
    "\n",
    "%matplotlib inline"
   ]
  },
  {
   "cell_type": "markdown",
   "id": "c8617736-27ab-4ccf-b1dd-6bbad194b901",
   "metadata": {},
   "source": [
    "## We'll start with the measured SCFA values from the _ex vivo_ experiments. Total SCFA production is already calcuated in mM "
   ]
  },
  {
   "cell_type": "code",
   "execution_count": null,
   "id": "3b3d0120-6299-431b-826b-da79e874cdee",
   "metadata": {},
   "outputs": [],
   "source": [
    "# Read in the SCFA data\n",
    "scfas = pd.read_csv('../data/studyB_SCFAs.csv') \n",
    "# Divide SCFA production by culturing time to estimate flux\n",
    "scfas[['acetate','butyrate','propionate']]= scfas[['acetate','butyrate','propionate']]/24 \n",
    "# Make the subject id column a string, for simplicity\n",
    "scfas['subject_id'] = scfas['subject_id'].astype('str')\n",
    "# Melt the SCFA columns into one column\n",
    "scfas = pd.melt(scfas, id_vars = ['subject_id','treatment'], value_vars = ['acetate','butyrate','propionate'],\n",
    "             value_name = 'flux', var_name = 'analyte')\n",
    "# Get mean values for each SCFA per sample\n",
    "res = scfas.groupby(['treatment','subject_id','analyte']).mean()\n",
    "# Get standard deviation for each \n",
    "res['sem'] = scfas.groupby(['treatment','subject_id','analyte']).sem()\n",
    "# Reset the index of the dataframe keeping only samples that are used \n",
    "res = res.reset_index()[['treatment','subject_id','analyte','flux','sem']]\n",
    "# Pivot the table for ease of plotting\n",
    "measured = pd.pivot_table(res,columns = 'analyte',index = ['subject_id','treatment'],values = ['flux','sem'])\n",
    "measured"
   ]
  },
  {
   "cell_type": "markdown",
   "id": "c085fa2c-96a3-4bf8-ba21-e45b11161b71",
   "metadata": {},
   "source": [
    "## Next, we will read in abundance data for all samples. As samples are cultured in triplicate, we will add a numerical suffix to each, indicating the replicate number. We also want only those samples treated with PBS or pectin"
   ]
  },
  {
   "cell_type": "code",
   "execution_count": null,
   "id": "cb21441a-f88c-41bd-a987-e2db60ca9055",
   "metadata": {},
   "outputs": [],
   "source": [
    "# Read in the abundance data \n",
    "taxonomy = pd.read_csv('../data/studyB_abundances.csv')\n",
    "# Count the number of times a sample_id appears in the dataframe\n",
    "vals = taxonomy.groupby(taxonomy['sample_id']).cumcount().values\n",
    "# Add the replicate number to the end of the sample_id\n",
    "taxonomy['sample_id'] = (taxonomy['sample_id']+'_'+ (vals+1).astype(str))\n",
    "# Sort to only control and pectin treated samples\n",
    "taxonomy = taxonomy[(taxonomy['sample_id'].str.contains('Blank'))|(taxonomy['sample_id'].str.contains('Pectin'))]"
   ]
  },
  {
   "cell_type": "markdown",
   "id": "570c52c0-f669-42ff-bfb9-be0e015c8919",
   "metadata": {},
   "source": [
    "## Now we will convert the abundance table to be long form. "
   ]
  },
  {
   "cell_type": "code",
   "execution_count": null,
   "id": "dee60ca9-ccb2-422d-80d7-3ab1b58bdb72",
   "metadata": {},
   "outputs": [],
   "source": [
    "# Melt the table into long form\n",
    "taxonomy = pd.melt(taxonomy, \n",
    "                   id_vars = 'sample_id', \n",
    "                   value_vars = taxonomy.columns[1:], \n",
    "                   var_name = 'id', \n",
    "                   value_name = 'abundance')\n",
    "# Replace the prefixes in the id column so the data can be read by MICOM\n",
    "taxonomy['id'] = (taxonomy['id'].str.replace('k__','').str.replace('p__','').\n",
    "                   str.replace('c__','').str.replace('o__','').str.replace('f__','').\n",
    "                   str.replace('g__','').str.replace('s__',''))\n",
    "# Add a genus column, as required by MICOM for the taxonomy table\n",
    "taxonomy['genus'] = taxonomy['id'].str.split(';').str[-2]"
   ]
  },
  {
   "cell_type": "markdown",
   "id": "2256aa61-a17b-425e-b9ed-427bafce8b44",
   "metadata": {},
   "source": [
    "## We need a model database to use as a resource for genome-scale metabolic models. We will pass in the file path to the AGORA db"
   ]
  },
  {
   "cell_type": "code",
   "execution_count": null,
   "id": "e585b921-4e3b-490f-9fe4-afb0b4c6935f",
   "metadata": {},
   "outputs": [],
   "source": [
    "agora = ('../agora/data')"
   ]
  },
  {
   "cell_type": "markdown",
   "id": "a001380f-a582-4eb8-be06-0771876a7090",
   "metadata": {},
   "source": [
    "## We'll get to building the models in MICOM, passing in the abundance table, identifying a model folder, passing in the database location, and assigning a relative abundance cutoff"
   ]
  },
  {
   "cell_type": "code",
   "execution_count": null,
   "id": "1bf546b6-6b34-4ffa-86ff-dcdb0e309c2f",
   "metadata": {},
   "outputs": [],
   "source": [
    "models = micom.workflows.build(taxonomy,out_folder = '../models/studyB',\n",
    "                      model_db = agora, cutoff = 0.001, threads = 20)"
   ]
  },
  {
   "cell_type": "markdown",
   "id": "08a9bf2d-46f8-4767-8525-7209c0b504a8",
   "metadata": {},
   "source": [
    "## Next, we'll gather our medium. We'll load in the carbon-depleted standard european medium that was constructed and functionally completed in the medium_construction.ipynb notebook."
   ]
  },
  {
   "cell_type": "code",
   "execution_count": null,
   "id": "c7ada9b5-61b5-4774-a6dc-0cc91b021f4e",
   "metadata": {},
   "outputs": [],
   "source": [
    "# Read in the medium\n",
    "medium = pd.read_csv('../media/european_lowcarbon.csv',index_col = 0)[['reaction','metabolite','flux']]\n",
    "# Dilute to 10% of original content\n",
    "medium['flux'] = medium['flux']*.1\n",
    "# We'll also build a treatment medium, including an pectin supplement\n",
    "pectin = pd.DataFrame({'reaction':['EX_pect_m'],'metabolite':['pect_m'],'flux':[0.75]})\n",
    "treatment_medium = pd.concat([medium, pectin])"
   ]
  },
  {
   "cell_type": "markdown",
   "id": "0a4c17ad-ab2e-4445-b116-4d464d780884",
   "metadata": {},
   "source": [
    "## Now, we'll use the diet to grow the models we just built. First, we'll do so without the addition of inulin, to simulate control samples "
   ]
  },
  {
   "cell_type": "code",
   "execution_count": null,
   "id": "8c44a4a8-859e-481b-ab04-f4739d1f4946",
   "metadata": {},
   "outputs": [],
   "source": [
    "# Read the model manifest\n",
    "manifest = pd.read_csv('../models/studyB/manifest.csv')\n",
    "# Isolate only the  samples that underwent control treatment\n",
    "manifest = manifest[manifest.sample_id.str.contains('Blank')]\n",
    "# Grow the models with a tradeoff value of 0.7\n",
    "growth = micom.workflows.grow(manifest,'../models/studyB',medium=medium,tradeoff=.7,strategy='none',threads = 20)\n",
    "# Collect the absolute production rates\n",
    "control = micom.measures.production_rates(growth)"
   ]
  },
  {
   "cell_type": "markdown",
   "id": "59f71f81-f5f3-4a0e-88f1-9a14cfc91507",
   "metadata": {},
   "source": [
    "## We'll do the same with the supplementation of inulin, on the treated samples"
   ]
  },
  {
   "cell_type": "code",
   "execution_count": null,
   "id": "19012190-3225-497f-b8cc-ffa6ca9b143a",
   "metadata": {},
   "outputs": [],
   "source": [
    "# Read the model manifest\n",
    "manifest = pd.read_csv('../models/studyB/manifest.csv')\n",
    "# Isolate the samples that underwent treatment\n",
    "manifest = manifest[manifest.sample_id.str.contains('Pectin')]\n",
    "# Grow the models with a tradeoff value of 0.7\n",
    "growth = micom.workflows.grow(manifest,'../models/studyB',medium=treatment_medium,tradeoff=.7,strategy='none',threads = 20)\n",
    "# Collect the absolute production rates\n",
    "treatment = micom.measures.production_rates(growth)"
   ]
  },
  {
   "cell_type": "markdown",
   "id": "fcdff204-d2dc-4632-9f83-939f866fabb8",
   "metadata": {},
   "source": [
    "## Now that we have the results, we'll isolate the SCFA production and format it for concatenation with the measured results. Here's a function that will do this for both the control and inulin treated samples. \n"
   ]
  },
  {
   "cell_type": "code",
   "execution_count": null,
   "id": "39ce86b5-8fd7-4378-909b-fbec2a9711e3",
   "metadata": {},
   "outputs": [],
   "source": [
    "def get_fluxes(df):\n",
    "    # Isolate SCFA fluxes\n",
    "    df = df[(df['metabolite']=='but[e]')|(df['metabolite']=='ppa[e]')|(df['metabolite']=='ac[e]')]\n",
    "    # Map the metadata onto the dataframe to align with the measured samples \n",
    "    df['subject_id'] = df['sample_id'].str.split('_').str[1]\n",
    "    df['treatment'] = df['sample_id'].str.split('_').str[0]\n",
    "    # Take the average production of the replicates\n",
    "    res = df.groupby(['subject_id','treatment','name']).mean()\n",
    "    # Calculate the standard deviation of the replicates\n",
    "    res['sem'] = df.groupby(['subject_id','treatment','name'])['flux'].sem()\n",
    "    # Reset the index\n",
    "    res = res.rename(columns = {'flux':'flux-predicted', 'sem':'sem-predicted'}).reset_index()\n",
    "    # Pivot the table for alignment with the measurement dataframe\n",
    "    predicted = pd.pivot_table(res,\n",
    "                columns = 'name',\n",
    "                index = ['subject_id','treatment'], \n",
    "                values = ['flux-predicted','sem-predicted'])\n",
    "    return predicted"
   ]
  },
  {
   "cell_type": "markdown",
   "id": "d7329cd5-ff47-43de-8d0b-c85c3a9137c8",
   "metadata": {},
   "source": [
    "## Now we can iterate the function over both the control and treatment results, concatenating them into one dataframe"
   ]
  },
  {
   "cell_type": "code",
   "execution_count": null,
   "id": "b3af7886-d49a-4a47-8a97-37f762c82c21",
   "metadata": {},
   "outputs": [],
   "source": [
    "# Control Samples\n",
    "predicted = get_fluxes(control)\n",
    "# And predicted samples\n",
    "predicted = pd.concat([predicted, get_fluxes(treatment)], axis = 0)"
   ]
  },
  {
   "cell_type": "markdown",
   "id": "031474d0-f30e-4526-8371-421667bdcf46",
   "metadata": {},
   "source": [
    "## Now we'll concatenate the predictions with the measured scfa values, and rename the columns so they don't overlap"
   ]
  },
  {
   "cell_type": "code",
   "execution_count": null,
   "id": "cab7abbd-eac5-4408-8cbf-26e478b46165",
   "metadata": {},
   "outputs": [],
   "source": [
    "# Concatenate dataframes\n",
    "scfasTotal = pd.concat([measured,predicted], axis = 1)\n",
    "# Flatten multiindex\n",
    "scfasTotal.columns = scfasTotal.columns.to_flat_index()\n",
    "# Join column names for plotting\n",
    "scfasTotal.columns = ['_'.join(col) for col in scfasTotal.columns.values]\n",
    "scfasTotal.reset_index(inplace = True)"
   ]
  },
  {
   "cell_type": "markdown",
   "id": "965cf4ee-e801-4e64-ab03-7823daf4008e",
   "metadata": {},
   "source": [
    "## Finally, we can plot the results for all three SCFAs"
   ]
  },
  {
   "cell_type": "code",
   "execution_count": null,
   "id": "48de2033-0c59-4622-828b-d4b0b0db10e0",
   "metadata": {},
   "outputs": [],
   "source": [
    "ac_plot = (ggplot(\n",
    "    scfasTotal, aes(x = ('flux_acetate'), y = ('flux-predicted_acetate')))\n",
    "    +geom_point(aes(color = 'treatment'),size = 5)\n",
    "    +geom_errorbar(aes(x=\"flux_acetate\", \n",
    "                        ymin = scfasTotal['flux-predicted_acetate'] - scfasTotal['sem-predicted_acetate'],\n",
    "                        ymax = scfasTotal['flux-predicted_acetate'] + scfasTotal['sem-predicted_acetate']))\n",
    "    +geom_errorbarh(aes(y =\"flux-predicted_acetate\", \n",
    "                        xmin = scfasTotal['flux_acetate'] - scfasTotal['sem_acetate'],\n",
    "                        xmax = scfasTotal['flux_acetate'] + scfasTotal['sem_acetate']))\n",
    "    +geom_smooth(method='lm',linetype='--')\n",
    "    +scale_color_manual(values = ['deepskyblue','darksalmon'])\n",
    "    +labs(x='Measured($\\dfrac{mmol}{L*h}$)',y = 'Predicted($\\dfrac{mmol}{gDCW*h}$)',title='Acetate')\n",
    "    +theme(text = element_text(size=20),panel_background=element_rect(fill = \"white\",\n",
    "                            colour = \"white\",size = 0.5, linetype = \"solid\"),\n",
    "                            panel_grid=element_line(size = .2, linetype = \"solid\",colour = \"gray\"),\n",
    "                            axis_line = element_line(size = 2, linetype = \"solid\",colour = \"black\"),\n",
    "                            legend_title=element_blank(),legend_position='right'))\n",
    "ac_plot"
   ]
  },
  {
   "cell_type": "code",
   "execution_count": null,
   "id": "45bc56ac-0eb2-439d-9f87-ae3c7ce1b300",
   "metadata": {},
   "outputs": [],
   "source": [
    "ppa_plot = (ggplot(\n",
    "    scfasTotal, aes(x = ('flux_propionate'), y = ('flux-predicted_propionate')))\n",
    "    +geom_point(aes(color = 'treatment'),size = 5)\n",
    "    +geom_errorbar(aes(x='flux_propionate', \n",
    "                        ymin = scfasTotal['flux-predicted_propionate'] - scfasTotal['sem-predicted_propionate'],\n",
    "                        ymax = scfasTotal['flux-predicted_propionate'] + scfasTotal['sem-predicted_propionate']))\n",
    "    +geom_errorbarh(aes(y = 'flux-predicted_propionate', \n",
    "                        xmin = scfasTotal['flux_propionate'] - scfasTotal['sem_propionate'],\n",
    "                        xmax = scfasTotal['flux_propionate'] + scfasTotal['sem_propionate']))\n",
    "    +geom_smooth(method='lm',linetype='--')\n",
    "    +scale_color_manual(values = ['deepskyblue','darksalmon'])\n",
    "    +labs(x='Measured($\\dfrac{mmol}{L*h}$)',y = 'Predicted($\\dfrac{mmol}{gDCW*h}$)',title='Propionate')\n",
    "    +theme(text = element_text(size=20),panel_background=element_rect(fill = \"white\",\n",
    "                            colour = \"white\",size = 0.5, linetype = \"solid\"),\n",
    "                            panel_grid=element_line(size = .2, linetype = \"solid\",colour = \"gray\"),\n",
    "                            axis_line = element_line(size = 2, linetype = \"solid\",colour = \"black\"),\n",
    "                            legend_title=element_blank(),legend_position='right'))\n",
    "ppa_plot"
   ]
  },
  {
   "cell_type": "code",
   "execution_count": null,
   "id": "d379114f-fb59-482f-93bb-d9c24c63c351",
   "metadata": {},
   "outputs": [],
   "source": [
    "but_plot = (ggplot(\n",
    "    scfasTotal, aes(x = ('flux_butyrate'), y = ('flux-predicted_butyrate')))\n",
    "    +geom_point(aes(color = 'treatment'),size = 5)\n",
    "    +geom_errorbar(aes(x = 'flux_butyrate', \n",
    "                        ymin = scfasTotal['flux-predicted_butyrate'] - scfasTotal['sem-predicted_butyrate'],\n",
    "                        ymax = scfasTotal['flux-predicted_butyrate'] + scfasTotal['sem-predicted_butyrate']))\n",
    "    +geom_errorbarh(aes(y ='flux-predicted_butyrate', \n",
    "                        xmin = scfasTotal['flux_butyrate'] - scfasTotal['sem_butyrate'],\n",
    "                        xmax = scfasTotal['flux_butyrate'] + scfasTotal['sem_butyrate']))\n",
    "    +geom_smooth(method='lm',linetype='--')\n",
    "    +scale_color_manual(values = ['deepskyblue','darksalmon'])\n",
    "    +labs(x='Measured($\\dfrac{mmol}{L*h}$)',y = 'Predicted($\\dfrac{mmol}{gDCW*h}$)',title='Butyrate')\n",
    "    +theme(text = element_text(size=20),panel_background=element_rect(fill = \"white\",\n",
    "                            colour = \"white\",size = 0.5, linetype = \"solid\"),\n",
    "                            panel_grid=element_line(size = .2, linetype = \"solid\",colour = \"gray\"),\n",
    "                                  axis_line = element_line(size = 2, linetype = \"solid\",colour = \"black\"),\n",
    "                            legend_title=element_blank(),legend_position='right'))\n",
    "but_plot"
   ]
  },
  {
   "cell_type": "markdown",
   "id": "d607ed8c-60a3-41c7-8500-2c176ebe2cd9",
   "metadata": {},
   "source": [
    "## Save all results"
   ]
  },
  {
   "cell_type": "code",
   "execution_count": null,
   "id": "03f10c6f-0b7c-4d76-87b2-b0498f207261",
   "metadata": {},
   "outputs": [],
   "source": [
    "scfa.to_csv('../results/studyB.csv')"
   ]
  }
 ],
 "metadata": {
  "kernelspec": {
   "display_name": "Python 3 (ipykernel)",
   "language": "python",
   "name": "python3"
  },
  "language_info": {
   "codemirror_mode": {
    "name": "ipython",
    "version": 3
   },
   "file_extension": ".py",
   "mimetype": "text/x-python",
   "name": "python",
   "nbconvert_exporter": "python",
   "pygments_lexer": "ipython3",
   "version": "3.8.13"
  }
 },
 "nbformat": 4,
 "nbformat_minor": 5
}
