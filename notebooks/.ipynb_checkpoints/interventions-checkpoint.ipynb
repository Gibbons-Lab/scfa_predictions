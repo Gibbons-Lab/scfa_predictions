{
 "cells": [
  {
   "cell_type": "markdown",
   "id": "5ca54eea-e19b-4b03-a1ad-0d668e458e0d",
   "metadata": {},
   "source": [
    "# Okie dokie, here's the deal. After validating _ex vivo_ butyrate predictions and _in vivo_ relevance of these predictions to inflammation, we want to see how we can use MICOM to develop specific diets. To start, we'll do a \"diet flip\", wherein we will measure the change in butyrate production in models constructed from the Arivale cohort on a western diet versus a high-fiber diet. "
   ]
  },
  {
   "cell_type": "code",
   "execution_count": null,
   "id": "5163abcd-c6bd-4a89-8ee7-7941bf4c059a",
   "metadata": {},
   "outputs": [],
   "source": [
    "import pandas as pd\n",
    "import micom \n",
    "from tqdm import tqdm\n",
    "import glob\n",
    "import numpy as np \n",
    "import seaborn as sns\n",
    "import scipy\n",
    "from sklearn.cluster import AgglomerativeClustering\n",
    "import matplotlib.pyplot as plt\n",
    "import statsmodels\n",
    "\n",
    "from plotnine import *\n",
    "\n",
    "import warnings\n",
    "warnings.simplefilter(action='ignore')\n",
    "import os\n",
    "%matplotlib inline"
   ]
  },
  {
   "cell_type": "code",
   "execution_count": null,
   "id": "0de6d1c3-342a-4a96-ad6f-b371d3411bb3",
   "metadata": {},
   "outputs": [],
   "source": [
    "os.chdir('/proj/gibbons/nbohmann/arivale/')"
   ]
  },
  {
   "cell_type": "markdown",
   "id": "0ee9fed4-a719-468a-b9da-c3b6319a39a1",
   "metadata": {},
   "source": [
    "## First, we grow all our Arivale models on the western diet: "
   ]
  },
  {
   "cell_type": "code",
   "execution_count": null,
   "id": "b4c16bfe-9a4a-45d1-bcb7-bfe33b955da3",
   "metadata": {},
   "outputs": [],
   "source": [
    "butyrate = pd.DataFrame()\n",
    "manifest = pd.read_csv('/proj/gibbons/nbohmann/arivale/models_reclass/manifest.csv',index_col = 0)\n",
    "diet = pd.read_csv('/proj/gibbons/nbohmann/exvivo/diets/western_completed.csv')\n",
    "growth = micom.workflows.grow(manifest, model_folder='models_reclass',\n",
    "                                 medium = diet, tradeoff = 0.7, strategy = 'none',threads = 20,presolve = True)\n",
    "exchanges = growth.exchanges\n",
    "exchanges = (exchanges[exchanges.direction == \"export\"].groupby([\"sample_id\",\"metabolite\", \"reaction\"])\n",
    "         .apply(lambda df: sum(df.flux * df.abundance)).reset_index())\n",
    "butyrate = butyrate.append(exchanges[exchanges['reaction'].str.startswith('EX_but(e)')].reset_index(drop = True),\n",
    "                           ignore_index = True)\n",
    "butyrate['diet'] = 'EU'\n",
    "butyrate"
   ]
  },
  {
   "cell_type": "markdown",
   "id": "962073f4-143c-47a3-a7e4-238d02aa614c",
   "metadata": {
    "tags": []
   },
   "source": [
    "## Next, we grow the models on the high fiber diet"
   ]
  },
  {
   "cell_type": "code",
   "execution_count": null,
   "id": "4dd93644-1777-465e-a4f3-8229825c0f51",
   "metadata": {},
   "outputs": [],
   "source": [
    "high_fiber = pd.DataFrame()\n",
    "manifest = pd.read_csv('/proj/gibbons/nbohmann/arivale/models_reclass/manifest.csv',index_col = 0)\n",
    "hf_diet = pd.read_csv('/proj/gibbons/nbohmann/exvivo/diets/highfiber_completed.csv')\n",
    "os.chdir('/proj/gibbons/nbohmann/arivale')\n",
    "growth = micom.workflows.grow(manifest, model_folder='models_reclass',\n",
    "                                 medium = hf_diet, tradeoff = 0.7, strategy = 'none',threads = 20,presolve = True)\n",
    "exchanges = growth.exchanges\n",
    "exchanges = (exchanges[exchanges.direction == \"export\"].groupby([\"sample_id\",\"metabolite\", \"reaction\"])\n",
    "         .apply(lambda df: sum(df.flux * df.abundance)).reset_index())\n",
    "high_fiber = high_fiber.append(exchanges[exchanges['reaction'].str.startswith('EX_but(e)')].reset_index(drop = True),\n",
    "                           ignore_index = True)\n",
    "high_fiber['diet'] = 'high_fiber'"
   ]
  },
  {
   "cell_type": "markdown",
   "id": "4c08350f-7d28-4e8c-b986-11aecab0f8b2",
   "metadata": {
    "tags": []
   },
   "source": [
    "## Lets merge these df's and save our work"
   ]
  },
  {
   "cell_type": "code",
   "execution_count": null,
   "id": "ec85f9ec-f233-45da-b95e-e98ec86d7a85",
   "metadata": {},
   "outputs": [],
   "source": [
    "butyrate.rename(columns = {0:'but'},inplace = True)\n",
    "high_fiber.rename(columns = {0:'but'},inplace = True)\n",
    "butyrate = pd.concat([butyrate, high_fiber])\n",
    "os.chdir('/proj/gibbons/nbohmann/exvivo/scfa_paper/')\n",
    "butyrate.to_csv('diet_flip.csv')"
   ]
  },
  {
   "cell_type": "markdown",
   "id": "885d0f97-4550-42da-863d-5c6d55172c9e",
   "metadata": {
    "tags": []
   },
   "source": [
    "## Here we'll load up the dataframe we just saved. Start here if you want to save some time :)"
   ]
  },
  {
   "cell_type": "code",
   "execution_count": null,
   "id": "8c4d182b-2f61-4f2d-898d-5e7acef2a0fb",
   "metadata": {},
   "outputs": [],
   "source": [
    "os.chdir('/proj/gibbons/nbohmann/exvivo/scfa_paper/')\n",
    "butyrate = pd.read_csv('diet_flip.csv',index_col = 0)\n",
    "butyrate"
   ]
  },
  {
   "cell_type": "markdown",
   "id": "374a04ac-b2e1-4436-ab95-21c122afe0e9",
   "metadata": {},
   "source": [
    "## Okay, let's make a histogram to show the distribution of butyrate produced between the diets"
   ]
  },
  {
   "cell_type": "code",
   "execution_count": null,
   "id": "9711f027-85b6-47e2-a577-cda27bcf864f",
   "metadata": {},
   "outputs": [],
   "source": [
    "def percentage_change(col1,col2):\n",
    "    return ((col2 - col1) / col1) * 100"
   ]
  },
  {
   "cell_type": "code",
   "execution_count": null,
   "id": "97ad01ff-3fbc-471c-bca7-c8ae49a64eb9",
   "metadata": {},
   "outputs": [],
   "source": [
    "butyrate['diet'] = butyrate['diet'].str.replace('high_fiber','High Fiber')\n",
    "butyrate_pvt = pd.pivot_table(butyrate,index = 'sample_id',columns = 'diet', values = 'but')\n",
    "butyrate_pvt['change'] = percentage_change(butyrate_pvt['EU'],butyrate_pvt['High Fiber'])\n",
    "butyrate_pvt.sort_values(by = 'change')\n",
    "nonresponders = butyrate_pvt[(butyrate_pvt['EU']<10)&(butyrate_pvt['change']<20)]\n",
    "regressors = butyrate_pvt[(butyrate_pvt['EU']>19.9)&(butyrate_pvt['change']<0)]\n",
    "box_nonresponders = [nonresponders[['EU','High Fiber']].min().min(), nonresponders[['EU','High Fiber']].max().max()]\n",
    "box_regressors = [regressors[['EU','High Fiber']].min().min(), regressors[['EU','High Fiber']].max().max()]\n",
    "butyrate"
   ]
  },
  {
   "cell_type": "code",
   "execution_count": null,
   "id": "e641a95a-59b0-4885-96ad-a7c6e7ab7d9e",
   "metadata": {},
   "outputs": [],
   "source": [
    "hist_plt = (ggplot(\n",
    "    butyrate,aes(x = 'but'))\n",
    "    +annotate(geom_rect, xmin=box_nonresponders[0], xmax=box_nonresponders[1], ymin=0, ymax=float('inf'),\n",
    "              fill = 'darkgreen', alpha=0.3)\n",
    "    +annotate(geom_rect, xmin=box_regressors[0], xmax=box_regressors[1], ymin=0, ymax=float('inf'),\n",
    "              fill = 'orange', alpha=0.3)\n",
    "    +geom_density(aes(fill = 'diet'))\n",
    "    +labs(x = 'Butyrate Production ($\\dfrac{mmol}{gDW*h}$)',y = 'Fraction',\n",
    "          color = 'Butyrate Production Quantile, EU Diet')\n",
    "    +scale_fill_discrete(name = 'Diet', labels = ['European','High Fiber'])\n",
    "    +theme(text = element_text(size=20),\n",
    "       panel_background=element_rect(fill = \"white\", colour = \"white\",size = 0.5, linetype = \"solid\"),\n",
    "       panel_grid=element_blank(),\n",
    "       axis_line = element_line(size = 2, linetype = \"solid\", colour = \"black\"),\n",
    "       legend_title=element_blank(), legend_position='right'))\n",
    "hist_plt"
   ]
  },
  {
   "cell_type": "markdown",
   "id": "4c6acfb2-c0a0-4c84-b8b8-4e8bcf25900a",
   "metadata": {},
   "source": [
    "### Now we'll pivot the table and calculate individual changes between European and HF diet. Also, we'll make a list of non-responders and regressors to use for further interventions"
   ]
  },
  {
   "cell_type": "code",
   "execution_count": null,
   "id": "cb1788a1-706b-42a6-88e5-12446fff1051",
   "metadata": {},
   "outputs": [],
   "source": [
    "butyrate_pvt = pd.pivot_table(butyrate,index = 'sample_id',columns = 'diet', values = 'but')\n",
    "butyrate_pvt['change'] = percentage_change(butyrate_pvt['EU'],butyrate_pvt['High Fiber'])\n",
    "samples = butyrate_pvt[(butyrate_pvt['EU']<10)&(butyrate_pvt['change']<20)]\n",
    "samples2 = butyrate_pvt[(butyrate_pvt['EU']>19.9)&(butyrate_pvt['change']<0)]"
   ]
  },
  {
   "cell_type": "markdown",
   "id": "668924a7-4bb3-427f-8c25-ac18cca31d11",
   "metadata": {},
   "source": [
    "### Before doing interventions, we'll pull in all our dietary interventions. These include an average European diet, a high-fiber diet, and each of those two diets supplemented with inulin or pectin"
   ]
  },
  {
   "cell_type": "code",
   "execution_count": null,
   "id": "8e5ebb42-06a8-4555-a445-689865ef55fc",
   "metadata": {},
   "outputs": [],
   "source": [
    "eu_diet = (pd.read_csv('/proj/gibbons/nbohmann/exvivo/diets/western_completed.csv').set_index('reaction'))\n",
    "hf_diet = (pd.read_csv('/proj/gibbons/nbohmann/exvivo/diets/highfiber_completed.csv')\n",
    "           .set_index('reaction'))\n",
    "eu_diet_pect= pd.concat([eu_diet, pd.DataFrame(index = ['EX_pect_m'],data = {'flux': [0.75], 'dilution':[1.0],\n",
    "                                                                             'metabolite':['pect_m']})])\n",
    "eu_diet_inulin = pd.concat([eu_diet, pd.DataFrame(index = ['EX_inulin_m'],data = {'flux': [10.5], 'dilution':[1.0],\n",
    "                                                                             'metabolite':['inulin_m']})])\n",
    "hf_diet_pect= pd.concat([hf_diet, pd.DataFrame(index = ['EX_pect_m'],data = {'flux': [0.75], 'dilution':[1.0],\n",
    "                                                                             'metabolite':['pect_m']})])\n",
    "hf_diet_inulin = pd.concat([hf_diet, pd.DataFrame(index = ['EX_inulin_m'],data = {'flux': [10.5], 'dilution':[1.0],\n",
    "                                                                             'metabolite':['inulin_m']})])"
   ]
  },
  {
   "cell_type": "markdown",
   "id": "84f37904-8f88-4c30-91c8-8712c940da51",
   "metadata": {},
   "source": [
    "## Let's define implementation of interventions here - we can iterate across these with each intervention"
   ]
  },
  {
   "cell_type": "code",
   "execution_count": null,
   "id": "2a6acab3-8eda-429f-a9be-3b598791ebe2",
   "metadata": {},
   "outputs": [],
   "source": [
    "def diet_intervention(com, diet):\n",
    "    com = micom.load_pickle(com_name+'.pickle')\n",
    "    com.medium = diet.flux\n",
    "    growth = com.cooperative_tradeoff(fraction = 0.7,fluxes = True)\n",
    "    res = growth.fluxes\n",
    "    # res = growth.fluxes.mul(growth.members.abundance, axis = 0)\n",
    "    res = res[res['EX_but(e)']>0]\n",
    "    # sol = res['EX_but(e)'].sum()\n",
    "    res = res['EX_but(e)']\n",
    "    return res"
   ]
  },
  {
   "cell_type": "markdown",
   "id": "a8e2e831-a292-4c00-9a0a-21cf1cdeab01",
   "metadata": {},
   "source": [
    "## Let's also define our probiotic intervention, which we can apply to different diets. "
   ]
  },
  {
   "cell_type": "code",
   "execution_count": null,
   "id": "4c3c27ae-f488-4ce2-a7bc-b046a301569a",
   "metadata": {},
   "outputs": [],
   "source": [
    "def probiotic_intervention(com, diet):\n",
    "    com = micom.load_pickle(com_name+'.pickle')\n",
    "    taxonomy = com.taxonomy[~com.taxonomy.index.str.contains('Faecalibacterium')]\n",
    "    taxonomy['abundance'] = taxonomy['abundance']/(10/9)\n",
    "    faecali = taxonomy.iloc[1]\n",
    "    faecali['genus'] = 'Faecalibacterium'\n",
    "    faecali['abundance'] = 0.10\n",
    "    faecali['taxon'] = 'Faecalibacterium'\n",
    "    faecali['id'] = 'Faecalibacterium'\n",
    "    taxonomy = taxonomy.append(faecali)\n",
    "    taxonomy['file'] = ('/proj/gibbons/nbohmann/exvivo/databases/agora103_genus/data/'+\n",
    "                        taxonomy['file'].str.split('/').str[-1])\n",
    "    probiotic_com = micom.Community(taxonomy)\n",
    "    probiotic_com.medium = diet.flux\n",
    "    growth_probiotic = probiotic_com.cooperative_tradeoff(fraction = 0.7,fluxes = True)\n",
    "    res = growth_probiotic.fluxes.mul(growth_probiotic.members.abundance, axis = 0)\n",
    "    res = res[res['EX_but(e)']>0]\n",
    "    # sol = res['EX_but(e)'].sum()\n",
    "    return res "
   ]
  },
  {
   "cell_type": "markdown",
   "id": "e8762e3b-77a1-4ca6-8087-059b78fe1d07",
   "metadata": {},
   "source": [
    "## Now we iterate across all the interventions with our samples. We'll do this twice, with the list \"samples\" (non-responders) and \"samples2\" (regressors)"
   ]
  },
  {
   "cell_type": "code",
   "execution_count": null,
   "id": "44a13286-ddf2-4608-bb35-94f99c9ce418",
   "metadata": {},
   "outputs": [],
   "source": [
    "os.chdir('/proj/gibbons/nbohmann/arivale/models_reclass/')\n",
    "intervention = pd.DataFrame()\n",
    "for com_name in tqdm(samples.index):\n",
    "    sol1 = diet_intervention(com_name, eu_diet)\n",
    "    sol2 = diet_intervention(com_name, hf_diet)\n",
    "    sol3 = diet_intervention(com_name, eu_diet_pect)\n",
    "    sol4 = diet_intervention(com_name, hf_diet_pect)\n",
    "    sol5 = diet_intervention(com_name, eu_diet_inulin)\n",
    "    sol6 = diet_intervention(com_name, hf_diet_inulin)\n",
    "    sol7 = probiotic_intervention(com_name, eu_diet)\n",
    "    sol8 = probiotic_intervention(com_name, hf_diet)\n",
    "    to_add = pd.DataFrame(index = [com_name], data = {'Euro': sol1, 'High-Fiber':sol2,\n",
    "                                                      'Euro + Pectin': sol3, 'HF + Pectin': sol4, \n",
    "                                                      'Euro + Inulin':sol5, 'HF + Inulin':sol6,\n",
    "                                                      'Euro + Probiotic':sol7, 'HF + Probiotic': sol8})\n",
    "    intervention = pd.concat([intervention, to_add])\n",
    "intervention2 = pd.DataFrame()\n",
    "for com_name in tqdm(samples2.index):\n",
    "    sol1 = diet_intervention(com_name, eu_diet)\n",
    "    sol2 = diet_intervention(com_name, hf_diet)\n",
    "    sol3 = diet_intervention(com_name, eu_diet_pect)\n",
    "    sol4 = diet_intervention(com_name, hf_diet_pect)\n",
    "    sol5 = diet_intervention(com_name, eu_diet_inulin)\n",
    "    sol6 = diet_intervention(com_name, hf_diet_inulin)\n",
    "    sol7 = probiotic_intervention(com_name, eu_diet)\n",
    "    sol8 = probiotic_intervention(com_name, hf_diet)\n",
    "    to_add = pd.DataFrame(index = [com_name], data = {'Euro': sol1, 'High-Fiber':sol2,\n",
    "                                                      'Euro + Pectin': sol3, 'HF + Pectin': sol4, \n",
    "                                                      'Euro + Inulin':sol5, 'HF + Inulin':sol6,\n",
    "                                                      'Euro + Probiotic':sol7, 'HF + Probiotic': sol8})\n",
    "    intervention2 = pd.concat([intervention2, to_add])"
   ]
  },
  {
   "cell_type": "markdown",
   "id": "5b53ac2e-cbbd-4608-be35-397d197bdae4",
   "metadata": {},
   "source": [
    "## We'll concatenate our results, making sure to remember which set each sample comes from \n"
   ]
  },
  {
   "cell_type": "code",
   "execution_count": null,
   "id": "f7d6cae9-7775-429a-9834-bcccc3bf2fac",
   "metadata": {},
   "outputs": [],
   "source": [
    "intervention = pd.read_csv('/proj/gibbons/nbohmann/exvivo/scfa_paper/intervention.csv').drop(columns = 'Unnamed: 0')\n",
    "intervention.index = (['non-responders'])*len(intervention)\n",
    "intervention2 = pd.read_csv('/proj/gibbons/nbohmann/exvivo/scfa_paper/intervention2.csv').drop(columns = 'Unnamed: 0')\n",
    "intervention2.index = (['regressors'])*len(intervention2)\n",
    "intervention = pd.concat([intervention, intervention2])\n",
    "intervention = intervention.sort_values(by = ['Euro','High-Fiber','Euro + Pectin', 'HF + Pectin',\n",
    "                                          'Euro + Inulin', 'HF + Inulin','Euro + Probiotic', 'HF + Probiotic'])\n",
    "intervention = np.log(intervention)\n",
    "max_list = intervention.rename(columns = {'Euro':0,'High-Fiber':1,'Euro + Pectin':2, 'HF + Pectin':3,\n",
    "                                          'Euro + Inulin':4, 'HF + Inulin':5,'Euro + Probiotic':6, 'HF + Probiotic':7}\n",
    "                              ).idxmax(axis = 'columns')\n",
    "intervention"
   ]
  },
  {
   "cell_type": "markdown",
   "id": "c8cd208f-9320-40ed-a4a1-0073e1bfd4eb",
   "metadata": {},
   "source": [
    "## Now we make a heatmap with black rectangles around the optimal intervention for each sample"
   ]
  },
  {
   "cell_type": "code",
   "execution_count": null,
   "id": "dbc899a9-008e-463f-b666-415c42a6c44a",
   "metadata": {},
   "outputs": [],
   "source": [
    "from matplotlib.patches import Rectangle\n",
    "\n",
    "lut = {'Non-Responders':'#b2d0b1', 'Regressors':'#fee3b2'}\n",
    "row_colors = intervention.index.map(lut)\n",
    "\n",
    "sns.set(font_scale= 1.5)# set font\n",
    "cmap = sns.diverging_palette(230, 200, sep=20, as_cmap=True)\n",
    "ax = sns.clustermap(intervention.T,cmap = 'Reds',figsize = (20,10), #make heatmap with annotations\n",
    "                 fmt='',col_colors = row_colors, col_cluster = False, row_cluster = False,\n",
    "                    annot_kws={'fontsize': 18, 'color':'white','verticalalignment': 'center'})\n",
    "\n",
    "ax.ax_cbar.set_ylabel(\"Butyrate($\\dfrac{mmol}{gDW*h}$)\",size=20)\n",
    "ax.ax_cbar.set_position((.1, .2, .03, .5))\n",
    "for x in range(len(max_list)):\n",
    "    ax.ax_heatmap.add_patch(Rectangle((x,max_list[x]), 1, 1, fill=False, edgecolor='black', lw=3))\n",
    "\n",
    "ax"
   ]
  },
  {
   "cell_type": "markdown",
   "id": "cbae5e64-f2d4-4c34-865e-eeb0f45eb2b0",
   "metadata": {},
   "source": [
    "## Save these reuslts"
   ]
  },
  {
   "cell_type": "code",
   "execution_count": null,
   "id": "6ee8fc3e-8564-4d95-9247-bddfdafc3d40",
   "metadata": {},
   "outputs": [],
   "source": [
    "intervention.to_csv('/proj/gibbons/nbohmann/exvivo/scfa_paper/intervention.csv')\n",
    "intervention2.to_csv('/proj/gibbons/nbohmann/exvivo/scfa_paper/intervention2.csv')"
   ]
  }
 ],
 "metadata": {
  "kernelspec": {
   "display_name": "Python 3 (ipykernel)",
   "language": "python",
   "name": "python3"
  },
  "language_info": {
   "codemirror_mode": {
    "name": "ipython",
    "version": 3
   },
   "file_extension": ".py",
   "mimetype": "text/x-python",
   "name": "python",
   "nbconvert_exporter": "python",
   "pygments_lexer": "ipython3",
   "version": "3.8.13"
  }
 },
 "nbformat": 4,
 "nbformat_minor": 5
}
