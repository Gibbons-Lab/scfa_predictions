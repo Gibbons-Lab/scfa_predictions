{
 "cells": [
  {
   "cell_type": "markdown",
   "id": "47b1a5eb-c958-422b-8de5-d57831c3b792",
   "metadata": {},
   "source": [
    "## Here, we'll show the full workflow for building models and getting predictions for SCFA production using MICOM metabolic modeling for the _ex vivo_ study conducted by members of the Gibbons Lab in 2019 (Study A)"
   ]
  },
  {
   "cell_type": "code",
   "execution_count": null,
   "id": "8e5e2dc2",
   "metadata": {},
   "outputs": [],
   "source": [
    "import os\n",
    "import pandas as pd\n",
    "from plotnine import *\n",
    "from tqdm import tqdm\n",
    "import numpy as np\n",
    "import scipy\n",
    "import micom\n",
    "import micom.measures\n",
    "\n",
    "%matplotlib inline"
   ]
  },
  {
   "cell_type": "markdown",
   "id": "8d0854b0-ad0d-4b7f-9e13-fd2611ae9db3",
   "metadata": {},
   "source": [
    "## We'll start with the measured SCFA values from the _ex vivo_ experiments, and calculate production flux of each SCFA"
   ]
  },
  {
   "cell_type": "code",
   "execution_count": null,
   "id": "56c765e7-2e22-4221-9bd0-ef5a82853989",
   "metadata": {},
   "outputs": [],
   "source": [
    "# Load the targeted SCFA metabolomic data. Result column is in mM\n",
    "scfas = pd.read_csv('../data/studyA_SCFAs.csv')\n",
    "# Identify relavent metadata. We'll use this in later cells\n",
    "metadata = scfas.set_index('sample_id')[['subject_id','treatment']].to_dict()\n",
    "# Find the difference between T1 and T0 concentrations to calculate total production\n",
    "scfas['flux'] = scfas.groupby(['subject_id','replicate','treatment','analyte'])['result'].diff()\n",
    "# There are now two entries for each samples, one with null entries. We'll drop those\n",
    "scfas.dropna(inplace = True)\n",
    "# Divide measured production by 6 hours to calculate estimated flux across the experiment\n",
    "scfas['flux'] = scfas['flux']/6 \n",
    "# Find the mean of fluxes between replicates\n",
    "res = scfas.groupby(['treatment','timepoint','subject_id','analyte']).mean()\n",
    "# Add the standard deviation for each group\n",
    "res['std'] = scfas.groupby(['treatment','timepoint','subject_id','analyte'])['flux'].std()\n",
    "# Reset the index for clarity, keeping only the columns we need\n",
    "res = res.reset_index()[['treatment','subject_id','analyte','flux','std']]\n",
    "# Pivot the table for ease of plotting\n",
    "measured = pd.pivot_table(res,columns = 'analyte',index = ['subject_id','treatment'],values = ['flux','std'])"
   ]
  },
  {
   "cell_type": "markdown",
   "id": "00137c98-7283-4db3-b422-6d80776a9363",
   "metadata": {},
   "source": [
    "## Next, we will use genus abundance counts from 16S sequencing to construct a taxonomy table, which we will use to construct models in MICOM. This table requires a sample ID column, a taxonomic idenitifier column, an abundance column, and a column of the lowest taxonomic level for which we are building models, in this case at the genus level. "
   ]
  },
  {
   "cell_type": "code",
   "execution_count": null,
   "id": "260b566f-a2f5-4f07-81de-26efa91e1de5",
   "metadata": {},
   "outputs": [],
   "source": [
    "taxonomy = pd.read_csv('../data/studyA_abundances.csv') #read abundance data for StudyA\n",
    "#we'll rename the columns from this data for simplicity and readability by MICOM\n",
    "taxonomy = taxonomy.rename(columns = \n",
    "                           {'d':'domain',\n",
    "                            'p':'phylum', \n",
    "                            'c':'class',\n",
    "                            'o':'order',\n",
    "                            'f':'family',\n",
    "                            'g':'genus',\n",
    "                            'reads':'abundance',\n",
    "                            'sample':'sample_id'})\n",
    "#we need a taxonomic identifier column. In this case, we can use the genus identifier. \n",
    "taxonomy['id'] = taxonomy['genus'] \n",
    "#map metadata so we can keep track of samples\n",
    "taxonomy['subject_id'] = taxonomy['sample_id'].map(metadata['subject_id'])\n",
    "taxonomy['treatment'] = taxonomy['sample_id'].map(metadata['treatment'])\n",
    "taxonomy"
   ]
  },
  {
   "cell_type": "markdown",
   "id": "3941b1f8-7536-4f8a-b486-3f51b0e664fe",
   "metadata": {},
   "source": [
    "## We'll also identify the model database we want to use to construct the models"
   ]
  },
  {
   "cell_type": "code",
   "execution_count": null,
   "id": "18af9021-a704-499c-bb9f-21b29bf8b520",
   "metadata": {},
   "outputs": [],
   "source": [
    "agora = ('../agora/data')"
   ]
  },
  {
   "cell_type": "markdown",
   "id": "39016ca2-43ec-4702-a8a5-92d178bacc7c",
   "metadata": {},
   "source": [
    "## Now, we'll build the models with a abundance cutoff of 0.001"
   ]
  },
  {
   "cell_type": "code",
   "execution_count": null,
   "id": "3495275a-d3cf-4067-b999-ad351ef69e32",
   "metadata": {},
   "outputs": [],
   "source": [
    "models = micom.workflows.build(taxonomy,out_folder = '../models/studyA',\n",
    "                      model_db = agora, cutoff = 0.001, threads = 20)"
   ]
  },
  {
   "cell_type": "markdown",
   "id": "7004d0e4-95a1-4d79-a816-2d226d8049e7",
   "metadata": {},
   "source": [
    "## First, we'll gather our medium. We'll load in the carbon-depleted standard european medium that was constructed and functionally completed in the medium_construction.ipynb notebook."
   ]
  },
  {
   "cell_type": "code",
   "execution_count": null,
   "id": "7a27d29a-ba47-44bb-9187-72b365513175",
   "metadata": {},
   "outputs": [],
   "source": [
    "# Read in the medium\n",
    "medium = pd.read_csv('../media/european_lowcarbon.csv',index_col = 0)[['reaction','metabolite','flux']]\n",
    "# Dilute to 10% of original content\n",
    "medium['flux'] = medium['flux']*.1\n",
    "# We'll also build a treatment medium, including an inulin supplement\n",
    "inulin = pd.DataFrame({'reaction':['EX_inulin_m'],'metabolite':['inulin_m'],'flux':[10.50]})\n",
    "treatment_medium = pd.concat([medium, inulin])"
   ]
  },
  {
   "cell_type": "markdown",
   "id": "1d075d1c-7e42-4557-9b68-dc3b4551b472",
   "metadata": {},
   "source": [
    "## Now, we'll use the diet to grow the models we just built. First, we'll do so without the addition of inulin, to simulate control samples "
   ]
  },
  {
   "cell_type": "code",
   "execution_count": null,
   "id": "5d85c530-533d-4d3d-9184-fdac28737c07",
   "metadata": {},
   "outputs": [],
   "source": [
    "# Read the model manifest\n",
    "manifest = pd.read_csv('../models/studyA/manifest.csv')\n",
    "# Isolate only the T0 samples that underwent control treatment, designated A and G\n",
    "manifest = manifest[(manifest.sample_id.str.contains('A'))|(manifest.sample_id.str.contains('G'))]\n",
    "# Grow the models with a tradeoff value of 0.7\n",
    "growth = micom.workflows.grow(manifest,'../models/studyA',medium=medium,tradeoff=.7,strategy='none',threads = 20)\n",
    "# Collect the absolute production rates\n",
    "control = micom.measures.production_rates(growth)"
   ]
  },
  {
   "cell_type": "markdown",
   "id": "ea3095b8-d690-4778-939e-b98bb760f6c1",
   "metadata": {},
   "source": [
    "## We'll do the same with the supplementation of inulin, on the treated samples"
   ]
  },
  {
   "cell_type": "code",
   "execution_count": null,
   "id": "286bd3ff-7750-41f0-aee0-18a244dcb1d3",
   "metadata": {},
   "outputs": [],
   "source": [
    "# Read the model manifest\n",
    "manifest = pd.read_csv('../models/studyA/manifest.csv')\n",
    "# Isolate only the T0 samples that underwent inulin treatment, designated E and K\n",
    "manifest = manifest[(manifest.sample_id.str.contains('E'))|(manifest.sample_id.str.contains('K'))]\n",
    "# Grow the models with a tradeoff value of 0.7\n",
    "growth = micom.workflows.grow(manifest,'../models/studyA',medium=treatment_medium,tradeoff=.7,strategy='none',threads = 20)\n",
    "# Collect the absolute production rates\n",
    "treatment = micom.measures.production_rates(growth)"
   ]
  },
  {
   "cell_type": "markdown",
   "id": "41279349-c9a5-4b3f-979b-90a2091e2b93",
   "metadata": {},
   "source": [
    "## Now that we have the results, we'll isolate the SCFA production and format it for concatenation with the measured results. Here's a function that will do this for both the control and inulin treated samples. "
   ]
  },
  {
   "cell_type": "code",
   "execution_count": null,
   "id": "4754b5a9-dad6-4d60-988b-beceaa506521",
   "metadata": {},
   "outputs": [],
   "source": [
    "def get_fluxes(df):\n",
    "    # Isolate SCFA fluxes\n",
    "    df = df[(df['metabolite']=='but[e]')|(df['metabolite']=='ppa[e]')|(df['metabolite']=='ac[e]')]\n",
    "    # Map the metadata onto the dataframe to align with the measured samples \n",
    "    df['subject_id'] = df['sample_id'].map(metadata['subject_id'])\n",
    "    df['treatment'] = df['sample_id'].map(metadata['treatment'])\n",
    "    # Take the average production of the replicates\n",
    "    res = df.groupby(['subject_id','treatment','name']).mean()\n",
    "    # Calculate the standard deviation of the replicates\n",
    "    res['std'] = df.groupby(['subject_id','treatment','name'])['flux'].std()\n",
    "    # Reset the index\n",
    "    res = res.rename(columns = {'flux':'flux-predicted', 'std':'std-predicted'}).reset_index()\n",
    "    # Pivot the table for alignment with the measurement dataframe\n",
    "    predicted = pd.pivot_table(res,\n",
    "                columns = 'name',\n",
    "                index = ['subject_id','treatment'], \n",
    "                values = ['flux-predicted','std-predicted'])\n",
    "    return predicted"
   ]
  },
  {
   "cell_type": "markdown",
   "id": "0badfb35-7200-4dc0-b3a5-89fdceb07333",
   "metadata": {},
   "source": [
    "## Now we can iterate the function over both the control and treatment results, concatenating them into one dataframe"
   ]
  },
  {
   "cell_type": "code",
   "execution_count": null,
   "id": "1dba8da3-9863-40a0-b87e-ce76a51aa6dd",
   "metadata": {},
   "outputs": [],
   "source": [
    "# Control Samples\n",
    "predicted = get_fluxes(control)\n",
    "# And predicted samples\n",
    "predicted = pd.concat([predicted, get_fluxes(treatment)], axis = 0)"
   ]
  },
  {
   "cell_type": "markdown",
   "id": "027bf853-98fb-4a09-9e39-990e0a7b9741",
   "metadata": {},
   "source": [
    "## Now we'll concatenate the predictions with the measured scfa values, and rename the columns so they don't overlap"
   ]
  },
  {
   "cell_type": "code",
   "execution_count": null,
   "id": "829f6b00-4bf0-4f30-aa7f-1890a60fe619",
   "metadata": {},
   "outputs": [],
   "source": [
    "# Concatenate dataframes\n",
    "scfasTotal = pd.concat([measured,predicted], axis = 1)\n",
    "# Flatten multiindex\n",
    "scfasTotal.columns = scfasTotal.columns.to_flat_index()\n",
    "# Join column names for plotting\n",
    "scfasTotal.columns = ['_'.join(col) for col in scfasTotal.columns.values]\n",
    "scfasTotal.reset_index(inplace = True)"
   ]
  },
  {
   "cell_type": "markdown",
   "id": "02407d65-8652-4d5e-acec-e2ab8a5e2cda",
   "metadata": {},
   "source": [
    "## Finally, we can plot the results for all three SCFAs"
   ]
  },
  {
   "cell_type": "code",
   "execution_count": null,
   "id": "befc8baa-197b-4582-aaf9-af74bcbc3c4d",
   "metadata": {},
   "outputs": [],
   "source": [
    "ac_plot = (ggplot(\n",
    "    scfasTotal, aes(x = ('flux_acetate'), y = ('flux-predicted_acetate')))\n",
    "    +geom_point(aes(color = 'treatment'),size = 5)\n",
    "    +geom_errorbar(aes(x=\"flux_acetate\", ymin = scfasTotal['flux-predicted_acetate'] - scfasTotal['std-predicted_acetate'],\n",
    "                            ymax=scfasTotal['flux-predicted_acetate'] + scfasTotal['std-predicted_acetate']))\n",
    "    +geom_errorbarh(aes(y =\"flux-predicted_acetate\", xmin = scfasTotal['flux_acetate'] - scfasTotal['std_acetate'],\n",
    "                            xmax=scfasTotal['flux_acetate'] + scfasTotal['std_acetate']))\n",
    "    +geom_smooth(method='lm',linetype='--')\n",
    "    +scale_color_manual(values = ['deepskyblue','darksalmon'])\n",
    "    +labs(x='Measured($\\dfrac{mmol}{L*h}$)',y = 'Predicted($\\dfrac{mmol}{gDCW*h}$)',title='Acetate')\n",
    "    +theme(text = element_text(size=20),panel_background=element_rect(fill = \"white\",\n",
    "                            colour = \"white\",size = 0.5, linetype = \"solid\"),\n",
    "                            panel_grid=element_line(size = .2, linetype = \"solid\",colour = \"gray\"),\n",
    "                            axis_line = element_line(size = 2, linetype = \"solid\",colour = \"black\"),\n",
    "                            legend_title=element_blank(),legend_position='right'))\n",
    "ac_plot"
   ]
  },
  {
   "cell_type": "code",
   "execution_count": null,
   "id": "cdefd37e-fe30-404d-b5b0-27b7fdc92e59",
   "metadata": {},
   "outputs": [],
   "source": [
    "but_plot = (ggplot(\n",
    "    scfasTotal, aes(x = ('flux_butyrate'), y = ('flux-predicted_butyrate')))\n",
    "    +geom_point(aes(color = 'treatment'),size = 5)\n",
    "    +geom_errorbar(aes(x='flux_butyrate', ymin = scfasTotal['flux-predicted_butyrate'] - scfasTotal['std-predicted_butyrate'],\n",
    "                            ymax=scfasTotal['flux-predicted_butyrate'] + scfasTotal['std-predicted_butyrate']))\n",
    "    +geom_errorbarh(aes(y ='flux-predicted_butyrate', xmin = scfasTotal['flux_butyrate'] - scfasTotal['std_butyrate'],\n",
    "                            xmax=scfasTotal['flux_butyrate'] + scfasTotal['std_butyrate']))\n",
    "    +geom_smooth(method='lm',linetype='--')\n",
    "    +scale_color_manual(values = ['deepskyblue','darksalmon'])\n",
    "    +labs(x='Measured($\\dfrac{mmol}{L*h}$)',y = 'Predicted($\\dfrac{mmol}{gDCW*h}$)',title='Butyrate')\n",
    "    +theme(text = element_text(size=20),panel_background=element_rect(fill = \"white\",\n",
    "                            colour = \"white\",size = 0.5, linetype = \"solid\"),\n",
    "                            panel_grid=element_line(size = .2, linetype = \"solid\",colour = \"gray\"),\n",
    "                            axis_line = element_line(size = 2, linetype = \"solid\",colour = \"black\"),\n",
    "                            legend_title=element_blank(),legend_position='right'))\n",
    "but_plot"
   ]
  },
  {
   "cell_type": "code",
   "execution_count": null,
   "id": "22022ed9-1f20-4caa-9917-fe1f5e18aacc",
   "metadata": {},
   "outputs": [],
   "source": [
    "but_plot = (ggplot(\n",
    "    scfasTotal, aes(x = ('flux_propionate'), y = ('flux-predicted_propionate')))\n",
    "    +geom_point(aes(color = 'treatment'),size = 5)\n",
    "    +geom_errorbar(aes(x='flux_propionate', ymin = scfasTotal['flux-predicted_propionate'] - scfasTotal['std-predicted_propionate'],\n",
    "                            ymax=scfasTotal['flux-predicted_propionate'] + scfasTotal['std-predicted_propionate']))\n",
    "    +geom_errorbarh(aes(y ='flux-predicted_propionate', xmin = scfasTotal['flux_propionate'] - scfasTotal['std_propionate'],\n",
    "                            xmax=scfasTotal['flux_propionate'] + scfasTotal['std_propionate']))\n",
    "    +geom_smooth(method='lm',linetype='--')\n",
    "    +scale_color_manual(values = ['deepskyblue','darksalmon'])\n",
    "    +labs(x='Measured($\\dfrac{mmol}{L*h}$)',y = 'Predicted($\\dfrac{mmol}{gDCW*h}$)',title='Propionate')\n",
    "    +theme(text = element_text(size=20),panel_background=element_rect(fill = \"white\",\n",
    "                            colour = \"white\",size = 0.5, linetype = \"solid\"),\n",
    "                            panel_grid=element_line(size = .2, linetype = \"solid\",colour = \"gray\"),\n",
    "                            axis_line = element_line(size = 2, linetype = \"solid\",colour = \"black\"),\n",
    "                            legend_title=element_blank(),legend_position='right'))\n",
    "but_plot"
   ]
  },
  {
   "cell_type": "markdown",
   "id": "4d6c87f0-4a8a-4a94-b405-635c6fa506fb",
   "metadata": {},
   "source": [
    "## Now we'll save the results so for use later "
   ]
  },
  {
   "cell_type": "code",
   "execution_count": null,
   "id": "5ce4936b-b015-43cc-8868-18ea06b0b293",
   "metadata": {},
   "outputs": [],
   "source": [
    "scfasTotal.to_csv('../results/studyA.csv')"
   ]
  }
 ],
 "metadata": {
  "kernelspec": {
   "display_name": "Python 3 (ipykernel)",
   "language": "python",
   "name": "python3"
  },
  "language_info": {
   "codemirror_mode": {
    "name": "ipython",
    "version": 3
   },
   "file_extension": ".py",
   "mimetype": "text/x-python",
   "name": "python",
   "nbconvert_exporter": "python",
   "pygments_lexer": "ipython3",
   "version": "3.8.13"
  }
 },
 "nbformat": 4,
 "nbformat_minor": 5
}
