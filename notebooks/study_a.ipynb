{
 "cells": [
  {
   "cell_type": "markdown",
   "id": "47b1a5eb-c958-422b-8de5-d57831c3b792",
   "metadata": {},
   "source": [
    "## This notebook shows the full workflow for building models, simulating growth and obtaining SCFA predictions from data collected by the _ex vivo_ study conducted by members of the Gibbons Lab in 2019 (Study A)"
   ]
  },
  {
   "cell_type": "code",
   "execution_count": null,
   "id": "8e5e2dc2",
   "metadata": {},
   "outputs": [],
   "source": [
    "import os\n",
    "import micom as mm\n",
    "import pandas as pd\n",
    "from tqdm import tqdm\n",
    "from scipy import stats\n",
    "import numpy as np \n",
    "from micom.viz import plot_tradeoff\n",
    "from plotnine import *\n",
    "\n",
    "%matplotlib inline"
   ]
  },
  {
   "cell_type": "markdown",
   "id": "9d8572b6-d860-44a7-babd-92ddff9ab4ff",
   "metadata": {},
   "source": [
    "## Load in the carbon-depleted standard european medium and grow control group models "
   ]
  },
  {
   "cell_type": "code",
   "execution_count": null,
   "id": "13b6bf22",
   "metadata": {},
   "outputs": [],
   "source": [
    "os.chdir('/proj/gibbons/nbohmann/exvivo/diets')\n",
    "medium = pd.read_csv('european_agora_low_carb.csv')\n",
    "medium['flux'] = medium['flux']*.1\n",
    "medium = medium[~medium.reaction.str.contains('EX_inulin_m')]\n",
    "os.chdir('/proj/gibbons/nbohmann/exvivo/gibbons_2019/micom/exvivo_build_001/')\n",
    "manifest = pd.read_csv('data/manifest.csv')\n",
    "manifest = manifest[(manifest.sample_id.str.contains('A'))|(manifest.sample_id.str.contains('G'))]\n",
    "growth = mm.workflows.grow(manifest,'data',medium=medium,tradeoff=.7,strategy='none',threads = 20)\n",
    "fluxes = growth.exchanges\n",
    "fluxes = fluxes[fluxes.direction == \"export\"].groupby([\"sample_id\", \"metabolite\", \"reaction\"]).apply(\n",
    "    lambda df: sum(df.flux * df.abundance)).reset_index()\n",
    "os.chdir('/proj/gibbons/nbohmann/exvivo/gibbons_2019/data/scfa_production/')\n",
    "fluxes.to_csv('ctrl_flux.csv')"
   ]
  },
  {
   "cell_type": "markdown",
   "id": "e984bb4f-8a83-42f8-8f9e-b70497a627c6",
   "metadata": {},
   "source": [
    "## Now augment the medium with inulin and grow again, simulating fiber supplementation. "
   ]
  },
  {
   "cell_type": "code",
   "execution_count": null,
   "id": "ad8c2838",
   "metadata": {},
   "outputs": [],
   "source": [
    "os.chdir('/proj/gibbons/nbohmann/exvivo/diets')\n",
    "medium = pd.read_csv('european_agora_low_carb.csv')\n",
    "medium['flux'] = medium['flux']*.1\n",
    "medium = medium[~medium.reaction.str.contains('EX_inulin_m')]\n",
    "medium = medium.append({'reaction':'EX_inulin_m','flux':10.5},ignore_index=True)\n",
    "os.chdir('/proj/gibbons/nbohmann/exvivo/gibbons_2019/micom/exvivo_build_001/')\n",
    "manifest = pd.read_csv('data/manifest.csv')\n",
    "manifest = manifest[(manifest.sample_id.str.contains('E'))|(manifest.sample_id.str.contains('K'))]\n",
    "# trade = mm.workflows.tradeoff(manifest, model_folder='data',\n",
    "#                                  medium = medium,tradeoffs=[0,.1,.2,.3,.4,.5,.6,.7,.8,.9,1],\n",
    "#                                  presolve = True, threads=20)\n",
    "# pl = plot_tradeoff(trade, filename=\"tradeoff_inulin.html\")\n",
    "growth = mm.workflows.grow(manifest,'data',medium=medium,tradeoff=.7,strategy='none',threads = 10)\n",
    "fluxes = growth.exchanges\n",
    "fluxes = fluxes[fluxes.direction == \"export\"].groupby([\"sample_id\", \"metabolite\", \"reaction\"]).apply(\n",
    "    lambda df: sum(df.flux * df.abundance)).reset_index()\n",
    "os.chdir('/proj/gibbons/nbohmann/exvivo/gibbons_2019/data/scfa_production/')\n",
    "fluxes.to_csv('inulin_flux.csv')"
   ]
  },
  {
   "cell_type": "markdown",
   "id": "b8541988-4aba-48b2-af09-fdba68bfff26",
   "metadata": {},
   "source": [
    "## Now we'll load up the experimental SCFA measurments, and calculate flux between culturing start time and endpoint"
   ]
  },
  {
   "cell_type": "code",
   "execution_count": null,
   "id": "9d605df7",
   "metadata": {},
   "outputs": [],
   "source": [
    "os.chdir('/proj/gibbons/ex_vivos_2019/data')\n",
    "meta=pd.read_excel('ISBI-0202-19TASA_Results.xlsx')\n",
    "meta=meta[['Unique Sample ID','Treatment','Time \\nPoint','Subject or Animal ID','Analyte','Result']]\n",
    "meta=meta.rename(columns={'Unique Sample ID':'sample_id','Time \\nPoint':'timepoint','Treatment':'treatment'\n",
    "                          ,'Subject or Animal ID':'subject_id','Analyte':'analyte','Result':'result'})\n",
    "\n",
    "meta_flux=pd.DataFrame(columns=['sample_id','subject_id','treatment','analyte','result'])\n",
    "for x in tqdm(meta.index): #use time series concentrations to estimate flux for inulin spiked samples\n",
    "    if meta.timepoint[x]==('T1'):\n",
    "        continue\n",
    "    sb=meta.subject_id[x]\n",
    "    treat=meta.treatment[x]\n",
    "    an=meta.analyte[x]\n",
    "    sp=meta.sample_id[x]\n",
    "    df=meta[meta.subject_id.str.match(sb)&meta.analyte.str.match(an)&\n",
    "            meta.treatment.str.match(treat)&meta.sample_id.str.endswith(sp[1])].reset_index()\n",
    "    result=(df[df.timepoint.str.contains('T1')].result.reset_index(drop=True)[0] - \n",
    "            df[df.timepoint.str.contains('T0')].result.reset_index(drop=True)[0])\n",
    "    meta_flux=pd.concat([meta_flux, pd.DataFrame({'sample_id':[sp],'subject_id':[sb],'treatment':[treat],\n",
    "                                                  'analyte':[an],'result':[result]})])\n",
    "meta_flux = meta_flux[~meta_flux.treatment.str.contains(\"tryptophan\")]\n",
    "meta_flux = pd.pivot_table(meta_flux,columns = 'analyte',index = 'sample_id',values = 'result')\n",
    "meta_flux = meta_flux/6\n",
    "meta_flux = meta_flux[['Acetic acid','Butyric acid','Propionic acid']]\n",
    "meta_flux['Acetic acid'] = meta_flux['Acetic acid']/59.04\n",
    "meta_flux['Butyric acid'] = meta_flux['Butyric acid']/88.11\n",
    "meta_flux['Propionic acid'] = meta_flux['Propionic acid']/74.08\n",
    "meta_flux"
   ]
  },
  {
   "cell_type": "markdown",
   "id": "eb5a117d-496b-42e0-828e-ceced7492c08",
   "metadata": {},
   "source": [
    "## This function will get the growth results from each sample, and filter down to butyrate, propionate and acetate."
   ]
  },
  {
   "cell_type": "code",
   "execution_count": null,
   "id": "27418a20",
   "metadata": {},
   "outputs": [],
   "source": [
    "def find_scfas(df,treatment):\n",
    "    #narrow down to scfas of interest\n",
    "    new_df = df[(df.reaction.str.startswith(\"EX_but(e)\"))|(df.reaction.str.startswith(\"EX_ac(e)\"))|\n",
    "                        (df.reaction.str.startswith(\"EX_ppa(e)\"))].reset_index(drop = True)\n",
    "    #rename columns for clarity\n",
    "    new_df = new_df.rename(columns = {'0':'flux'})\n",
    "    #here, put the data in a pivot table. this makes manipulating it eaiser\n",
    "    new_df = pd.pivot_table(new_df, index = 'sample_id', columns = 'metabolite', values = 'flux')\n",
    "    #add a treatment column so we can append the tables together\n",
    "    new_df['treatment'] = treatment\n",
    "    #reset the index so we don't lose the sample ids when appending\n",
    "    new_df.reset_index(inplace=True)\n",
    "    return new_df"
   ]
  },
  {
   "cell_type": "markdown",
   "id": "4082688f-1a9e-4da6-83a0-d3fc305bf0d9",
   "metadata": {},
   "source": [
    "## Now we'll collect all the predicted SCFA production fluxes, and standard deviations"
   ]
  },
  {
   "cell_type": "code",
   "execution_count": null,
   "id": "bb1fd05c",
   "metadata": {},
   "outputs": [],
   "source": [
    "os.chdir('/proj/gibbons/nbohmann/exvivo/gibbons_2019/data/scfa_production/')\n",
    "inulin = pd.read_csv('inulin_flux.csv',index_col = 0)\n",
    "ctrl = pd.read_csv('ctrl_flux.csv',index_col = 0)\n",
    "micom = find_scfas(ctrl,'CTRL')\n",
    "micom = pd.concat([micom,find_scfas(inulin,'INUL')])\n",
    "micom = micom.set_index('sample_id')\n",
    "ac_micom = micom['ac[e]'].to_dict()\n",
    "but_micom = micom['but[e]'].to_dict()\n",
    "ppa_micom = micom['ppa[e]'].to_dict()\n",
    "condition = micom['treatment'].to_dict()\n",
    "micom"
   ]
  },
  {
   "cell_type": "markdown",
   "id": "a4a0df74-e3e3-4f6a-85c7-caf35f45b2fd",
   "metadata": {},
   "source": [
    "## Concatenate predicted fluxes and measured fluxes into one dataframe"
   ]
  },
  {
   "cell_type": "code",
   "execution_count": null,
   "id": "b7f64c93",
   "metadata": {},
   "outputs": [],
   "source": [
    "meta_flux['Acetic acid - Predicted'] = meta_flux.index.map(ac_micom)\n",
    "meta_flux['Butyric acid - Predicted'] = meta_flux.index.map(but_micom)\n",
    "meta_flux['Propionic acid - Predicted'] = meta_flux.index.map(ppa_micom)\n",
    "meta_flux['condition'] = meta_flux.index.map(condition)\n",
    "meta_flux['condition'] = meta_flux['condition'].str.replace('CTRL','Control')\n",
    "meta_flux['condition'] = meta_flux['condition'].str.replace('INUL','Inulin')\n",
    "meta_flux['sample_name'] = meta_flux.index.str[0]\n",
    "stdevs = meta_flux.groupby('sample_name').std()\n",
    "meta_flux = meta_flux.groupby('sample_name').mean().reset_index()\n",
    "meta_flux['condition'] = ['Control','Inulin','Control','Inulin']\n",
    "meta_flux['but_dev'] = meta_flux['sample_name'].map(stdevs['Butyric acid - Predicted'].to_dict())\n",
    "meta_flux['ppa_dev'] = meta_flux['sample_name'].map(stdevs['Propionic acid - Predicted'].to_dict())\n",
    "meta_flux['ac_dev'] = meta_flux['sample_name'].map(stdevs['Acetic acid - Predicted'].to_dict())\n",
    "meta_flux['but_dev_meas'] = meta_flux['sample_name'].map(stdevs['Butyric acid'].to_dict())\n",
    "meta_flux['ppa_dev_meas'] = meta_flux['sample_name'].map(stdevs['Propionic acid'].to_dict())\n",
    "meta_flux['ac_dev_meas'] = meta_flux['sample_name'].map(stdevs['Acetic acid'].to_dict())\n",
    "meta_flux[meta_flux.columns[8:]] = meta_flux[meta_flux.columns[8:]]/np.sqrt(2)"
   ]
  },
  {
   "cell_type": "markdown",
   "id": "3ec78c58-585b-42d2-8f7c-d1373435caf9",
   "metadata": {},
   "source": [
    "## Finally, we'll plot predicted vs measured fluxes against each other"
   ]
  },
  {
   "cell_type": "code",
   "execution_count": null,
   "id": "b9fef94f",
   "metadata": {},
   "outputs": [],
   "source": [
    "plt1=(\n",
    "    ggplot(\n",
    "        meta_flux,aes(x='Propionic acid',y='Propionic acid - Predicted'))\n",
    "        +geom_point(aes(color = 'condition'),size=5)\n",
    "        +geom_errorbar(aes(x=\"Propionic acid\", ymin = meta_flux['Propionic acid - Predicted'] - meta_flux['ppa_dev'],\n",
    "                            ymax=meta_flux['Propionic acid - Predicted'] + meta_flux['ppa_dev']))\n",
    "        +geom_errorbarh(aes(y =\"Propionic acid - Predicted\", xmin = meta_flux['Propionic acid'] - meta_flux['ppa_dev_meas'],\n",
    "                            xmax=meta_flux['Propionic acid'] + meta_flux['ppa_dev_meas']))\n",
    "        +geom_smooth(method='lm',linetype='--')\n",
    "        +scale_color_manual(values = ['deepskyblue','darksalmon'])\n",
    "        +labs(x='Measured($\\dfrac{mmol}{L*h}$)',y = 'Predicted($\\dfrac{mmol}{gDCW*h}$)',title='Propionate')\n",
    "        +theme(text = element_text(size=20),panel_background=element_rect(fill = \"white\",\n",
    "                                colour = \"white\",size = 0.5, linetype = \"solid\"),\n",
    "                                panel_grid=element_line(size = .2, linetype = \"solid\",colour = \"gray\"),\n",
    "                                axis_line = element_line(size = 2, linetype = \"solid\",colour = \"black\"),\n",
    "                                legend_title=element_blank(),legend_position='right'))\n",
    "plt1"
   ]
  },
  {
   "cell_type": "code",
   "execution_count": null,
   "id": "41bb088e",
   "metadata": {},
   "outputs": [],
   "source": [
    "plt2=(\n",
    "    ggplot(\n",
    "        meta_flux,aes(x='Butyric acid',y='Butyric acid - Predicted'))\n",
    "        +geom_point(aes(color = 'condition'),size=5)\n",
    "        +geom_errorbar(aes(x=\"Butyric acid\", ymin = meta_flux['Butyric acid - Predicted'] - meta_flux['but_dev'],\n",
    "                            ymax=meta_flux['Butyric acid - Predicted'] + meta_flux['but_dev']))\n",
    "        +geom_errorbarh(aes(y =\"Butyric acid - Predicted\", xmin = meta_flux['Butyric acid'] - meta_flux['but_dev_meas'],\n",
    "                            xmax=meta_flux['Butyric acid'] + meta_flux['but_dev_meas']))\n",
    "        +geom_smooth(method='lm',linetype='--')\n",
    "        +scale_color_manual(values = ['deepskyblue','darksalmon'])\n",
    "        +labs(x='Measured($\\dfrac{mmol}{L*h}$)',y = 'Predicted ($\\dfrac{mmol}{gDCW*h}$)',title='Butyrate')\n",
    "        +theme(text = element_text(size=20),panel_background=element_rect(fill = \"white\",\n",
    "                                colour = \"white\",size = 0.5, linetype = \"solid\"),\n",
    "                                panel_grid=element_line(size = .2, linetype = \"solid\",colour = \"gray\"),\n",
    "                                axis_line = element_line(size = 2, linetype = \"solid\",colour = \"black\"),\n",
    "                                legend_title=element_blank(),legend_position='right'))\n",
    "plt2"
   ]
  },
  {
   "cell_type": "code",
   "execution_count": null,
   "id": "8d3cd381",
   "metadata": {},
   "outputs": [],
   "source": [
    "plt3=(\n",
    "    ggplot(\n",
    "        meta_flux,aes(x='Acetic acid',y='Acetic acid - Predicted'))\n",
    "        +geom_point(aes(color = 'condition'),size=5)\n",
    "        +geom_errorbar(aes(x=\"Acetic acid\", ymin = meta_flux['Acetic acid - Predicted'] - meta_flux['ac_dev'],\n",
    "                            ymax=meta_flux['Acetic acid - Predicted'] + meta_flux['ac_dev']))\n",
    "        +geom_errorbarh(aes(y =\"Acetic acid - Predicted\", xmin = meta_flux['Acetic acid'] - meta_flux['ac_dev_meas'],\n",
    "                            xmax=meta_flux['Acetic acid'] + meta_flux['ac_dev_meas']))\n",
    "        +geom_smooth(method='lm',linetype='--')\n",
    "        #+geom_text(aes(label = 'split'),nudge_y = 1)\n",
    "        +scale_color_manual(values = ['deepskyblue','darksalmon'])\n",
    "        +labs(x='Measured($\\dfrac{mmol}{L*h}$)',y = 'Predicted ($\\dfrac{mmol}{gDCW*h}$)',title='Acetate')\n",
    "        +theme(text = element_text(size=20),panel_background=element_rect(fill = \"white\",\n",
    "                                colour = \"white\",size = 0.5, linetype = \"solid\"),\n",
    "                                panel_grid=element_line(size = .2, linetype = \"solid\",colour = \"gray\"),\n",
    "                                axis_line = element_line(size = 2, linetype = \"solid\",colour = \"black\"),\n",
    "                                legend_title=element_blank(),legend_position='right'))\n",
    "plt3"
   ]
  },
  {
   "cell_type": "markdown",
   "id": "cfafc09e-34ca-4bf6-9a0c-ad2924b833e5",
   "metadata": {},
   "source": [
    "## Save all results"
   ]
  },
  {
   "cell_type": "code",
   "execution_count": null,
   "id": "5ce4936b-b015-43cc-8868-18ea06b0b293",
   "metadata": {},
   "outputs": [],
   "source": [
    "meta_flux.to_csv('/proj/gibbons/nbohmann/exvivo/scfa_paper/2019_exvivos.csv')"
   ]
  }
 ],
 "metadata": {
  "kernelspec": {
   "display_name": "Python 3 (ipykernel)",
   "language": "python",
   "name": "python3"
  },
  "language_info": {
   "codemirror_mode": {
    "name": "ipython",
    "version": 3
   },
   "file_extension": ".py",
   "mimetype": "text/x-python",
   "name": "python",
   "nbconvert_exporter": "python",
   "pygments_lexer": "ipython3",
   "version": "3.8.13"
  }
 },
 "nbformat": 4,
 "nbformat_minor": 5
}
