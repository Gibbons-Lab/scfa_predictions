{
 "cells": [
  {
   "cell_type": "markdown",
   "id": "6ad8d478-b1a3-4821-bdc0-710705e2e582",
   "metadata": {},
   "source": [
    "### Here we will build and grow microbial community models for participants in the 2021 study by Cantu Jungles et al., 2021. Models will be grown on a diluted EU standard diet supplemented with pectin, and subsequent predictions for SCFA production from the microbiome will be compared with experimental data. (Study B)"
   ]
  },
  {
   "cell_type": "code",
   "execution_count": null,
   "id": "b920f8f2-2ade-455a-b738-23b97820d635",
   "metadata": {},
   "outputs": [],
   "source": [
    "import pandas as pd\n",
    "import numpy as np \n",
    "import os\n",
    "import micom as mm\n",
    "from plotnine import *\n",
    "#import qiime2 as q2\n",
    "from scipy import stats\n",
    "\n",
    "pd.options.mode.chained_assignment = None  # default='warn'\n",
    "\n",
    "%matplotlib inline"
   ]
  },
  {
   "cell_type": "markdown",
   "id": "c8617736-27ab-4ccf-b1dd-6bbad194b901",
   "metadata": {},
   "source": [
    "### First, we will collect GC-MS data from the _in vitro_ experiments, with targeted SCFA concentrations."
   ]
  },
  {
   "cell_type": "code",
   "execution_count": null,
   "id": "3b3d0120-6299-431b-826b-da79e874cdee",
   "metadata": {},
   "outputs": [],
   "source": [
    "os.chdir(\"/proj/gibbons/nbohmann/exvivo/hamaker_2021/data/\")\n",
    "scfa = pd.read_csv(\"SCFA_forR_ correlation.csv\") # read in GC-MS data\n",
    "scfa['Acetate'] = scfa['Acetate']/24 # divide SCFA production by culturing time\n",
    "scfa['Butyrate'] = scfa['Butyrate']/24\n",
    "scfa['Propionate'] = scfa['Propionate']/24\n",
    "scfa['Donor'] = scfa['Donor'].astype('str')\n",
    "scfa['sample_id'] = scfa[['Treatment','Donor']].agg('_'.join, axis=1) # create sample ids with donor ID and treatment \n",
    "stdevs_meas = scfa.groupby(['sample_id','Treatment']\n",
    "                          ).std().reset_index().set_index('sample_id') # calculate standard deviations\n",
    "scfa = scfa.groupby(['sample_id','Treatment']\n",
    "                   ).mean().reset_index().set_index('sample_id') #average together triplicate samples\n",
    "scfa = scfa[(scfa.Treatment.str.contains('Blank'))|\n",
    "            (scfa.Treatment.str.contains('Pectin'))] # isolate samples treated with pectin or controls\n",
    "scfa"
   ]
  },
  {
   "cell_type": "markdown",
   "id": "c085fa2c-96a3-4bf8-ba21-e45b11161b71",
   "metadata": {},
   "source": [
    "### Next, we will read in abundance data for all samples. As samples are cultured in triplicate, we will add a numerical suffix to each, indicating the replicate number. "
   ]
  },
  {
   "cell_type": "code",
   "execution_count": null,
   "id": "7cd457fa-8014-42de-b173-598c00e9c830",
   "metadata": {},
   "outputs": [],
   "source": [
    "os.chdir('/proj/gibbons/nbohmann/exvivo/hamaker_2021/data/')\n",
    "abundance = pd.read_csv('hightha1perc_forR.csv') # Load the abundance\n",
    "abundance['donor'] = abundance['donor'].astype('str')\n",
    "abundance['sample_id'] = abundance[['treatment_II_B','donor']].agg(\n",
    "    '_'.join, axis=1) # Join the treatment and donor into sample ID\n",
    "abundance = abundance.drop(columns = ['treatment_II_B','donor'])\n",
    "abundance.set_index('sample_id',inplace = True)\n",
    "abundance = abundance.sort_index() #sort the index in order\n",
    "abundance = abundance[~abundance.index.str.contains('II_')] # Remove the treatment without SCFA measurements\n",
    "abundance.reset_index(inplace = True)\n",
    "vals = abundance.groupby(abundance['sample_id']).cumcount().values# add replicate number\n",
    "abundance['sample_id'] = (abundance['sample_id']+'_'+ (vals+1).astype(str))\n",
    "abundance"
   ]
  },
  {
   "cell_type": "markdown",
   "id": "570c52c0-f669-42ff-bfb9-be0e015c8919",
   "metadata": {},
   "source": [
    "### Now we will convert the abundance table to be long form. "
   ]
  },
  {
   "cell_type": "code",
   "execution_count": null,
   "id": "dee60ca9-ccb2-422d-80d7-3ab1b58bdb72",
   "metadata": {},
   "outputs": [],
   "source": [
    "abundance = pd.melt(abundance, id_vars = 'sample_id', value_vars = abundance.columns[1:], var_name = 'id', value_name = 'abundance')\n",
    "abundance['id'] = (abundance['id'].str.replace('k__','').str.replace('p__','').\n",
    "                   str.replace('c__','').str.replace('o__','').str.replace('f__','').\n",
    "                   str.replace('g__','').str.replace('s__',''))\n",
    "abundance['genus'] = abundance['id'].str.split(';').str[-2]\n",
    "abundance"
   ]
  },
  {
   "cell_type": "markdown",
   "id": "2256aa61-a17b-425e-b9ed-427bafce8b44",
   "metadata": {},
   "source": [
    "### We need a model database to use as a resource for genome-scale metabolic models. We will pass in the file path to the AGORA db"
   ]
  },
  {
   "cell_type": "code",
   "execution_count": null,
   "id": "e585b921-4e3b-490f-9fe4-afb0b4c6935f",
   "metadata": {},
   "outputs": [],
   "source": [
    "agora = ('/proj/gibbons/refs/micom_dbs/agora103_genus.qza')"
   ]
  },
  {
   "cell_type": "markdown",
   "id": "a001380f-a582-4eb8-be06-0771876a7090",
   "metadata": {},
   "source": [
    "### Now we'll get to building the models in MICOM, passing in the abundance table, identifying a model folder, passing in the database location, and assigning a relative abundance cutoff"
   ]
  },
  {
   "cell_type": "code",
   "execution_count": null,
   "id": "1bf546b6-6b34-4ffa-86ff-dcdb0e309c2f",
   "metadata": {},
   "outputs": [],
   "source": [
    "models = mm.workflows.build(abundance,out_folder = '/proj/gibbons/nbohmann/exvivo/hamaker_2021/micom/models/',\n",
    "                      model_db = agora, cutoff = 0.001, threads = 20)"
   ]
  },
  {
   "cell_type": "markdown",
   "id": "4752b60d-ce3b-4883-a4f1-f893e1f6ba48",
   "metadata": {},
   "source": [
    "## We can peak at the resulting models by loading up the model manifest"
   ]
  },
  {
   "cell_type": "code",
   "execution_count": null,
   "id": "be53061a-2413-42ed-946c-ec20cbcd6165",
   "metadata": {},
   "outputs": [],
   "source": [
    "os.chdir('/proj/gibbons/nbohmann/exvivo/hamaker_2021/micom/')\n",
    "manifest = pd.read_csv('models/manifest.csv', index_col = 0)\n",
    "manifest"
   ]
  },
  {
   "cell_type": "markdown",
   "id": "0e69409c-43a9-433d-8f9b-86a925661285",
   "metadata": {},
   "source": [
    "## Now we'll move on to growing the samples. First, we will load in the medium we plan to use. This is an EU standard medium with easily digestible carbon sources removed, to mimic the fecal homogenate used in the experiment. Additionally, we will dilute the medium to 10% of its original content. In this cell, we will grow the control samples. "
   ]
  },
  {
   "cell_type": "code",
   "execution_count": null,
   "id": "e0e1038c-ab03-48bd-aca4-3635037bb1c2",
   "metadata": {},
   "outputs": [],
   "source": [
    "os.chdir('/proj/gibbons/nbohmann/exvivo/diets')\n",
    "medium = pd.read_csv('european_agora_low_carb.csv')\n",
    "medium['flux'] = medium['flux']*0.1\n",
    "os.chdir(\"/proj/gibbons/nbohmann/exvivo/hamaker_2021/micom/\")\n",
    "manifest = pd.read_csv('models/manifest.csv')\n",
    "manifest = manifest[manifest.sample_id.str.startswith('Blank')]\n",
    "growth = mm.workflows.grow(manifest,'models',medium=medium,tradeoff=.7, strategy='none',threads = 20)\n",
    "fluxes = growth.exchanges\n",
    "fluxes = fluxes[fluxes.direction == \"export\"].groupby([\"sample_id\", \"metabolite\", \"reaction\"]).apply(\n",
    "    lambda df: sum(df.flux * df.abundance)).reset_index()\n",
    "os.chdir('/proj/gibbons/nbohmann/exvivo/hamaker_2021/data/')\n",
    "fluxes.to_csv('ctrl_flux.csv') "
   ]
  },
  {
   "cell_type": "markdown",
   "id": "9794b499-12ee-46bd-96e4-6ad8c6f9946d",
   "metadata": {},
   "source": [
    "### Now we will use the same process to grow the treatment samples. To the medium, we will add 0.75 mmol/gDW*h of pectin. "
   ]
  },
  {
   "cell_type": "code",
   "execution_count": null,
   "id": "a25f10c6-3790-4c5c-8b91-a50b19e2777c",
   "metadata": {},
   "outputs": [],
   "source": [
    "os.chdir('/proj/gibbons/nbohmann/exvivo/diets')\n",
    "medium = pd.read_csv('european_agora_low_carb.csv')\n",
    "medium['flux'] = medium['flux']*0.1\n",
    "os.chdir(\"/proj/gibbons/nbohmann/exvivo/hamaker_2021/micom/\")\n",
    "manifest = pd.read_csv('models/manifest.csv')\n",
    "manifest = manifest[manifest.sample_id.str.startswith('Pect')]\n",
    "treatment_medium = medium.append({'reaction':'EX_pect_m','flux': .75},ignore_index=True)\n",
    "growth = mm.workflows.grow(manifest,'models',medium=treatment_medium,tradeoff=.7,strategy='none',threads = 20)\n",
    "fluxes = growth.exchanges\n",
    "fluxes = fluxes[fluxes.direction == \"export\"].groupby([\"sample_id\", \"metabolite\", \"reaction\"]).apply(\n",
    "    lambda df: sum(df.flux * df.abundance)).reset_index()\n",
    "os.chdir('/proj/gibbons/nbohmann/exvivo/hamaker_2021/data/')\n",
    "fluxes.to_csv('pect_fluxes.csv')"
   ]
  },
  {
   "cell_type": "markdown",
   "id": "64160d18-6285-43d9-ad52-00f76b52402b",
   "metadata": {},
   "source": [
    "## This function will get the growth results from each sample, and filter down to butyrate, propionate and acetate."
   ]
  },
  {
   "cell_type": "code",
   "execution_count": null,
   "id": "35d3bfd7-d3d2-438b-a88f-729e5a4163d8",
   "metadata": {},
   "outputs": [],
   "source": [
    "def find_scfas(df,treatment):\n",
    "    #narrow down to scfas of interest\n",
    "    \n",
    "    new_df = df[(df.reaction.str.startswith(\"EX_but(e)\"))|(df.reaction.str.startswith(\"EX_ac(e)\"))|\n",
    "                        (df.reaction.str.startswith(\"EX_ppa(e)\"))].reset_index(drop = True)\n",
    "    #rename columns for clarity\n",
    "    new_df = new_df.rename(columns = {'0':'flux'})\n",
    "    #here, put the data in a pivot table. this makes manipulating it eaiser\n",
    "    new_df = pd.pivot_table(new_df, index = 'sample_id', columns = 'metabolite', values = 'flux')\n",
    "    #add a treatment column so we can append the tables together\n",
    "    new_df['treatment'] = treatment\n",
    "    #reset the index so we don't lose the sample ids when appending\n",
    "    new_df.reset_index(inplace=True)\n",
    "    return new_df"
   ]
  },
  {
   "cell_type": "markdown",
   "id": "c8f8ebe4-a88c-482d-9ea1-175aaf78b3a2",
   "metadata": {},
   "source": [
    "## Now we'll use that function to collect all our predicted SCFA fluxes, as well as as standard deviations"
   ]
  },
  {
   "cell_type": "code",
   "execution_count": null,
   "id": "31b7840e-0756-4ee6-8486-91160d3a514a",
   "metadata": {},
   "outputs": [],
   "source": [
    "os.chdir(\"/proj/gibbons/nbohmann/exvivo/hamaker_2021/data/\")\n",
    "ctrl = pd.read_csv('ctrl_flux.csv',index_col = 0)\n",
    "pect = pd.read_csv('pect_fluxes.csv',index_col = 0)\n",
    "micom = find_scfas(ctrl,'Blank')\n",
    "micom = micom.append(find_scfas(pect,'Pectin'),ignore_index=True)\n",
    "micom['sample_id'] = micom['sample_id'].str.split('_').str[1]\n",
    "stdevs = micom.groupby(['sample_id', 'treatment']).std().reset_index()\n",
    "micom = micom.groupby(['sample_id','treatment']).mean().reset_index()\n",
    "micom['sample'] = micom['treatment']+'_'+micom['sample_id']\n",
    "micom = micom.set_index('sample').drop(columns = {'sample_id','treatment'})\n",
    "ac_micom = micom['ac[e]'].to_dict()\n",
    "but_micom = micom['but[e]'].to_dict()\n",
    "ppa_micom = micom['ppa[e]'].to_dict()\n",
    "stdevs['sample_name'] = stdevs['treatment']+'_'+stdevs['sample_id']\n",
    "stdevs.set_index('sample_name',inplace = True)"
   ]
  },
  {
   "cell_type": "markdown",
   "id": "21b2675a-6cd0-4ac1-8e12-5b931663bb2e",
   "metadata": {},
   "source": [
    "## Now we'll construct a dataframe with all predicted and measured SCFA production fluxes and standard deviations"
   ]
  },
  {
   "cell_type": "code",
   "execution_count": null,
   "id": "b34ac721-a5fb-4dd5-bbb0-688ff461147f",
   "metadata": {},
   "outputs": [],
   "source": [
    "scfa['Acetate - Predicted'] = scfa.index.map(ac_micom)\n",
    "scfa['Butyrate - Predicted'] = scfa.index.map(but_micom)\n",
    "scfa['Propionate - Predicted'] = scfa.index.map(ppa_micom)\n",
    "scfa['but-devs'] = scfa.index.map(stdevs['but[e]'].to_dict())\n",
    "scfa['ppa-devs'] = scfa.index.map(stdevs['ppa[e]'].to_dict())\n",
    "scfa['ac-devs'] = scfa.index.map(stdevs['ac[e]'].to_dict())\n",
    "scfa['but-devs_meas'] = scfa.index.map(stdevs_meas['Butyrate'].to_dict())\n",
    "scfa['ppa-devs_meas'] = scfa.index.map(stdevs_meas['Propionate'].to_dict())\n",
    "scfa['ac-devs_meas'] = scfa.index.map(stdevs_meas['Acetate'].to_dict())\n",
    "scfa['Treatment'][scfa[scfa['Treatment'].str.contains('Blank')].index] = 'Control'\n",
    "scfa"
   ]
  },
  {
   "cell_type": "markdown",
   "id": "37f0d7d5-48bf-444b-b073-59c061e05814",
   "metadata": {},
   "source": [
    "## Now, plot measured against predicted SCFA production fluxes"
   ]
  },
  {
   "cell_type": "code",
   "execution_count": null,
   "id": "672be3c8-806f-4ffa-88cd-0aa7c8a88d9e",
   "metadata": {},
   "outputs": [],
   "source": [
    "plt=(\n",
    "    ggplot(\n",
    "        scfa, aes(x ='Butyrate',y = 'Butyrate - Predicted'))\n",
    "        +geom_smooth(method='lm',linetype='--')\n",
    "        +geom_point(aes(color = 'Treatment'),size=5)\n",
    "        +geom_errorbar(aes(x=\"Butyrate\", ymin = scfa['Butyrate - Predicted'] - scfa['but-devs'],\n",
    "                            ymax=scfa['Butyrate - Predicted'] + scfa['but-devs']))\n",
    "        +geom_errorbarh(aes(y =\"Butyrate - Predicted\", xmin = scfa['Butyrate'] - scfa['but-devs_meas'],\n",
    "                            xmax=scfa['Butyrate'] + scfa['but-devs_meas']))\n",
    "        +scale_color_manual(values = ['deepskyblue','yellowgreen'])\n",
    "        +labs(x='Measured ($\\dfrac{mmol}{L*h}$)',y='Predicted ($\\dfrac{mmol}{gDW*h}$)',title = 'Butyrate')\n",
    "        +theme(text = element_text(size=15),panel_background=element_rect(fill = \"white\",\n",
    "                                colour = \"white\",size = 0.5, linetype = \"solid\"),\n",
    "                                panel_grid=\n",
    "               element_line(size = .2, linetype = \"solid\",colour = \"gray\"),\n",
    "                                axis_line = element_line(size = 2, linetype = \"solid\",colour = \"black\"),\n",
    "                                legend_title=element_blank(),\n",
    "                                legend_position='right'))\n",
    "\n",
    "plt"
   ]
  },
  {
   "cell_type": "code",
   "execution_count": null,
   "id": "3a50f718-a428-41fa-b264-f80ce9842755",
   "metadata": {},
   "outputs": [],
   "source": [
    "plt=(\n",
    "    ggplot(\n",
    "        scfa, aes(x ='Propionate',y = 'Propionate - Predicted'))\n",
    "        +geom_smooth(method='lm',linetype='--')\n",
    "        +geom_point(aes(color = 'Treatment'),size=5)\n",
    "        +geom_errorbar(aes(x=\"Propionate\", ymin = scfa['Propionate - Predicted'] - scfa['ppa-devs'],\n",
    "                            ymax=scfa['Propionate - Predicted'] + scfa['ppa-devs']))\n",
    "        +geom_errorbarh(aes(y =\"Propionate - Predicted\", xmin = scfa['Propionate'] - scfa['ppa-devs_meas'],\n",
    "                            xmax=scfa['Propionate'] + scfa['ppa-devs_meas']))\n",
    "        +scale_color_manual(values = ['deepskyblue','yellowgreen'])\n",
    "        +labs(x='Measured ($\\dfrac{mmol}{L*h}$)',y='Predicted ($\\dfrac{mmol}{gDW*h}$)',title = 'Propionate')\n",
    "        +theme(text = element_text(size=15),panel_background=element_rect(fill = \"white\",\n",
    "                                colour = \"white\",size = 0.5, linetype = \"solid\"),\n",
    "                                panel_grid=element_line(size = .2, linetype = \"solid\",colour = \"gray\"),\n",
    "                                axis_line = element_line(size = 2, linetype = \"solid\",colour = \"black\"),\n",
    "                                legend_title=element_blank(),\n",
    "                                legend_position='right'))\n",
    "\n",
    "plt"
   ]
  },
  {
   "cell_type": "code",
   "execution_count": null,
   "id": "91702475-7498-416d-835c-b0cebfe21297",
   "metadata": {},
   "outputs": [],
   "source": [
    "plt=(\n",
    "    ggplot(\n",
    "        scfa, aes(x ='Acetate',y = 'Acetate - Predicted'))\n",
    "        +geom_smooth(method='lm',linetype='--')\n",
    "        +geom_point(aes(color = 'Treatment'),size=5)\n",
    "        +geom_errorbar(aes(x=\"Acetate\", ymin = scfa['Acetate - Predicted'] - scfa['ac-devs'],\n",
    "                            ymax=scfa['Acetate - Predicted'] + scfa['ac-devs']))\n",
    "        +geom_errorbarh(aes(y =\"Acetate - Predicted\", xmin = scfa['Acetate'] - scfa['ac-devs_meas'],\n",
    "                            xmax=scfa['Acetate'] + scfa['ac-devs_meas']))\n",
    "        +scale_color_manual(values = ['deepskyblue','yellowgreen'])\n",
    "        +labs(x='Measured ($\\dfrac{mmol}{L*h}$)',y='Predicted ($\\dfrac{mmol}{gDW*h}$)',title = 'Acetate')\n",
    "        +theme(text = element_text(size=15),panel_background=element_rect(fill = \"white\",\n",
    "                                colour = \"white\",size = 0.5, linetype = \"solid\"),\n",
    "                                panel_grid=element_line(size = .2, linetype = \"solid\",colour = \"gray\"),\n",
    "                                axis_line = element_line(size = 2, linetype = \"solid\",colour = \"black\"),\n",
    "                                legend_title=element_blank(),\n",
    "                                legend_position='right'))\n",
    "\n",
    "plt"
   ]
  },
  {
   "cell_type": "markdown",
   "id": "d607ed8c-60a3-41c7-8500-2c176ebe2cd9",
   "metadata": {},
   "source": [
    "## Save all results"
   ]
  },
  {
   "cell_type": "code",
   "execution_count": null,
   "id": "03f10c6f-0b7c-4d76-87b2-b0498f207261",
   "metadata": {},
   "outputs": [],
   "source": [
    "scfa.to_csv('/proj/gibbons/nbohmann/exvivo/scfa_paper/hamaker.csv')"
   ]
  }
 ],
 "metadata": {
  "kernelspec": {
   "display_name": "Python 3 (ipykernel)",
   "language": "python",
   "name": "python3"
  },
  "language_info": {
   "codemirror_mode": {
    "name": "ipython",
    "version": 3
   },
   "file_extension": ".py",
   "mimetype": "text/x-python",
   "name": "python",
   "nbconvert_exporter": "python",
   "pygments_lexer": "ipython3",
   "version": "3.8.13"
  }
 },
 "nbformat": 4,
 "nbformat_minor": 5
}
