{
 "cells": [
  {
   "cell_type": "markdown",
   "id": "8194cdf6-d1d2-4cf4-8407-1f21c07a9539",
   "metadata": {},
   "source": [
    "# Summarized _ex vivos_ \n",
    "Here we will take the results of SCFA prediction from all four _ex vivo_ datasets, Z-score them and compare them directly. "
   ]
  },
  {
   "cell_type": "code",
   "execution_count": null,
   "id": "bb7191be-8435-45f4-b11d-90afbb900139",
   "metadata": {},
   "outputs": [],
   "source": [
    "import pandas as pd\n",
    "import numpy as np\n",
    "import scipy\n",
    "\n",
    "from plotnine import *\n",
    "%matplotlib inline"
   ]
  },
  {
   "cell_type": "markdown",
   "id": "55b3387e-0b66-4920-a1b4-00a317b7b204",
   "metadata": {},
   "source": [
    "## Collect and Normalize Data\n",
    "First we'll collect the prediction data for all of our datasets, normalize it by Z-scoring results from each study, and combining the results into one dataframe"
   ]
  },
  {
   "cell_type": "code",
   "execution_count": null,
   "id": "bf78f9d1-ffe2-4409-ab2a-1b7ff9403a91",
   "metadata": {},
   "outputs": [],
   "source": [
    "studyA = pd.read_csv('../results/studyA.csv')\n",
    "studyA['study'] = 'StudyA'\n",
    "studyB = pd.read_csv('../results/studyB.csv')\n",
    "studyB['study'] = 'StudyB'\n",
    "studyC = pd.read_csv('../results/studyC.csv').dropna()\n",
    "studyC['study'] = 'StudyC'\n",
    "studyD = pd.read_csv('../results/studyD.csv')\n",
    "studyD['study'] = 'StudyD'\n",
    "studies = [studyA, studyB, studyC, studyD]\n",
    "toZscore = ['acetatePredicted','acetateMeasured',\n",
    "               'butyratePredicted','butyrateMeasured',\n",
    "               'propionatePredicted', 'propionateMeasured']\n",
    "for study in studies:  \n",
    "    toZscoreTemp = [column for column in study.columns if column in toZscore]\n",
    "    for col in toZscoreTemp:\n",
    "        study[col] = scipy.stats.zscore(study[col])\n",
    "scfas = pd.concat([studyA, studyB, studyC, studyD])\n",
    "\n",
    "scfas['treatment'] = scfas['treatment'].str.capitalize()\n",
    "scfas['treatment'] = scfas['treatment'].str.replace('Fos','FOS')\n",
    "scfas"
   ]
  },
  {
   "cell_type": "markdown",
   "id": "42af8f6d-84dc-4884-890c-5f3ffa9e27f2",
   "metadata": {},
   "source": [
    "## Reformat Data\n",
    "Format the data into long form for plotting"
   ]
  },
  {
   "cell_type": "code",
   "execution_count": null,
   "id": "c3a183c1-5d61-4c9a-ac38-966fe65f698e",
   "metadata": {},
   "outputs": [],
   "source": [
    "res = pd.melt(scfas,\n",
    "                id_vars = ['treatment','study', 'donor'],\n",
    "                value_vars = ['acetatePredicted','acetateMeasured',\n",
    "               'butyratePredicted','butyrateMeasured',\n",
    "               'propionatePredicted', 'propionateMeasured'],\n",
    "                value_name = 'Z-Score', \n",
    "                var_name = 'analyte')\n",
    "res['source'] = res['analyte'].str.split(\"([A-Z][^A-Z]*)\").str[1:]\n",
    "res['source'] =res['source'].apply(lambda x: ''.join(x))\n",
    "\n",
    "res['analyte'] = res['analyte'].str.split(\"([A-Z][^A-Z]*)\").str[0]\n",
    "res = pd.pivot_table(res,\n",
    "                    index = ['treatment','study','donor','analyte'],\n",
    "                     columns = 'source',\n",
    "                     values = 'Z-Score').reset_index()\n",
    "res['analyte'] = res['analyte'].str.capitalize()\n",
    "res['study'] = (res['study'].str.replace('StudyA','Study A (1:5)')\n",
    "                .str.replace('StudyB','Study B (1:19)')\n",
    "                .str.replace('StudyC', 'Study C (1:5)')\n",
    "                .str.replace('StudyD','Study D (1:3)'))\n",
    "res.sort_values(by = 'analyte', ascending = False)\n",
    "res"
   ]
  },
  {
   "cell_type": "markdown",
   "id": "c7663e87-8174-448b-9ef0-3e0f72de53f7",
   "metadata": {},
   "source": [
    "## Facet Plot Z-Scored Data\n",
    "Make a facet plot of z-scored SCFA prediction data, spanning all four datasets (Fig. 3)"
   ]
  },
  {
   "cell_type": "code",
   "execution_count": null,
   "id": "f9abcd3f-c624-4f6c-aae2-8b702655d990",
   "metadata": {},
   "outputs": [],
   "source": [
    "fig1 = (ggplot(res, aes(x = 'Measured', y = 'Predicted'))\n",
    "    +geom_smooth(method = 'lm', linetype = '--')\n",
    "    +geom_point(aes(color = 'treatment'), size = 6)\n",
    "    +scale_color_manual(limits = ['Control','Pectin', 'Inulin', 'FOS'], \n",
    "                        values = ['cornflowerblue', 'mediumseagreen', 'coral', 'purple'])\n",
    "    +labs(title='',\n",
    "          x='Z-Score(measured, mmol/L/h)',\n",
    "          y = 'Z-Score(predicted, mmol/gDW/h)',\n",
    "          color = 'Treatment',fill = 'Treatment')\n",
    "    +facet_grid(['analyte','study'], scales= 'free')\n",
    "    +theme(figure_size = (12, 16),\n",
    "        text = element_text(size=20, color = 'black'),panel_background=element_rect(fill = \"white\",\n",
    "                                    colour = \"white\",size = 0.5, linetype = \"solid\"),panel_grid= element_blank(),\n",
    "                                    axis_line = element_line(size = 2, linetype = \"solid\",colour = \"black\"),\n",
    "                                    legend_position='right',axis_text_x=element_text(rotation = 45, hjust = 1.5))\n",
    "\n",
    "\n",
    ")\n",
    "fig1"
   ]
  },
  {
   "cell_type": "markdown",
   "id": "449852ee-3614-4fb9-a46c-199d18187b3b",
   "metadata": {},
   "source": [
    "## Summarized Ex Vivo Plots\n",
    "Make a plot of predictions across all four datasets summarized together. (Fig. 2B)"
   ]
  },
  {
   "cell_type": "code",
   "execution_count": null,
   "id": "a8eb9d90-bd6c-49d9-b0ef-0c8b27e39b15",
   "metadata": {},
   "outputs": [],
   "source": [
    "fig2 = (ggplot(res, aes(x = 'Measured', y = 'Predicted'))\n",
    "    +geom_smooth(method = 'lm', linetype = '--')\n",
    "    +geom_point(aes(color = 'study'), size = 6)\n",
    "    +scale_color_manual(limits = ['Study A (1:5)','Study B (1:19)', 'Study C (1:5)', 'Study D (1:3)'], \n",
    "                        values = ['#3B429F', '#AA7DCE', '#F4A5AE', '#A8577E'])\n",
    "    +labs(title='',\n",
    "          x='Z-Score(measured, mmol/L/h)',\n",
    "          y = 'Z-Score(predicted, mmol/gDW/h)',\n",
    "          color = 'Study (Dilution)',fill = 'Study (Dilution)')\n",
    "    +facet_wrap('analyte', scales= 'free')\n",
    "    +theme(figure_size = (12, 6),\n",
    "        text = element_text(size=20, color = 'black'),panel_background=element_rect(fill = \"white\",\n",
    "                                    colour = \"white\",size = 0.5, linetype = \"solid\"),panel_grid= element_blank(),\n",
    "                                    axis_line = element_line(size = 2, linetype = \"solid\",colour = \"black\"),\n",
    "                                    legend_position='right',axis_text_x=element_text(rotation = 20, hjust = 1))\n",
    "\n",
    "\n",
    ")\n",
    "fig2"
   ]
  },
  {
   "cell_type": "code",
   "execution_count": null,
   "id": "7f8df16e-4c89-42ae-b196-959e876c49ac",
   "metadata": {},
   "outputs": [],
   "source": [
    "scipy.stats.pearsonr(res[res['analyte']=='Acetate']['Measured'],\n",
    "                     res[res['analyte']=='Acetate']['Predicted'])"
   ]
  }
 ],
 "metadata": {
  "kernelspec": {
   "display_name": "Python 3 (ipykernel)",
   "language": "python",
   "name": "python3"
  },
  "language_info": {
   "codemirror_mode": {
    "name": "ipython",
    "version": 3
   },
   "file_extension": ".py",
   "mimetype": "text/x-python",
   "name": "python",
   "nbconvert_exporter": "python",
   "pygments_lexer": "ipython3",
   "version": "3.8.13"
  }
 },
 "nbformat": 4,
 "nbformat_minor": 5
}
