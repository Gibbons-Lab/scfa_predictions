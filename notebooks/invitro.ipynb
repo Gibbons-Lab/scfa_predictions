{
 "cells": [
  {
   "cell_type": "markdown",
   "id": "ec799eec-cc1c-40ed-8418-9a25708f77db",
   "metadata": {},
   "source": [
    "## Here we'll try to replicate the results of Venturelli et al, measuring butyrate production in synthetically constructed _in vitro_ communities. We'll hope to see that predictions of butyrate production from MICOM constructed community models accurately reflect the measured butyrate production from the experiments. "
   ]
  },
  {
   "cell_type": "code",
   "execution_count": 1,
   "id": "09f49570-1c70-4d0b-9370-2c8f869facf9",
   "metadata": {},
   "outputs": [],
   "source": [
    "import os\n",
    "import pandas as pd\n",
    "from plotnine import *\n",
    "from tqdm import tqdm\n",
    "import sklearn\n",
    "import numpy as np\n",
    "import scipy\n",
    "import micom\n",
    "import micom.measures\n",
    "import warnings\n",
    "warnings.simplefilter(action='ignore')\n",
    "%matplotlib inline"
   ]
  },
  {
   "cell_type": "markdown",
   "id": "c2b1637f-f14f-4a0f-8b7d-34b82ccd1254",
   "metadata": {
    "tags": []
   },
   "source": [
    "## Function for building our taxonomies, which accepts an abundance dataframe of taxonomic fractions measured in the experiments. "
   ]
  },
  {
   "cell_type": "code",
   "execution_count": 2,
   "id": "ad0d35c7-d77b-4fea-8cfc-3a6359a0cf32",
   "metadata": {
    "tags": []
   },
   "outputs": [],
   "source": [
    "def build_table(taxa):\n",
    "    #first, define an empty taxonomy dataframe, which we will use to build models\n",
    "    taxonomy = pd.DataFrame()\n",
    "    #we'll iterate through the taxonomic data provided, and append individual taxonomic abundances to our taxonomy table\n",
    "    for x in tqdm(taxa.index): \n",
    "        #find the row corresponding to the sample of interest in the abundance dataframe\n",
    "        sample = taxa.loc[x].index.to_list()\n",
    "        #isolate the genera abbreviations, and put into a list\n",
    "        names = \",\".join([x[:2] for x in sample]).split(',')\n",
    "        #now we map the abbreviations to the file list (see next cell) to find the GSMs for each \n",
    "        file = list(map(genera.get,names))\n",
    "        #now we'll put together a pandas Series to concatenate with the taxonomy table\n",
    "        sample_taxa = pd.DataFrame({ \n",
    "            \"id\": names, #genus abbreviations \n",
    "            \"abundance\":taxa.loc[x], #genus abundances\n",
    "            \"file\": file, #genus JSON file\n",
    "            \"sample_id\":x}) #sample ID\n",
    "        sample_taxa = sample_taxa.dropna(how = 'any') #drop any rows with empty values\n",
    "        taxonomy = pd.concat([taxonomy,sample_taxa]) #concate the series onto the taxonomy table\n",
    "    return taxonomy"
   ]
  },
  {
   "cell_type": "markdown",
   "id": "657e0fbc-9599-4926-bd07-5ff70697b70a",
   "metadata": {
    "tags": []
   },
   "source": [
    "## Let's start by initializing our dictionary of genera abbreviations, since the taxa are given by two letter abbreviations in the abundance dataframe. The taxa in the experiement are given at the species level, but for consistency we will build models at the genus level. Therefore, some duplicates will be seen in this dict"
   ]
  },
  {
   "cell_type": "code",
   "execution_count": 3,
   "id": "e8da0bc6-a8fa-48dc-bec3-8bec22607c30",
   "metadata": {},
   "outputs": [],
   "source": [
    "genera = {'PC':'Prevotella.json',\n",
    "          'PJ':'Parabacteroides.json',\n",
    "          'BV':'Bacteroides.json',\n",
    "          'BF':'Bacteroides.json',\n",
    "          'BO':'Bacteroides.json',\n",
    "          'BT':'Bacteroides.json',\n",
    "          'BC':'Bacteroides.json',\n",
    "          'BY':'Bacteroides.json',\n",
    "          'BU':'Bacteroides.json',\n",
    "          'DP':'Desulfovibrio.json',\n",
    "          'BL':'Bifidobacterium.json',\n",
    "          'BA':'Bifidobacterium.json',\n",
    "          'BP':'Bifidobacterium.json',\n",
    "          'CA':'Collinsella.json',\n",
    "          'EL':'Eggerthella.json',\n",
    "          'FP':'Faecalibacterium.json',\n",
    "          'CH':'Clostridium.json',\n",
    "          'AC':'Anaerostipes.json',\n",
    "          'BH':'Blautia.json',\n",
    "          'CG':'Clostridium.json',\n",
    "          'ER':'Eubacterium.json',\n",
    "          'RI':'Roseburia.json',\n",
    "          'CC':'Coprococcus.json',\n",
    "          'DL':'Dorea.json',\n",
    "          'DF':'Dorea.json'}"
   ]
  },
  {
   "cell_type": "markdown",
   "id": "16483714-864f-4a7c-bb3d-04b0bbe61776",
   "metadata": {
    "tags": []
   },
   "source": [
    "## Let's pull up the primary dataframe with abundances, ODs, and SCFAs. This can be found at https://github.com/RyanLincolnClark/DesignSyntheticGutMicrobiomeAssemblyFunction/commonfiles\n"
   ]
  },
  {
   "cell_type": "code",
   "execution_count": 4,
   "id": "0ba07a39-925c-43f4-8f7c-97f04971d82d",
   "metadata": {},
   "outputs": [],
   "source": [
    "os.chdir('../data')\n",
    "#read in the dataframe\n",
    "main = pd.read_csv('abundanceDF.csv',index_col=0) #get the dataframe\n",
    "#drop HB - abbreviation not given in manuscript\n",
    "main = main.drop(columns = 'HB')\n",
    "#for columns 11:37, which represent binary presence/absence as a 1 or 0 for each species, we fill in zeros for NAs. \n",
    "main[main.columns[11:37]] = main[main.columns[11:37]].fillna(0).astype('int')\n",
    "#we can calculate richness of each sample by summing these presence/absence numbers\n",
    "main['richness'] = main[main.columns[11:37]].sum(axis = 1)\n",
    "#also isolate the plate, column, and run ID for each row. These will serve as sample IDs for each individual sample\n",
    "main['Plate'] = main['Plate'].astype('str').str.split('.').str[0].apply(lambda x: x.zfill(2))\n",
    "main['Column'] = main['Column'].astype('str').str.split('.').str[0].apply(lambda x: x.zfill(2))\n",
    "main['Run'] = main['Sequencing Run'].str[-3:]\n",
    "#designate the sample ID\n",
    "main['sample_id'] = 'P'+main['Plate']+main['Row']+main['Column']+'_'+main['Run']\n",
    "#remove any samples that have contamination\n",
    "main = main[main['Contamination?']=='No']\n",
    "#set the index as the sample ID\n",
    "main.set_index('sample_id',inplace = True)\n",
    "main = main[~main.index.duplicated(keep = 'last')]"
   ]
  },
  {
   "cell_type": "markdown",
   "id": "efe8b89e-5b20-4c23-86cf-c3b54f429d17",
   "metadata": {
    "tags": []
   },
   "source": [
    "## Lets also pull up the componentized diet dataframe"
   ]
  },
  {
   "cell_type": "code",
   "execution_count": 5,
   "id": "c0d19de0-0fef-461f-aca8-e8e634b38eff",
   "metadata": {},
   "outputs": [
    {
     "data": {
      "text/html": [
       "<div>\n",
       "<style scoped>\n",
       "    .dataframe tbody tr th:only-of-type {\n",
       "        vertical-align: middle;\n",
       "    }\n",
       "\n",
       "    .dataframe tbody tr th {\n",
       "        vertical-align: top;\n",
       "    }\n",
       "\n",
       "    .dataframe thead th {\n",
       "        text-align: right;\n",
       "    }\n",
       "</style>\n",
       "<table border=\"1\" class=\"dataframe\">\n",
       "  <thead>\n",
       "    <tr style=\"text-align: right;\">\n",
       "      <th></th>\n",
       "      <th>metabolite</th>\n",
       "      <th>flux</th>\n",
       "      <th>reaction</th>\n",
       "    </tr>\n",
       "  </thead>\n",
       "  <tbody>\n",
       "    <tr>\n",
       "      <th>0</th>\n",
       "      <td>cl</td>\n",
       "      <td>4.300000</td>\n",
       "      <td>EX_cl_m</td>\n",
       "    </tr>\n",
       "    <tr>\n",
       "      <th>1</th>\n",
       "      <td>ca2</td>\n",
       "      <td>1.290106</td>\n",
       "      <td>EX_ca2_m</td>\n",
       "    </tr>\n",
       "    <tr>\n",
       "      <th>2</th>\n",
       "      <td>cu2</td>\n",
       "      <td>0.010000</td>\n",
       "      <td>EX_cu2_m</td>\n",
       "    </tr>\n",
       "    <tr>\n",
       "      <th>3</th>\n",
       "      <td>so4</td>\n",
       "      <td>10.000000</td>\n",
       "      <td>EX_so4_m</td>\n",
       "    </tr>\n",
       "    <tr>\n",
       "      <th>4</th>\n",
       "      <td>pydx</td>\n",
       "      <td>0.009822</td>\n",
       "      <td>EX_pydx_m</td>\n",
       "    </tr>\n",
       "    <tr>\n",
       "      <th>...</th>\n",
       "      <td>...</td>\n",
       "      <td>...</td>\n",
       "      <td>...</td>\n",
       "    </tr>\n",
       "    <tr>\n",
       "      <th>57</th>\n",
       "      <td>hco3</td>\n",
       "      <td>47.615080</td>\n",
       "      <td>EX_hco3_m</td>\n",
       "    </tr>\n",
       "    <tr>\n",
       "      <th>58</th>\n",
       "      <td>arab_L</td>\n",
       "      <td>21.314860</td>\n",
       "      <td>EX_arab_L_m</td>\n",
       "    </tr>\n",
       "    <tr>\n",
       "      <th>59</th>\n",
       "      <td>glc_D</td>\n",
       "      <td>24.978352</td>\n",
       "      <td>EX_glc_D_m</td>\n",
       "    </tr>\n",
       "    <tr>\n",
       "      <th>60</th>\n",
       "      <td>lac_L</td>\n",
       "      <td>28.308171</td>\n",
       "      <td>EX_lac_L_m</td>\n",
       "    </tr>\n",
       "    <tr>\n",
       "      <th>61</th>\n",
       "      <td>malt</td>\n",
       "      <td>4.382121</td>\n",
       "      <td>EX_malt_m</td>\n",
       "    </tr>\n",
       "  </tbody>\n",
       "</table>\n",
       "<p>62 rows × 3 columns</p>\n",
       "</div>"
      ],
      "text/plain": [
       "   metabolite       flux     reaction\n",
       "0          cl   4.300000      EX_cl_m\n",
       "1         ca2   1.290106     EX_ca2_m\n",
       "2         cu2   0.010000     EX_cu2_m\n",
       "3         so4  10.000000     EX_so4_m\n",
       "4        pydx   0.009822    EX_pydx_m\n",
       "..        ...        ...          ...\n",
       "57       hco3  47.615080    EX_hco3_m\n",
       "58     arab_L  21.314860  EX_arab_L_m\n",
       "59      glc_D  24.978352   EX_glc_D_m\n",
       "60      lac_L  28.308171   EX_lac_L_m\n",
       "61       malt   4.382121    EX_malt_m\n",
       "\n",
       "[62 rows x 3 columns]"
      ]
     },
     "execution_count": 5,
     "metadata": {},
     "output_type": "execute_result"
    }
   ],
   "source": [
    "os.chdir('../media')\n",
    "#load the components of the medium\n",
    "medium = pd.read_excel('DM38_components.xlsx')\n",
    "# rename the columns of the medium for simplicity\n",
    "medium = medium.rename(columns={'Component':'metabolite','Concentration (mM)':'flux'}) \n",
    "#for use in MICOM, we need to add a prefix and suffix to each entry in the reaction column\n",
    "medium['reaction'] = 'EX_' + medium['metabolite'] + '_m' #reaction column\n",
    "medium"
   ]
  },
  {
   "cell_type": "markdown",
   "id": "0ec9c623-db9c-4ac9-84e4-5720ce467069",
   "metadata": {
    "tags": []
   },
   "source": [
    "## Now we'll start with the low richness (1-5 species) communities"
   ]
  },
  {
   "cell_type": "code",
   "execution_count": 6,
   "id": "5c4b0891-0c5c-496f-a4c7-be320b40f7a0",
   "metadata": {},
   "outputs": [],
   "source": [
    "#isolate table to low richness\n",
    "low = main[(main['richness'].astype('int') <=5)] \n",
    "#now let's isolate those columns that have fractional abundance of taxa\n",
    "taxa_low = [cols for cols in low.columns if 'Fraction' in cols] #df with the taxa present in each community\n",
    "#drop B.cereus - not included in paper\n",
    "taxa_low = low[taxa_low].drop(columns = ['B.cereus Fraction'])\n",
    "#isolate the optical density and measured butyrate of each sample and convert to a dict for future use\n",
    "OD_low = low['OD'].to_dict()\n",
    "meas_but_low = low['Butyrate'].to_dict()"
   ]
  },
  {
   "cell_type": "markdown",
   "id": "7cf405c5-860f-4b50-a30a-3549d275a011",
   "metadata": {
    "tags": []
   },
   "source": [
    "### Build the models for low richness communities"
   ]
  },
  {
   "cell_type": "code",
   "execution_count": 7,
   "id": "2a978164-150c-4b9f-95c0-369275a5a5bd",
   "metadata": {},
   "outputs": [
    {
     "name": "stderr",
     "output_type": "stream",
     "text": [
      "100%|████████████████████████████████████████████████████████████████████████████████████████████████████████████████████████████████████████████████████████████████████| 882/882 [00:01<00:00, 503.34it/s]\n"
     ]
    },
    {
     "data": {
      "text/html": [
       "<pre style=\"white-space:pre;overflow-x:auto;line-height:normal;font-family:Menlo,'DejaVu Sans Mono',consolas,'Courier New',monospace\"><span style=\"color: #7fbfbf; text-decoration-color: #7fbfbf\">[15:01:42] </span><span style=\"color: #800000; text-decoration-color: #800000\">WARNING </span> Found existing models for <span style=\"color: #008080; text-decoration-color: #008080; font-weight: bold\">651</span> samples. Will skip those. Delete the output folder if <a href=\"file:///users/nbohmann/.local/lib/python3.8/site-packages/micom/workflows/build.py\" target=\"_blank\"><span style=\"color: #7f7f7f; text-decoration-color: #7f7f7f\">build.py</span></a><span style=\"color: #7f7f7f; text-decoration-color: #7f7f7f\">:</span><a href=\"file:///users/nbohmann/.local/lib/python3.8/site-packages/micom/workflows/build.py#95\" target=\"_blank\"><span style=\"color: #7f7f7f; text-decoration-color: #7f7f7f\">95</span></a>\n",
       "<span style=\"color: #7fbfbf; text-decoration-color: #7fbfbf\">           </span>         you would like me to rebuild them.                                                  <span style=\"color: #7f7f7f; text-decoration-color: #7f7f7f\">           </span>\n",
       "</pre>\n"
      ],
      "text/plain": [
       "\u001b[2;36m[15:01:42]\u001b[0m\u001b[2;36m \u001b[0m\u001b[31mWARNING \u001b[0m Found existing models for \u001b[1;36m651\u001b[0m samples. Will skip those. Delete the output folder if \u001b]8;id=841213;file:///users/nbohmann/.local/lib/python3.8/site-packages/micom/workflows/build.py\u001b\\\u001b[2mbuild.py\u001b[0m\u001b]8;;\u001b\\\u001b[2m:\u001b[0m\u001b]8;id=60249;file:///users/nbohmann/.local/lib/python3.8/site-packages/micom/workflows/build.py#95\u001b\\\u001b[2m95\u001b[0m\u001b]8;;\u001b\\\n",
       "\u001b[2;36m           \u001b[0m         you would like me to rebuild them.                                                  \u001b[2m           \u001b[0m\n"
      ]
     },
     "metadata": {},
     "output_type": "display_data"
    },
    {
     "data": {
      "application/vnd.jupyter.widget-view+json": {
       "model_id": "35689c8452844bdeab0b4dc2dd3053bf",
       "version_major": 2,
       "version_minor": 0
      },
      "text/plain": [
       "Output()"
      ]
     },
     "metadata": {},
     "output_type": "display_data"
    },
    {
     "name": "stderr",
     "output_type": "stream",
     "text": [
      "IOPub message rate exceeded.\n",
      "The Jupyter server will temporarily stop sending output\n",
      "to the client in order to avoid crashing it.\n",
      "To change this limit, set the config variable\n",
      "`--ServerApp.iopub_msg_rate_limit`.\n",
      "\n",
      "Current values:\n",
      "ServerApp.iopub_msg_rate_limit=1000.0 (msgs/sec)\n",
      "ServerApp.rate_limit_window=3.0 (secs)\n",
      "\n"
     ]
    },
    {
     "data": {
      "text/html": [
       "<pre style=\"white-space:pre;overflow-x:auto;line-height:normal;font-family:Menlo,'DejaVu Sans Mono',consolas,'Courier New',monospace\">Running <span style=\"color: #f92672; text-decoration-color: #f92672\">━━━━━━━━━━━━━━━━━━━━━━━━━━━━━━━━━━━</span><span style=\"color: #3a3a3a; text-decoration-color: #3a3a3a\">╺━━━━</span> <span style=\"color: #800080; text-decoration-color: #800080\"> 89%</span> <span style=\"color: #008080; text-decoration-color: #008080\">0:06:04</span>\n",
       "</pre>\n"
      ],
      "text/plain": [
       "Running \u001b[38;2;249;38;114m━━━━━━━━━━━━━━━━━━━━━━━━━━━━━━━━━━━\u001b[0m\u001b[38;5;237m╺\u001b[0m\u001b[38;5;237m━━━━\u001b[0m \u001b[35m 89%\u001b[0m \u001b[36m0:06:04\u001b[0m\n"
      ]
     },
     "metadata": {},
     "output_type": "display_data"
    }
   ],
   "source": [
    "os.chdir('../agora/data')\n",
    "#use the build table function to construct a taxonomy table\n",
    "taxonomy = build_table(taxa_low) \n",
    "#build the models from the taxonomy table with a cutoff of 0.001\n",
    "manifest_low = micom.workflows.build(taxonomy, out_folder='../../models/invitro/low_richness',\n",
    "                                  model_db = None, cutoff=0.001, threads=10)\n",
    "\n",
    "#model_db equals none since we have included the file path for each GSM in the taxonomy table"
   ]
  },
  {
   "cell_type": "markdown",
   "id": "f6798c3b-1617-456e-9572-9ffeddb08951",
   "metadata": {},
   "source": [
    "### Now that they are built, let's grow the low richness models with our DM38 medium"
   ]
  },
  {
   "cell_type": "code",
   "execution_count": 8,
   "id": "20207163-83eb-4086-add9-d65b8f28342f",
   "metadata": {},
   "outputs": [
    {
     "ename": "FileNotFoundError",
     "evalue": "[Errno 2] No such file or directory: '../models'",
     "output_type": "error",
     "traceback": [
      "\u001b[0;31m---------------------------------------------------------------------------\u001b[0m",
      "\u001b[0;31mFileNotFoundError\u001b[0m                         Traceback (most recent call last)",
      "Cell \u001b[0;32mIn [8], line 1\u001b[0m\n\u001b[0;32m----> 1\u001b[0m \u001b[43mos\u001b[49m\u001b[38;5;241;43m.\u001b[39;49m\u001b[43mchdir\u001b[49m\u001b[43m(\u001b[49m\u001b[38;5;124;43m'\u001b[39;49m\u001b[38;5;124;43m../models\u001b[39;49m\u001b[38;5;124;43m'\u001b[39;49m\u001b[43m)\u001b[49m\n\u001b[1;32m      2\u001b[0m \u001b[38;5;66;03m#Read the manifest produced above\u001b[39;00m\n\u001b[1;32m      3\u001b[0m manifest_low \u001b[38;5;241m=\u001b[39m pd\u001b[38;5;241m.\u001b[39mread_csv(\u001b[38;5;124m'\u001b[39m\u001b[38;5;124minvitro/low_richness/manifest.csv\u001b[39m\u001b[38;5;124m'\u001b[39m)\n",
      "\u001b[0;31mFileNotFoundError\u001b[0m: [Errno 2] No such file or directory: '../models'"
     ]
    }
   ],
   "source": [
    "os.chdir('../models')\n",
    "#Read the manifest produced above\n",
    "manifest_low = pd.read_csv('invitro/low_richness/manifest.csv')\n",
    "#fix the medium such that all samples can grow with a community growth rate of 0.3\n",
    "medium_fixed = micom.workflows.fix_medium(manifest_low,'invitro/low_richness', medium, community_growth = 0.3, summarize = True)\n",
    "#grow the models, using the medium and a tradeoff value of 0.7\n",
    "growth = micom.workflows.grow(manifest_low,'invitro/low_richness',medium_fixed,\n",
    "                           tradeoff = 0.7, threads = 10)\n",
    "#isolate exchanges, and multiply the fluxes by abundances for absolute production\n",
    "exchanges = micom.measures.production_rates(growth)\n",
    "but_low = exchanges[exchanges.reaction.str.startswith('EX_but(e)')].rename(columns = {'flux':'predicted'})\n",
    "#map the optical density of each sample onto the dataframe\n",
    "but_low['OD'] = but_low['sample_id'].map(OD_low)\n",
    "#scale the measured value by the optical density as a proxy for flux per dry cell weight\n",
    "but_low['measured'] = but_low['sample_id'].map(meas_but_low)/but_low['OD']\n",
    "but_low"
   ]
  },
  {
   "cell_type": "markdown",
   "id": "1f3ef0ca-5b46-45fe-afb9-e849814f981f",
   "metadata": {},
   "source": [
    "### Plot results for low richness communities"
   ]
  },
  {
   "cell_type": "code",
   "execution_count": null,
   "id": "fa7b51dc-8feb-4ffc-b9e9-bf68647c9783",
   "metadata": {},
   "outputs": [],
   "source": [
    "plt = ( #plot scaled measured value vs predicted value for butyrate flux\n",
    "    ggplot(\n",
    "    but_low, aes(x = 'measured',y = 'predicted'))\n",
    "    +geom_point(size = 3, color = 'cadetblue')\n",
    "    +geom_smooth(method = 'lm', color = 'cadetblue',linetype =  '--')\n",
    "    +labs(x = 'Measured Production Rate ($\\dfrac{mmol}{h}$)', y = 'Predicted Production Rate ($\\dfrac{mmol}{gDW*h}$)')\n",
    "    +theme(text = element_text(size=15),panel_background=element_rect(fill = \"white\",\n",
    "                                colour = \"white\",size = 0.5, linetype = \"solid\"),\n",
    "                                panel_grid=element_blank(),\n",
    "                                axis_line = element_line(size = 2, linetype = \"solid\",colour = \"black\"),\n",
    "                                legend_title=element_blank(),\n",
    "                                legend_position='right'))\n",
    "plt"
   ]
  },
  {
   "cell_type": "markdown",
   "id": "5c809902-1047-4dfd-b71b-6f502903891b",
   "metadata": {},
   "source": [
    "### Use Pearson correlation to test relationship between measured and predicted values"
   ]
  },
  {
   "cell_type": "code",
   "execution_count": null,
   "id": "19fc81e1-a30c-4846-a132-281a7904dc78",
   "metadata": {},
   "outputs": [],
   "source": [
    "rho, p = scipy.stats.pearsonr(but_low['measured'], but_low['predicted'])\n",
    "p"
   ]
  },
  {
   "cell_type": "markdown",
   "id": "25774a81-1ab9-454a-bbcd-d9c014740e0e",
   "metadata": {},
   "source": [
    "## Now, we'll repeat this for high richness models, with 11-25 taxa per community"
   ]
  },
  {
   "cell_type": "code",
   "execution_count": null,
   "id": "1e33c254-e7ce-4610-8c69-7bbef8a61e84",
   "metadata": {},
   "outputs": [],
   "source": [
    "#filter to high richness\n",
    "high = main[(main['richness'].astype('int')>=10)] \n",
    "#get fractional abundances\n",
    "taxa_high = [cols for cols in high.columns if 'Fraction' in cols] \n",
    "#drop b. cereus\n",
    "taxa_high = high[taxa_high].drop(columns = ['B.cereus Fraction'])\n",
    "#create dicts for optical density, butyrate\n",
    "OD_high = high['OD'].to_dict()\n",
    "meas_but_high = high['Butyrate'].to_dict()"
   ]
  },
  {
   "cell_type": "markdown",
   "id": "57fb0659-0171-4a88-8021-511e62148e19",
   "metadata": {},
   "source": [
    "### Build the models for high richness communities"
   ]
  },
  {
   "cell_type": "code",
   "execution_count": null,
   "id": "25d5943b-6836-41db-bb81-abe316f278a1",
   "metadata": {},
   "outputs": [],
   "source": [
    "os.chdir('../agora/data')\n",
    "#build the taxonomy table using the build_table function\n",
    "taxonomy = build_table(taxa_high)\n",
    "#build models with a cutoff of 0.001\n",
    "manifest_high = micom.workflows.build(taxonomy, out_folder='../../models/invitro/high_richness',\n",
    "                                  model_db = None, cutoff=0.001, threads=20)"
   ]
  },
  {
   "cell_type": "markdown",
   "id": "57f6467d-d31e-44a0-941e-3c40b9136b37",
   "metadata": {},
   "source": [
    "### Grow the models for high richness communities"
   ]
  },
  {
   "cell_type": "code",
   "execution_count": null,
   "id": "abc214f7-b8f1-436f-ad8c-19610984aec0",
   "metadata": {},
   "outputs": [],
   "source": [
    "os.chdir('../models')\n",
    "#load the manifest for the high richness communities\n",
    "manifest_high = pd.read_csv('invitro/high_richness/manifest.csv')\n",
    "#fix the medium such that all samples can grow with a community growth rate of 0.3\n",
    "medium_fixed = micom.workflows.fix_medium(manifest_low,'invitro/high_richness', medium, community_growth = 0.3, summarize = True)\n",
    "#grow the models, using the medium and a tradeoff value of 0.7\n",
    "growth = micom.workflows.grow(manifest_low,'invitro/high_richness',medium_fixed,\n",
    "                           tradeoff = 0.7, threads = 10)\n",
    "exchanges = micom.measures.production_rates(growth)\n",
    "but_high = exchanges[exchanges.reaction.str.startswith('EX_but(e)')].rename(columns = {'flux':'predicted'})\n",
    "but_high['OD'] = but_high['sample_id'].map(OD_high)\n",
    "but_high['measured'] = but_high['sample_id'].map(meas_but_high)/but_high['OD']"
   ]
  },
  {
   "cell_type": "markdown",
   "id": "8e49745b-7648-4471-930f-68dc2ecd92c8",
   "metadata": {},
   "source": [
    "### Plot High Richness Results"
   ]
  },
  {
   "cell_type": "code",
   "execution_count": null,
   "id": "7d855ea7-6597-42f0-b1c6-ba82fc047685",
   "metadata": {},
   "outputs": [],
   "source": [
    "plt = ( #plot scaled measured value vs predicted value for butyrate flux\n",
    "    ggplot(\n",
    "    but_high, aes(x = 'measured',y = 'predicted'))\n",
    "    +geom_point(size = 3, color = \"cadetblue\")\n",
    "    +geom_smooth(method = 'lm', color = \"cadetblue\", linetype = '--')\n",
    "    +labs(x = 'Measured Production Rate ($\\dfrac{mmol}{h}$)', y = 'Predicted Production Rate ($\\dfrac{mmol}{gDW*h}$)')\n",
    "    +theme(text = element_text(size=20),panel_background=element_rect(fill = \"white\",\n",
    "                                colour = \"white\",size = 0.5, linetype = \"solid\"),panel_grid= element_blank(),\n",
    "                                axis_line = element_line(size = 2, linetype = \"solid\",colour = \"black\"),\n",
    "                                legend_title=element_blank(),\n",
    "                                legend_position='right'))\n",
    "plt"
   ]
  },
  {
   "cell_type": "markdown",
   "id": "89dbb9d2-8454-4f04-9e99-74ef441def90",
   "metadata": {},
   "source": [
    "### Use Pearson correlation to test relationship between measured and predicted values"
   ]
  },
  {
   "cell_type": "code",
   "execution_count": null,
   "id": "9f670e69-9cc7-41d2-9d87-6a0de4174c6a",
   "metadata": {},
   "outputs": [],
   "source": [
    "#Check the pearson correlation statistics\n",
    "rho, p = scipy.stats.pearsonr(but_high['measured'], but_high['predicted'])\n",
    "p"
   ]
  },
  {
   "cell_type": "markdown",
   "id": "82317805-6cb2-486c-9135-d049ed9b2428",
   "metadata": {},
   "source": [
    "## Save the resulting dataframes for low and high richness communities for use in building the final figures"
   ]
  },
  {
   "cell_type": "code",
   "execution_count": null,
   "id": "83838ed4-a5a6-4206-ad4e-9ed05620bb10",
   "metadata": {},
   "outputs": [],
   "source": [
    "os.chdir('../results')\n",
    "but_low.to_csv('invitro_low.csv')\n",
    "but_high.to_csv('invitro_high.csv')"
   ]
  }
 ],
 "metadata": {
  "kernelspec": {
   "display_name": "Python 3 (ipykernel)",
   "language": "python",
   "name": "python3"
  },
  "language_info": {
   "codemirror_mode": {
    "name": "ipython",
    "version": 3
   },
   "file_extension": ".py",
   "mimetype": "text/x-python",
   "name": "python",
   "nbconvert_exporter": "python",
   "pygments_lexer": "ipython3",
   "version": "3.8.13"
  }
 },
 "nbformat": 4,
 "nbformat_minor": 5
}
