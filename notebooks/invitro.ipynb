{
 "cells": [
  {
   "cell_type": "markdown",
   "id": "ec799eec-cc1c-40ed-8418-9a25708f77db",
   "metadata": {},
   "source": [
    "## Here we'll try to replicate the results of Venturelli et al, measuring butyrate production in synthetically constructed _in vitro_ communities"
   ]
  },
  {
   "cell_type": "code",
   "execution_count": null,
   "id": "09f49570-1c70-4d0b-9370-2c8f869facf9",
   "metadata": {},
   "outputs": [],
   "source": [
    "import os\n",
    "import pandas as pd\n",
    "from plotnine import *\n",
    "from tqdm import tqdm\n",
    "import sklearn\n",
    "import numpy as np\n",
    "import scipy\n",
    "import micom\n",
    "import warnings\n",
    "warnings.simplefilter(action='ignore')\n",
    "%matplotlib inline"
   ]
  },
  {
   "cell_type": "markdown",
   "id": "c2b1637f-f14f-4a0f-8b7d-34b82ccd1254",
   "metadata": {
    "tags": []
   },
   "source": [
    "## Function for building our taxonomies"
   ]
  },
  {
   "cell_type": "code",
   "execution_count": null,
   "id": "ad0d35c7-d77b-4fea-8cfc-3a6359a0cf32",
   "metadata": {
    "tags": []
   },
   "outputs": [],
   "source": [
    "def build_all(taxa):\n",
    "    taxonomy = pd.DataFrame()\n",
    "    for x in tqdm(taxa.index):\n",
    "        sample = taxa.loc[x] #find the row with abundances \n",
    "        sample = sample.index.to_list() #only want those taxa with abundance of 1% or more\n",
    "        names = \",\".join([x[:2] for x in sample]).split(',') #get taxa name\n",
    "        file = list(map(genera.get,names))#map to AGORA db dictionary \n",
    "        os.chdir('/proj/gibbons/nbohmann/exvivo/databases/agora103_genus/data/')\n",
    "        sample_taxa = pd.DataFrame({ \n",
    "            \"id\": names,\n",
    "            \"abundance\":taxa.loc[x],\n",
    "            \"file\": file,\n",
    "            \"sample_id\":x})\n",
    "        sample_taxa = sample_taxa.dropna(how = 'any')\n",
    "        sample_taxa['file'] = '/proj/gibbons/nbohmann/exvivo/databases/agora103_genus/data/'+sample_taxa['file']\n",
    "        taxonomy = taxonomy.append(sample_taxa, ignore_index = True)\n",
    "    return taxonomy"
   ]
  },
  {
   "cell_type": "markdown",
   "id": "657e0fbc-9599-4926-bd07-5ff70697b70a",
   "metadata": {
    "tags": []
   },
   "source": [
    "## Let's start by initializing our dictionary of genera abbreviations"
   ]
  },
  {
   "cell_type": "code",
   "execution_count": null,
   "id": "e8da0bc6-a8fa-48dc-bec3-8bec22607c30",
   "metadata": {},
   "outputs": [],
   "source": [
    "genera = {'PC':'Prevotella.json',\n",
    "          'PJ':'Parabacteroides.json',\n",
    "          'BV':'Bacteroides.json',\n",
    "          'BF':'Bacteroides.json',\n",
    "          'BO':'Bacteroides.json',\n",
    "          'BT':'Bacteroides.json',\n",
    "          'BC':'Bacteroides.json',\n",
    "          'BY':'Bacteroides.json',\n",
    "          'BU':'Bacteroides.json',\n",
    "          'DP':'Desulfovibrio.json',\n",
    "          'BL':'Bifidobacterium.json',\n",
    "          'BA':'Bifidobacterium.json',\n",
    "          'BP':'Bifidobacterium.json',\n",
    "          'CA':'Collinsella.json',\n",
    "          'EL':'Eggerthella.json',\n",
    "          'FP':'Faecalibacterium.json',\n",
    "          'CH':'Clostridium.json',\n",
    "          'AC':'Anaerostipes.json',\n",
    "          'BH':'Blautia.json',\n",
    "          'CG':'Clostridium.json',\n",
    "          'ER':'Eubacterium.json',\n",
    "          'RI':'Roseburia.json',\n",
    "          'CC':'Coprococcus.json',\n",
    "          'DL':'Dorea.json',\n",
    "          'DF':'Dorea.json'}"
   ]
  },
  {
   "cell_type": "markdown",
   "id": "16483714-864f-4a7c-bb3d-04b0bbe61776",
   "metadata": {
    "tags": []
   },
   "source": [
    "## Let's pull up the primary dataframe with abundances, ODs, and SCFAs. We'll add a column with richness measures. "
   ]
  },
  {
   "cell_type": "code",
   "execution_count": null,
   "id": "0ba07a39-925c-43f4-8f7c-97f04971d82d",
   "metadata": {},
   "outputs": [],
   "source": [
    "os.chdir('/proj/gibbons/nbohmann/exvivo/venturelli_2021/')\n",
    "main = pd.read_csv('masterDF.csv',index_col=0) #get the dataframe\n",
    "main = main.drop(columns = 'HB')\n",
    "main[main.columns[11:37]] = main[main.columns[11:37]].fillna(0).astype('int')\n",
    "main['richness'] = main[main.columns[11:37]].sum(axis = 1)\n",
    "main['Plate'] = main['Plate'].astype('str').str.split('.').str[0].apply(lambda x: x.zfill(2))\n",
    "main['Column'] = main['Column'].astype('str').str.split('.').str[0].apply(lambda x: x.zfill(2))\n",
    "main['Run'] = main['Sequencing Run'].str[-3:]\n",
    "main['sample_id'] = 'P'+main['Plate']+main['Row']+main['Column']+'_'+main['Run']\n",
    "main = main[main['Contamination?']=='No'] #no contaminants\n",
    "main.set_index('sample_id',inplace = True)\n",
    "main = main[~main.index.duplicated(keep = 'last')]"
   ]
  },
  {
   "cell_type": "markdown",
   "id": "efe8b89e-5b20-4c23-86cf-c3b54f429d17",
   "metadata": {
    "tags": []
   },
   "source": [
    "## Lets also pull up the componentized diet dataframe, adding iron as we found previously this is required for growth!"
   ]
  },
  {
   "cell_type": "code",
   "execution_count": null,
   "id": "c0d19de0-0fef-461f-aca8-e8e634b38eff",
   "metadata": {},
   "outputs": [],
   "source": [
    "os.chdir('/proj/gibbons/nbohmann/exvivo/venturelli_2021/')\n",
    "medium = pd.read_excel('DM38_components.xlsx') #load the df\n",
    "medium = medium.rename(columns={'Component':'reaction','Concentration (mM)':'flux'}) #easy renaming\n",
    "medium.reaction = 'EX_' + medium.reaction + '_m' #reaction column\n",
    "medium = medium.append({'reaction':'EX_fe3_m','flux':0.50},ignore_index=True) #higher iron conc. seems to be necessary for growth\n",
    "medium['index'] = medium['reaction']\n",
    "medium.set_index('index',inplace = True)"
   ]
  },
  {
   "cell_type": "markdown",
   "id": "0ec9c623-db9c-4ac9-84e4-5720ce467069",
   "metadata": {
    "tags": []
   },
   "source": [
    "## Now we'll start with the low richness (1-5 species) communities"
   ]
  },
  {
   "cell_type": "code",
   "execution_count": null,
   "id": "5c4b0891-0c5c-496f-a4c7-be320b40f7a0",
   "metadata": {},
   "outputs": [],
   "source": [
    "low = main[(main['richness'].astype('int') <=10)] #lets focus on 1-5 species communities. \n",
    "taxa_low = [cols for cols in low.columns if 'Fraction' in cols] #df with the taxa present in each community\n",
    "taxa_low = low[taxa_low].drop(columns = ['B.cereus Fraction'])\n",
    "taxa_low = taxa_low.round(4).dropna(how='all')\n",
    "OD_low = low['OD'].to_dict()\n",
    "meas_but_low = low['Butyrate'].to_dict()\n",
    "meas_ac_low = low['Acetate'].to_dict()\n",
    "low"
   ]
  },
  {
   "cell_type": "markdown",
   "id": "7cf405c5-860f-4b50-a30a-3549d275a011",
   "metadata": {
    "tags": []
   },
   "source": [
    "### Build the models for low richness communities"
   ]
  },
  {
   "cell_type": "code",
   "execution_count": null,
   "id": "2a978164-150c-4b9f-95c0-369275a5a5bd",
   "metadata": {},
   "outputs": [],
   "source": [
    "os.chdir('/proj/gibbons/nbohmann/exvivo/venturelli_2021/')\n",
    "taxonomy = build_all(taxa_low)\n",
    "manifest_low = micom.workflows.build(taxonomy, out_folder='/proj/gibbons/nbohmann/exvivo/venturelli_2021/low_richness',\n",
    "                                  model_db = None, cutoff=0.001, threads=10)"
   ]
  },
  {
   "cell_type": "markdown",
   "id": "f6798c3b-1617-456e-9572-9ffeddb08951",
   "metadata": {},
   "source": [
    "### Grow the models for low richness communities"
   ]
  },
  {
   "cell_type": "code",
   "execution_count": null,
   "id": "20207163-83eb-4086-add9-d65b8f28342f",
   "metadata": {},
   "outputs": [],
   "source": [
    "manifest_low = pd.read_csv('/proj/gibbons/nbohmann/exvivo/venturelli_2021/low_richness/manifest.csv')\n",
    "growth = micom.workflows.grow(manifest_low,'/proj/gibbons/nbohmann/exvivo/venturelli_2021/low_richness',medium,\n",
    "                           tradeoff = 0.7, threads = 10)\n",
    "exchanges = growth.exchanges\n",
    "exchanges = (exchanges[exchanges.direction == \"export\"].groupby([\"sample_id\",\"metabolite\", \"reaction\"])\n",
    "         .apply(lambda df: sum(df.flux * df.abundance)).reset_index())\n",
    "but_low = exchanges[exchanges.reaction.str.startswith('EX_but(e)')].rename(columns = {0:'predicted'})\n",
    "but_low['OD'] = but_low['sample_id'].map(OD_low)\n",
    "but_low['measured'] = but_low['sample_id'].map(meas_but_low)/but_low['OD']\n",
    "but_low = but_low[but_low['measured']>=0.0]\n",
    "but_low = but_low[but_low['measured']<=100.0]"
   ]
  },
  {
   "cell_type": "markdown",
   "id": "1f3ef0ca-5b46-45fe-afb9-e849814f981f",
   "metadata": {},
   "source": [
    "### Plot results for low richness communities"
   ]
  },
  {
   "cell_type": "code",
   "execution_count": null,
   "id": "fa7b51dc-8feb-4ffc-b9e9-bf68647c9783",
   "metadata": {},
   "outputs": [],
   "source": [
    "plt = ( #plot scaled measured value vs predicted value for butyrate flux\n",
    "    ggplot(\n",
    "    but_low, aes(x = 'measured',y = 'predicted'))\n",
    "    +geom_point(size = 3, color = 'cadetblue')\n",
    "    +geom_smooth(method = 'lm', color = 'cadetblue',linetype =  '--')\n",
    "    \n",
    "    +labs(x = 'Measured Production Rate ($\\dfrac{mmol}{h}$)', y = 'Predicted Production Rate ($\\dfrac{mmol}{gDW*h}$)')\n",
    "    +theme(text = element_text(size=15),panel_background=element_rect(fill = \"white\",\n",
    "                                colour = \"white\",size = 0.5, linetype = \"solid\"),\n",
    "                                panel_grid=element_blank(),\n",
    "                                axis_line = element_line(size = 2, linetype = \"solid\",colour = \"black\"),\n",
    "                                legend_title=element_blank(),\n",
    "                                legend_position='right'))\n",
    "plt"
   ]
  },
  {
   "cell_type": "code",
   "execution_count": null,
   "id": "19fc81e1-a30c-4846-a132-281a7904dc78",
   "metadata": {},
   "outputs": [],
   "source": [
    "rho, p = scipy.stats.pearsonr(but_low['measured'], but_low['predicted'])\n",
    "p"
   ]
  },
  {
   "cell_type": "markdown",
   "id": "25774a81-1ab9-454a-bbcd-d9c014740e0e",
   "metadata": {},
   "source": [
    "## Now, high richness models"
   ]
  },
  {
   "cell_type": "code",
   "execution_count": null,
   "id": "1e33c254-e7ce-4610-8c69-7bbef8a61e84",
   "metadata": {},
   "outputs": [],
   "source": [
    "high = main[(main['richness'].astype('int')>=10)] #lets focus on 3-5 species communities. \n",
    "taxa_high = [cols for cols in high.columns if 'Fraction' in cols] #df with the taxa present in each community\n",
    "taxa_high = high[taxa_high].drop(columns = ['B.cereus Fraction'])\n",
    "taxa_high = taxa_high.round(4).dropna(how='all')\n",
    "OD_high = high['OD'].to_dict()\n",
    "meas_but_high = high['Butyrate'].to_dict()\n",
    "meas_ac_high = high['Acetate'].to_dict()"
   ]
  },
  {
   "cell_type": "markdown",
   "id": "57fb0659-0171-4a88-8021-511e62148e19",
   "metadata": {},
   "source": [
    "### Build the models for high richness communities"
   ]
  },
  {
   "cell_type": "code",
   "execution_count": null,
   "id": "25d5943b-6836-41db-bb81-abe316f278a1",
   "metadata": {},
   "outputs": [],
   "source": [
    "os.chdir('/proj/gibbons/nbohmann/exvivo/venturelli_2021/')\n",
    "taxonomy = build_all(taxa_high)\n",
    "manifest_high = micom.workflows.build(taxonomy, out_folder=\"/proj/gibbons/nbohmann/exvivo/venturelli_2021/high_richness\",\n",
    "                                  model_db = None, cutoff=0.001, threads=20)"
   ]
  },
  {
   "cell_type": "markdown",
   "id": "57f6467d-d31e-44a0-941e-3c40b9136b37",
   "metadata": {},
   "source": [
    "### Grow the models for high richness communities"
   ]
  },
  {
   "cell_type": "code",
   "execution_count": null,
   "id": "abc214f7-b8f1-436f-ad8c-19610984aec0",
   "metadata": {},
   "outputs": [],
   "source": [
    "os.chdir('/proj/gibbons/nbohmann/exvivo/venturelli_2021/')\n",
    "manifest_high = pd.read_csv('/proj/gibbons/nbohmann/exvivo/venturelli_2021/high_richness/manifest.csv')\n",
    "growth = micom.workflows.grow(manifest_high,'/proj/gibbons/nbohmann/exvivo/venturelli_2021/high_richness',medium,\n",
    "                           tradeoff = 0.7, threads = 10)\n",
    "exchanges = growth.exchanges\n",
    "exchanges = (exchanges[exchanges.direction == \"export\"].groupby([\"sample_id\",\"metabolite\", \"reaction\"])\n",
    "         .apply(lambda df: sum(df.flux * df.abundance)).reset_index())\n",
    "but_high = exchanges[exchanges.reaction.str.startswith('EX_but(e)')].rename(columns = {0:'predicted'})\n",
    "but_high['OD'] = but_high['sample_id'].map(OD_high)\n",
    "but_high['measured'] = but_high['sample_id'].map(meas_but_high)/but_high['OD']"
   ]
  },
  {
   "cell_type": "markdown",
   "id": "8e49745b-7648-4471-930f-68dc2ecd92c8",
   "metadata": {},
   "source": [
    "### Plot High Richness Results"
   ]
  },
  {
   "cell_type": "code",
   "execution_count": null,
   "id": "7d855ea7-6597-42f0-b1c6-ba82fc047685",
   "metadata": {},
   "outputs": [],
   "source": [
    "plt = ( #plot scaled measured value vs predicted value for butyrate flux\n",
    "    ggplot(\n",
    "    but_high, aes(x = 'measured',y = 'predicted'))\n",
    "    +geom_point(size = 3, color = \"cadetblue\")\n",
    "    +geom_smooth(method = 'lm', color = \"cadetblue\", linetype = '--')\n",
    "    +labs(x = 'Measured Production Rate ($\\dfrac{mmol}{h}$)', y = 'Predicted Production Rate ($\\dfrac{mmol}{gDW*h}$)')\n",
    "    +theme(text = element_text(size=20),panel_background=element_rect(fill = \"white\",\n",
    "                                colour = \"white\",size = 0.5, linetype = \"solid\"),panel_grid= element_blank(),\n",
    "                                axis_line = element_line(size = 2, linetype = \"solid\",colour = \"black\"),\n",
    "                                legend_title=element_blank(),\n",
    "                                legend_position='right'))\n",
    "plt"
   ]
  },
  {
   "cell_type": "code",
   "execution_count": null,
   "id": "9f670e69-9cc7-41d2-9d87-6a0de4174c6a",
   "metadata": {},
   "outputs": [],
   "source": [
    "rho, p = scipy.stats.pearsonr(but_high['measured'], but_high['predicted'])\n",
    "p"
   ]
  },
  {
   "cell_type": "markdown",
   "id": "82317805-6cb2-486c-9135-d049ed9b2428",
   "metadata": {},
   "source": [
    "## Save results"
   ]
  },
  {
   "cell_type": "code",
   "execution_count": null,
   "id": "83838ed4-a5a6-4206-ad4e-9ed05620bb10",
   "metadata": {},
   "outputs": [],
   "source": [
    "but_low.to_csv('/proj/gibbons/nbohmann/exvivo/scfa_paper/venturelli_small_g.csv')\n",
    "but_high.to_csv('/proj/gibbons/nbohmann/exvivo/scfa_paper/venturelli_big_g.csv')"
   ]
  }
 ],
 "metadata": {
  "kernelspec": {
   "display_name": "Python 3 (ipykernel)",
   "language": "python",
   "name": "python3"
  },
  "language_info": {
   "codemirror_mode": {
    "name": "ipython",
    "version": 3
   },
   "file_extension": ".py",
   "mimetype": "text/x-python",
   "name": "python",
   "nbconvert_exporter": "python",
   "pygments_lexer": "ipython3",
   "version": "3.8.13"
  }
 },
 "nbformat": 4,
 "nbformat_minor": 5
}
