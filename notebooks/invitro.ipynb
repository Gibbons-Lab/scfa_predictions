{
 "cells": [
  {
   "cell_type": "markdown",
   "id": "ec799eec-cc1c-40ed-8418-9a25708f77db",
   "metadata": {},
   "source": [
    "## Here we'll try to replicate the results of Venturelli et al, measuring butyrate production in synthetically constructed _in vitro_ communities"
   ]
  },
  {
   "cell_type": "code",
   "execution_count": null,
   "id": "09f49570-1c70-4d0b-9370-2c8f869facf9",
   "metadata": {},
   "outputs": [],
   "source": [
    "import os\n",
    "import pandas as pd\n",
    "from plotnine import *\n",
    "import numpy as np\n",
    "import scipy\n",
    "import micom\n",
    "import micom.measures\n",
    "\n",
    "%matplotlib inline"
   ]
  },
  {
   "cell_type": "markdown",
   "id": "c2b1637f-f14f-4a0f-8b7d-34b82ccd1254",
   "metadata": {
    "tags": []
   },
   "source": [
    "## Taxonomy Building Function\n",
    "This function will build a taxonomy table for each community from the dataframe"
   ]
  },
  {
   "cell_type": "code",
   "execution_count": null,
   "id": "ad0d35c7-d77b-4fea-8cfc-3a6359a0cf32",
   "metadata": {
    "tags": []
   },
   "outputs": [],
   "source": [
    "def build_all(taxa):\n",
    "    taxonomy = pd.DataFrame()\n",
    "    for sample_id in taxa.index:\n",
    "        sample = taxa.loc[sample_id] #find the row with abundances \n",
    "        sample = sample.index.to_list() #only want those taxa with abundance of 1% or more\n",
    "        names = \",\".join([sample_id[:2] for sample_id in sample]).split(',') #get taxa name\n",
    "        genus = list(map(genera.get,names))#map to AGORA db dictionary \n",
    "        sample_taxa = pd.DataFrame({ \n",
    "            \"id\": names,\n",
    "            \"abundance\":taxa.loc[sample_id],\n",
    "            \"genus\": genus,\n",
    "            \"sample_id\":sample_id})\n",
    "        sample_taxa = sample_taxa.dropna(how = 'any')\n",
    "        taxonomy = pd.concat([taxonomy,sample_taxa])\n",
    "    return taxonomy"
   ]
  },
  {
   "cell_type": "markdown",
   "id": "657e0fbc-9599-4926-bd07-5ff70697b70a",
   "metadata": {
    "tags": []
   },
   "source": [
    "## Genera Abbreviations"
   ]
  },
  {
   "cell_type": "code",
   "execution_count": null,
   "id": "e8da0bc6-a8fa-48dc-bec3-8bec22607c30",
   "metadata": {},
   "outputs": [],
   "source": [
    "genera = {'PC':'Prevotella',\n",
    "          'PJ':'Parabacteroides',\n",
    "          'BV':'Bacteroides',\n",
    "          'BF':'Bacteroides',\n",
    "          'BO':'Bacteroides',\n",
    "          'BT':'Bacteroides',\n",
    "          'BC':'Bacteroides',\n",
    "          'BY':'Bacteroides',\n",
    "          'BU':'Bacteroides',\n",
    "          'DP':'Desulfovibrio',\n",
    "          'BL':'Bifidobacterium',\n",
    "          'BA':'Bifidobacterium',\n",
    "          'BP':'Bifidobacterium',\n",
    "          'CA':'Collinsella',\n",
    "          'EL':'Eggerthella',\n",
    "          'FP':'Faecalibacterium',\n",
    "          'CH':'Clostridium',\n",
    "          'AC':'Anaerostipes',\n",
    "          'BH':'Blautia',\n",
    "          'CG':'Clostridium',\n",
    "          'ER':'Eubacterium',\n",
    "          'RI':'Roseburia',\n",
    "          'CC':'Coprococcus',\n",
    "          'DL':'Dorea',\n",
    "          'DF':'Dorea'}"
   ]
  },
  {
   "cell_type": "markdown",
   "id": "16483714-864f-4a7c-bb3d-04b0bbe61776",
   "metadata": {
    "tags": []
   },
   "source": [
    "## Experimental Data\n",
    "Let's pull up the primary dataframe with abundances, ODs, and SCFAs. We'll add a column with richness measures. "
   ]
  },
  {
   "cell_type": "code",
   "execution_count": null,
   "id": "0ba07a39-925c-43f4-8f7c-97f04971d82d",
   "metadata": {},
   "outputs": [],
   "source": [
    "main = pd.read_csv('../data/invitro_original.csv',index_col=1) # get the dataframe\n",
    "main[main.columns[11:37]] = main[main.columns[11:37]].fillna(0).astype('int') # convert abudances to int\n",
    "main['richness'] = main[main.columns[11:37]].sum(axis = 1) # calculate sample richness\n",
    "main['Plate'] = main['Plate'].astype('str').str.split('.').str[0].apply(lambda x: x.zfill(2)) # add column with plate number\n",
    "main['Column'] = main['Column'].astype('str').str.split('.').str[0].apply(lambda x: x.zfill(2)) # add column with column number \n",
    "main['Run'] = main['Sequencing Run'].str[-3:] # identify sequencing run \n",
    "main['sample_id'] = 'P'+main['Plate']+main['Row']+main['Column']+'_'+main['Run'] # create unique identifier for each sample\n",
    "main = main[main['Contamination?']=='No'] #no contaminants\n",
    "main.drop_duplicates(subset = 'sample_id', inplace = True)\n",
    "main.set_index('sample_id',inplace = True) \n",
    "main"
   ]
  },
  {
   "cell_type": "markdown",
   "id": "efe8b89e-5b20-4c23-86cf-c3b54f429d17",
   "metadata": {
    "tags": []
   },
   "source": [
    "## Medium \n",
    "Pull up the componentized medium from the manuscript used in experiments"
   ]
  },
  {
   "cell_type": "code",
   "execution_count": null,
   "id": "5d8c8a48-d408-450f-94e0-6400d21d3e4d",
   "metadata": {},
   "outputs": [],
   "source": [
    "medium = pd.read_csv('../media/DM38.csv')\n",
    "medium"
   ]
  },
  {
   "cell_type": "markdown",
   "id": "0ec9c623-db9c-4ac9-84e4-5720ce467069",
   "metadata": {
    "tags": []
   },
   "source": [
    "# Low Richness Communities\n",
    "We'll start with low richness communities, and build taxonomy tables for these communities. "
   ]
  },
  {
   "cell_type": "code",
   "execution_count": null,
   "id": "5c4b0891-0c5c-496f-a4c7-be320b40f7a0",
   "metadata": {},
   "outputs": [],
   "source": [
    "low = main[(main['richness'].astype('int') <=5)] #lets focus on 1-5 species communities. \n",
    "taxaLow = [cols for cols in low.columns if 'Fraction' in cols] #frame with the taxa present in each community\n",
    "taxaLow = low[taxaLow].drop(columns = ['B.cereus Fraction'])\n",
    "taxaLow = taxaLow.round(4).dropna(how='all')\n",
    "odLow = low['OD'].to_dict() #collect dictionary of OD measures\n",
    "measButLow = low['Butyrate'].to_dict() #collect dictionary of measured butyrate\n",
    "taxaLow"
   ]
  },
  {
   "cell_type": "markdown",
   "id": "7cf405c5-860f-4b50-a30a-3549d275a011",
   "metadata": {
    "tags": []
   },
   "source": [
    "## Build Models\n",
    "Now, we'll build our models, with cutoff of 0.001"
   ]
  },
  {
   "cell_type": "code",
   "execution_count": null,
   "id": "2a978164-150c-4b9f-95c0-369275a5a5bd",
   "metadata": {},
   "outputs": [],
   "source": [
    "taxonomy = build_all(taxaLow)\n",
    "manifestLow = micom.workflows.build(taxonomy, \n",
    "                                    out_folder='../models/invitro/low_richness',\n",
    "                                    model_db = '../agora/data', \n",
    "                                    cutoff=0.001,\n",
    "                                    threads=10)"
   ]
  },
  {
   "cell_type": "markdown",
   "id": "f6798c3b-1617-456e-9572-9ffeddb08951",
   "metadata": {},
   "source": [
    "## Grow Models\n",
    "Now we'll grow the samples using the respective media we constructed"
   ]
  },
  {
   "cell_type": "code",
   "execution_count": null,
   "id": "20207163-83eb-4086-add9-d65b8f28342f",
   "metadata": {},
   "outputs": [],
   "source": [
    "manifestLow = pd.read_csv('../models/invitro/low_richness/manifest.csv')\n",
    "growthLow = micom.workflows.grow(manifestLow,\n",
    "                              '../models/invitro/low_richness',\n",
    "                              medium,\n",
    "                              tradeoff = 0.7,\n",
    "                              threads = 10)"
   ]
  },
  {
   "cell_type": "markdown",
   "id": "ffb994ce-616c-4753-beb4-73c84eaefdf4",
   "metadata": {},
   "source": [
    "## Compare SCFA Fluxes\n",
    "We can now extract the production fluxes of SCFAs from each growth simulation, and construct a dataframe with both measured and predicted production rates."
   ]
  },
  {
   "cell_type": "code",
   "execution_count": null,
   "id": "8261ec60-a18f-4442-a265-be221d095f9b",
   "metadata": {},
   "outputs": [],
   "source": [
    "productionLow = micom.measures.production_rates(growthLow)\n",
    "butLow = productionLow[productionLow.name == 'butyrate'].rename(columns = {'flux':'predicted'})\n",
    "butLow['OD'] = butLow['sample_id'].map(odLow)\n",
    "butLow['measured'] = butLow['sample_id'].map(measButLow)/butLow['OD']\n",
    "butLow = butLow[butLow['measured']>=0.0] #Remove artifacts caused by small or negative OD\n",
    "butLow = butLow[butLow['measured']<=100.0]\n",
    "butLow"
   ]
  },
  {
   "cell_type": "markdown",
   "id": "25774a81-1ab9-454a-bbcd-d9c014740e0e",
   "metadata": {},
   "source": [
    "# High Richness\n",
    "Now, high richness communities"
   ]
  },
  {
   "cell_type": "code",
   "execution_count": null,
   "id": "1e33c254-e7ce-4610-8c69-7bbef8a61e84",
   "metadata": {},
   "outputs": [],
   "source": [
    "high = main[(main['richness'].astype('int')>=10)] #lets focus on 3-5 species communities. \n",
    "taxaHigh = [cols for cols in high.columns if 'Fraction' in cols] #df with the taxa present in each community\n",
    "taxaHigh = high[taxaHigh].drop(columns = ['B.cereus Fraction'])\n",
    "taxaHigh = taxaHigh.round(4).dropna(how='all')\n",
    "odHigh = high['OD'].to_dict()\n",
    "measButHigh = high['Butyrate'].to_dict()"
   ]
  },
  {
   "cell_type": "markdown",
   "id": "57fb0659-0171-4a88-8021-511e62148e19",
   "metadata": {},
   "source": [
    "## Build\n",
    "Now, we'll build our models, with cutoff of 0.001"
   ]
  },
  {
   "cell_type": "code",
   "execution_count": null,
   "id": "25d5943b-6836-41db-bb81-abe316f278a1",
   "metadata": {},
   "outputs": [],
   "source": [
    "taxonomy = build_all(taxaHigh)\n",
    "manifestLow = micom.workflows.build(taxonomy, \n",
    "                                    out_folder='../models/invitro/high_richness,\n",
    "                                    model_db = '../agora/data', \n",
    "                                    cutoff=0.001,\n",
    "                                    threads=10)"
   ]
  },
  {
   "cell_type": "markdown",
   "id": "57f6467d-d31e-44a0-941e-3c40b9136b37",
   "metadata": {},
   "source": [
    "## Grow\n",
    "Now we'll grow the samples using the respective media we constructed"
   ]
  },
  {
   "cell_type": "code",
   "execution_count": null,
   "id": "abc214f7-b8f1-436f-ad8c-19610984aec0",
   "metadata": {},
   "outputs": [],
   "source": [
    "manifestHigh = pd.read_csv('../models/invitro/high_richness/manifest.csv')\n",
    "growthHigh = micom.workflows.grow(manifestLow,\n",
    "                              '../models/invitro/high_richness',\n",
    "                              medium,\n",
    "                              tradeoff = 0.7,\n",
    "                              threads = 10)"
   ]
  },
  {
   "cell_type": "markdown",
   "id": "885f435d-d853-4c27-9b53-d1ec5fb2b04b",
   "metadata": {},
   "source": [
    "## Compare SCFA Fluxes\n",
    "We can now extract the production fluxes of SCFAs from each growth simulation, and construct a dataframe with both measured and predicted production rates."
   ]
  },
  {
   "cell_type": "code",
   "execution_count": null,
   "id": "40456659-93e9-4d5f-afd2-4bf9780b9090",
   "metadata": {},
   "outputs": [],
   "source": [
    "productionHigh = micom.measures.production_rates(growthHigh)\n",
    "butHigh = productionHigh[productionHigh.name == 'butyrate'].rename(columns = {'flux':'predicted'})\n",
    "butHigh['OD'] = butHigh['sample_id'].map(odHigh)\n",
    "butHigh['measured'] = butHigh['sample_id'].map(measButHigh)/butHigh['OD']"
   ]
  },
  {
   "cell_type": "markdown",
   "id": "82317805-6cb2-486c-9135-d049ed9b2428",
   "metadata": {},
   "source": [
    "## Save results"
   ]
  },
  {
   "cell_type": "code",
   "execution_count": null,
   "id": "d14ae261-48e0-45e9-ad0e-c07890fbab82",
   "metadata": {},
   "outputs": [],
   "source": [
    "butLow['Richness'] = 'Low (1-5 taxa)'\n",
    "butHigh['Richness'] = 'High (10-25 taxa)'\n",
    "butyrateTot = pd.concat([butLow, butHigh])\n",
    "butyrateTot['Richness'] = butyrateTot['Richness'].astype('category')\n",
    "butyrateTot['Richness'] = butyrateTot['Richness'].cat.reorder_categories(['Low Richness (1-5 taxa)','High Richness (10-25 taxa)'])\n",
    "butyrateTot.to_csv('../results/invitro.csv')"
   ]
  },
  {
   "cell_type": "markdown",
   "id": "833c6182-e302-4179-bc66-902711a1859c",
   "metadata": {},
   "source": [
    "## Plot Results\n",
    "Plot the results of butyrate predictions in both contexts. (Fig 2)"
   ]
  },
  {
   "cell_type": "code",
   "execution_count": null,
   "id": "e276cb21-1b83-4b3c-889e-98652d9ec454",
   "metadata": {},
   "outputs": [],
   "source": [
    "plot = ( #plot scaled measured value vs predicted value for butyrate flux\n",
    "    ggplot(\n",
    "    butyrateTot, aes(x = 'measured',y = 'predicted'))\n",
    "    +geom_point(size = 3, color = \"cornflowerblue\")\n",
    "    +geom_smooth(method = 'lm', linetype = '--')\n",
    "    +labs(x = 'Measured, mmol/OD/h', y = 'Predicted, mmol/gDW/h', title = 'Butyrate Production')\n",
    "    +facet_wrap('Richness', scales = 'free')\n",
    "    +theme(figure_size = (10,5),\n",
    "           text = element_text(size=20),panel_background=element_rect(fill = \"white\",\n",
    "                                colour = \"white\",size = 0.5, linetype = \"solid\"),panel_grid= element_blank(),\n",
    "                                axis_line = element_line(size = 2, linetype = \"solid\",colour = \"black\"),\n",
    "                                legend_title=element_blank(),\n",
    "                                legend_position='right'))\n",
    "plot"
   ]
  }
 ],
 "metadata": {
  "kernelspec": {
   "display_name": "Python 3 (ipykernel)",
   "language": "python",
   "name": "python3"
  },
  "language_info": {
   "codemirror_mode": {
    "name": "ipython",
    "version": 3
   },
   "file_extension": ".py",
   "mimetype": "text/x-python",
   "name": "python",
   "nbconvert_exporter": "python",
   "pygments_lexer": "ipython3",
   "version": "3.8.13"
  }
 },
 "nbformat": 4,
 "nbformat_minor": 5
}
