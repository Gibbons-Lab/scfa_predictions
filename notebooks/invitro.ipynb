{
 "cells": [
  {
   "cell_type": "markdown",
   "id": "ec799eec-cc1c-40ed-8418-9a25708f77db",
   "metadata": {
    "tags": []
   },
   "source": [
    "## Here we'll try to replicate the results of Venturelli et al, measuring butyrate production in synthetically constructed _in vitro_ communities. We'll hope to see that predictions of butyrate production from MICOM constructed community models accurately reflect the measured butyrate production from the experiments. "
   ]
  },
  {
   "cell_type": "code",
   "execution_count": 1,
   "id": "09f49570-1c70-4d0b-9370-2c8f869facf9",
   "metadata": {},
   "outputs": [],
   "source": [
    "import os\n",
    "import pandas as pd\n",
    "from plotnine import *\n",
    "from tqdm import tqdm\n",
    "import numpy as np\n",
    "import scipy\n",
    "import micom\n",
    "import micom.measures\n",
    "\n",
    "%matplotlib inline"
   ]
  },
  {
   "cell_type": "markdown",
   "id": "c2b1637f-f14f-4a0f-8b7d-34b82ccd1254",
   "metadata": {
    "tags": []
   },
   "source": [
    "## Function for building our taxonomies, which accepts an abundance dataframe of taxonomic fractions measured in the experiments. "
   ]
  },
  {
   "cell_type": "code",
   "execution_count": null,
   "id": "ad0d35c7-d77b-4fea-8cfc-3a6359a0cf32",
   "metadata": {
    "tags": []
   },
   "outputs": [],
   "source": [
    "def build_table(taxa):\n",
    "    #first, define an empty taxonomy dataframe, which we will use to build models\n",
    "    taxonomy = pd.DataFrame()\n",
    "    #we'll iterate through the taxonomic data provided, and append individual taxonomic abundances to our taxonomy table\n",
    "    for x in tqdm(taxa.index): \n",
    "        #find the row corresponding to the sample of interest in the abundance dataframe\n",
    "        sample = taxa.loc[x].index.to_list()\n",
    "        #isolate the genera abbreviations, and put into a list\n",
    "        names = \",\".join([x[:2] for x in sample]).split(',')\n",
    "        #now we map the abbreviations to the file list (see next cell) to find the GSMs for each \n",
    "        file = list(map(genera.get,names))\n",
    "        #now we'll put together a pandas Series to concatenate with the taxonomy table\n",
    "        sample_taxa = pd.DataFrame({ \n",
    "            \"id\": names, #genus abbreviations \n",
    "            \"abundance\":taxa.loc[x], #genus abundances\n",
    "            \"file\": file, #genus JSON file\n",
    "            \"sample_id\":x}) #sample ID\n",
    "        sample_taxa = sample_taxa.dropna(how = 'any') #drop any rows with empty values\n",
    "        taxonomy = pd.concat([taxonomy,sample_taxa]) #concate the series onto the taxonomy table\n",
    "    return taxonomy"
   ]
  },
  {
   "cell_type": "markdown",
   "id": "657e0fbc-9599-4926-bd07-5ff70697b70a",
   "metadata": {
    "tags": []
   },
   "source": [
    "## Let's start by initializing our dictionary of genera abbreviations, since the taxa are given by two letter abbreviations in the abundance dataframe. The taxa in the experiement are given at the species level, but for consistency we will build models at the genus level. Therefore, some duplicates will be seen in this dict"
   ]
  },
  {
   "cell_type": "code",
   "execution_count": null,
   "id": "e8da0bc6-a8fa-48dc-bec3-8bec22607c30",
   "metadata": {},
   "outputs": [],
   "source": [
    "genera = {'PC':'Prevotella.json',\n",
    "          'PJ':'Parabacteroides.json',\n",
    "          'BV':'Bacteroides.json',\n",
    "          'BF':'Bacteroides.json',\n",
    "          'BO':'Bacteroides.json',\n",
    "          'BT':'Bacteroides.json',\n",
    "          'BC':'Bacteroides.json',\n",
    "          'BY':'Bacteroides.json',\n",
    "          'BU':'Bacteroides.json',\n",
    "          'DP':'Desulfovibrio.json',\n",
    "          'BL':'Bifidobacterium.json',\n",
    "          'BA':'Bifidobacterium.json',\n",
    "          'BP':'Bifidobacterium.json',\n",
    "          'CA':'Collinsella.json',\n",
    "          'EL':'Eggerthella.json',\n",
    "          'FP':'Faecalibacterium.json',\n",
    "          'CH':'Clostridium.json',\n",
    "          'AC':'Anaerostipes.json',\n",
    "          'BH':'Blautia.json',\n",
    "          'CG':'Clostridium.json',\n",
    "          'ER':'Eubacterium.json',\n",
    "          'RI':'Roseburia.json',\n",
    "          'CC':'Coprococcus.json',\n",
    "          'DL':'Dorea.json',\n",
    "          'DF':'Dorea.json'}"
   ]
  },
  {
   "cell_type": "markdown",
   "id": "16483714-864f-4a7c-bb3d-04b0bbe61776",
   "metadata": {
    "tags": []
   },
   "source": [
    "## Let's pull up the primary dataframe with abundances, ODs, and SCFAs. This can be found at https://github.com/RyanLincolnClark/DesignSyntheticGutMicrobiomeAssemblyFunction/commonfiles\n"
   ]
  },
  {
   "cell_type": "code",
   "execution_count": 3,
   "id": "0ba07a39-925c-43f4-8f7c-97f04971d82d",
   "metadata": {},
   "outputs": [],
   "source": [
    "#read in the dataframe\n",
    "main = pd.read_csv('../data/invitro_data.csv',index_col=0) #get the dataframe\n",
    "#drop HB - abbreviation not given in manuscript\n",
    "main = main.drop(columns = 'HB')\n",
    "#for columns 11:37, which represent binary presence/absence as a 1 or 0 for each species, we fill in zeros for NAs. \n",
    "main[main.columns[11:37]] = main[main.columns[11:37]].fillna(0).astype('int')\n",
    "#we can calculate richness of each sample by summing these presence/absence numbers\n",
    "main['richness'] = main[main.columns[11:37]].sum(axis = 1)\n",
    "#also isolate the plate, column, and run ID for each row. These will serve as sample IDs for each individual sample\n",
    "main['Plate'] = main['Plate'].astype('str').str.split('.').str[0].apply(lambda x: x.zfill(2))\n",
    "main['Column'] = main['Column'].astype('str').str.split('.').str[0].apply(lambda x: x.zfill(2))\n",
    "main['Run'] = main['Sequencing Run'].str[-3:]\n",
    "#designate the sample ID\n",
    "main['sample_id'] = 'P'+main['Plate']+main['Row']+main['Column']+'_'+main['Run']\n",
    "#remove any samples that have contamination\n",
    "main = main[main['Contamination?']=='No']\n",
    "#set the index as the sample ID\n",
    "main.set_index('sample_id',inplace = True)\n",
    "main = main[~main.index.duplicated(keep = 'last')]"
   ]
  },
  {
   "cell_type": "markdown",
   "id": "efe8b89e-5b20-4c23-86cf-c3b54f429d17",
   "metadata": {
    "tags": []
   },
   "source": [
    "## Let's also pull up the componentized diet dataframe"
   ]
  },
  {
   "cell_type": "code",
   "execution_count": 4,
   "id": "c0d19de0-0fef-461f-aca8-e8e634b38eff",
   "metadata": {},
   "outputs": [
    {
     "data": {
      "text/html": [
       "<div>\n",
       "<style scoped>\n",
       "    .dataframe tbody tr th:only-of-type {\n",
       "        vertical-align: middle;\n",
       "    }\n",
       "\n",
       "    .dataframe tbody tr th {\n",
       "        vertical-align: top;\n",
       "    }\n",
       "\n",
       "    .dataframe thead th {\n",
       "        text-align: right;\n",
       "    }\n",
       "</style>\n",
       "<table border=\"1\" class=\"dataframe\">\n",
       "  <thead>\n",
       "    <tr style=\"text-align: right;\">\n",
       "      <th></th>\n",
       "      <th>index</th>\n",
       "      <th>reaction</th>\n",
       "      <th>flux</th>\n",
       "    </tr>\n",
       "  </thead>\n",
       "  <tbody>\n",
       "    <tr>\n",
       "      <th>0</th>\n",
       "      <td>EX_cl_m</td>\n",
       "      <td>EX_cl_m</td>\n",
       "      <td>4.300000</td>\n",
       "    </tr>\n",
       "    <tr>\n",
       "      <th>1</th>\n",
       "      <td>EX_ca2_m</td>\n",
       "      <td>EX_ca2_m</td>\n",
       "      <td>1.290106</td>\n",
       "    </tr>\n",
       "    <tr>\n",
       "      <th>2</th>\n",
       "      <td>EX_cu2_m</td>\n",
       "      <td>EX_cu2_m</td>\n",
       "      <td>0.010000</td>\n",
       "    </tr>\n",
       "    <tr>\n",
       "      <th>3</th>\n",
       "      <td>EX_so4_m</td>\n",
       "      <td>EX_so4_m</td>\n",
       "      <td>10.000000</td>\n",
       "    </tr>\n",
       "    <tr>\n",
       "      <th>4</th>\n",
       "      <td>EX_pydx_m</td>\n",
       "      <td>EX_pydx_m</td>\n",
       "      <td>0.009822</td>\n",
       "    </tr>\n",
       "    <tr>\n",
       "      <th>...</th>\n",
       "      <td>...</td>\n",
       "      <td>...</td>\n",
       "      <td>...</td>\n",
       "    </tr>\n",
       "    <tr>\n",
       "      <th>58</th>\n",
       "      <td>EX_arab_L_m</td>\n",
       "      <td>EX_arab_L_m</td>\n",
       "      <td>21.314860</td>\n",
       "    </tr>\n",
       "    <tr>\n",
       "      <th>59</th>\n",
       "      <td>EX_glc_D_m</td>\n",
       "      <td>EX_glc_D_m</td>\n",
       "      <td>24.978352</td>\n",
       "    </tr>\n",
       "    <tr>\n",
       "      <th>60</th>\n",
       "      <td>EX_lac_L_m</td>\n",
       "      <td>EX_lac_L_m</td>\n",
       "      <td>28.308171</td>\n",
       "    </tr>\n",
       "    <tr>\n",
       "      <th>61</th>\n",
       "      <td>EX_malt_m</td>\n",
       "      <td>EX_malt_m</td>\n",
       "      <td>4.382121</td>\n",
       "    </tr>\n",
       "    <tr>\n",
       "      <th>62</th>\n",
       "      <td>EX_fe3_m</td>\n",
       "      <td>EX_fe3_m</td>\n",
       "      <td>0.500000</td>\n",
       "    </tr>\n",
       "  </tbody>\n",
       "</table>\n",
       "<p>63 rows × 3 columns</p>\n",
       "</div>"
      ],
      "text/plain": [
       "          index     reaction       flux\n",
       "0       EX_cl_m      EX_cl_m   4.300000\n",
       "1      EX_ca2_m     EX_ca2_m   1.290106\n",
       "2      EX_cu2_m     EX_cu2_m   0.010000\n",
       "3      EX_so4_m     EX_so4_m  10.000000\n",
       "4     EX_pydx_m    EX_pydx_m   0.009822\n",
       "..          ...          ...        ...\n",
       "58  EX_arab_L_m  EX_arab_L_m  21.314860\n",
       "59   EX_glc_D_m   EX_glc_D_m  24.978352\n",
       "60   EX_lac_L_m   EX_lac_L_m  28.308171\n",
       "61    EX_malt_m    EX_malt_m   4.382121\n",
       "62     EX_fe3_m     EX_fe3_m   0.500000\n",
       "\n",
       "[63 rows x 3 columns]"
      ]
     },
     "execution_count": 4,
     "metadata": {},
     "output_type": "execute_result"
    }
   ],
   "source": [
    "#load the medium\n",
    "medium = pd.read_csv('../media/DM38.csv')\n",
    "medium"
   ]
  },
  {
   "cell_type": "markdown",
   "id": "0ec9c623-db9c-4ac9-84e4-5720ce467069",
   "metadata": {
    "tags": []
   },
   "source": [
    "## Now we'll start with the low richness (1-5 species) communities"
   ]
  },
  {
   "cell_type": "code",
   "execution_count": 5,
   "id": "5c4b0891-0c5c-496f-a4c7-be320b40f7a0",
   "metadata": {},
   "outputs": [],
   "source": [
    "#isolate table to low richness\n",
    "low = main[(main['richness'].astype('int') <=5)] \n",
    "#now let's isolate those columns that have fractional abundance of taxa\n",
    "taxa_low = [cols for cols in low.columns if 'Fraction' in cols] #df with the taxa present in each community\n",
    "#drop B.cereus - not included in paper\n",
    "taxa_low = low[taxa_low].drop(columns = ['B.cereus Fraction'])\n",
    "#isolate the optical density and measured butyrate of each sample and convert to a dict for future use\n",
    "OD_low = low['OD'].to_dict()\n",
    "meas_but_low = low['Butyrate'].to_dict()"
   ]
  },
  {
   "cell_type": "markdown",
   "id": "7cf405c5-860f-4b50-a30a-3549d275a011",
   "metadata": {
    "tags": []
   },
   "source": [
    "### Build the models for low richness communities"
   ]
  },
  {
   "cell_type": "code",
   "execution_count": null,
   "id": "2a978164-150c-4b9f-95c0-369275a5a5bd",
   "metadata": {},
   "outputs": [],
   "source": [
    "os.chdir('../agora/data')\n",
    "#use the build table function to construct a taxonomy table\n",
    "taxonomy = build_table(taxa_low) \n",
    "#build the models from the taxonomy table with a cutoff of 0.001\n",
    "manifest_low = micom.workflows.build(taxonomy, out_folder='../../models/invitro/low_richness',\n",
    "                                  model_db = None, cutoff=0.001, threads=10)\n",
    "\n",
    "#model_db equals none since we have included the file path for each GSM in the taxonomy table"
   ]
  },
  {
   "cell_type": "markdown",
   "id": "f6798c3b-1617-456e-9572-9ffeddb08951",
   "metadata": {},
   "source": [
    "### Now that they are built, let's grow the low richness models with our DM38 medium"
   ]
  },
  {
   "cell_type": "code",
   "execution_count": 10,
   "id": "20207163-83eb-4086-add9-d65b8f28342f",
   "metadata": {},
   "outputs": [
    {
     "data": {
      "application/vnd.jupyter.widget-view+json": {
       "model_id": "3c0ea8e316f24281a74b1d1ed6db2971",
       "version_major": 2,
       "version_minor": 0
      },
      "text/plain": [
       "Output()"
      ]
     },
     "metadata": {},
     "output_type": "display_data"
    },
    {
     "data": {
      "text/html": [
       "<pre style=\"white-space:pre;overflow-x:auto;line-height:normal;font-family:Menlo,'DejaVu Sans Mono',consolas,'Courier New',monospace\"></pre>\n"
      ],
      "text/plain": []
     },
     "metadata": {},
     "output_type": "display_data"
    },
    {
     "data": {
      "text/html": [
       "<pre style=\"white-space:pre;overflow-x:auto;line-height:normal;font-family:Menlo,'DejaVu Sans Mono',consolas,'Courier New',monospace\">\n",
       "</pre>\n"
      ],
      "text/plain": [
       "\n"
      ]
     },
     "metadata": {},
     "output_type": "display_data"
    },
    {
     "name": "stderr",
     "output_type": "stream",
     "text": [
      "/users/nbohmann/.local/lib/python3.8/site-packages/micom/workflows/grow.py:199: PerformanceWarning: DataFrame is highly fragmented.  This is usually the result of calling `frame.insert` many times, which has poor performance.  Consider joining all columns at once using pd.concat(axis=1) instead. To get a de-fragmented frame, use `newframe = frame.copy()`\n"
     ]
    }
   ],
   "source": [
    "#Read the manifest produced above\n",
    "manifest_low = pd.read_csv('../models/invitro/low_richness/manifest.csv')\n",
    "#grow the models, using the medium and a tradeoff value of 0.7\n",
    "growth = micom.workflows.grow(manifest_low,'../models/invitro/low_richness',medium,\n",
    "                           tradeoff = 0.7, threads = 10)\n",
    "#isolate exchanges, and multiply the fluxes by abundances for absolute production\n",
    "exchanges = micom.measures.production_rates(growth)\n",
    "but_low = exchanges[exchanges.reaction.str.startswith('EX_but(e)')].rename(columns = {'flux':'predicted'})\n",
    "#map the optical density of each sample onto the dataframe\n",
    "but_low['OD'] = but_low['sample_id'].map(OD_low)\n",
    "#scale the measured value by the optical density as a proxy for flux per dry cell weight\n",
    "but_low['measured'] = but_low['sample_id'].map(meas_but_low)/but_low['OD']\n",
    "#scaling can lead to inaccurately low levels due to low OD - remove outlier points\n",
    "but_low = but_low[but_low['measured']>0]\n",
    "but_low = but_low[but_low['measured']<100]"
   ]
  },
  {
   "cell_type": "markdown",
   "id": "1f3ef0ca-5b46-45fe-afb9-e849814f981f",
   "metadata": {},
   "source": [
    "### Plot results for low richness communities"
   ]
  },
  {
   "cell_type": "code",
   "execution_count": 11,
   "id": "fa7b51dc-8feb-4ffc-b9e9-bf68647c9783",
   "metadata": {},
   "outputs": [
    {
     "data": {
      "image/png": "[encoded data removed]",
      "text/plain": [
       "<Figure size 640x480 with 1 Axes>"
      ]
     },
     "metadata": {},
     "output_type": "display_data"
    },
    {
     "data": {
      "text/plain": [
       "<ggplot: (8744738287770)>"
      ]
     },
     "execution_count": 11,
     "metadata": {},
     "output_type": "execute_result"
    }
   ],
   "source": [
    "plt = ( #plot scaled measured value vs predicted value for butyrate flux\n",
    "    ggplot(\n",
    "    but_low, aes(x = 'measured',y = 'predicted'))\n",
    "    +geom_point(size = 3, color = 'cadetblue')\n",
    "    +geom_smooth(method = 'lm', color = 'cadetblue',linetype =  '--')\n",
    "    +labs(x = 'Measured Production Rate ($\\dfrac{mmol}{h}$)', y = 'Predicted Production Rate ($\\dfrac{mmol}{gDW*h}$)')\n",
    "    +theme(text = element_text(size=15),panel_background=element_rect(fill = \"white\",\n",
    "                                colour = \"white\",size = 0.5, linetype = \"solid\"),\n",
    "                                panel_grid=element_blank(),\n",
    "                                axis_line = element_line(size = 2, linetype = \"solid\",colour = \"black\"),\n",
    "                                legend_title=element_blank(),\n",
    "                                legend_position='right'))\n",
    "plt"
   ]
  },
  {
   "cell_type": "markdown",
   "id": "5c809902-1047-4dfd-b71b-6f502903891b",
   "metadata": {},
   "source": [
    "### Use Pearson correlation to test relationship between measured and predicted values"
   ]
  },
  {
   "cell_type": "code",
   "execution_count": null,
   "id": "19fc81e1-a30c-4846-a132-281a7904dc78",
   "metadata": {},
   "outputs": [],
   "source": [
    "rho, p = scipy.stats.pearsonr(but_low['measured'], but_low['predicted'])\n",
    "p"
   ]
  },
  {
   "cell_type": "markdown",
   "id": "25774a81-1ab9-454a-bbcd-d9c014740e0e",
   "metadata": {
    "tags": []
   },
   "source": [
    "## We'll repeat this for high richness models, with 11-25 taxa per community"
   ]
  },
  {
   "cell_type": "code",
   "execution_count": null,
   "id": "1e33c254-e7ce-4610-8c69-7bbef8a61e84",
   "metadata": {},
   "outputs": [],
   "source": [
    "#filter to high richness\n",
    "high = main[(main['richness'].astype('int')>=10)] \n",
    "#get fractional abundances\n",
    "taxa_high = [cols for cols in high.columns if 'Fraction' in cols] \n",
    "#drop b. cereus\n",
    "taxa_high = high[taxa_high].drop(columns = ['B.cereus Fraction'])\n",
    "#create dicts for optical density, butyrate\n",
    "OD_high = high['OD'].to_dict()\n",
    "meas_but_high = high['Butyrate'].to_dict()"
   ]
  },
  {
   "cell_type": "markdown",
   "id": "57fb0659-0171-4a88-8021-511e62148e19",
   "metadata": {},
   "source": [
    "### Build the models for high richness communities"
   ]
  },
  {
   "cell_type": "code",
   "execution_count": null,
   "id": "25d5943b-6836-41db-bb81-abe316f278a1",
   "metadata": {},
   "outputs": [],
   "source": [
    "#build the taxonomy table using the build_table function\n",
    "taxonomy = build_table(taxa_high)\n",
    "#build models with a cutoff of 0.001\n",
    "manifest_high = micom.workflows.build(taxonomy, out_folder='../../models/invitro/high_richness',\n",
    "                                  model_db = None, cutoff=0.001, threads=20)"
   ]
  },
  {
   "cell_type": "markdown",
   "id": "57f6467d-d31e-44a0-941e-3c40b9136b37",
   "metadata": {},
   "source": [
    "### Grow the models for high richness communities"
   ]
  },
  {
   "cell_type": "code",
   "execution_count": null,
   "id": "abc214f7-b8f1-436f-ad8c-19610984aec0",
   "metadata": {},
   "outputs": [],
   "source": [
    "#load the manifest for the high richness communities\n",
    "manifest_high = pd.read_csv('../../models/invitro/high_richness/manifest.csv')\n",
    "#grow the models, using the medium and a tradeoff value of 0.7\n",
    "growth = micom.workflows.grow(manifest_low,'../../models/invitro/high_richness',medium,\n",
    "                           tradeoff = 0.7, threads = 10)\n",
    "exchanges = micom.measures.production_rates(growth)\n",
    "but_high = exchanges[exchanges.reaction.str.startswith('EX_but(e)')].rename(columns = {'flux':'predicted'})\n",
    "but_high['OD'] = but_high['sample_id'].map(OD_high)\n",
    "but_high['measured'] = but_high['sample_id'].map(meas_but_high)/but_high['OD']"
   ]
  },
  {
   "cell_type": "markdown",
   "id": "8e49745b-7648-4471-930f-68dc2ecd92c8",
   "metadata": {},
   "source": [
    "### Plot High Richness Results"
   ]
  },
  {
   "cell_type": "code",
   "execution_count": null,
   "id": "7d855ea7-6597-42f0-b1c6-ba82fc047685",
   "metadata": {},
   "outputs": [],
   "source": [
    "plt = ( #plot scaled measured value vs predicted value for butyrate flux\n",
    "    ggplot(\n",
    "    but_high, aes(x = 'measured',y = 'predicted'))\n",
    "    +geom_point(size = 3, color = \"cadetblue\")\n",
    "    +geom_smooth(method = 'lm', color = \"cadetblue\", linetype = '--')\n",
    "    +labs(x = 'Measured Production Rate ($\\dfrac{mmol}{h}$)', y = 'Predicted Production Rate ($\\dfrac{mmol}{gDW*h}$)')\n",
    "    +theme(text = element_text(size=20),panel_background=element_rect(fill = \"white\",\n",
    "                                colour = \"white\",size = 0.5, linetype = \"solid\"),panel_grid= element_blank(),\n",
    "                                axis_line = element_line(size = 2, linetype = \"solid\",colour = \"black\"),\n",
    "                                legend_title=element_blank(),\n",
    "                                legend_position='right'))\n",
    "plt"
   ]
  },
  {
   "cell_type": "markdown",
   "id": "89dbb9d2-8454-4f04-9e99-74ef441def90",
   "metadata": {},
   "source": [
    "### Use Pearson correlation to test relationship between measured and predicted values"
   ]
  },
  {
   "cell_type": "code",
   "execution_count": null,
   "id": "9f670e69-9cc7-41d2-9d87-6a0de4174c6a",
   "metadata": {},
   "outputs": [],
   "source": [
    "#Check the pearson correlation statistics\n",
    "rho, p = scipy.stats.pearsonr(but_high['measured'], but_high['predicted'])\n",
    "p"
   ]
  },
  {
   "cell_type": "markdown",
   "id": "82317805-6cb2-486c-9135-d049ed9b2428",
   "metadata": {},
   "source": [
    "## Save the resulting dataframes for low and high richness communities for use in building the final figures"
   ]
  },
  {
   "cell_type": "code",
   "execution_count": null,
   "id": "83838ed4-a5a6-4206-ad4e-9ed05620bb10",
   "metadata": {},
   "outputs": [],
   "source": [
    "but_low.to_csv('../results/invitro_low.csv')\n",
    "but_high.to_csv('../results/invitro_high.csv')"
   ]
  }
 ],
 "metadata": {
  "kernelspec": {
   "display_name": "Python 3 (ipykernel)",
   "language": "python",
   "name": "python3"
  },
  "language_info": {
   "codemirror_mode": {
    "name": "ipython",
    "version": 3
   },
   "file_extension": ".py",
   "mimetype": "text/x-python",
   "name": "python",
   "nbconvert_exporter": "python",
   "pygments_lexer": "ipython3",
   "version": "3.8.13"
  }
 },
 "nbformat": 4,
 "nbformat_minor": 5
}
